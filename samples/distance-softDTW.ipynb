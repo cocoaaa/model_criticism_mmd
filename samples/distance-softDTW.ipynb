{
 "cells": [
  {
   "cell_type": "markdown",
   "id": "d4b90dc0-5b93-47fe-9090-a7d3d4639035",
   "metadata": {},
   "source": [
    "# What's this?\n",
    "\n",
    "This notebook tells you examples that SoftDTW works as a distance metric in Kernel functions."
   ]
  },
  {
   "cell_type": "code",
   "execution_count": 6,
   "id": "8f4e7937-0029-4723-80a7-7eae7afaa745",
   "metadata": {},
   "outputs": [],
   "source": [
    "import numpy as np\n",
    "import sys\n",
    "sys.path.append(\"../\")\n",
    "sys.path.append(\".\")\n",
    "from model_criticism_mmd import ModelTrainerTorchBackend, MMD, ModelTrainerTheanoBackend, TwoSampleDataSet\n",
    "from model_criticism_mmd.backends import kernels_torch"
   ]
  },
  {
   "cell_type": "code",
   "execution_count": 41,
   "id": "ae86cbc0-bbb0-49d4-83c2-7e993c178f6b",
   "metadata": {},
   "outputs": [],
   "source": [
    "np.random.seed(10)"
   ]
  },
  {
   "cell_type": "code",
   "execution_count": 42,
   "id": "60079e4f-70d8-4e44-bed7-34c02fc27ee2",
   "metadata": {},
   "outputs": [],
   "source": [
    "import torch\n",
    "device_obj = torch.device('cpu')"
   ]
  },
  {
   "cell_type": "code",
   "execution_count": 44,
   "id": "4c01a0ac-f8ce-4b64-98e2-d5150c526d09",
   "metadata": {},
   "outputs": [],
   "source": [
    "x_sample, y_sample, x_time_length, y_time_length = 500, 500, 10, 10\n",
    "# input is (n-sample, n-time-series, n-features)\n",
    "x_train = torch.tensor(np.random.normal(3, 0.5, size=(x_sample, x_time_length)))\n",
    "y_train = torch.tensor(np.random.normal(10, 5.5, size=(y_sample, y_time_length)))\n",
    "x_val = torch.normal(50, 50, (40, x_time_length))\n",
    "y_val = torch.normal(10, 5.5, (40, y_time_length))"
   ]
  },
  {
   "cell_type": "code",
   "execution_count": 45,
   "id": "d54d14a1-5afd-4e54-8c8a-ed83a91a662d",
   "metadata": {},
   "outputs": [],
   "source": [
    "from model_criticism_mmd.backends import kernels_torch\n",
    "from model_criticism_mmd import MMD, ModelTrainerTorchBackend\n",
    "from model_criticism_mmd.models import TwoSampleIterDataSet, TwoSampleDataSet"
   ]
  },
  {
   "cell_type": "markdown",
   "id": "f9847b85-7d5f-4e6b-9261-4a2a424ed4ad",
   "metadata": {},
   "source": [
    "# RBFKernel with SoftDTW does not go advance in trainings"
   ]
  },
  {
   "cell_type": "code",
   "execution_count": 46,
   "id": "9b60a8ea-de0e-4633-aec5-06278875844d",
   "metadata": {},
   "outputs": [
    {
     "name": "stderr",
     "output_type": "stream",
     "text": [
      "2021-07-12 09:45:54,540 - model_criticism_mmd.logger_unit - INFO - Saving data into /tmp/tmpr04w6unj/data.h5\n",
      "2021-07-12 09:45:54,629 - model_criticism_mmd.logger_unit - INFO - Saving data into /tmp/tmpiq12tquf/data.h5\n"
     ]
    }
   ],
   "source": [
    "dataset_train = TwoSampleIterDataSet(x=x_train, y=y_train, device_obj=device_obj)\n",
    "dataset_val = TwoSampleIterDataSet(x=x_val, y=y_val, device_obj=device_obj)"
   ]
  },
  {
   "cell_type": "code",
   "execution_count": 47,
   "id": "fc03015d-58d6-4c19-8eac-7b8f20846c7f",
   "metadata": {},
   "outputs": [
    {
     "name": "stderr",
     "output_type": "stream",
     "text": [
      "2021-07-12 09:45:56,918 - model_criticism_mmd.logger_unit - INFO - Validation(mean over batch) at 0. MMD^2 = 0.1333962231874466, ratio = [1333.96223187] obj = [-7.05196892]\n",
      "2021-07-12 09:45:57,859 - model_criticism_mmd.logger_unit - INFO -      5: [avg train] MMD^2 0.9681684585907457 obj [-4.91859201] val-MMD^2 0.1395849883556366 val-ratio [69.3503029] val-obj [-4.13142531]  elapsed: 0.0\n",
      "2021-07-12 09:46:01,354 - model_criticism_mmd.logger_unit - INFO -     25: [avg train] MMD^2 0.9695693903505327 obj [-4.92029522] val-MMD^2 0.1394636034965515 val-ratio [70.48617406] val-obj [-4.14321751]  elapsed: 0.0\n",
      "2021-07-12 09:46:05,654 - model_criticism_mmd.logger_unit - INFO -     50: [avg train] MMD^2 0.9644243401093439 obj [-4.88183376] val-MMD^2 0.13969430327415466 val-ratio [74.40926752] val-obj [-4.15136473]  elapsed: 0.0\n"
     ]
    }
   ],
   "source": [
    "rbf_euclide = kernels_torch.BasicRBFKernelFunction(device_obj=device_obj, opt_sigma=False)\n",
    "trainer_euclide = ModelTrainerTorchBackend(MMD(kernel_function_obj=rbf_euclide, device_obj=device_obj),\n",
    "                                       device_obj=device_obj)\n",
    "trained_euclide = trainer_euclide.train(dataset_training=dataset_train,\n",
    "                                dataset_validation=dataset_val,\n",
    "                                num_epochs=50,\n",
    "                                batchsize=30)"
   ]
  },
  {
   "cell_type": "code",
   "execution_count": null,
   "id": "b90dcc7f-2171-49fd-8663-f4077d5d54d5",
   "metadata": {},
   "outputs": [
    {
     "name": "stderr",
     "output_type": "stream",
     "text": [
      "2021-07-12 10:03:16,681 - model_criticism_mmd.logger_unit - INFO - Validation(mean over batch) at 0. MMD^2 = -0.5443306565284729, ratio = [-7.78736531] obj = [13.81551056]\n",
      "2021-07-12 10:04:04,885 - model_criticism_mmd.logger_unit - INFO -      5: [avg train] MMD^2 -0.0014169987989589572 obj [13.81551056] val-MMD^2 -0.5443306565284729 val-ratio [-7.78736531] val-obj [13.81551056]  elapsed: 0.0\n"
     ]
    }
   ],
   "source": [
    "kernel_function = kernels_torch.SoftDtwKernelFunctionTimeSample(gamma=0.5,\n",
    "                                                                post_normalize=False,\n",
    "                                                                opt_sigma=False)\n",
    "trainer_softdtw = ModelTrainerTorchBackend(MMD(kernel_function_obj=kernel_function, device_obj=device_obj),\n",
    "                                       device_obj=device_obj)\n",
    "trained_obj_softdtw = trainer_softdtw.train(dataset_training=dataset_train,\n",
    "                                            dataset_validation=dataset_val,\n",
    "                                            num_epochs=50,  # optimization with SoftDTW takes looong time. I set small epoch in the notebook.\n",
    "                            batchsize=30)"
   ]
  },
  {
   "cell_type": "code",
   "execution_count": null,
   "id": "029a1688-1320-4d3d-93ae-bb08b7df43d2",
   "metadata": {},
   "outputs": [],
   "source": []
  },
  {
   "cell_type": "code",
   "execution_count": null,
   "id": "c2d48300-6828-4cad-bc65-b9c3b128167b",
   "metadata": {},
   "outputs": [],
   "source": []
  },
  {
   "cell_type": "code",
   "execution_count": null,
   "id": "64e58e28-f221-4f01-bd69-c97961776e69",
   "metadata": {},
   "outputs": [],
   "source": []
  },
  {
   "cell_type": "code",
   "execution_count": null,
   "id": "ecf24e3c-87c1-4f7d-9c43-e00bda0e930a",
   "metadata": {},
   "outputs": [],
   "source": [
    "# https://archive.ics.uci.edu/ml/datasets/Ozone+Level+Detection"
   ]
  }
 ],
 "metadata": {
  "kernelspec": {
   "display_name": "Python 3",
   "language": "python",
   "name": "python3"
  },
  "language_info": {
   "codemirror_mode": {
    "name": "ipython",
    "version": 3
   },
   "file_extension": ".py",
   "mimetype": "text/x-python",
   "name": "python",
   "nbconvert_exporter": "python",
   "pygments_lexer": "ipython3",
   "version": "3.6.13"
  }
 },
 "nbformat": 4,
 "nbformat_minor": 5
}
