{
 "cells": [
  {
   "cell_type": "markdown",
   "id": "069bfe9e",
   "metadata": {},
   "source": [
    "# Study note about behaviors of learning ARD weights"
   ]
  },
  {
   "cell_type": "code",
   "execution_count": 4,
   "id": "58d24d04-b206-4cfe-ab73-ce013878e0b7",
   "metadata": {},
   "outputs": [],
   "source": [
    "import numpy\n",
    "import sys\n",
    "sys.path.append(\"../\")\n",
    "sys.path.append(\".\")\n",
    "from model_criticism_mmd import ModelTrainerTorchBackend, MMD, ModelTrainerTheanoBackend, TwoSampleDataSet\n",
    "from model_criticism_mmd.backends import kernels_torch"
   ]
  },
  {
   "cell_type": "code",
   "execution_count": 5,
   "id": "1e90f7a8-b2fc-4664-b111-8fab92149d94",
   "metadata": {},
   "outputs": [],
   "source": [
    "import torch\n",
    "device_obj = torch.device('cpu')"
   ]
  },
  {
   "cell_type": "markdown",
   "id": "1e98ee51-5a56-4016-8df4-a3edad94e559",
   "metadata": {},
   "source": [
    "# Study: Correctness of ARD weightts\n",
    "\n",
    "## objective\n",
    "\n",
    "1. We confirm the computed ARD weights are as we expected.\n",
    "2. We observe how the sigma value works on learninig the ARD weights.\n",
    "\n",
    "## Settings"
   ]
  },
  {
   "cell_type": "markdown",
   "id": "db303c4e-4d81-48a6-acab-9f07688bc31f",
   "metadata": {},
   "source": [
    "We generate the input data with the following way.\n",
    "\n",
    "The input data has 3 dimensions. Only the 1st dimenstion has huge variance. The 2nd and 3rd features have the same mean and variance.\n",
    "\n",
    "We cut the input data into 80 samples as `training` and 20 samples as `validation`."
   ]
  },
  {
   "cell_type": "code",
   "execution_count": 8,
   "id": "2ae04b66-2bf3-4cd3-8c7f-97979efa6fa3",
   "metadata": {},
   "outputs": [
    {
     "name": "stderr",
     "output_type": "stream",
     "text": [
      "Starting with sigma = median; optimizing it\n"
     ]
    },
    {
     "name": "stdout",
     "output_type": "stream",
     "text": [
      "1 dim. mean(x)=1.0 mean(y)=2.5823158088856535 var(x)=0.0 var(y)=2127.5500791987533\n",
      "2 dim. mean(x)=9.976750276931472 mean(y)=10.04868954044069 var(x)=0.03241438421531112 var(y)=0.04095937253447776\n",
      "3 dim. mean(x)=9.99661299230106 mean(y)=10.028834114238997 var(x)=0.031876996572428436 var(y)=0.028744321938716504\n"
     ]
    },
    {
     "name": "stderr",
     "output_type": "stream",
     "text": [
      "Compiling...\n",
      "done\n",
      "Getting median initial sigma value...\n",
      "21.8\n",
      "Input dim 3, representation dim 3\n",
      "Training on 80 samples (batch 200), validation on 20 (batch 1000)\n",
      "2 parameters to optimize: scales, log_sigma\n",
      "     0: avg train MMD^2  0.577750 obj -2.214184,  avg val MMD^2  0.478265  obj -1.398782  elapsed: 0s  sigma: 21.8\n",
      "     5: avg train MMD^2  0.643725 obj -2.303723,  avg val MMD^2  0.570239  obj -1.497825  elapsed: 0s  sigma: 19.7\n",
      "    25: avg train MMD^2  0.934388 obj -2.978147,  avg val MMD^2  0.900061  obj -1.996772  elapsed: 0s  sigma: 8.52\n",
      "    50: avg train MMD^2  0.986921 obj -5.556164,  avg val MMD^2  1.030170  obj -5.028690  elapsed: 0s  sigma: 1.25\n",
      "   100: avg train MMD^2  1.013744 obj -7.664415,  avg val MMD^2  1.049953  obj -9.259086  elapsed: 0s  sigma: 0.202\n",
      "   200: avg train MMD^2  0.025000 obj -5.521461,  avg val MMD^2  0.100000  obj -6.907755  elapsed: 0s  sigma: 0.00909\n",
      "   300: avg train MMD^2  0.025000 obj -5.521461,  avg val MMD^2  0.100000  obj -6.907755  elapsed: 0s  sigma: 0.00907\n",
      "   400: avg train MMD^2  0.025000 obj -5.521461,  avg val MMD^2  0.100000  obj -6.907755  elapsed: 0s  sigma: 0.00907\n",
      "   500: avg train MMD^2  0.025000 obj -5.521461,  avg val MMD^2  0.100000  obj -6.907755  elapsed: 0s  sigma: 0.00907\n",
      "Trained result: the opt global-sigma: 0.009073930156093006\n",
      "     5: [avg train] MMD^2 1.0011001003067923 obj [-5.27791903] val-MMD^2 1.0217437948607768 val-ratio [56.38534719] val-obj [-4.03220932]  elapsed: 0.0\n",
      "    25: [avg train] MMD^2 1.0150718249883113 obj [-7.149326] val-MMD^2 1.0493869317325348 val-ratio [4268.54469552] val-obj [-8.35902823]  elapsed: 0.0\n",
      "    50: [avg train] MMD^2 1.0135149450572447 obj [-7.75027363] val-MMD^2 1.0499581085358045 val-ratio [10499.58108536] val-obj [-9.25909064]  elapsed: 0.0\n",
      "   100: [avg train] MMD^2 0.025000000008415582 obj [-5.52146092] val-MMD^2 0.10000000000000761 val-ratio [1000.] val-obj [-6.90775528]  elapsed: 0.0\n",
      "   200: [avg train] MMD^2 0.02500000000000039 obj [-5.52146092] val-MMD^2 0.1 val-ratio [1000.] val-obj [-6.90775528]  elapsed: 0.0\n",
      "   300: [avg train] MMD^2 0.02500000000000039 obj [-5.52146092] val-MMD^2 0.1 val-ratio [1000.] val-obj [-6.90775528]  elapsed: 0.0\n",
      "   400: [avg train] MMD^2 0.02500000000000039 obj [-5.52146092] val-MMD^2 0.1 val-ratio [1000.] val-obj [-6.90775528]  elapsed: 0.0\n",
      "   500: [avg train] MMD^2 0.02500000000000039 obj [-5.52146092] val-MMD^2 0.1 val-ratio [1000.] val-obj [-6.90775528]  elapsed: 0.0\n",
      "Using sigma = 1.0\n",
      "Compiling...\n",
      "done\n",
      "Input dim 3, representation dim 3\n",
      "Training on 80 samples (batch 200), validation on 20 (batch 1000)\n",
      "1 parameters to optimize: scales\n",
      "     0: avg train MMD^2  0.957213 obj -4.650600,  avg val MMD^2  0.969111  obj -3.123721  elapsed: 0s\n",
      "     5: avg train MMD^2  0.965339 obj -4.896148,  avg val MMD^2  0.989579  obj -3.491446  elapsed: 0s\n",
      "    25: avg train MMD^2  1.020910 obj -6.347989,  avg val MMD^2  1.054458  obj -5.428744  elapsed: 0s\n",
      "    50: avg train MMD^2  1.017427 obj -6.622458,  avg val MMD^2  1.053311  obj -6.055602  elapsed: 0s\n",
      "   100: avg train MMD^2  1.016861 obj -6.906808,  avg val MMD^2  1.051761  obj -6.878495  elapsed: 0s\n",
      "   200: avg train MMD^2  1.015675 obj -7.142730,  avg val MMD^2  1.050359  obj -8.318774  elapsed: 0s\n",
      "   300: avg train MMD^2  1.015185 obj -7.249104,  avg val MMD^2  1.050066  obj -9.259194  elapsed: 0s\n",
      "   400: avg train MMD^2  1.014915 obj -7.312425,  avg val MMD^2  1.049990  obj -9.259121  elapsed: 0s\n",
      "   500: avg train MMD^2  1.014743 obj -7.356477,  avg val MMD^2  1.049968  obj -9.259100  elapsed: 0s\n",
      "Trained result: the opt global-sigma: 1.0\n",
      "     5: [avg train] MMD^2 1.0137506334910422 obj [-5.1539493] val-MMD^2 1.0268463543977737 val-ratio [35.28272021] val-obj [-3.56339333]  elapsed: 0.0\n",
      "    25: [avg train] MMD^2 1.0186136351562767 obj [-6.56502786] val-MMD^2 1.0542254895042775 val-ratio [380.37325806] val-obj [-5.94115303]  elapsed: 0.0\n",
      "    50: [avg train] MMD^2 1.017496768593435 obj [-6.78148371] val-MMD^2 1.0527180757859902 val-ratio [628.33649198] val-obj [-6.44307584]  elapsed: 0.0\n",
      "   100: [avg train] MMD^2 1.016434723208777 obj [-6.98591972] val-MMD^2 1.051182225085132 val-ratio [1399.96966668] val-obj [-7.24420585]  elapsed: 0.0\n",
      "   200: [avg train] MMD^2 1.01552456654997 obj [-7.17433998] val-MMD^2 1.050247692736855 val-ratio [5551.59722663] val-obj [-8.62184095]  elapsed: 0.0\n",
      "   300: [avg train] MMD^2 1.0151076060282846 obj [-7.26664276] val-MMD^2 1.0500384426472384 val-ratio [10500.38442647] val-obj [-9.25916715]  elapsed: 0.0\n",
      "   400: [avg train] MMD^2 1.0148680306322646 obj [-7.32413112] val-MMD^2 1.0499821704088539 val-ratio [10499.82170409] val-obj [-9.25911356]  elapsed: 0.0\n",
      "   500: [avg train] MMD^2 1.0147109041168052 obj [-7.36514973] val-MMD^2 1.0499661322298137 val-ratio [10499.6613223] val-obj [-9.25909828]  elapsed: 0.0\n",
      "Starting with sigma = median; optimizing it\n",
      "Compiling...\n"
     ]
    },
    {
     "name": "stdout",
     "output_type": "stream",
     "text": [
      "1 dim. mean(x)=1.0 mean(y)=-3.0226779491282416 var(x)=0.0 var(y)=2161.6504745390844\n",
      "2 dim. mean(x)=10.040574079591138 mean(y)=10.00610402969332 var(x)=0.04493368924200165 var(y)=0.049325862398602434\n",
      "3 dim. mean(x)=10.031340698264733 mean(y)=9.98857366089206 var(x)=0.0387785627178395 var(y)=0.04374815710120216\n"
     ]
    },
    {
     "name": "stderr",
     "output_type": "stream",
     "text": [
      "done\n",
      "Getting median initial sigma value...\n",
      "17.5\n",
      "Input dim 3, representation dim 3\n",
      "Training on 80 samples (batch 200), validation on 20 (batch 1000)\n",
      "2 parameters to optimize: scales, log_sigma\n",
      "     0: avg train MMD^2  0.482676 obj -2.003281,  avg val MMD^2  0.729707  obj -1.836003  elapsed: 0s  sigma: 17.5\n",
      "     5: avg train MMD^2  0.512501 obj -2.040037,  avg val MMD^2  0.791491  obj -1.921739  elapsed: 0s  sigma: 16.4\n",
      "    25: avg train MMD^2  0.788052 obj -2.615049,  avg val MMD^2  1.038379  obj -2.949712  elapsed: 0s  sigma: 7.88\n",
      "    50: avg train MMD^2  0.955950 obj -3.425593,  avg val MMD^2  1.044234  obj -5.233474  elapsed: 0s  sigma: 2.26\n",
      "   100: avg train MMD^2  0.967247 obj -4.830257,  avg val MMD^2  1.021323  obj -4.808752  elapsed: 0s  sigma: 0.439\n",
      "   200: avg train MMD^2  1.012828 obj -8.100004,  avg val MMD^2  1.049970  obj -9.259102  elapsed: 0s  sigma: 0.188\n",
      "   300: avg train MMD^2  1.012814 obj -8.099053,  avg val MMD^2  1.049999  obj -9.259130  elapsed: 0s  sigma: 0.144\n",
      "   400: avg train MMD^2  1.012814 obj -8.099055,  avg val MMD^2  1.049999  obj -9.259130  elapsed: 1s  sigma: 0.144\n",
      "   500: avg train MMD^2  1.012814 obj -8.099060,  avg val MMD^2  1.049999  obj -9.259130  elapsed: 1s  sigma: 0.145\n",
      "Trained result: the opt global-sigma: 0.1452865980791831\n",
      "     5: [avg train] MMD^2 0.89149792899854 obj [-3.14724503] val-MMD^2 1.0096237244912505 val-ratio [109.79746819] val-obj [-4.69863747]  elapsed: 0.0\n",
      "    25: [avg train] MMD^2 0.9240764513105738 obj [-3.72074188] val-MMD^2 0.9853600271776145 val-ratio [85.72716968] val-obj [-4.45116981]  elapsed: 0.0\n",
      "    50: [avg train] MMD^2 1.0108032059942629 obj [-6.75230129] val-MMD^2 1.0493173676210512 val-ratio [1131.39004659] val-obj [-7.03120229]  elapsed: 0.0\n",
      "   100: [avg train] MMD^2 0.8746866837153807 obj [-3.51376654] val-MMD^2 0.9401459983305407 val-ratio [54.56645173] val-obj [-3.99941926]  elapsed: 0.0\n",
      "   200: [avg train] MMD^2 0.9338180710787389 obj [-3.85672378] val-MMD^2 0.9877594867699337 val-ratio [90.15639801] val-obj [-4.50154592]  elapsed: 0.0\n",
      "   300: [avg train] MMD^2 1.012829497577822 obj [-8.09997283] val-MMD^2 1.0499993491923536 val-ratio [10499.99349192] val-obj [-9.25912992]  elapsed: 0.0\n",
      "   400: [avg train] MMD^2 1.0128350674081925 obj [-8.10011817] val-MMD^2 1.0500005765009244 val-ratio [10500.00576501] val-obj [-9.25913109]  elapsed: 0.0\n",
      "   500: [avg train] MMD^2 1.012838200258045 obj [-8.10015595] val-MMD^2 1.050001157429312 val-ratio [10500.01157429] val-obj [-9.25913164]  elapsed: 0.0\n",
      "Using sigma = 1.0\n",
      "Compiling...\n",
      "done\n",
      "Input dim 3, representation dim 3\n",
      "Training on 80 samples (batch 200), validation on 20 (batch 1000)\n",
      "1 parameters to optimize: scales\n",
      "     0: avg train MMD^2  0.897015 obj -3.391639,  avg val MMD^2  0.984026  obj -4.202555  elapsed: 0s\n",
      "     5: avg train MMD^2  0.899743 obj -3.414418,  avg val MMD^2  0.985150  obj -4.217745  elapsed: 0s\n",
      "    25: avg train MMD^2  0.926115 obj -3.616255,  avg val MMD^2  0.998694  obj -4.394062  elapsed: 0s\n",
      "    50: avg train MMD^2  0.953571 obj -3.769392,  avg val MMD^2  1.019084  obj -4.708041  elapsed: 0s\n",
      "   100: avg train MMD^2  0.979275 obj -3.928656,  avg val MMD^2  1.039027  obj -5.169382  elapsed: 0s\n",
      "   200: avg train MMD^2  0.996632 obj -4.372702,  avg val MMD^2  1.049012  obj -5.576592  elapsed: 0s\n",
      "   300: avg train MMD^2  1.008375 obj -5.548166,  avg val MMD^2  1.051390  obj -6.067167  elapsed: 0s\n",
      "   400: avg train MMD^2  1.012855 obj -7.659432,  avg val MMD^2  1.050983  obj -7.005765  elapsed: 0s\n",
      "   500: avg train MMD^2  1.013012 obj -7.940731,  avg val MMD^2  1.050653  obj -7.433502  elapsed: 0s\n",
      "Trained result: the opt global-sigma: 1.0\n",
      "     5: [avg train] MMD^2 0.8888049406939141 obj [-3.10871322] val-MMD^2 1.022396534284014 val-ratio [97.06970786] val-obj [-4.57542936]  elapsed: 0.0\n",
      "    25: [avg train] MMD^2 0.949257924380225 obj [-3.68513131] val-MMD^2 1.0197304966757965 val-ratio [105.78993955] val-obj [-4.66145543]  elapsed: 0.0\n",
      "    50: [avg train] MMD^2 0.9661164829542405 obj [-3.82123788] val-MMD^2 1.0296881599876797 val-ratio [134.89493404] val-obj [-4.90449621]  elapsed: 0.0\n",
      "   100: [avg train] MMD^2 0.9833853927472452 obj [-3.96996515] val-MMD^2 1.042085229624463 val-ratio [192.22851377] val-obj [-5.25868484]  elapsed: 0.0\n",
      "   200: [avg train] MMD^2 0.9984737696032775 obj [-4.47464052] val-MMD^2 1.0496445389694031 val-ratio [278.11071365] val-obj [-5.62801928]  elapsed: 0.0\n",
      "   300: [avg train] MMD^2 1.009577586969449 obj [-5.8144991] val-MMD^2 1.051476962946191 val-ratio [477.8469133] val-obj [-6.16929042]  elapsed: 0.0\n",
      "   400: [avg train] MMD^2 1.0129199674044078 obj [-7.76680325] val-MMD^2 1.0508944666105957 val-ratio [1221.89420352] val-obj [-7.10815756]  elapsed: 0.0\n",
      "   500: [avg train] MMD^2 1.0130157391045933 obj [-7.9490231] val-MMD^2 1.0506340367584805 val-ratio [1743.87741997] val-obj [-7.46386632]  elapsed: 0.0\n",
      "Starting with sigma = median; optimizing it\n"
     ]
    },
    {
     "name": "stdout",
     "output_type": "stream",
     "text": [
      "1 dim. mean(x)=1.0 mean(y)=7.7234959539577765 var(x)=0.0 var(y)=2214.942153155882\n",
      "2 dim. mean(x)=9.99143610735228 mean(y)=9.974125058564738 var(x)=0.03008646600399624 var(y)=0.03658913632491844\n",
      "3 dim. mean(x)=10.00232052620797 mean(y)=9.99697069395623 var(x)=0.026738543559981117 var(y)=0.04102337878470182\n"
     ]
    },
    {
     "name": "stderr",
     "output_type": "stream",
     "text": [
      "Compiling...\n",
      "done\n",
      "Getting median initial sigma value...\n",
      "15.7\n",
      "Input dim 3, representation dim 3\n",
      "Training on 80 samples (batch 200), validation on 20 (batch 1000)\n",
      "2 parameters to optimize: scales, log_sigma\n",
      "     0: avg train MMD^2  0.472977 obj -2.031249,  avg val MMD^2  0.891533  obj -1.896442  elapsed: 0s  sigma: 15.7\n",
      "     5: avg train MMD^2  0.512633 obj -2.094705,  avg val MMD^2  0.951034  obj -1.987840  elapsed: 0s  sigma: 14.4\n",
      "    25: avg train MMD^2  0.870093 obj -2.766785,  avg val MMD^2  1.037178  obj -2.420777  elapsed: 0s  sigma: 6.22\n",
      "    50: avg train MMD^2  0.969909 obj -3.573957,  avg val MMD^2  1.043303  obj -4.631855  elapsed: 0s  sigma: 1.87\n",
      "   100: avg train MMD^2  0.949944 obj -3.705558,  avg val MMD^2  1.000627  obj -4.223264  elapsed: 0s  sigma: 0.979\n",
      "   200: avg train MMD^2  0.951127 obj -3.729342,  avg val MMD^2  0.998470  obj -4.109234  elapsed: 0s  sigma: 0.792\n",
      "   300: avg train MMD^2  0.958646 obj -4.055232,  avg val MMD^2  0.999727  obj -4.213667  elapsed: 0s  sigma: 0.282\n",
      "   400: avg train MMD^2  0.025000 obj -5.521461,  avg val MMD^2  0.100000  obj -6.907755  elapsed: 0s  sigma: 0.00309\n",
      "   500: avg train MMD^2  0.025000 obj -5.521461,  avg val MMD^2  0.100000  obj -6.907755  elapsed: 1s  sigma: 0.00308\n",
      "Trained result: the opt global-sigma: 0.003080328868156175\n",
      "     5: [avg train] MMD^2 0.8937458095546222 obj [-3.0684079] val-MMD^2 0.9831530232448709 val-ratio [17.53203765] val-obj [-2.86402993]  elapsed: 0.0\n",
      "    25: [avg train] MMD^2 0.916167724249289 obj [-3.67870096] val-MMD^2 0.9564765952689694 val-ratio [37.29061857] val-obj [-3.61874178]  elapsed: 0.0\n",
      "    50: [avg train] MMD^2 0.9524443267606577 obj [-3.71112522] val-MMD^2 1.0020752046310428 val-ratio [63.11646083] val-obj [-4.1449816]  elapsed: 0.0\n",
      "   100: [avg train] MMD^2 0.9596993322895924 obj [-3.72769458] val-MMD^2 1.0090383967167038 val-ratio [67.440866] val-obj [-4.21125115]  elapsed: 0.0\n",
      "   200: [avg train] MMD^2 0.1933396429741752 obj [-2.68082738] val-MMD^2 0.20024356665268667 val-ratio [7.46737592] val-obj [-2.01054366]  elapsed: 0.0\n",
      "   300: [avg train] MMD^2 0.025000000000008703 obj [-5.52146092] val-MMD^2 0.1 val-ratio [1000.] val-obj [-6.90775528]  elapsed: 0.0\n",
      "   400: [avg train] MMD^2 0.02500000000000857 obj [-5.52146092] val-MMD^2 0.1 val-ratio [1000.] val-obj [-6.90775528]  elapsed: 0.0\n",
      "   500: [avg train] MMD^2 0.02500000000000857 obj [-5.52146092] val-MMD^2 0.1 val-ratio [1000.] val-obj [-6.90775528]  elapsed: 0.0\n",
      "Using sigma = 1.0\n",
      "Compiling...\n",
      "done\n",
      "Input dim 3, representation dim 3\n",
      "Training on 80 samples (batch 200), validation on 20 (batch 1000)\n",
      "1 parameters to optimize: scales\n",
      "     0: avg train MMD^2  0.924132 obj -3.460079,  avg val MMD^2  0.991831  obj -3.682176  elapsed: 0s\n",
      "     5: avg train MMD^2  0.927775 obj -3.497678,  avg val MMD^2  0.995223  obj -3.852741  elapsed: 0s\n",
      "    25: avg train MMD^2  0.946025 obj -3.660836,  avg val MMD^2  1.003975  obj -4.231747  elapsed: 0s\n",
      "    50: avg train MMD^2  0.953222 obj -3.687995,  avg val MMD^2  1.008003  obj -4.291058  elapsed: 0s\n",
      "   100: avg train MMD^2  0.959838 obj -3.700243,  avg val MMD^2  1.013491  obj -4.340749  elapsed: 0s\n",
      "   200: avg train MMD^2  0.965299 obj -3.709181,  avg val MMD^2  1.018251  obj -4.364345  elapsed: 1s\n",
      "   300: avg train MMD^2  0.967421 obj -3.713767,  avg val MMD^2  1.020065  obj -4.369355  elapsed: 1s\n",
      "   400: avg train MMD^2  0.968362 obj -3.717228,  avg val MMD^2  1.020840  obj -4.373005  elapsed: 1s\n",
      "   500: avg train MMD^2  0.968777 obj -3.720383,  avg val MMD^2  1.021155  obj -4.377387  elapsed: 2s\n",
      "Trained result: the opt global-sigma: 1.0\n",
      "     5: [avg train] MMD^2 0.9459712295683916 obj [-3.45206164] val-MMD^2 1.020945153041228 val-ratio [45.36897161] val-obj [-3.81482843]  elapsed: 0.0\n",
      "    25: [avg train] MMD^2 0.9667788130014512 obj [-3.66932609] val-MMD^2 1.0296656328964073 val-ratio [105.89938823] val-obj [-4.66248948]  elapsed: 0.0\n",
      "    50: [avg train] MMD^2 0.9699806324158836 obj [-3.69444313] val-MMD^2 1.0288299314786773 val-ratio [105.63118655] val-obj [-4.65995365]  elapsed: 0.0\n",
      "   100: [avg train] MMD^2 0.9707097697386539 obj [-3.70329272] val-MMD^2 1.027299936287867 val-ratio [98.29065519] val-obj [-4.58792896]  elapsed: 0.0\n",
      "   200: [avg train] MMD^2 0.9701195737069137 obj [-3.7103895] val-MMD^2 1.0244354306885186 val-ratio [87.37283085] val-obj [-4.47018437]  elapsed: 0.0\n",
      "   300: [avg train] MMD^2 0.9695666586749784 obj [-3.71442301] val-MMD^2 1.0227896517214934 val-ratio [82.46601739] val-obj [-4.4123863]  elapsed: 0.0\n",
      "   400: [avg train] MMD^2 0.9693265301247723 obj [-3.71764198] val-MMD^2 1.0220402796579957 val-ratio [80.64571329] val-obj [-4.39006565]  elapsed: 0.0\n",
      "   500: [avg train] MMD^2 0.9692210584843463 obj [-3.72068338] val-MMD^2 1.0216931804339788 val-ratio [80.16979576] val-obj [-4.38414683]  elapsed: 0.0\n",
      "Starting with sigma = median; optimizing it\n"
     ]
    },
    {
     "name": "stdout",
     "output_type": "stream",
     "text": [
      "1 dim. mean(x)=1.0 mean(y)=-1.8739104242640325 var(x)=0.0 var(y)=2432.697763998849\n",
      "2 dim. mean(x)=9.986888450121633 mean(y)=10.001659621546917 var(x)=0.040224336588517706 var(y)=0.03661271437959018\n",
      "3 dim. mean(x)=10.013807541268982 mean(y)=9.997282860682985 var(x)=0.026776177570254994 var(y)=0.03553093512740469\n"
     ]
    },
    {
     "name": "stderr",
     "output_type": "stream",
     "text": [
      "Compiling...\n",
      "done\n",
      "Getting median initial sigma value...\n",
      "21.9\n",
      "Input dim 3, representation dim 3\n",
      "Training on 80 samples (batch 200), validation on 20 (batch 1000)\n",
      "2 parameters to optimize: scales, log_sigma\n",
      "     0: avg train MMD^2  0.506945 obj -2.067467,  avg val MMD^2  0.563040  obj -1.503978  elapsed: 0s  sigma: 21.9\n",
      "     5: avg train MMD^2  0.548306 obj -2.115767,  avg val MMD^2  0.614283  obj -1.572672  elapsed: 0s  sigma: 20.3\n",
      "    25: avg train MMD^2  0.810951 obj -2.543239,  avg val MMD^2  0.887952  obj -2.119143  elapsed: 0s  sigma: 10.5\n",
      "    50: avg train MMD^2  0.871763 obj -2.759730,  avg val MMD^2  0.963099  obj -2.308663  elapsed: 0s  sigma: 5.37\n",
      "   100: avg train MMD^2  0.899982 obj -3.034269,  avg val MMD^2  0.949980  obj -2.438731  elapsed: 0s  sigma: 1.84\n",
      "   200: avg train MMD^2  0.936847 obj -3.716373,  avg val MMD^2  1.020934  obj -5.050677  elapsed: 0s  sigma: 0.29\n",
      "   300: avg train MMD^2  0.025000 obj -5.521461,  avg val MMD^2  0.100000  obj -6.907755  elapsed: 0s  sigma: 0.00363\n",
      "   400: avg train MMD^2  0.025000 obj -5.521461,  avg val MMD^2  0.100000  obj -6.907755  elapsed: 0s  sigma: 0.00357\n",
      "   500: avg train MMD^2  0.025000 obj -5.521461,  avg val MMD^2  0.100000  obj -6.907755  elapsed: 1s  sigma: 0.00357\n",
      "Trained result: the opt global-sigma: 0.0035729323306239276\n",
      "     5: [avg train] MMD^2 0.8399712336280484 obj [-2.72186082] val-MMD^2 0.9465137861280387 val-ratio [10.26038883] val-obj [-2.32829074]  elapsed: 0.0\n",
      "    25: [avg train] MMD^2 0.8711593189723439 obj [-3.02784956] val-MMD^2 0.934077847422773 val-ratio [11.95898867] val-obj [-2.48148319]  elapsed: 0.0\n",
      "    50: [avg train] MMD^2 0.8771485065532442 obj [-3.22611067] val-MMD^2 0.9553564684756161 val-ratio [21.75776474] val-obj [-3.07997069]  elapsed: 0.0\n",
      "   100: [avg train] MMD^2 0.9942720817186839 obj [-4.18398833] val-MMD^2 1.0494701486191738 val-ratio [5984.80533347] val-obj [-8.69697909]  elapsed: 0.0\n",
      "   200: [avg train] MMD^2 0.025 obj [-5.52146092] val-MMD^2 0.1 val-ratio [1000.] val-obj [-6.90775528]  elapsed: 0.0\n",
      "   300: [avg train] MMD^2 0.025 obj [-5.52146092] val-MMD^2 0.1 val-ratio [1000.] val-obj [-6.90775528]  elapsed: 0.0\n",
      "   400: [avg train] MMD^2 0.025 obj [-5.52146092] val-MMD^2 0.1 val-ratio [1000.] val-obj [-6.90775528]  elapsed: 0.0\n",
      "   500: [avg train] MMD^2 0.025 obj [-5.52146092] val-MMD^2 0.1 val-ratio [1000.] val-obj [-6.90775528]  elapsed: 0.0\n",
      "Using sigma = 1.0\n",
      "Compiling...\n",
      "done\n",
      "Input dim 3, representation dim 3\n",
      "Training on 80 samples (batch 200), validation on 20 (batch 1000)\n",
      "1 parameters to optimize: scales\n",
      "     0: avg train MMD^2  0.849031 obj -2.950152,  avg val MMD^2  0.918823  obj -2.385664  elapsed: 0s\n",
      "     5: avg train MMD^2  0.849995 obj -2.955028,  avg val MMD^2  0.919284  obj -2.390120  elapsed: 0s\n",
      "    25: avg train MMD^2  0.860992 obj -3.012943,  avg val MMD^2  0.924733  obj -2.437488  elapsed: 0s\n",
      "    50: avg train MMD^2  0.876728 obj -3.091604,  avg val MMD^2  0.935693  obj -2.526741  elapsed: 0s\n",
      "   100: avg train MMD^2  0.901674 obj -3.183348,  avg val MMD^2  0.957213  obj -2.711083  elapsed: 0s\n",
      "   200: avg train MMD^2  0.927719 obj -3.259774,  avg val MMD^2  0.985320  obj -3.023371  elapsed: 0s\n",
      "   300: avg train MMD^2  0.940786 obj -3.312288,  avg val MMD^2  1.004323  obj -3.353978  elapsed: 0s\n",
      "   400: avg train MMD^2  0.948907 obj -3.360180,  avg val MMD^2  1.018535  obj -3.731736  elapsed: 0s\n",
      "   500: avg train MMD^2  0.954686 obj -3.403391,  avg val MMD^2  1.028790  obj -4.145304  elapsed: 0s\n",
      "Trained result: the opt global-sigma: 1.0\n",
      "     5: [avg train] MMD^2 0.8593087549081112 obj [-2.72196222] val-MMD^2 0.9578901549370857 val-ratio [10.02050058] val-obj [-2.30463305]  elapsed: 0.0\n",
      "    25: [avg train] MMD^2 0.9032115631055827 obj [-2.98315312] val-MMD^2 0.9531570971924708 val-ratio [10.82550011] val-obj [-2.38190447]  elapsed: 0.0\n",
      "    50: [avg train] MMD^2 0.9149304022440656 obj [-3.08599236] val-MMD^2 0.9594297575261549 val-ratio [11.96445818] val-obj [-2.48194044]  elapsed: 0.0\n",
      "   100: [avg train] MMD^2 0.9294793602706959 obj [-3.18847117] val-MMD^2 0.9741076145084656 val-ratio [14.57274003] val-obj [-2.67915266]  elapsed: 0.0\n",
      "   200: [avg train] MMD^2 0.9424215232867897 obj [-3.26208984] val-MMD^2 0.994086359553785 val-ratio [20.06333463] val-obj [-2.998894]  elapsed: 0.0\n",
      "   300: [avg train] MMD^2 0.9492259845894867 obj [-3.31206495] val-MMD^2 1.0092184576980965 val-ratio [27.90102823] val-obj [-3.32866354]  elapsed: 0.0\n",
      "   400: [avg train] MMD^2 0.9540711281504801 obj [-3.35880555] val-MMD^2 1.0214867371927643 val-ratio [40.63624101] val-obj [-3.7046603]  elapsed: 0.0\n",
      "   500: [avg train] MMD^2 0.9579979913172173 obj [-3.4016418] val-MMD^2 1.0307079328566568 val-ratio [61.39259045] val-obj [-4.11728915]  elapsed: 0.0\n",
      "Starting with sigma = median; optimizing it\n"
     ]
    },
    {
     "name": "stdout",
     "output_type": "stream",
     "text": [
      "1 dim. mean(x)=1.0 mean(y)=4.154572759252505 var(x)=0.0 var(y)=2389.0175092275636\n",
      "2 dim. mean(x)=9.988577679948255 mean(y)=9.991574363902814 var(x)=0.04186576692260802 var(y)=0.03846509523600624\n",
      "3 dim. mean(x)=10.043299143220981 mean(y)=9.975674246670115 var(x)=0.04464271508215127 var(y)=0.04386765301572147\n"
     ]
    },
    {
     "name": "stderr",
     "output_type": "stream",
     "text": [
      "Compiling...\n",
      "done\n",
      "Getting median initial sigma value...\n",
      "20.3\n",
      "Input dim 3, representation dim 3\n",
      "Training on 80 samples (batch 200), validation on 20 (batch 1000)\n",
      "2 parameters to optimize: scales, log_sigma\n",
      "     0: avg train MMD^2  0.555033 obj -2.139141,  avg val MMD^2  0.597642  obj -1.423708  elapsed: 0s  sigma: 20.3\n",
      "     5: avg train MMD^2  0.603841 obj -2.203695,  avg val MMD^2  0.642149  obj -1.480498  elapsed: 0s  sigma: 18.6\n",
      "    25: avg train MMD^2  0.905713 obj -2.963071,  avg val MMD^2  0.808932  obj -1.774895  elapsed: 0s  sigma: 7.81\n",
      "    50: avg train MMD^2  0.980815 obj -4.009734,  avg val MMD^2  0.925883  obj -2.501597  elapsed: 0s  sigma: 2.06\n",
      "   100: avg train MMD^2  1.012847 obj -8.372740,  avg val MMD^2  1.049976  obj -9.259107  elapsed: 0s  sigma: 0.175\n",
      "   200: avg train MMD^2  1.012500 obj -9.222763,  avg val MMD^2  1.050000  obj -9.259131  elapsed: 0s  sigma: 0.0482\n",
      "   300: avg train MMD^2  1.012500 obj -9.222763,  avg val MMD^2  1.050000  obj -9.259131  elapsed: 0s  sigma: 0.0482\n",
      "   400: avg train MMD^2  1.012500 obj -9.222763,  avg val MMD^2  1.050000  obj -9.259131  elapsed: 0s  sigma: 0.0482\n",
      "   500: avg train MMD^2  1.012500 obj -9.222763,  avg val MMD^2  1.050000  obj -9.259131  elapsed: 1s  sigma: 0.0482\n",
      "Trained result: the opt global-sigma: 0.048224482741680265\n",
      "     5: [avg train] MMD^2 0.9449929702122615 obj [-3.33115152] val-MMD^2 0.8310615913426685 val-ratio [7.72813338] val-obj [-2.04486736]  elapsed: 0.0\n",
      "    25: [avg train] MMD^2 1.0113813753886696 obj [-6.81275897] val-MMD^2 1.044686802204749 val-ratio [216.87409556] val-obj [-5.37931698]  elapsed: 0.0\n",
      "    50: [avg train] MMD^2 1.012998049787967 obj [-8.13223476] val-MMD^2 1.0499463789645576 val-ratio [10499.46378965] val-obj [-9.25907947]  elapsed: 0.0\n",
      "   100: [avg train] MMD^2 1.0125000034052456 obj [-9.2227629] val-MMD^2 1.05 val-ratio [10500.] val-obj [-9.25913054]  elapsed: 0.0\n",
      "   200: [avg train] MMD^2 1.0125000024785216 obj [-9.22276289] val-MMD^2 1.05 val-ratio [10500.] val-obj [-9.25913054]  elapsed: 0.0\n",
      "   300: [avg train] MMD^2 1.0125000024785216 obj [-9.22276289] val-MMD^2 1.05 val-ratio [10500.] val-obj [-9.25913054]  elapsed: 0.0\n",
      "   400: [avg train] MMD^2 1.0125000024785216 obj [-9.22276289] val-MMD^2 1.05 val-ratio [10500.] val-obj [-9.25913054]  elapsed: 0.0\n",
      "   500: [avg train] MMD^2 1.0125000024785216 obj [-9.22276289] val-MMD^2 1.05 val-ratio [10500.] val-obj [-9.25913054]  elapsed: 0.0\n",
      "Using sigma = 1.0\n",
      "Compiling...\n",
      "done\n",
      "Input dim 3, representation dim 3\n",
      "Training on 80 samples (batch 200), validation on 20 (batch 1000)\n",
      "1 parameters to optimize: scales\n",
      "     0: avg train MMD^2  0.915832 obj -3.793758,  avg val MMD^2  0.853990  obj -2.329439  elapsed: 0s\n",
      "     5: avg train MMD^2  0.923073 obj -3.957702,  avg val MMD^2  0.876894  obj -2.475169  elapsed: 0s\n",
      "    25: avg train MMD^2  1.015030 obj -6.737338,  avg val MMD^2  1.035199  obj -4.174896  elapsed: 0s\n",
      "    50: avg train MMD^2  1.016047 obj -6.997029,  avg val MMD^2  1.048267  obj -5.544824  elapsed: 0s\n",
      "   100: avg train MMD^2  1.015138 obj -7.157195,  avg val MMD^2  1.050444  obj -6.802152  elapsed: 0s\n",
      "   200: avg train MMD^2  1.014371 obj -7.394404,  avg val MMD^2  1.050278  obj -8.236187  elapsed: 0s\n",
      "   300: avg train MMD^2  1.013990 obj -7.562628,  avg val MMD^2  1.050074  obj -9.259201  elapsed: 0s\n",
      "   400: avg train MMD^2  1.013764 obj -7.684802,  avg val MMD^2  1.050019  obj -9.259149  elapsed: 0s\n",
      "   500: avg train MMD^2  1.013612 obj -7.773513,  avg val MMD^2  1.050005  obj -9.259135  elapsed: 1s\n",
      "Trained result: the opt global-sigma: 1.0\n",
      "     5: [avg train] MMD^2 0.9580997941272732 obj [-3.78009466] val-MMD^2 0.890241550452773 val-ratio [10.21765118] val-obj [-2.32411673]  elapsed: 0.0\n",
      "    25: [avg train] MMD^2 1.0159711948709236 obj [-6.85010955] val-MMD^2 1.0401898065317388 val-ratio [88.02561173] val-obj [-4.47762781]  elapsed: 0.0\n",
      "    50: [avg train] MMD^2 1.0157705437163336 obj [-7.0349175] val-MMD^2 1.049228602257244 val-ratio [355.40900858] val-obj [-5.87326926]  elapsed: 0.0\n",
      "   100: [avg train] MMD^2 1.0149975921490944 obj [-7.19138328] val-MMD^2 1.0505119353913606 val-ratio [1117.54925652] val-obj [-7.0188934]  elapsed: 0.0\n",
      "   200: [avg train] MMD^2 1.0143098559387915 obj [-7.41802484] val-MMD^2 1.0502377527181355 val-ratio [4440.38352408] val-obj [-8.39849603]  elapsed: 0.0\n",
      "   300: [avg train] MMD^2 1.0139562931595911 obj [-7.579751] val-MMD^2 1.050062586712064 val-ratio [10500.62586712] val-obj [-9.25919014]  elapsed: 0.0\n",
      "   400: [avg train] MMD^2 1.0137423566346069 obj [-7.6972343] val-MMD^2 1.0500159381319314 val-ratio [10500.15938132] val-obj [-9.25914572]  elapsed: 0.0\n",
      "   500: [avg train] MMD^2 1.013596645091807 obj [-7.78256474] val-MMD^2 1.0500041784098078 val-ratio [10500.0417841] val-obj [-9.25913452]  elapsed: 0.0\n"
     ]
    }
   ],
   "source": [
    "size = 100\n",
    "n_trial = 5\n",
    "n_epoch = 500\n",
    "batch_size = 200\n",
    "\n",
    "result_stacks_with_sigma = []\n",
    "result_stacks_without_sigma = []\n",
    "for i_trial in range(0, n_trial):\n",
    "    x_1st_dim = numpy.random.normal(loc=1.0, scale=0.0, size=size)\n",
    "    y_1st_dim = numpy.random.normal(loc=1.0, scale=50.0, size=size)\n",
    "\n",
    "    x_2_and_3_dim = numpy.random.normal(loc=10.0, scale=0.2, size=(size, 2))\n",
    "    y_2_and_3_dim = numpy.random.normal(loc=10.0, scale=0.2, size=(size, 2))\n",
    "\n",
    "    x = numpy.concatenate([numpy.reshape(x_1st_dim, (size, 1)), x_2_and_3_dim], axis=1)\n",
    "    y = numpy.concatenate([numpy.reshape(y_1st_dim, (size, 1)), y_2_and_3_dim], axis=1)\n",
    "    \n",
    "    x_train = x[:80]\n",
    "    y_train = y[:80]\n",
    "    x_val = x[80:]\n",
    "    y_val = y[80:]\n",
    "\n",
    "    for n_dim in [0, 1, 2]:\n",
    "        print(f'{n_dim+1} dim. mean(x)={x[:,n_dim].mean()} mean(y)={y[:,n_dim].mean()} var(x)={x[:,n_dim].var()} var(y)={y[:,n_dim].var()}')\n",
    "    # end for\n",
    "    \n",
    "    dataset_train = TwoSampleDataSet(x_train, y_train, device_obj)\n",
    "    dataset_val = TwoSampleDataSet(x_val, y_val, device_obj)\n",
    "    \n",
    "    # with sigma optimization\n",
    "    trainer_theano = ModelTrainerTheanoBackend()\n",
    "    trained_obj_theano = trainer_theano.train(x_train, y_train, num_epochs=n_epoch, batchsize=batch_size, opt_sigma=True, x_val=x_val, y_val=y_val, init_sigma_median=True)\n",
    "    \n",
    "    mmd_estimator_sigma_opt = MMD(kernels_torch.BasicRBFKernelFunction(opt_sigma=True, device_obj=device_obj), \n",
    "                                  device_obj=device_obj)\n",
    "    trainer_torch = ModelTrainerTorchBackend(mmd_estimator=mmd_estimator_sigma_opt,\n",
    "                                            device_obj=device_obj)\n",
    "    trained_obj_torch = trainer_torch.train(dataset_training=dataset_train, \n",
    "                                            dataset_validation=dataset_val,\n",
    "                                            num_epochs=n_epoch, batchsize=batch_size)\n",
    "    sigma = numpy.exp(trained_obj_torch.kernel_function_obj.get_params()['log_sigma'].cpu().detach().numpy())\n",
    "\n",
    "    result_stacks_with_sigma.append([\n",
    "                             (x, y),\n",
    "                             (trained_obj_theano.scales, trained_obj_torch.scales),\n",
    "                             (trained_obj_theano.sigma, sigma)])\n",
    "    # without sigma optimization\n",
    "    trainer_theano = ModelTrainerTheanoBackend()\n",
    "    trained_obj_theano = trainer_theano.train(x_train, y_train, num_epochs=n_epoch, batchsize=batch_size, opt_sigma=False, x_val=x_val, y_val=y_val, init_sigma_median=False, init_log_sigma=0.0)\n",
    "    \n",
    "    mmd_estimator = MMD(kernels_torch.BasicRBFKernelFunction(opt_sigma=False, device_obj=device_obj), \n",
    "                        device_obj=device_obj)\n",
    "    trainer_torch = ModelTrainerTorchBackend(mmd_estimator=mmd_estimator,\n",
    "                                            device_obj=device_obj)\n",
    "    trained_obj_torch = trainer_torch.train(dataset_training=dataset_train, \n",
    "                                            dataset_validation=dataset_val,\n",
    "                                            num_epochs=n_epoch, batchsize=batch_size)\n",
    "    sigma = numpy.exp(trained_obj_torch.kernel_function_obj.get_params()['log_sigma'].cpu().detach().numpy())\n",
    "    \n",
    "    result_stacks_without_sigma.append([\n",
    "                             (x, y),\n",
    "                             (trained_obj_theano.scales, trained_obj_torch.scales),\n",
    "                             (trained_obj_theano.sigma, sigma)])\n",
    "# end for"
   ]
  },
  {
   "cell_type": "markdown",
   "id": "528c315f-5834-4c41-bdfa-b4adbb1dddc6",
   "metadata": {},
   "source": [
    "### Observations"
   ]
  },
  {
   "cell_type": "code",
   "execution_count": 9,
   "id": "bbc98bce-89fb-4404-841f-07092fa347bf",
   "metadata": {},
   "outputs": [
    {
     "data": {
      "text/plain": [
       "(-10.0, 15.0)"
      ]
     },
     "execution_count": 9,
     "metadata": {},
     "output_type": "execute_result"
    },
    {
     "data": {
      "image/png": "[encoded data removed]",
      "text/plain": [
       "<Figure size 432x288 with 1 Axes>"
      ]
     },
     "metadata": {
      "needs_background": "light"
     },
     "output_type": "display_data"
    },
    {
     "data": {
      "image/png": "[encoded data removed]",
      "text/plain": [
       "<Figure size 432x288 with 1 Axes>"
      ]
     },
     "metadata": {
      "needs_background": "light"
     },
     "output_type": "display_data"
    }
   ],
   "source": [
    "# Theano imp.\n",
    "%matplotlib inline\n",
    "\n",
    "import matplotlib\n",
    "import numpy as np\n",
    "import matplotlib.pyplot as plt\n",
    "import pandas\n",
    "import numpy\n",
    "\n",
    "__df_with_sigma = []\n",
    "__df_without_sigma = []\n",
    "for trial_with_sigma, trial_without_sigma in zip(result_stacks_with_sigma, result_stacks_without_sigma):\n",
    "    __df_with_sigma.append(trial_with_sigma[1][0])\n",
    "    __df_without_sigma.append(trial_without_sigma[1][0])\n",
    "# end for\n",
    "df_with_sigma = pandas.DataFrame(__df_with_sigma, index = list(range(0, n_trial)))\n",
    "ax = df_with_sigma.plot(kind='bar')\n",
    "plt.title(f\"ARD weight with sigma. {n_trial} times computation (original imp. with Theano)\")\n",
    "plt.ylabel(\"ARD weight\")\n",
    "plt.xlabel(\"trial\")\n",
    "ax.set_ylim(-10, 15)\n",
    "# plot without sigma\n",
    "df_without_sigma = pandas.DataFrame(__df_without_sigma, index = list(range(0, n_trial)))\n",
    "ax = df_without_sigma.plot(kind='bar')\n",
    "plt.title(f\"ARD weight without sigma. {n_trial} times computation (original imp. with Theano)\")\n",
    "plt.ylabel(\"ARD weight\")\n",
    "plt.xlabel(\"trial\")\n",
    "ax.set_ylim(-10, 15)"
   ]
  },
  {
   "cell_type": "code",
   "execution_count": 10,
   "id": "42f7e587-ac76-477f-8ce6-78dfea331f89",
   "metadata": {},
   "outputs": [
    {
     "data": {
      "text/plain": [
       "(0.0, 15.0)"
      ]
     },
     "execution_count": 10,
     "metadata": {},
     "output_type": "execute_result"
    },
    {
     "data": {
      "image/png": "[encoded data removed]",
      "text/plain": [
       "<Figure size 432x288 with 1 Axes>"
      ]
     },
     "metadata": {
      "needs_background": "light"
     },
     "output_type": "display_data"
    },
    {
     "data": {
      "image/png": "[encoded data removed]",
      "text/plain": [
       "<Figure size 432x288 with 1 Axes>"
      ]
     },
     "metadata": {
      "needs_background": "light"
     },
     "output_type": "display_data"
    }
   ],
   "source": [
    "# Theano imp.\n",
    "__df_with_sigma = []\n",
    "__df_without_sigma = []\n",
    "for trial_with_sigma, trial_without_sigma in zip(result_stacks_with_sigma, result_stacks_without_sigma):\n",
    "    __df_with_sigma.append(trial_with_sigma[1][1])\n",
    "    __df_without_sigma.append(trial_without_sigma[1][1])\n",
    "# end for\n",
    "df_with_sigma = pandas.DataFrame(__df_with_sigma, index = list(range(0, n_trial)))\n",
    "ax = df_with_sigma.plot(kind='bar')\n",
    "plt.title(f\"ARD weight with sigma. {n_trial} times computation (with Torch)\")\n",
    "plt.ylabel(\"ARD weight\")\n",
    "plt.xlabel(\"trial\")\n",
    "ax.set_ylim(0, 15)\n",
    "# plot without sigma\n",
    "df_without_sigma = pandas.DataFrame(__df_without_sigma, index = list(range(0, n_trial)))\n",
    "ax = df_without_sigma.plot(kind='bar')\n",
    "plt.title(f\"ARD weight without sigma. {n_trial} times computation (with Torch)\")\n",
    "plt.ylabel(\"ARD weight\")\n",
    "plt.xlabel(\"trial\")\n",
    "ax.set_ylim(0, 15)"
   ]
  },
  {
   "cell_type": "markdown",
   "id": "40f962f3-a9c8-42d3-9fa5-cb553c5d512a",
   "metadata": {},
   "source": [
    "### conclusion\n",
    "\n",
    "The computed ARD weight will not be as we expected __if__ we optimize sigma value at the same time.\n",
    "\n",
    "Then, we should tune __only scales (ARD weight)__ if we want to obtain the ARD weight."
   ]
  },
  {
   "cell_type": "code",
   "execution_count": null,
   "id": "faeb164e-5771-4031-b94e-c34beb230b23",
   "metadata": {},
   "outputs": [],
   "source": [
    "%reset"
   ]
  },
  {
   "cell_type": "markdown",
   "id": "700a9d4d-785b-4c19-8089-d763eed8b42a",
   "metadata": {},
   "source": [
    "# Study: stability of ARD weights"
   ]
  },
  {
   "cell_type": "markdown",
   "id": "5a3c76c3-4b30-4b7b-9021-a14928e5c2db",
   "metadata": {},
   "source": [
    "## Objective\n",
    "\n",
    "To confirm the computed ARD weighted will be similar.\n",
    "\n",
    "In the exp, we have the following conditions,\n",
    "\n",
    "- the training data x and y are fixed.\n",
    "- the validation data x and y are fixed.\n",
    "- sigma will not be tuned"
   ]
  },
  {
   "cell_type": "code",
   "execution_count": 11,
   "id": "f261a9e2-af6a-430a-95ba-ea5e9ad691ea",
   "metadata": {},
   "outputs": [],
   "source": [
    "%matplotlib inline\n",
    "\n",
    "import matplotlib\n",
    "import numpy as np\n",
    "import matplotlib.pyplot as plt\n",
    "import pandas\n",
    "import numpy\n",
    "\n",
    "from model_criticism_mmd import ModelTrainerTheanoBackend, ModelTrainerTorchBackend, MMD, kernels_torch\n",
    "import torch\n",
    "device_obj = torch.device('cpu')"
   ]
  },
  {
   "cell_type": "code",
   "execution_count": 12,
   "id": "652824d2-370f-4956-9ec3-3126adf0968f",
   "metadata": {},
   "outputs": [
    {
     "name": "stdout",
     "output_type": "stream",
     "text": [
      "1 dim. mean(x)=1.0 mean(y)=-1.9289987121023118 var(x)=0.0 var(y)=2635.82856130085\n",
      "2 dim. mean(x)=10.003370421375626 mean(y)=9.991030735409678 var(x)=0.03941699910701972 var(y)=0.04441939510345533\n",
      "3 dim. mean(x)=9.999963300855036 mean(y)=10.014017987619274 var(x)=0.04474273979992369 var(y)=0.03792994077496146\n"
     ]
    }
   ],
   "source": [
    "size = 100\n",
    "x_1st_dim = numpy.random.normal(loc=1.0, scale=0.0, size=size)\n",
    "y_1st_dim = numpy.random.normal(loc=1.0, scale=50.0, size=size)\n",
    "\n",
    "x_2_and_3_dim = numpy.random.normal(loc=10.0, scale=0.2, size=(size, 2))\n",
    "y_2_and_3_dim = numpy.random.normal(loc=10.0, scale=0.2, size=(size, 2))\n",
    "\n",
    "x = numpy.concatenate([numpy.reshape(x_1st_dim, (size, 1)), x_2_and_3_dim], axis=1)\n",
    "y = numpy.concatenate([numpy.reshape(y_1st_dim, (size, 1)), y_2_and_3_dim], axis=1)\n",
    "\n",
    "x_train = x[:80]\n",
    "y_train = y[:80]\n",
    "x_val = x[80:]\n",
    "y_val = y[80:]\n",
    "\n",
    "for n_dim in [0, 1, 2]:\n",
    "    print(f'{n_dim+1} dim. mean(x)={x[:,n_dim].mean()} mean(y)={y[:,n_dim].mean()} var(x)={x[:,n_dim].var()} var(y)={y[:,n_dim].var()}')\n",
    "# end for"
   ]
  },
  {
   "cell_type": "code",
   "execution_count": 13,
   "id": "09db239c-a9a7-4cb7-999e-9e953e1926f2",
   "metadata": {},
   "outputs": [
    {
     "name": "stderr",
     "output_type": "stream",
     "text": [
      "Using sigma = 1.0\n",
      "Compiling...\n",
      "done\n",
      "Input dim 3, representation dim 3\n",
      "Training on 80 samples (batch 200), validation on 20 (batch 1000)\n",
      "1 parameters to optimize: scales\n",
      "     0: avg train MMD^2  0.851853 obj -3.093609,  avg val MMD^2  0.915869  obj -2.461261  elapsed: 0s\n",
      "     5: avg train MMD^2  0.854274 obj -3.110175,  avg val MMD^2  0.917177  obj -2.474970  elapsed: 0s\n",
      "    25: avg train MMD^2  0.880165 obj -3.292620,  avg val MMD^2  0.932249  obj -2.633729  elapsed: 0s\n",
      "    50: avg train MMD^2  0.909894 obj -3.471857,  avg val MMD^2  0.957332  obj -2.919450  elapsed: 0s\n",
      "   100: avg train MMD^2  0.945772 obj -3.671567,  avg val MMD^2  0.995963  obj -3.515378  elapsed: 0s\n",
      "   200: avg train MMD^2  0.978119 obj -3.985929,  avg val MMD^2  1.034084  obj -5.053409  elapsed: 0s\n",
      "   300: avg train MMD^2  0.992945 obj -4.308070,  avg val MMD^2  1.045082  obj -6.724697  elapsed: 0s\n",
      "   400: avg train MMD^2  1.001860 obj -4.758177,  avg val MMD^2  1.048067  obj -7.631066  elapsed: 0s\n",
      "   500: avg train MMD^2  1.008080 obj -5.494579,  avg val MMD^2  1.049348  obj -8.719265  elapsed: 0s\n",
      "Trained result: the opt global-sigma: 1.0\n",
      "     5: [avg train] MMD^2 0.8435287673117331 obj [-2.80872206] val-MMD^2 0.9443418328665153 val-ratio [10.12846774] val-obj [-2.31535005]  elapsed: 0.0\n",
      "    25: [avg train] MMD^2 0.9092841702736473 obj [-3.23912165] val-MMD^2 0.9505852898823661 val-ratio [12.43308191] val-obj [-2.52036082]  elapsed: 0.0\n",
      "    50: [avg train] MMD^2 0.9332170621640847 obj [-3.46570507] val-MMD^2 0.9711906794539092 val-ratio [17.23208033] val-obj [-2.84677278]  elapsed: 0.0\n",
      "   100: [avg train] MMD^2 0.9562231950525928 obj [-3.66885397] val-MMD^2 1.0022112566323684 val-ratio [32.10419054] val-obj [-3.46898657]  elapsed: 0.0\n",
      "   200: [avg train] MMD^2 0.980349276902912 obj [-3.97934055] val-MMD^2 1.0354908159409053 val-ratio [149.49167661] val-obj [-5.00724072]  elapsed: 0.0\n",
      "   300: [avg train] MMD^2 0.9934956797265889 obj [-4.29918962] val-MMD^2 1.0455386285375434 val-ratio [804.78608468] val-obj [-6.69057651]  elapsed: 0.0\n",
      "   400: [avg train] MMD^2 1.0019532291437396 obj [-4.74384439] val-MMD^2 1.0482216307944845 val-ratio [1998.01924345] val-obj [-7.59991159]  elapsed: 0.0\n",
      "   500: [avg train] MMD^2 1.008044924826969 obj [-5.47069145] val-MMD^2 1.0493909716754966 val-ratio [5851.74235614] val-obj [-8.67449473]  elapsed: 0.0\n",
      "Using sigma = 1.0\n",
      "Compiling...\n",
      "done\n",
      "Input dim 3, representation dim 3\n",
      "Training on 80 samples (batch 200), validation on 20 (batch 1000)\n",
      "1 parameters to optimize: scales\n",
      "     0: avg train MMD^2  0.851853 obj -3.093609,  avg val MMD^2  0.915869  obj -2.461261  elapsed: 0s\n",
      "     5: avg train MMD^2  0.854274 obj -3.110175,  avg val MMD^2  0.917177  obj -2.474970  elapsed: 0s\n",
      "    25: avg train MMD^2  0.880165 obj -3.292620,  avg val MMD^2  0.932249  obj -2.633729  elapsed: 0s\n",
      "    50: avg train MMD^2  0.909894 obj -3.471857,  avg val MMD^2  0.957332  obj -2.919450  elapsed: 0s\n",
      "   100: avg train MMD^2  0.945772 obj -3.671567,  avg val MMD^2  0.995963  obj -3.515378  elapsed: 0s\n",
      "   200: avg train MMD^2  0.978119 obj -3.985929,  avg val MMD^2  1.034084  obj -5.053409  elapsed: 0s\n",
      "   300: avg train MMD^2  0.992945 obj -4.308070,  avg val MMD^2  1.045082  obj -6.724697  elapsed: 0s\n",
      "   400: avg train MMD^2  1.001860 obj -4.758177,  avg val MMD^2  1.048067  obj -7.631066  elapsed: 0s\n",
      "   500: avg train MMD^2  1.008080 obj -5.494579,  avg val MMD^2  1.049348  obj -8.719265  elapsed: 1s\n",
      "Trained result: the opt global-sigma: 1.0\n",
      "     5: [avg train] MMD^2 0.8810297049276516 obj [-2.97525247] val-MMD^2 0.9491719610030012 val-ratio [10.97217036] val-obj [-2.3953621]  elapsed: 0.0\n",
      "    25: [avg train] MMD^2 0.9147097734668073 obj [-3.21451766] val-MMD^2 0.9588894913477259 val-ratio [12.74088979] val-obj [-2.54481649]  elapsed: 0.0\n",
      "    50: [avg train] MMD^2 0.9425709470927558 obj [-3.44615259] val-MMD^2 0.9799923215348509 val-ratio [17.30066039] val-obj [-2.85074467]  elapsed: 0.0\n",
      "   100: [avg train] MMD^2 0.9667075756366134 obj [-3.66373047] val-MMD^2 1.010431512488976 val-ratio [32.37894409] val-obj [-3.47750834]  elapsed: 0.0\n",
      "   200: [avg train] MMD^2 0.9856713438359682 obj [-3.98010813] val-MMD^2 1.039500111509509 val-ratio [157.99198389] val-obj [-5.0625443]  elapsed: 0.0\n",
      "   300: [avg train] MMD^2 0.9954475783744591 obj [-4.30146504] val-MMD^2 1.0469609567463007 val-ratio [1242.44761633] val-obj [-7.1248386]  elapsed: 0.0\n",
      "   400: [avg train] MMD^2 1.002401671175643 obj [-4.74786555] val-MMD^2 1.0485227161365949 val-ratio [2864.42726522] val-obj [-7.9601237]  elapsed: 0.0\n",
      "   500: [avg train] MMD^2 1.008052459084576 obj [-5.47749422] val-MMD^2 1.0493768576117581 val-ratio [6471.5042535] val-obj [-8.77516386]  elapsed: 0.0\n",
      "Using sigma = 1.0\n",
      "Compiling...\n",
      "done\n",
      "Input dim 3, representation dim 3\n",
      "Training on 80 samples (batch 200), validation on 20 (batch 1000)\n",
      "1 parameters to optimize: scales\n",
      "     0: avg train MMD^2  0.851853 obj -3.093609,  avg val MMD^2  0.915869  obj -2.461261  elapsed: 0s\n",
      "     5: avg train MMD^2  0.854274 obj -3.110175,  avg val MMD^2  0.917177  obj -2.474970  elapsed: 0s\n",
      "    25: avg train MMD^2  0.880165 obj -3.292620,  avg val MMD^2  0.932249  obj -2.633729  elapsed: 0s\n",
      "    50: avg train MMD^2  0.909894 obj -3.471857,  avg val MMD^2  0.957332  obj -2.919450  elapsed: 0s\n",
      "   100: avg train MMD^2  0.945772 obj -3.671567,  avg val MMD^2  0.995963  obj -3.515378  elapsed: 0s\n",
      "   200: avg train MMD^2  0.978119 obj -3.985929,  avg val MMD^2  1.034084  obj -5.053409  elapsed: 0s\n",
      "   300: avg train MMD^2  0.992945 obj -4.308070,  avg val MMD^2  1.045082  obj -6.724697  elapsed: 0s\n",
      "   400: avg train MMD^2  1.001860 obj -4.758177,  avg val MMD^2  1.048067  obj -7.631066  elapsed: 1s\n",
      "   500: avg train MMD^2  1.008080 obj -5.494579,  avg val MMD^2  1.049348  obj -8.719265  elapsed: 1s\n",
      "Trained result: the opt global-sigma: 1.0\n",
      "     5: [avg train] MMD^2 0.859158125916118 obj [-2.86936978] val-MMD^2 0.9469948577331616 val-ratio [10.36193011] val-obj [-2.33813852]  elapsed: 0.0\n",
      "    25: [avg train] MMD^2 0.9085080894199408 obj [-3.2004456] val-MMD^2 0.9520755472583646 val-ratio [12.19742468] val-obj [-2.50122484]  elapsed: 0.0\n",
      "    50: [avg train] MMD^2 0.9342303096919714 obj [-3.44391488] val-MMD^2 0.9718678628947801 val-ratio [16.68426442] val-obj [-2.81446603]  elapsed: 0.0\n",
      "   100: [avg train] MMD^2 0.9568548662119791 obj [-3.65917259] val-MMD^2 1.0021468235825681 val-ratio [31.13277256] val-obj [-3.43826104]  elapsed: 0.0\n",
      "   200: [avg train] MMD^2 0.9798167805820052 obj [-3.97103507] val-MMD^2 1.0349656621511414 val-ratio [143.79035769] val-obj [-4.96835639]  elapsed: 0.0\n",
      "   300: [avg train] MMD^2 0.9930575734957443 obj [-4.28964933] val-MMD^2 1.0452975932335704 val-ratio [795.90533409] val-obj [-6.67948025]  elapsed: 0.0\n",
      "   400: [avg train] MMD^2 1.0016701956195573 obj [-4.72909614] val-MMD^2 1.048114010345645 val-ratio [1981.74022767] val-obj [-7.59173064]  elapsed: 0.0\n",
      "   500: [avg train] MMD^2 1.0078731109875771 obj [-5.44631161] val-MMD^2 1.049341057529201 val-ratio [5680.32553372] val-obj [-8.64476382]  elapsed: 0.0\n",
      "Using sigma = 1.0\n",
      "Compiling...\n",
      "done\n",
      "Input dim 3, representation dim 3\n",
      "Training on 80 samples (batch 200), validation on 20 (batch 1000)\n",
      "1 parameters to optimize: scales\n",
      "     0: avg train MMD^2  0.851853 obj -3.093609,  avg val MMD^2  0.915869  obj -2.461261  elapsed: 0s\n",
      "     5: avg train MMD^2  0.854274 obj -3.110175,  avg val MMD^2  0.917177  obj -2.474970  elapsed: 0s\n",
      "    25: avg train MMD^2  0.880165 obj -3.292620,  avg val MMD^2  0.932249  obj -2.633729  elapsed: 0s\n",
      "    50: avg train MMD^2  0.909894 obj -3.471857,  avg val MMD^2  0.957332  obj -2.919450  elapsed: 0s\n",
      "   100: avg train MMD^2  0.945772 obj -3.671567,  avg val MMD^2  0.995963  obj -3.515378  elapsed: 0s\n",
      "   200: avg train MMD^2  0.978119 obj -3.985929,  avg val MMD^2  1.034084  obj -5.053409  elapsed: 0s\n",
      "   300: avg train MMD^2  0.992945 obj -4.308070,  avg val MMD^2  1.045082  obj -6.724697  elapsed: 0s\n",
      "   400: avg train MMD^2  1.001860 obj -4.758177,  avg val MMD^2  1.048067  obj -7.631066  elapsed: 1s\n",
      "   500: avg train MMD^2  1.008080 obj -5.494579,  avg val MMD^2  1.049348  obj -8.719265  elapsed: 1s\n",
      "Trained result: the opt global-sigma: 1.0\n",
      "     5: [avg train] MMD^2 0.8521524407071602 obj [-2.85365342] val-MMD^2 0.9427223719546257 val-ratio [10.14473129] val-obj [-2.31695449]  elapsed: 0.0\n",
      "    25: [avg train] MMD^2 0.9045055552299727 obj [-3.20445726] val-MMD^2 0.9472635762081865 val-ratio [11.99811137] val-obj [-2.48474925]  elapsed: 0.0\n",
      "    50: [avg train] MMD^2 0.9297947873523175 obj [-3.44363004] val-MMD^2 0.9675143210044349 val-ratio [16.41638524] val-obj [-2.79827994]  elapsed: 0.0\n",
      "   100: [avg train] MMD^2 0.9546313165313891 obj [-3.6562027] val-MMD^2 0.999995796308441 val-ratio [30.50964521] val-obj [-3.41804287]  elapsed: 0.0\n",
      "   200: [avg train] MMD^2 0.9797822529486047 obj [-3.96753953] val-MMD^2 1.0348283899222799 val-ratio [139.30514552] val-obj [-4.93666682]  elapsed: 0.0\n",
      "   300: [avg train] MMD^2 0.9931696604811694 obj [-4.28534922] val-MMD^2 1.045404725085297 val-ratio [761.39577503] val-obj [-6.63515329]  elapsed: 0.0\n",
      "   400: [avg train] MMD^2 1.0017075416808976 obj [-4.72224582] val-MMD^2 1.0481838213426862 val-ratio [1925.95134168] val-obj [-7.56317533]  elapsed: 0.0\n",
      "   500: [avg train] MMD^2 1.0078642376335671 obj [-5.4348826] val-MMD^2 1.0493687359159942 val-ratio [5531.4218547] val-obj [-8.61820018]  elapsed: 0.0\n",
      "Using sigma = 1.0\n",
      "Compiling...\n",
      "done\n",
      "Input dim 3, representation dim 3\n",
      "Training on 80 samples (batch 200), validation on 20 (batch 1000)\n",
      "1 parameters to optimize: scales\n",
      "     0: avg train MMD^2  0.851853 obj -3.093609,  avg val MMD^2  0.915869  obj -2.461261  elapsed: 0s\n",
      "     5: avg train MMD^2  0.854274 obj -3.110175,  avg val MMD^2  0.917177  obj -2.474970  elapsed: 0s\n",
      "    25: avg train MMD^2  0.880165 obj -3.292620,  avg val MMD^2  0.932249  obj -2.633729  elapsed: 0s\n",
      "    50: avg train MMD^2  0.909894 obj -3.471857,  avg val MMD^2  0.957332  obj -2.919450  elapsed: 0s\n",
      "   100: avg train MMD^2  0.945772 obj -3.671567,  avg val MMD^2  0.995963  obj -3.515378  elapsed: 1s\n",
      "   200: avg train MMD^2  0.978119 obj -3.985929,  avg val MMD^2  1.034084  obj -5.053409  elapsed: 3s\n",
      "   300: avg train MMD^2  0.992945 obj -4.308070,  avg val MMD^2  1.045082  obj -6.724697  elapsed: 4s\n",
      "   400: avg train MMD^2  1.001860 obj -4.758177,  avg val MMD^2  1.048067  obj -7.631066  elapsed: 5s\n",
      "   500: avg train MMD^2  1.008080 obj -5.494579,  avg val MMD^2  1.049348  obj -8.719265  elapsed: 6s\n",
      "Trained result: the opt global-sigma: 1.0\n",
      "     5: [avg train] MMD^2 0.8837495525635419 obj [-3.05707882] val-MMD^2 0.9430025819146516 val-ratio [11.4499154] val-obj [-2.43798234]  elapsed: 0.0\n",
      "    25: [avg train] MMD^2 0.9101212696640936 obj [-3.26426777] val-MMD^2 0.9548929160592138 val-ratio [13.40759637] val-obj [-2.59582144]  elapsed: 0.0\n",
      "    50: [avg train] MMD^2 0.935717323033206 obj [-3.46861822] val-MMD^2 0.9758991090198943 val-ratio [18.15535061] val-obj [-2.89896532]  elapsed: 0.0\n",
      "   100: [avg train] MMD^2 0.9597682067157448 obj [-3.67477641] val-MMD^2 1.006119483366836 val-ratio [33.75026677] val-obj [-3.51898832]  elapsed: 0.0\n",
      "   200: [avg train] MMD^2 0.9813331676045955 obj [-3.98844798] val-MMD^2 1.036456539955931 val-ratio [162.48962325] val-obj [-5.09061414]  elapsed: 0.0\n",
      "   300: [avg train] MMD^2 0.9936486607827547 obj [-4.31058869] val-MMD^2 1.045573431125515 val-ratio [921.39954484] val-obj [-6.82589376]  elapsed: 0.0\n",
      "   400: [avg train] MMD^2 1.0020186397606108 obj [-4.76199053] val-MMD^2 1.0481569674917859 val-ratio [2161.54573656] val-obj [-7.67857886]  elapsed: 0.0\n",
      "   500: [avg train] MMD^2 1.0081247123941626 obj [-5.50087111] val-MMD^2 1.0493616209087433 val-ratio [6225.95604101] val-obj [-8.73648229]  elapsed: 0.0\n"
     ]
    }
   ],
   "source": [
    "result_stacks = []\n",
    "n_trial = 5\n",
    "n_epoch = 500\n",
    "batch_size = 200\n",
    "is_opt_sigma = False\n",
    "\n",
    "dataset_train = TwoSampleDataSet(x_train, y_train, device_obj)\n",
    "dataset_val = TwoSampleDataSet(x_val, y_val, device_obj)\n",
    "\n",
    "for i_trial in range(0, n_trial):\n",
    "    trainer_theano = ModelTrainerTheanoBackend()\n",
    "    trained_obj_theano = trainer_theano.train(x_train, y_train, num_epochs=n_epoch, batchsize=batch_size, opt_sigma=is_opt_sigma, x_val=x_val, y_val=y_val, init_sigma_median=False, init_log_sigma=0.0)\n",
    "\n",
    "    mmd_estimator = MMD(kernel_function_obj=kernels_torch.BasicRBFKernelFunction(device_obj=device_obj, opt_sigma=is_opt_sigma),\n",
    "                       device_obj=device_obj)\n",
    "    trainer_torch = ModelTrainerTorchBackend(mmd_estimator, device_obj)\n",
    "    trained_obj_torch = trainer_torch.train(dataset_training=dataset_train, \n",
    "                                            dataset_validation=dataset_val,\n",
    "                                            num_epochs=n_epoch, batchsize=batch_size)\n",
    "\n",
    "    result_stacks.append([\n",
    "                             (trained_obj_theano.scales, trained_obj_torch.scales),\n",
    "                             (trained_obj_theano.sigma, trained_obj_torch.sigma)\n",
    "    ])\n",
    "# end for"
   ]
  },
  {
   "cell_type": "markdown",
   "id": "8e71e257-09dc-4869-b941-8a2bdb22187d",
   "metadata": {},
   "source": [
    "We show the ARD weights in 5 times computations. 3 bars represent the ARD weights for each feature."
   ]
  },
  {
   "cell_type": "code",
   "execution_count": 14,
   "id": "eb2e9fc5-21bd-4209-a63d-ba1380524777",
   "metadata": {},
   "outputs": [
    {
     "data": {
      "text/plain": [
       "(0.0, 4.0)"
      ]
     },
     "execution_count": 14,
     "metadata": {},
     "output_type": "execute_result"
    },
    {
     "data": {
      "image/png": "[encoded data removed]",
      "text/plain": [
       "<Figure size 432x288 with 1 Axes>"
      ]
     },
     "metadata": {
      "needs_background": "light"
     },
     "output_type": "display_data"
    }
   ],
   "source": [
    "__df_theano_result = []\n",
    "for i_trial, trial_result in enumerate(result_stacks):\n",
    "    __df_theano_result.append(trial_result[0][0])\n",
    "# end for\n",
    "df_theano_result = pandas.DataFrame(__df_theano_result, index = list(range(0, n_trial)))\n",
    "ax = df_theano_result.plot(kind='bar')\n",
    "plt.title(f\"ARD weight against the same data {n_trial} times computation (original imp. with Theano)\")\n",
    "plt.ylabel(\"ARD weight\")\n",
    "plt.xlabel(\"trial\")\n",
    "ax.set_ylim(0, 4)"
   ]
  },
  {
   "cell_type": "code",
   "execution_count": 15,
   "id": "072010a8-b6d7-42a4-b8ef-f1a60978426b",
   "metadata": {},
   "outputs": [
    {
     "data": {
      "text/plain": [
       "(0.0, 4.0)"
      ]
     },
     "execution_count": 15,
     "metadata": {},
     "output_type": "execute_result"
    },
    {
     "data": {
      "image/png": "[encoded data removed]",
      "text/plain": [
       "<Figure size 432x288 with 1 Axes>"
      ]
     },
     "metadata": {
      "needs_background": "light"
     },
     "output_type": "display_data"
    }
   ],
   "source": [
    "__df_torch_result = []\n",
    "for i_trial, trial_result in enumerate(result_stacks):\n",
    "    __df_torch_result.append(trial_result[0][1])\n",
    "# end for\n",
    "df_torch_result = pandas.DataFrame(__df_torch_result, index = list(range(0, n_trial)))\n",
    "ax = df_torch_result.plot(kind='bar')\n",
    "plt.title(f\"ARD weight against the same data {n_trial} times computation (with Torch)\")\n",
    "plt.ylabel(\"ARD weight\")\n",
    "plt.xlabel(\"trial\")\n",
    "ax.set_ylim(0, 4)"
   ]
  },
  {
   "cell_type": "markdown",
   "id": "e606876d-d1db-4103-a83e-170e7fe2d853",
   "metadata": {},
   "source": [
    "### concolusion\n",
    "\n",
    "With the above observation, we confirm that the ARD weight will __converage__ if we fix the input data and the sigma."
   ]
  },
  {
   "cell_type": "code",
   "execution_count": 16,
   "id": "ca6a7e92-3ed8-4735-b2ea-2ed4edfa9cff",
   "metadata": {},
   "outputs": [
    {
     "name": "stdin",
     "output_type": "stream",
     "text": [
      "Once deleted, variables cannot be recovered. Proceed (y/[n])?  y\n"
     ]
    }
   ],
   "source": [
    "%reset"
   ]
  },
  {
   "cell_type": "markdown",
   "id": "8eb619a1-582d-4594-919a-e9827cce1c69",
   "metadata": {},
   "source": [
    "# Study: with/without sigma optimizations"
   ]
  },
  {
   "cell_type": "code",
   "execution_count": 17,
   "id": "4ba7d096-b06b-4ffd-8e66-9bd2935c037c",
   "metadata": {},
   "outputs": [],
   "source": [
    "%matplotlib inline\n",
    "\n",
    "import matplotlib\n",
    "import numpy as np\n",
    "import matplotlib.pyplot as plt\n",
    "import pandas\n",
    "import numpy\n",
    "\n",
    "from model_criticism_mmd import ModelTrainerTheanoBackend, ModelTrainerTorchBackend, MMD, kernels_torch\n",
    "import torch\n",
    "device_obj = torch.device('cpu')"
   ]
  },
  {
   "cell_type": "code",
   "execution_count": 18,
   "id": "566c10c7-d005-4944-8c0b-d05b4b8c5891",
   "metadata": {},
   "outputs": [
    {
     "name": "stdout",
     "output_type": "stream",
     "text": [
      "1 dim. mean(x)=1.0 mean(y)=-1.7937470073852102 var(x)=0.0 var(y)=2272.7887177425187\n",
      "2 dim. mean(x)=1.0 mean(y)=-4.243257303590111 var(x)=0.0 var(y)=2578.3072401074683\n",
      "3 dim. mean(x)=1.0 mean(y)=-5.004200688806427 var(x)=0.0 var(y)=2411.581815748062\n"
     ]
    }
   ],
   "source": [
    "size = 200\n",
    "x = numpy.random.normal(loc=1.0, scale=0.0, size=(200, 3))\n",
    "y = numpy.random.normal(loc=1.0, scale=50.0, size=(200, 3))\n",
    "\n",
    "#x_2_and_3_dim = numpy.random.normal(loc=10.0, scale=0.2, size=(size, 2))\n",
    "#y_2_and_3_dim = numpy.random.normal(loc=10.0, scale=0.2, size=(size, 2))\n",
    "\n",
    "#x = numpy.concatenate([numpy.reshape(x_1st_dim, (size, 1)), x_2_and_3_dim], axis=1)\n",
    "#y = numpy.concatenate([numpy.reshape(y_1st_dim, (size, 1)), y_2_and_3_dim], axis=1)\n",
    "\n",
    "x_train = x[:100]\n",
    "y_train = y[:100]\n",
    "x_val = x[100:150]\n",
    "y_val = y[100:150]\n",
    "x_test = x[150:]\n",
    "y_test = y[150:]\n",
    "\n",
    "for n_dim in [0, 1, 2]:\n",
    "    print(f'{n_dim+1} dim. mean(x)={x[:,n_dim].mean()} mean(y)={y[:,n_dim].mean()} var(x)={x[:,n_dim].var()} var(y)={y[:,n_dim].var()}')\n",
    "# end for\n",
    "assert len(x_train) == len(y_train) == 100\n",
    "assert len(x_val) == len(y_val) == 50\n",
    "assert len(x_test) == len(y_test) == 50"
   ]
  },
  {
   "cell_type": "code",
   "execution_count": 19,
   "id": "e05adb19-75c6-40c5-917d-683db87cf6a1",
   "metadata": {},
   "outputs": [
    {
     "name": "stderr",
     "output_type": "stream",
     "text": [
      "Using sigma = 1.0\n",
      "Compiling...\n",
      "done\n",
      "Input dim 3, representation dim 3\n",
      "Training on 100 samples (batch 200), validation on 50 (batch 1000)\n",
      "1 parameters to optimize: scales\n",
      "     0: avg train MMD^2  1.010000 obj -9.220291,  avg val MMD^2  1.020000  obj -9.230143  elapsed: 0s\n",
      "     5: avg train MMD^2  1.010000 obj -9.220291,  avg val MMD^2  1.020000  obj -9.230143  elapsed: 0s\n",
      "    25: avg train MMD^2  1.010000 obj -9.220291,  avg val MMD^2  1.020000  obj -9.230143  elapsed: 0s\n",
      "    50: avg train MMD^2  1.010000 obj -9.220291,  avg val MMD^2  1.020000  obj -9.230143  elapsed: 0s\n",
      "   100: avg train MMD^2  1.010000 obj -9.220291,  avg val MMD^2  1.020000  obj -9.230143  elapsed: 1s\n",
      "   200: avg train MMD^2  1.010000 obj -9.220291,  avg val MMD^2  1.020000  obj -9.230143  elapsed: 3s\n",
      "   300: avg train MMD^2  1.010000 obj -9.220291,  avg val MMD^2  1.020000  obj -9.230143  elapsed: 4s\n",
      "   400: avg train MMD^2  1.010000 obj -9.220291,  avg val MMD^2  1.020000  obj -9.230143  elapsed: 6s\n",
      "   500: avg train MMD^2  1.010000 obj -9.220291,  avg val MMD^2  1.020000  obj -9.230143  elapsed: 7s\n",
      "Trained result: the opt global-sigma: 1.0\n"
     ]
    },
    {
     "ename": "NameError",
     "evalue": "name 'TwoSampleDataSet' is not defined",
     "output_type": "error",
     "traceback": [
      "\u001b[0;31m---------------------------------------------------------------------------\u001b[0m",
      "\u001b[0;31mNameError\u001b[0m                                 Traceback (most recent call last)",
      "\u001b[0;32m<ipython-input-19-17ba5484bd31>\u001b[0m in \u001b[0;36m<module>\u001b[0;34m\u001b[0m\n\u001b[1;32m      7\u001b[0m \u001b[0;34m\u001b[0m\u001b[0m\n\u001b[1;32m      8\u001b[0m \u001b[0;34m\u001b[0m\u001b[0m\n\u001b[0;32m----> 9\u001b[0;31m \u001b[0mdataset_train\u001b[0m \u001b[0;34m=\u001b[0m \u001b[0mTwoSampleDataSet\u001b[0m\u001b[0;34m(\u001b[0m\u001b[0mx_train\u001b[0m\u001b[0;34m,\u001b[0m \u001b[0my_train\u001b[0m\u001b[0;34m,\u001b[0m \u001b[0mdevice_obj\u001b[0m\u001b[0;34m)\u001b[0m\u001b[0;34m\u001b[0m\u001b[0;34m\u001b[0m\u001b[0m\n\u001b[0m\u001b[1;32m     10\u001b[0m \u001b[0mdataset_val\u001b[0m \u001b[0;34m=\u001b[0m \u001b[0mTwoSampleDataSet\u001b[0m\u001b[0;34m(\u001b[0m\u001b[0mx_test\u001b[0m\u001b[0;34m,\u001b[0m \u001b[0my_test\u001b[0m\u001b[0;34m,\u001b[0m \u001b[0mdevice_obj\u001b[0m\u001b[0;34m)\u001b[0m\u001b[0;34m\u001b[0m\u001b[0;34m\u001b[0m\u001b[0m\n\u001b[1;32m     11\u001b[0m \u001b[0;34m\u001b[0m\u001b[0m\n",
      "\u001b[0;31mNameError\u001b[0m: name 'TwoSampleDataSet' is not defined"
     ]
    }
   ],
   "source": [
    "n_epoch = 500\n",
    "batch_size = 200\n",
    "is_opt_sigma = False\n",
    "# with sigma optimizations\n",
    "trainer_theano = ModelTrainerTheanoBackend()\n",
    "trained_obj_theano_without_sigma = trainer_theano.train(x_train, y_train, num_epochs=n_epoch, batchsize=batch_size, opt_sigma=is_opt_sigma, x_val=x_val, y_val=y_val, init_sigma_median=False, init_log_sigma=0.0)\n",
    "\n",
    "\n",
    "dataset_train = TwoSampleDataSet(x_train, y_train, device_obj)\n",
    "dataset_val = TwoSampleDataSet(x_test, y_test, device_obj)\n",
    "\n",
    "mmd_estimator = MMD(kernel_function_obj=kernels_torch.BasicRBFKernelFunction(device_obj=device_obj, opt_sigma=is_opt_sigma),\n",
    "                   device_obj=device_obj)\n",
    "trainer_torch = ModelTrainerTorchBackend(mmd_estimator, device_obj)\n",
    "trained_obj_torch = trainer_torch.train(dataset_training=dataset_train, \n",
    "                                        dataset_validation=dataset_val,\n",
    "                                        num_epochs=n_epoch, batchsize=batch_size, x_val=x_val, y_val=y_val)\n",
    "\n",
    "mmd2_theano, ratio_theano = trainer_theano.mmd_distance(x=x_test, y=y_test, sigma=trained_obj_theano_without_sigma.sigma)\n",
    "mmd2_torch, ratio_torch = trainer_torch.mmd_distance(x=x_test, y=y_test)\n",
    "print(f'MMD without the sigma optimization. Theano: {mmd2_theano} Torch: {mmd2_torch}')"
   ]
  },
  {
   "cell_type": "code",
   "execution_count": null,
   "id": "fe8f317d-8df6-472f-b3a1-08ccc9323d15",
   "metadata": {},
   "outputs": [],
   "source": [
    "n_epoch = 500\n",
    "batch_size = 200\n",
    "is_opt_sigma = True\n",
    "# with sigma optimizations\n",
    "trainer_theano = ModelTrainerTheanoBackend()\n",
    "trained_obj_theano_with_sigma = trainer_theano.train(x_train, y_train, num_epochs=n_epoch, batchsize=batch_size, opt_sigma=is_opt_sigma, x_val=x_val, y_val=y_val, init_sigma_median=True)\n",
    "\n",
    "dataset_train = TwoSampleDataSet(x_train, y_train, device_obj)\n",
    "dataset_val = TwoSampleDataSet(x_test, y_test, device_obj)\n",
    "\n",
    "mmd_estimator = MMD(kernel_function_obj=kernels_torch.BasicRBFKernelFunction(device_obj=device_obj, opt_sigma=is_opt_sigma),\n",
    "                   device_obj=device_obj)\n",
    "trainer_torch = ModelTrainerTorchBackend(mmd_estimator, device_obj)\n",
    "trained_obj_torch = trainer_torch.train(dataset_training=dataset_train, \n",
    "                                        dataset_validation=dataset_val,\n",
    "                                        num_epochs=n_epoch, batchsize=batch_size)\n",
    "\n",
    "mmd2_theano_with_sigma, ratio_theano = trainer_theano.mmd_distance(x=x_val, y=y_val, sigma=trained_obj_theano_with_sigma.sigma)\n",
    "mmd2_torch_with_sigma, ratio_torch = trainer_torch.mmd_distance(x=x_val, y=y_val)\n",
    "print(f'MMD with the sigma optimization. Theano: {mmd2_theano_with_sigma} Torch: {mmd2_torch_with_sigma}')"
   ]
  },
  {
   "cell_type": "markdown",
   "id": "ddd269ee-3120-41f3-bb8a-58b23551a641",
   "metadata": {},
   "source": [
    "### Conclusion\n",
    "\n",
    "Sigma optimization does not seem to give effects to compute MMD^2 distance."
   ]
  },
  {
   "cell_type": "code",
   "execution_count": null,
   "id": "cc941f1f-f376-45d6-a068-bc7383cb9291",
   "metadata": {},
   "outputs": [],
   "source": []
  }
 ],
 "metadata": {
  "kernelspec": {
   "display_name": "Python 3",
   "language": "python",
   "name": "python3"
  },
  "language_info": {
   "codemirror_mode": {
    "name": "ipython",
    "version": 3
   },
   "file_extension": ".py",
   "mimetype": "text/x-python",
   "name": "python",
   "nbconvert_exporter": "python",
   "pygments_lexer": "ipython3",
   "version": "3.6.13"
  }
 },
 "nbformat": 4,
 "nbformat_minor": 5
}
