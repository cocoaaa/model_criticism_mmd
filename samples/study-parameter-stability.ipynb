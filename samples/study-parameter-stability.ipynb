{
 "cells": [
  {
   "cell_type": "markdown",
   "id": "069bfe9e",
   "metadata": {},
   "source": [
    "# Study note about behaviors of learning ARD weights"
   ]
  },
  {
   "cell_type": "code",
   "execution_count": 9,
   "id": "58d24d04-b206-4cfe-ab73-ce013878e0b7",
   "metadata": {},
   "outputs": [],
   "source": [
    "import numpy\n",
    "import sys\n",
    "sys.path.append(\"../\")\n",
    "sys.path.append(\".\")\n",
    "from model_criticism_mmd import ModelTrainerTorchBackend, MMD, ModelTrainerTheanoBackend\n",
    "from model_criticism_mmd.backends import kernels_torch"
   ]
  },
  {
   "cell_type": "code",
   "execution_count": 10,
   "id": "1e90f7a8-b2fc-4664-b111-8fab92149d94",
   "metadata": {},
   "outputs": [],
   "source": [
    "import torch\n",
    "device_obj = torch.device('cpu')"
   ]
  },
  {
   "cell_type": "markdown",
   "id": "1e98ee51-5a56-4016-8df4-a3edad94e559",
   "metadata": {},
   "source": [
    "# Study: Correctness of ARD weightts\n",
    "\n",
    "## objective\n",
    "\n",
    "1. We confirm the computed ARD weights are as we expected.\n",
    "2. We observe how the sigma value works on learninig the ARD weights.\n",
    "\n",
    "## Settings"
   ]
  },
  {
   "cell_type": "markdown",
   "id": "db303c4e-4d81-48a6-acab-9f07688bc31f",
   "metadata": {},
   "source": [
    "We generate the input data with the following way.\n",
    "\n",
    "The input data has 3 dimensions. Only the 1st dimenstion has huge variance. The 2nd and 3rd features have the same mean and variance.\n",
    "\n",
    "We cut the input data into 80 samples as `training` and 20 samples as `validation`."
   ]
  },
  {
   "cell_type": "code",
   "execution_count": 13,
   "id": "2ae04b66-2bf3-4cd3-8c7f-97979efa6fa3",
   "metadata": {},
   "outputs": [
    {
     "name": "stderr",
     "output_type": "stream",
     "text": [
      "Starting with sigma = median; optimizing it\n"
     ]
    },
    {
     "name": "stdout",
     "output_type": "stream",
     "text": [
      "1 dim. mean(x)=1.0 mean(y)=-0.24691752354141447 var(x)=0.0 var(y)=2221.8616800853933\n",
      "2 dim. mean(x)=9.976288518938036 mean(y)=9.986967058875578 var(x)=0.053024880047805235 var(y)=0.03486053879001614\n",
      "3 dim. mean(x)=9.954404343887898 mean(y)=10.018657445174059 var(x)=0.05211927983926969 var(y)=0.04965255054954731\n"
     ]
    },
    {
     "name": "stderr",
     "output_type": "stream",
     "text": [
      "Compiling...\n",
      "done\n",
      "Getting median initial sigma value...\n",
      "20\n",
      "Input dim 3, representation dim 3\n",
      "Training on 80 samples (batch 200), validation on 20 (batch 1000)\n",
      "2 parameters to optimize: scales, log_sigma\n",
      "     0: avg train MMD^2  0.533503 obj -2.067013,  avg val MMD^2  0.554687  obj -1.467783  elapsed: 0s  sigma: 20\n",
      "     5: avg train MMD^2  0.572771 obj -2.109349,  avg val MMD^2  0.607115  obj -1.511636  elapsed: 0s  sigma: 18.6\n",
      "    25: avg train MMD^2  0.840772 obj -2.681594,  avg val MMD^2  0.824687  obj -1.930154  elapsed: 0s  sigma: 8.91\n",
      "    50: avg train MMD^2  0.968537 obj -3.580443,  avg val MMD^2  0.973255  obj -2.841171  elapsed: 0s  sigma: 2.4\n",
      "   100: avg train MMD^2  0.951768 obj -3.711163,  avg val MMD^2  1.002283  obj -4.440144  elapsed: 0s  sigma: 1.3\n",
      "   200: avg train MMD^2  1.009562 obj -6.445388,  avg val MMD^2  1.048937  obj -8.441660  elapsed: 0s  sigma: 0.18\n",
      "   300: avg train MMD^2  0.025000 obj -5.521461,  avg val MMD^2  0.100000  obj -6.907755  elapsed: 0s  sigma: 0.00377\n",
      "   400: avg train MMD^2  0.025000 obj -5.521461,  avg val MMD^2  0.100000  obj -6.907755  elapsed: 0s  sigma: 0.00377\n",
      "   500: avg train MMD^2  0.025000 obj -5.521461,  avg val MMD^2  0.100000  obj -6.907755  elapsed: 0s  sigma: 0.00377\n",
      "Trained result: the opt global-sigma: 0.003765721343449051\n",
      "input data N(sample-size)=100, N(dimension)=3\n",
      "Validation at 0. MMD^2 = 0.5986171634249917, obj-value = [-4.57643501]\n",
      "     5: avg train MMD^2 0.9674566288611524 obj [-58.23286454],  avg val MMD^2 0.9898279245756719  obj [-404.18477613]  elapsed: 0.0\n",
      "    25: avg train MMD^2 0.07645964492193932 obj [-10.96126468],  avg val MMD^2 0.12181142881968678  obj [-3.871017]  elapsed: 0.0\n",
      "    50: avg train MMD^2 0.7379731339413376 obj [-20.3841127],  avg val MMD^2 0.7069366655147983  obj [-7.49559115]  elapsed: 0.0\n",
      "   100: avg train MMD^2 0.7588914735845453 obj [-22.24753804],  avg val MMD^2 0.7274454021551927  obj [-8.09638843]  elapsed: 0.0\n",
      "   200: avg train MMD^2 0.7918210373516934 obj [-25.15981942],  avg val MMD^2 0.7616226890119435  obj [-9.23918556]  elapsed: 0.0\n",
      "   300: avg train MMD^2 0.8140272568801816 obj [-27.54081556],  avg val MMD^2 0.7877350019176923  obj [-10.32847158]  elapsed: 0.0\n",
      "   400: avg train MMD^2 0.8314746267678857 obj [-29.56996483],  avg val MMD^2 0.8089132846726832  obj [-11.36267948]  elapsed: 0.0\n",
      "   500: avg train MMD^2 0.8453242049330635 obj [-31.34610956],  avg val MMD^2 0.8261222164900848  obj [-12.3931951]  elapsed: 0.0\n",
      "Using sigma = 1.0\n",
      "Compiling...\n",
      "done\n",
      "Input dim 3, representation dim 3\n",
      "Training on 80 samples (batch 200), validation on 20 (batch 1000)\n",
      "1 parameters to optimize: scales\n",
      "     0: avg train MMD^2  0.892190 obj -3.533314,  avg val MMD^2  0.907506  obj -2.805053  elapsed: 0s\n",
      "     5: avg train MMD^2  0.895095 obj -3.544870,  avg val MMD^2  0.913433  obj -2.853712  elapsed: 0s\n",
      "    25: avg train MMD^2  0.924869 obj -3.634517,  avg val MMD^2  0.954593  obj -3.251862  elapsed: 0s\n",
      "    50: avg train MMD^2  0.953126 obj -3.687686,  avg val MMD^2  0.989283  obj -3.674533  elapsed: 0s\n",
      "   100: avg train MMD^2  0.974875 obj -3.719290,  avg val MMD^2  1.017447  obj -4.220412  elapsed: 0s\n",
      "   200: avg train MMD^2  0.985861 obj -3.746949,  avg val MMD^2  1.036664  obj -5.234550  elapsed: 0s\n",
      "   300: avg train MMD^2  0.989029 obj -3.778759,  avg val MMD^2  1.043860  obj -6.417923  elapsed: 0s\n",
      "   400: avg train MMD^2  0.990646 obj -3.825457,  avg val MMD^2  1.046380  obj -7.050073  elapsed: 0s\n",
      "   500: avg train MMD^2  0.992128 obj -3.895354,  avg val MMD^2  1.047326  obj -7.309272  elapsed: 0s\n",
      "Trained result: the opt global-sigma: 1.0\n",
      "input data N(sample-size)=100, N(dimension)=3\n",
      "Validation at 0. MMD^2 = 0.8810782615350787, obj-value = [-13.32364653]\n",
      "     5: avg train MMD^2 0.9678960308491883 obj [-52.17115247],  avg val MMD^2 0.9873483769366851  obj [-349.96698952]  elapsed: 0.0\n",
      "    25: avg train MMD^2 0.9968178695399778 obj [-3184.28333386],  avg val MMD^2 0.0  obj [0.]  elapsed: 0.0\n",
      "    50: avg train MMD^2 7.042626863278771e-18 obj [-7.04262686e-14],  avg val MMD^2 0.0  obj [0.]  elapsed: 0.0\n",
      "   100: avg train MMD^2 8.971499188890154e-20 obj [-8.97149919e-16],  avg val MMD^2 0.0  obj [0.]  elapsed: 0.0\n",
      "   200: avg train MMD^2 8.971499188890154e-20 obj [-8.97149919e-16],  avg val MMD^2 0.0  obj [0.]  elapsed: 0.0\n",
      "   300: avg train MMD^2 8.971499188890154e-20 obj [-8.97149919e-16],  avg val MMD^2 0.0  obj [0.]  elapsed: 0.0\n",
      "   400: avg train MMD^2 8.971499188890154e-20 obj [-8.97149919e-16],  avg val MMD^2 0.0  obj [0.]  elapsed: 0.0\n",
      "   500: avg train MMD^2 8.971499188890154e-20 obj [-8.97149919e-16],  avg val MMD^2 0.0  obj [0.]  elapsed: 0.0\n",
      "Starting with sigma = median; optimizing it\n"
     ]
    },
    {
     "name": "stdout",
     "output_type": "stream",
     "text": [
      "1 dim. mean(x)=1.0 mean(y)=-1.4897334158146975 var(x)=0.0 var(y)=2512.6160148898744\n",
      "2 dim. mean(x)=9.957249894956414 mean(y)=10.00657962225773 var(x)=0.03483701065945324 var(y)=0.042540783857637134\n",
      "3 dim. mean(x)=10.019732587994879 mean(y)=10.022977534302427 var(x)=0.043891168059577226 var(y)=0.044985531937830156\n"
     ]
    },
    {
     "name": "stderr",
     "output_type": "stream",
     "text": [
      "Compiling...\n",
      "done\n",
      "Getting median initial sigma value...\n",
      "18.5\n",
      "Input dim 3, representation dim 3\n",
      "Training on 80 samples (batch 200), validation on 20 (batch 1000)\n",
      "2 parameters to optimize: scales, log_sigma\n",
      "     0: avg train MMD^2  0.518410 obj -2.139044,  avg val MMD^2  0.457794  obj -1.437176  elapsed: 0s  sigma: 18.5\n",
      "     5: avg train MMD^2  0.580523 obj -2.249668,  avg val MMD^2  0.548464  obj -1.596994  elapsed: 0s  sigma: 16.5\n",
      "    25: avg train MMD^2  0.887340 obj -2.747882,  avg val MMD^2  0.973318  obj -2.284882  elapsed: 0s  sigma: 7.81\n",
      "    50: avg train MMD^2  0.929388 obj -3.106468,  avg val MMD^2  0.993065  obj -2.621255  elapsed: 0s  sigma: 3.44\n",
      "   100: avg train MMD^2  0.943217 obj -3.649173,  avg val MMD^2  1.015187  obj -4.760940  elapsed: 0s  sigma: 1.1\n",
      "   200: avg train MMD^2  0.972742 obj -3.682711,  avg val MMD^2  1.040510  obj -5.384379  elapsed: 0s  sigma: 1.03\n",
      "   300: avg train MMD^2  0.982451 obj -3.692299,  avg val MMD^2  1.048080  obj -5.674502  elapsed: 0s  sigma: 0.908\n",
      "   400: avg train MMD^2  0.986679 obj -3.698057,  avg val MMD^2  1.050773  obj -5.906721  elapsed: 0s  sigma: 0.778\n",
      "   500: avg train MMD^2  0.988370 obj -3.707801,  avg val MMD^2  1.050908  obj -6.336570  elapsed: 0s  sigma: 0.598\n",
      "Trained result: the opt global-sigma: 0.5980224281288674\n",
      "input data N(sample-size)=100, N(dimension)=3\n",
      "Validation at 0. MMD^2 = 0.6832795128539331, obj-value = [-6.63308148]\n",
      "     5: avg train MMD^2 0.9763026689626563 obj [-50.12233577],  avg val MMD^2 1.0018105729795335  obj [-625.61345062]  elapsed: 0.0\n",
      "    25: avg train MMD^2 0.5787832376766718 obj [-14.4501523],  avg val MMD^2 0.6908851119217763  obj [-7.71109147]  elapsed: 0.0\n",
      "    50: avg train MMD^2 0.6598637599481965 obj [-14.69197619],  avg val MMD^2 0.6892079943653787  obj [-7.4953759]  elapsed: 0.0\n",
      "   100: avg train MMD^2 0.6770809241110354 obj [-15.23408181],  avg val MMD^2 0.7194250291340489  obj [-7.88891542]  elapsed: 0.0\n",
      "   200: avg train MMD^2 0.7057614237703942 obj [-16.00613519],  avg val MMD^2 0.7571745949876993  obj [-8.34821744]  elapsed: 0.0\n",
      "   300: avg train MMD^2 0.7187774412983157 obj [-16.57539319],  avg val MMD^2 0.7756583093433862  obj [-8.63481416]  elapsed: 0.0\n",
      "   400: avg train MMD^2 0.7245376542203321 obj [-17.06462224],  avg val MMD^2 0.7842258987325653  obj [-8.83026007]  elapsed: 0.0\n",
      "   500: avg train MMD^2 0.7277198204321507 obj [-17.51570238],  avg val MMD^2 0.7882271854749091  obj [-8.97823108]  elapsed: 0.0\n",
      "Using sigma = 1.0\n",
      "Compiling...\n",
      "done\n",
      "Input dim 3, representation dim 3\n",
      "Training on 80 samples (batch 200), validation on 20 (batch 1000)\n",
      "1 parameters to optimize: scales\n",
      "     0: avg train MMD^2  0.888641 obj -3.357206,  avg val MMD^2  0.951593  obj -3.053484  elapsed: 0s\n",
      "     5: avg train MMD^2  0.891982 obj -3.388152,  avg val MMD^2  0.957106  obj -3.182340  elapsed: 0s\n",
      "    25: avg train MMD^2  0.918999 obj -3.558147,  avg val MMD^2  0.990505  obj -4.075848  elapsed: 0s\n",
      "    50: avg train MMD^2  0.942203 obj -3.624316,  avg val MMD^2  1.014436  obj -4.639457  elapsed: 0s\n",
      "   100: avg train MMD^2  0.966015 obj -3.665012,  avg val MMD^2  1.036113  obj -5.154000  elapsed: 0s\n",
      "   200: avg train MMD^2  0.981046 obj -3.683830,  avg val MMD^2  1.048827  obj -5.490024  elapsed: 0s\n",
      "   300: avg train MMD^2  0.985931 obj -3.689131,  avg val MMD^2  1.052637  obj -5.588772  elapsed: 0s\n",
      "   400: avg train MMD^2  0.988110 obj -3.691559,  avg val MMD^2  1.054178  obj -5.636049  elapsed: 0s\n",
      "   500: avg train MMD^2  0.989227 obj -3.692965,  avg val MMD^2  1.054865  obj -5.667288  elapsed: 0s\n",
      "Trained result: the opt global-sigma: 1.0\n",
      "input data N(sample-size)=100, N(dimension)=3\n",
      "Validation at 0. MMD^2 = 0.9012310424641812, obj-value = [-9.59084535]\n",
      "     5: avg train MMD^2 0.9468223769575086 obj [-47.80442171],  avg val MMD^2 0.9810800334957493  obj [-164.11012374]  elapsed: 0.0\n",
      "    25: avg train MMD^2 0.9779212135085164 obj [-50.97396496],  avg val MMD^2 0.9979462247090303  obj [-796.09251879]  elapsed: 0.0\n",
      "    50: avg train MMD^2 0.9818591952413266 obj [-51.94689703],  avg val MMD^2 1.0004201810365436  obj [-2042.98597424]  elapsed: 0.0\n",
      "   100: avg train MMD^2 0.982477741721865 obj [-54.4303661],  avg val MMD^2 1.0000621649345833  obj [-10000.62164935]  elapsed: 0.0\n",
      "   200: avg train MMD^2 0.9872810536927206 obj [-75.98598273],  avg val MMD^2 1.0000000000087494  obj [-10000.00000009]  elapsed: 0.0\n",
      "   300: avg train MMD^2 0.0020320041921226984 obj [-3.53455023],  avg val MMD^2 0.0017822875210102792  obj [-1.11437429]  elapsed: 0.0\n",
      "   400: avg train MMD^2 0.0018483960441309695 obj [-3.46181122],  avg val MMD^2 0.001412812216147788  obj [-1.11437429]  elapsed: 0.0\n",
      "   500: avg train MMD^2 0.0018127395649590685 obj [-3.46650392],  avg val MMD^2 0.001280978067087543  obj [-1.11437429]  elapsed: 0.0\n",
      "Starting with sigma = median; optimizing it\n"
     ]
    },
    {
     "name": "stdout",
     "output_type": "stream",
     "text": [
      "1 dim. mean(x)=1.0 mean(y)=4.053417627866132 var(x)=0.0 var(y)=3038.0366123964304\n",
      "2 dim. mean(x)=10.002684324814638 mean(y)=9.994789211613279 var(x)=0.03766186689307165 var(y)=0.04448385978815304\n",
      "3 dim. mean(x)=10.034713842325218 mean(y)=9.980586130871755 var(x)=0.028926944494639666 var(y)=0.04645665187347826\n"
     ]
    },
    {
     "name": "stderr",
     "output_type": "stream",
     "text": [
      "Compiling...\n",
      "done\n",
      "Getting median initial sigma value...\n",
      "26.2\n",
      "Input dim 3, representation dim 3\n",
      "Training on 80 samples (batch 200), validation on 20 (batch 1000)\n",
      "2 parameters to optimize: scales, log_sigma\n",
      "     0: avg train MMD^2  0.530171 obj -2.110833,  avg val MMD^2  0.748759  obj -2.034917  elapsed: 0s  sigma: 26.2\n",
      "     5: avg train MMD^2  0.573502 obj -2.146124,  avg val MMD^2  0.834693  obj -2.082668  elapsed: 0s  sigma: 24.5\n",
      "    25: avg train MMD^2  0.821764 obj -2.527718,  avg val MMD^2  1.065168  obj -2.299718  elapsed: 0s  sigma: 13.4\n",
      "    50: avg train MMD^2  0.948843 obj -3.115994,  avg val MMD^2  1.036100  obj -2.797502  elapsed: 0s  sigma: 4.71\n",
      "   100: avg train MMD^2  0.944481 obj -3.210767,  avg val MMD^2  1.058907  obj -4.529129  elapsed: 0s  sigma: 2.36\n",
      "   200: avg train MMD^2  0.938275 obj -4.086464,  avg val MMD^2  1.025612  obj -4.639207  elapsed: 0s  sigma: 0.773\n",
      "   300: avg train MMD^2  0.663102 obj -2.991827,  avg val MMD^2  0.787840  obj -2.807248  elapsed: 0s  sigma: 0.524\n",
      "   400: avg train MMD^2  0.638329 obj -2.969082,  avg val MMD^2  0.714979  obj -2.472292  elapsed: 0s  sigma: 0.358\n",
      "   500: avg train MMD^2  0.903038 obj -3.770442,  avg val MMD^2  0.987433  obj -3.812685  elapsed: 0s  sigma: 1.44\n",
      "Trained result: the opt global-sigma: 1.4426753872783697\n",
      "input data N(sample-size)=100, N(dimension)=3\n",
      "Validation at 0. MMD^2 = 0.6146233497181792, obj-value = [-7.07393991]\n",
      "     5: avg train MMD^2 0.0440810651274408 obj [-8.94665041],  avg val MMD^2 0.0002905693934411588  obj [-1.11437438]  elapsed: 0.0\n",
      "    25: avg train MMD^2 0.0 obj [0.],  avg val MMD^2 0.0  obj [0.]  elapsed: 0.0\n",
      "    50: avg train MMD^2 0.0 obj [0.],  avg val MMD^2 0.0  obj [0.]  elapsed: 0.0\n",
      "   100: avg train MMD^2 0.0 obj [0.],  avg val MMD^2 0.0  obj [0.]  elapsed: 0.0\n",
      "   200: avg train MMD^2 0.0 obj [0.],  avg val MMD^2 0.0  obj [0.]  elapsed: 0.0\n",
      "   300: avg train MMD^2 0.0 obj [0.],  avg val MMD^2 0.0  obj [0.]  elapsed: 0.0\n",
      "   400: avg train MMD^2 0.0 obj [0.],  avg val MMD^2 0.0  obj [0.]  elapsed: 0.0\n",
      "   500: avg train MMD^2 0.0 obj [0.],  avg val MMD^2 0.0  obj [0.]  elapsed: 0.0\n",
      "Using sigma = 1.0\n",
      "Compiling...\n",
      "done\n",
      "Input dim 3, representation dim 3\n",
      "Training on 80 samples (batch 200), validation on 20 (batch 1000)\n",
      "1 parameters to optimize: scales\n",
      "     0: avg train MMD^2  0.894507 obj -3.179955,  avg val MMD^2  1.014455  obj -4.102484  elapsed: 0s\n",
      "     5: avg train MMD^2  0.895048 obj -3.183131,  avg val MMD^2  1.015562  obj -4.151288  elapsed: 0s\n",
      "    25: avg train MMD^2  0.902048 obj -3.228747,  avg val MMD^2  1.022947  obj -4.477403  elapsed: 0s\n",
      "    50: avg train MMD^2  0.914205 obj -3.327246,  avg val MMD^2  1.028881  obj -4.703181  elapsed: 0s\n",
      "   100: avg train MMD^2  0.941025 obj -3.600214,  avg val MMD^2  1.038265  obj -4.939753  elapsed: 0s\n",
      "   200: avg train MMD^2  0.975583 obj -4.029941,  avg val MMD^2  1.049564  obj -5.235325  elapsed: 0s\n",
      "   300: avg train MMD^2  0.991779 obj -4.399572,  avg val MMD^2  1.054037  obj -5.411818  elapsed: 0s\n",
      "   400: avg train MMD^2  1.002271 obj -4.951262,  avg val MMD^2  1.055714  obj -5.524729  elapsed: 0s\n",
      "   500: avg train MMD^2  1.009150 obj -5.920985,  avg val MMD^2  1.055661  obj -5.583254  elapsed: 0s\n",
      "Trained result: the opt global-sigma: 1.0\n",
      "input data N(sample-size)=100, N(dimension)=3\n",
      "Validation at 0. MMD^2 = 0.9475970889271648, obj-value = [-11.64748398]\n",
      "     5: avg train MMD^2 0.9247491050164549 obj [-36.92908053],  avg val MMD^2 0.9861818107916912  obj [-124.90906332]  elapsed: 0.0\n",
      "    25: avg train MMD^2 0.0011088197380564972 obj [-3.88503517],  avg val MMD^2 0.0007880722261712594  obj [-1.1175247]  elapsed: 0.0\n",
      "    50: avg train MMD^2 0.0003720712384127128 obj [-2.22697794],  avg val MMD^2 7.43722877724898e-05  obj [-0.74372288]  elapsed: 0.0\n",
      "   100: avg train MMD^2 0.0003534742640917136 obj [-2.16837865],  avg val MMD^2 5.977455008390081e-05  obj [-0.5977455]  elapsed: 0.0\n",
      "   200: avg train MMD^2 0.00036689423626452746 obj [-2.21745937],  avg val MMD^2 5.9927888534662775e-05  obj [-0.59927889]  elapsed: 0.0\n",
      "   300: avg train MMD^2 0.00038176099588882234 obj [-2.26934035],  avg val MMD^2 6.014977896271478e-05  obj [-0.60149779]  elapsed: 0.0\n",
      "   400: avg train MMD^2 0.0003980493561543624 obj [-2.32337119],  avg val MMD^2 6.036980646788359e-05  obj [-0.60369806]  elapsed: 0.0\n",
      "   500: avg train MMD^2 0.00041585355278413264 obj [-2.37924144],  avg val MMD^2 6.0586914481767986e-05  obj [-0.60586914]  elapsed: 0.0\n",
      "Starting with sigma = median; optimizing it\n"
     ]
    },
    {
     "name": "stdout",
     "output_type": "stream",
     "text": [
      "1 dim. mean(x)=1.0 mean(y)=-2.585342907444032 var(x)=0.0 var(y)=3676.4312399801333\n",
      "2 dim. mean(x)=10.000367243976408 mean(y)=9.992368150274995 var(x)=0.03389158196912129 var(y)=0.04708181416702484\n",
      "3 dim. mean(x)=10.039289127535456 mean(y)=10.001012445305845 var(x)=0.035214451805337436 var(y)=0.04073979796852863\n"
     ]
    },
    {
     "name": "stderr",
     "output_type": "stream",
     "text": [
      "Compiling...\n",
      "done\n",
      "Getting median initial sigma value...\n",
      "28.4\n",
      "Input dim 3, representation dim 3\n",
      "Training on 80 samples (batch 200), validation on 20 (batch 1000)\n",
      "2 parameters to optimize: scales, log_sigma\n",
      "     0: avg train MMD^2  0.541283 obj -2.204188,  avg val MMD^2  0.564744  obj -1.597090  elapsed: 0s  sigma: 28.4\n",
      "     5: avg train MMD^2  0.600841 obj -2.260699,  avg val MMD^2  0.649081  obj -1.641353  elapsed: 0s  sigma: 26.2\n",
      "    25: avg train MMD^2  0.865483 obj -2.583277,  avg val MMD^2  0.887103  obj -2.062777  elapsed: 0s  sigma: 14.7\n",
      "    50: avg train MMD^2  0.973978 obj -3.471818,  avg val MMD^2  1.051395  obj -4.603929  elapsed: 0s  sigma: 4.39\n",
      "   100: avg train MMD^2  1.014162 obj -7.197709,  avg val MMD^2  1.049262  obj -8.722885  elapsed: 0s  sigma: 0.665\n",
      "   200: avg train MMD^2  1.012841 obj -8.291357,  avg val MMD^2  1.050000  obj -9.259131  elapsed: 0s  sigma: 0.0498\n",
      "   300: avg train MMD^2  0.025000 obj -5.521461,  avg val MMD^2  0.100000  obj -6.907755  elapsed: 0s  sigma: 0.00928\n",
      "   400: avg train MMD^2  0.025000 obj -5.521461,  avg val MMD^2  0.100000  obj -6.907755  elapsed: 1s  sigma: 0.00928\n",
      "   500: avg train MMD^2  0.025000 obj -5.521461,  avg val MMD^2  0.100000  obj -6.907755  elapsed: 1s  sigma: 0.00928\n",
      "Trained result: the opt global-sigma: 0.009277270592504766\n",
      "input data N(sample-size)=100, N(dimension)=3\n",
      "Validation at 0. MMD^2 = 0.8738369925182761, obj-value = [-8.95853371]\n"
     ]
    },
    {
     "ename": "AssertionError",
     "evalue": "",
     "output_type": "error",
     "traceback": [
      "\u001b[0;31m---------------------------------------------------------------------------\u001b[0m",
      "\u001b[0;31mAssertionError\u001b[0m                            Traceback (most recent call last)",
      "\u001b[0;32m<ipython-input-13-b29816c96b8b>\u001b[0m in \u001b[0;36m<module>\u001b[0;34m\u001b[0m\n\u001b[1;32m     33\u001b[0m     trainer_torch = ModelTrainerTorchBackend(mmd_estimator=mmd_estimator_sigma_opt,\n\u001b[1;32m     34\u001b[0m                                             device_obj=device_obj)\n\u001b[0;32m---> 35\u001b[0;31m     \u001b[0mtrained_obj_torch\u001b[0m \u001b[0;34m=\u001b[0m \u001b[0mtrainer_torch\u001b[0m\u001b[0;34m.\u001b[0m\u001b[0mtrain\u001b[0m\u001b[0;34m(\u001b[0m\u001b[0mx\u001b[0m\u001b[0;34m,\u001b[0m \u001b[0my\u001b[0m\u001b[0;34m,\u001b[0m \u001b[0mnum_epochs\u001b[0m\u001b[0;34m=\u001b[0m\u001b[0mn_epoch\u001b[0m\u001b[0;34m,\u001b[0m \u001b[0mbatchsize\u001b[0m\u001b[0;34m=\u001b[0m\u001b[0mbatch_size\u001b[0m\u001b[0;34m,\u001b[0m \u001b[0mx_val\u001b[0m\u001b[0;34m=\u001b[0m\u001b[0mx_val\u001b[0m\u001b[0;34m,\u001b[0m \u001b[0my_val\u001b[0m\u001b[0;34m=\u001b[0m\u001b[0my_val\u001b[0m\u001b[0;34m)\u001b[0m\u001b[0;34m\u001b[0m\u001b[0;34m\u001b[0m\u001b[0m\n\u001b[0m\u001b[1;32m     36\u001b[0m     \u001b[0msigma\u001b[0m \u001b[0;34m=\u001b[0m \u001b[0mnumpy\u001b[0m\u001b[0;34m.\u001b[0m\u001b[0mexp\u001b[0m\u001b[0;34m(\u001b[0m\u001b[0mtrained_obj_torch\u001b[0m\u001b[0;34m.\u001b[0m\u001b[0mkernel_function_obj\u001b[0m\u001b[0;34m.\u001b[0m\u001b[0mget_params\u001b[0m\u001b[0;34m(\u001b[0m\u001b[0;34m)\u001b[0m\u001b[0;34m[\u001b[0m\u001b[0;34m'log_sigma'\u001b[0m\u001b[0;34m]\u001b[0m\u001b[0;34m.\u001b[0m\u001b[0mcpu\u001b[0m\u001b[0;34m(\u001b[0m\u001b[0;34m)\u001b[0m\u001b[0;34m.\u001b[0m\u001b[0mdetach\u001b[0m\u001b[0;34m(\u001b[0m\u001b[0;34m)\u001b[0m\u001b[0;34m.\u001b[0m\u001b[0mnumpy\u001b[0m\u001b[0;34m(\u001b[0m\u001b[0;34m)\u001b[0m\u001b[0;34m)\u001b[0m\u001b[0;34m\u001b[0m\u001b[0;34m\u001b[0m\u001b[0m\n\u001b[1;32m     37\u001b[0m \u001b[0;34m\u001b[0m\u001b[0m\n",
      "\u001b[0;32m~/Projects/eurocom/phd_projects/model_criticism_mmd/model_criticism_mmd/backends/backend_torch.py\u001b[0m in \u001b[0;36mtrain\u001b[0;34m(self, x_train, y_train, num_epochs, batchsize, ratio_train, reg, initial_scale, lr, opt_log, x_val, y_val, num_workers)\u001b[0m\n\u001b[1;32m    463\u001b[0m                                                      \u001b[0mbatchsize\u001b[0m\u001b[0;34m=\u001b[0m\u001b[0mbatchsize\u001b[0m\u001b[0;34m,\u001b[0m\u001b[0;34m\u001b[0m\u001b[0;34m\u001b[0m\u001b[0m\n\u001b[1;32m    464\u001b[0m                                                      \u001b[0mreg\u001b[0m\u001b[0;34m=\u001b[0m\u001b[0mreg\u001b[0m\u001b[0;34m,\u001b[0m\u001b[0;34m\u001b[0m\u001b[0;34m\u001b[0m\u001b[0m\n\u001b[0;32m--> 465\u001b[0;31m                                                      num_workers=num_workers)\n\u001b[0m\u001b[1;32m    466\u001b[0m             \u001b[0mval_mmd2_pq\u001b[0m\u001b[0;34m,\u001b[0m \u001b[0mval_stat\u001b[0m\u001b[0;34m,\u001b[0m \u001b[0mval_obj\u001b[0m \u001b[0;34m=\u001b[0m \u001b[0mself\u001b[0m\u001b[0;34m.\u001b[0m\u001b[0mforward\u001b[0m\u001b[0;34m(\u001b[0m\u001b[0mx_val__\u001b[0m\u001b[0;34m,\u001b[0m \u001b[0my_val__\u001b[0m\u001b[0;34m,\u001b[0m \u001b[0mreg\u001b[0m\u001b[0;34m=\u001b[0m\u001b[0mreg\u001b[0m\u001b[0;34m)\u001b[0m\u001b[0;34m\u001b[0m\u001b[0;34m\u001b[0m\u001b[0m\n\u001b[1;32m    467\u001b[0m             training_log.append(TrainingLog(epoch,\n",
      "\u001b[0;32m~/Projects/eurocom/phd_projects/model_criticism_mmd/model_criticism_mmd/backends/backend_torch.py\u001b[0m in \u001b[0;36mrun_train_epoch\u001b[0;34m(self, optimizer, dataset, batchsize, reg, num_workers)\u001b[0m\n\u001b[1;32m    258\u001b[0m         \u001b[0;32mfor\u001b[0m \u001b[0mxbatch\u001b[0m\u001b[0;34m,\u001b[0m \u001b[0mybatch\u001b[0m \u001b[0;32min\u001b[0m \u001b[0mdata_loader\u001b[0m\u001b[0;34m:\u001b[0m\u001b[0;34m\u001b[0m\u001b[0;34m\u001b[0m\u001b[0m\n\u001b[1;32m    259\u001b[0m             \u001b[0mmmd2_pq\u001b[0m\u001b[0;34m,\u001b[0m \u001b[0mstat\u001b[0m\u001b[0;34m,\u001b[0m \u001b[0mobj\u001b[0m \u001b[0;34m=\u001b[0m \u001b[0mself\u001b[0m\u001b[0;34m.\u001b[0m\u001b[0mforward\u001b[0m\u001b[0;34m(\u001b[0m\u001b[0mxbatch\u001b[0m\u001b[0;34m,\u001b[0m \u001b[0mybatch\u001b[0m\u001b[0;34m,\u001b[0m \u001b[0mreg\u001b[0m\u001b[0;34m=\u001b[0m\u001b[0mreg\u001b[0m\u001b[0;34m)\u001b[0m\u001b[0;34m\u001b[0m\u001b[0;34m\u001b[0m\u001b[0m\n\u001b[0;32m--> 260\u001b[0;31m             \u001b[0;32massert\u001b[0m \u001b[0mnp\u001b[0m\u001b[0;34m.\u001b[0m\u001b[0misfinite\u001b[0m\u001b[0;34m(\u001b[0m\u001b[0mmmd2_pq\u001b[0m\u001b[0;34m.\u001b[0m\u001b[0mdetach\u001b[0m\u001b[0;34m(\u001b[0m\u001b[0;34m)\u001b[0m\u001b[0;34m.\u001b[0m\u001b[0mcpu\u001b[0m\u001b[0;34m(\u001b[0m\u001b[0;34m)\u001b[0m\u001b[0;34m.\u001b[0m\u001b[0mnumpy\u001b[0m\u001b[0;34m(\u001b[0m\u001b[0;34m)\u001b[0m\u001b[0;34m)\u001b[0m\u001b[0;34m\u001b[0m\u001b[0;34m\u001b[0m\u001b[0m\n\u001b[0m\u001b[1;32m    261\u001b[0m             \u001b[0;32massert\u001b[0m \u001b[0mnp\u001b[0m\u001b[0;34m.\u001b[0m\u001b[0misfinite\u001b[0m\u001b[0;34m(\u001b[0m\u001b[0mobj\u001b[0m\u001b[0;34m.\u001b[0m\u001b[0mdetach\u001b[0m\u001b[0;34m(\u001b[0m\u001b[0;34m)\u001b[0m\u001b[0;34m.\u001b[0m\u001b[0mcpu\u001b[0m\u001b[0;34m(\u001b[0m\u001b[0;34m)\u001b[0m\u001b[0;34m.\u001b[0m\u001b[0mnumpy\u001b[0m\u001b[0;34m(\u001b[0m\u001b[0;34m)\u001b[0m\u001b[0;34m)\u001b[0m\u001b[0;34m\u001b[0m\u001b[0;34m\u001b[0m\u001b[0m\n\u001b[1;32m    262\u001b[0m             \u001b[0mtotal_mmd2\u001b[0m \u001b[0;34m+=\u001b[0m \u001b[0mmmd2_pq\u001b[0m\u001b[0;34m\u001b[0m\u001b[0;34m\u001b[0m\u001b[0m\n",
      "\u001b[0;31mAssertionError\u001b[0m: "
     ]
    }
   ],
   "source": [
    "size = 100\n",
    "n_trial = 5\n",
    "n_epoch = 500\n",
    "batch_size = 200\n",
    "\n",
    "result_stacks_with_sigma = []\n",
    "result_stacks_without_sigma = []\n",
    "for i_trial in range(0, n_trial):\n",
    "    x_1st_dim = numpy.random.normal(loc=1.0, scale=0.0, size=size)\n",
    "    y_1st_dim = numpy.random.normal(loc=1.0, scale=50.0, size=size)\n",
    "\n",
    "    x_2_and_3_dim = numpy.random.normal(loc=10.0, scale=0.2, size=(size, 2))\n",
    "    y_2_and_3_dim = numpy.random.normal(loc=10.0, scale=0.2, size=(size, 2))\n",
    "\n",
    "    x = numpy.concatenate([numpy.reshape(x_1st_dim, (size, 1)), x_2_and_3_dim], axis=1)\n",
    "    y = numpy.concatenate([numpy.reshape(y_1st_dim, (size, 1)), y_2_and_3_dim], axis=1)\n",
    "    \n",
    "    x_train = x[:80]\n",
    "    y_train = y[:80]\n",
    "    x_val = x[80:]\n",
    "    y_val = y[80:]\n",
    "\n",
    "    for n_dim in [0, 1, 2]:\n",
    "        print(f'{n_dim+1} dim. mean(x)={x[:,n_dim].mean()} mean(y)={y[:,n_dim].mean()} var(x)={x[:,n_dim].var()} var(y)={y[:,n_dim].var()}')\n",
    "    # end for\n",
    "    \n",
    "    # with sigma optimization\n",
    "    trainer_theano = ModelTrainerTheanoBackend()\n",
    "    trained_obj_theano = trainer_theano.train(x_train, y_train, num_epochs=n_epoch, batchsize=batch_size, opt_sigma=True, x_val=x_val, y_val=y_val, init_sigma_median=True)\n",
    "    \n",
    "    mmd_estimator_sigma_opt = MMD(kernels_torch.BasicRBFKernelFunction(opt_sigma=True, device_obj=device_obj), \n",
    "                                  device_obj=device_obj)\n",
    "    trainer_torch = ModelTrainerTorchBackend(mmd_estimator=mmd_estimator_sigma_opt,\n",
    "                                            device_obj=device_obj)\n",
    "    trained_obj_torch = trainer_torch.train(x, y, num_epochs=n_epoch, batchsize=batch_size, x_val=x_val, y_val=y_val)\n",
    "    sigma = numpy.exp(trained_obj_torch.kernel_function_obj.get_params()['log_sigma'].cpu().detach().numpy())\n",
    "\n",
    "    result_stacks_with_sigma.append([\n",
    "                             (x, y),\n",
    "                             (trained_obj_theano.scales, trained_obj_torch.scales),\n",
    "                             (trained_obj_theano.sigma, sigma)])\n",
    "    # without sigma optimization\n",
    "    trainer_theano = ModelTrainerTheanoBackend()\n",
    "    trained_obj_theano = trainer_theano.train(x_train, y_train, num_epochs=n_epoch, batchsize=batch_size, opt_sigma=False, x_val=x_val, y_val=y_val, init_sigma_median=False, init_log_sigma=0.0)\n",
    "    \n",
    "    mmd_estimator = MMD(kernels_torch.BasicRBFKernelFunction(opt_sigma=False, device_obj=device_obj), \n",
    "                        device_obj=device_obj)\n",
    "    trainer_torch = ModelTrainerTorchBackend(mmd_estimator=mmd_estimator,\n",
    "                                            device_obj=device_obj)\n",
    "    trained_obj_torch = trainer_torch.train(x, y, num_epochs=n_epoch, batchsize=batch_size, x_val=x_val, y_val=y_val)\n",
    "    sigma = numpy.exp(trained_obj_torch.kernel_function_obj.get_params()['log_sigma'].cpu().detach().numpy())\n",
    "    \n",
    "    result_stacks_without_sigma.append([\n",
    "                             (x, y),\n",
    "                             (trained_obj_theano.scales, trained_obj_torch.scales),\n",
    "                             (trained_obj_theano.sigma, sigma)])\n",
    "# end for"
   ]
  },
  {
   "cell_type": "markdown",
   "id": "528c315f-5834-4c41-bdfa-b4adbb1dddc6",
   "metadata": {},
   "source": [
    "### Observations"
   ]
  },
  {
   "cell_type": "code",
   "execution_count": 48,
   "id": "bbc98bce-89fb-4404-841f-07092fa347bf",
   "metadata": {},
   "outputs": [
    {
     "data": {
      "text/plain": [
       "(0.0, 15.0)"
      ]
     },
     "execution_count": 48,
     "metadata": {},
     "output_type": "execute_result"
    },
    {
     "data": {
      "image/png": "[encoded data removed]",
      "text/plain": [
       "<Figure size 432x288 with 1 Axes>"
      ]
     },
     "metadata": {
      "needs_background": "light"
     },
     "output_type": "display_data"
    },
    {
     "data": {
      "image/png": "[encoded data removed]",
      "text/plain": [
       "<Figure size 432x288 with 1 Axes>"
      ]
     },
     "metadata": {
      "needs_background": "light"
     },
     "output_type": "display_data"
    }
   ],
   "source": [
    "# Theano imp.\n",
    "__df_with_sigma = []\n",
    "__df_without_sigma = []\n",
    "for trial_with_sigma, trial_without_sigma in zip(result_stacks_with_sigma, result_stacks_without_sigma):\n",
    "    __df_with_sigma.append(trial_with_sigma[1][0])\n",
    "    __df_without_sigma.append(trial_without_sigma[1][0])\n",
    "# end for\n",
    "df_with_sigma = pandas.DataFrame(__df_with_sigma, index = list(range(0, n_trial)))\n",
    "ax = df_with_sigma.plot(kind='bar')\n",
    "plt.title(f\"ARD weight with sigma. {n_trial} times computation (original imp. with Theano)\")\n",
    "plt.ylabel(\"ARD weight\")\n",
    "plt.xlabel(\"trial\")\n",
    "ax.set_ylim(, 15)\n",
    "# plot without sigma\n",
    "df_without_sigma = pandas.DataFrame(__df_without_sigma, index = list(range(0, n_trial)))\n",
    "ax = df_without_sigma.plot(kind='bar')\n",
    "plt.title(f\"ARD weight without sigma. {n_trial} times computation (original imp. with Theano)\")\n",
    "plt.ylabel(\"ARD weight\")\n",
    "plt.xlabel(\"trial\")\n",
    "ax.set_ylim(, 15)"
   ]
  },
  {
   "cell_type": "code",
   "execution_count": 49,
   "id": "42f7e587-ac76-477f-8ce6-78dfea331f89",
   "metadata": {},
   "outputs": [
    {
     "data": {
      "text/plain": [
       "(0.0, 15.0)"
      ]
     },
     "execution_count": 49,
     "metadata": {},
     "output_type": "execute_result"
    },
    {
     "data": {
      "image/png": "[encoded data removed]",
      "text/plain": [
       "<Figure size 432x288 with 1 Axes>"
      ]
     },
     "metadata": {
      "needs_background": "light"
     },
     "output_type": "display_data"
    },
    {
     "data": {
      "image/png": "[encoded data removed]",
      "text/plain": [
       "<Figure size 432x288 with 1 Axes>"
      ]
     },
     "metadata": {
      "needs_background": "light"
     },
     "output_type": "display_data"
    }
   ],
   "source": [
    "# Theano imp.\n",
    "__df_with_sigma = []\n",
    "__df_without_sigma = []\n",
    "for trial_with_sigma, trial_without_sigma in zip(result_stacks_with_sigma, result_stacks_without_sigma):\n",
    "    __df_with_sigma.append(trial_with_sigma[1][1])\n",
    "    __df_without_sigma.append(trial_without_sigma[1][1])\n",
    "# end for\n",
    "df_with_sigma = pandas.DataFrame(__df_with_sigma, index = list(range(0, n_trial)))\n",
    "ax = df_with_sigma.plot(kind='bar')\n",
    "plt.title(f\"ARD weight with sigma. {n_trial} times computation (with Torch)\")\n",
    "plt.ylabel(\"ARD weight\")\n",
    "plt.xlabel(\"trial\")\n",
    "ax.set_ylim(0, 15)\n",
    "# plot without sigma\n",
    "df_without_sigma = pandas.DataFrame(__df_without_sigma, index = list(range(0, n_trial)))\n",
    "ax = df_without_sigma.plot(kind='bar')\n",
    "plt.title(f\"ARD weight without sigma. {n_trial} times computation (with Torch)\")\n",
    "plt.ylabel(\"ARD weight\")\n",
    "plt.xlabel(\"trial\")\n",
    "ax.set_ylim(0, 15)"
   ]
  },
  {
   "cell_type": "markdown",
   "id": "40f962f3-a9c8-42d3-9fa5-cb553c5d512a",
   "metadata": {},
   "source": [
    "### conclusion\n",
    "\n",
    "The computed ARD weight will not be as we expected __if__ we optimize sigma value at the same time.\n",
    "\n",
    "Then, we should tune __only scales (ARD weight)__ if we want to obtain the ARD weight."
   ]
  },
  {
   "cell_type": "code",
   "execution_count": null,
   "id": "faeb164e-5771-4031-b94e-c34beb230b23",
   "metadata": {},
   "outputs": [],
   "source": [
    "%reset"
   ]
  },
  {
   "cell_type": "markdown",
   "id": "700a9d4d-785b-4c19-8089-d763eed8b42a",
   "metadata": {},
   "source": [
    "# Study: stability of ARD weights"
   ]
  },
  {
   "cell_type": "markdown",
   "id": "5a3c76c3-4b30-4b7b-9021-a14928e5c2db",
   "metadata": {},
   "source": [
    "## Objective\n",
    "\n",
    "To confirm the computed ARD weighted will be similar.\n",
    "\n",
    "In the exp, we have the following conditions,\n",
    "\n",
    "- the training data x and y are fixed.\n",
    "- the validation data x and y are fixed.\n",
    "- sigma will not be tuned"
   ]
  },
  {
   "cell_type": "code",
   "execution_count": 19,
   "id": "84508a8b-0f23-4600-a7e2-fd551a0ba067",
   "metadata": {},
   "outputs": [],
   "source": [
    "from model_criticism_mmd import ModelTrainerTheanoBackend, ModelTrainerTorchBackend"
   ]
  },
  {
   "cell_type": "code",
   "execution_count": 20,
   "id": "f261a9e2-af6a-430a-95ba-ea5e9ad691ea",
   "metadata": {},
   "outputs": [],
   "source": [
    "%matplotlib inline\n",
    "\n",
    "import matplotlib\n",
    "import numpy as np\n",
    "import matplotlib.pyplot as plt\n",
    "import pandas\n",
    "import numpy"
   ]
  },
  {
   "cell_type": "code",
   "execution_count": 24,
   "id": "652824d2-370f-4956-9ec3-3126adf0968f",
   "metadata": {},
   "outputs": [
    {
     "name": "stdout",
     "output_type": "stream",
     "text": [
      "1 dim. mean(x)=1.0 mean(y)=5.88268324033833 var(x)=0.0 var(y)=2581.977256325252\n",
      "2 dim. mean(x)=9.973029705725683 mean(y)=10.00802135093335 var(x)=0.028781844253832095 var(y)=0.029758249712898838\n",
      "3 dim. mean(x)=9.99467942716704 mean(y)=9.988748332579542 var(x)=0.04884625612449244 var(y)=0.03747702442607639\n"
     ]
    }
   ],
   "source": [
    "size = 100\n",
    "x_1st_dim = numpy.random.normal(loc=1.0, scale=0.0, size=size)\n",
    "y_1st_dim = numpy.random.normal(loc=1.0, scale=50.0, size=size)\n",
    "\n",
    "x_2_and_3_dim = numpy.random.normal(loc=10.0, scale=0.2, size=(size, 2))\n",
    "y_2_and_3_dim = numpy.random.normal(loc=10.0, scale=0.2, size=(size, 2))\n",
    "\n",
    "x = numpy.concatenate([numpy.reshape(x_1st_dim, (size, 1)), x_2_and_3_dim], axis=1)\n",
    "y = numpy.concatenate([numpy.reshape(y_1st_dim, (size, 1)), y_2_and_3_dim], axis=1)\n",
    "\n",
    "x_train = x[:80]\n",
    "y_train = y[:80]\n",
    "x_val = x[80:]\n",
    "y_val = y[80:]\n",
    "\n",
    "for n_dim in [0, 1, 2]:\n",
    "    print(f'{n_dim+1} dim. mean(x)={x[:,n_dim].mean()} mean(y)={y[:,n_dim].mean()} var(x)={x[:,n_dim].var()} var(y)={y[:,n_dim].var()}')\n",
    "# end for"
   ]
  },
  {
   "cell_type": "code",
   "execution_count": 33,
   "id": "09db239c-a9a7-4cb7-999e-9e953e1926f2",
   "metadata": {},
   "outputs": [
    {
     "name": "stderr",
     "output_type": "stream",
     "text": [
      "Using sigma = 1.0\n",
      "Compiling...\n",
      "done\n",
      "Input dim 3, representation dim 3\n",
      "Training on 80 samples (batch 200), validation on 20 (batch 1000)\n",
      "1 parameters to optimize: scales\n",
      "     0: avg train MMD^2  0.917062 obj -3.513093,  avg val MMD^2  0.979452  obj -4.135997  elapsed: 0s\n",
      "     5: avg train MMD^2  0.918635 obj -3.522559,  avg val MMD^2  0.981574  obj -4.164211  elapsed: 0s\n",
      "    25: avg train MMD^2  0.935704 obj -3.607468,  avg val MMD^2  0.995426  obj -4.317761  elapsed: 0s\n",
      "    50: avg train MMD^2  0.953215 obj -3.655343,  avg val MMD^2  1.009365  obj -4.516548  elapsed: 0s\n",
      "   100: avg train MMD^2  0.969621 obj -3.678606,  avg val MMD^2  1.025668  obj -4.860636  elapsed: 0s\n",
      "   200: avg train MMD^2  0.981672 obj -3.690579,  avg val MMD^2  1.039932  obj -5.295575  elapsed: 0s\n",
      "   300: avg train MMD^2  0.986502 obj -3.695111,  avg val MMD^2  1.046056  obj -5.502430  elapsed: 0s\n",
      "   400: avg train MMD^2  0.988921 obj -3.697733,  avg val MMD^2  1.049175  obj -5.597300  elapsed: 0s\n",
      "   500: avg train MMD^2  0.990249 obj -3.699632,  avg val MMD^2  1.050896  obj -5.647085  elapsed: 0s\n",
      "Trained result: the opt global-sigma: 1.0\n",
      "input data N(sample-size)=80, N(dimension)=3\n",
      "Validation at 0. MMD^2 = 0.9706608858420614, obj-value = [-3.31222728] at sigma = [1.]\n",
      "[before optimization] sigma value = [1.]\n",
      "     5: avg train MMD^2 0.9247487763847565 obj [-3.40725694],  avg val MMD^2 0.9810517323104491  obj [-3.60040957]  elapsed: 0.0 sigma: [1.]\n",
      "    25: avg train MMD^2 0.9431471085984793 obj [-3.57692708],  avg val MMD^2 1.0083723710288972  obj [-4.57837577]  elapsed: 0.0 sigma: [1.]\n",
      "    50: avg train MMD^2 0.9587698617803871 obj [-3.6556882],  avg val MMD^2 1.0189260791901977  obj [-4.75269322]  elapsed: 0.0 sigma: [1.]\n",
      "   100: avg train MMD^2 0.9729529529304345 obj [-3.68067869],  avg val MMD^2 1.0312862492114563  obj [-5.03939176]  elapsed: 0.0 sigma: [1.]\n",
      "   200: avg train MMD^2 0.983090047648879 obj [-3.69135276],  avg val MMD^2 1.0423235828521484  obj [-5.37970224]  elapsed: 0.0 sigma: [1.]\n",
      "   300: avg train MMD^2 0.9872151890395454 obj [-3.69544876],  avg val MMD^2 1.0472549803595887  obj [-5.53579621]  elapsed: 0.0 sigma: [1.]\n",
      "   400: avg train MMD^2 0.9893144521930269 obj [-3.69789538],  avg val MMD^2 1.04983255544083  obj [-5.6095351]  elapsed: 0.0 sigma: [1.]\n",
      "   500: avg train MMD^2 0.9904784231407823 obj [-3.69971041],  avg val MMD^2 1.0512756948146826  obj [-5.65135238]  elapsed: 0.0 sigma: [1.]\n",
      "Using sigma = 1.0\n",
      "Compiling...\n",
      "done\n",
      "Input dim 3, representation dim 3\n",
      "Training on 80 samples (batch 200), validation on 20 (batch 1000)\n",
      "1 parameters to optimize: scales\n",
      "     0: avg train MMD^2  0.917062 obj -3.513093,  avg val MMD^2  0.979452  obj -4.135997  elapsed: 0s\n",
      "     5: avg train MMD^2  0.918635 obj -3.522559,  avg val MMD^2  0.981574  obj -4.164211  elapsed: 0s\n",
      "    25: avg train MMD^2  0.935704 obj -3.607468,  avg val MMD^2  0.995426  obj -4.317761  elapsed: 0s\n",
      "    50: avg train MMD^2  0.953215 obj -3.655343,  avg val MMD^2  1.009365  obj -4.516548  elapsed: 0s\n",
      "   100: avg train MMD^2  0.969621 obj -3.678606,  avg val MMD^2  1.025668  obj -4.860636  elapsed: 0s\n",
      "   200: avg train MMD^2  0.981672 obj -3.690579,  avg val MMD^2  1.039932  obj -5.295575  elapsed: 0s\n",
      "   300: avg train MMD^2  0.986502 obj -3.695111,  avg val MMD^2  1.046056  obj -5.502430  elapsed: 0s\n",
      "   400: avg train MMD^2  0.988921 obj -3.697733,  avg val MMD^2  1.049175  obj -5.597300  elapsed: 0s\n",
      "   500: avg train MMD^2  0.990249 obj -3.699632,  avg val MMD^2  1.050896  obj -5.647085  elapsed: 0s\n",
      "Trained result: the opt global-sigma: 1.0\n",
      "input data N(sample-size)=80, N(dimension)=3\n",
      "Validation at 0. MMD^2 = 0.927660773784419, obj-value = [-2.42207353] at sigma = [1.]\n",
      "[before optimization] sigma value = [1.]\n",
      "     5: avg train MMD^2 0.92640159024228 obj [-3.32832904],  avg val MMD^2 0.9765485394518794  obj [-3.17929951]  elapsed: 0.0 sigma: [1.]\n",
      "    25: avg train MMD^2 0.9522210372597394 obj [-3.60705695],  avg val MMD^2 1.0179020427700713  obj [-4.7745584]  elapsed: 0.0 sigma: [1.]\n",
      "    50: avg train MMD^2 0.9645565571309651 obj [-3.66562335],  avg val MMD^2 1.0257507374492845  obj [-4.93048376]  elapsed: 0.0 sigma: [1.]\n",
      "   100: avg train MMD^2 0.9758665352789436 obj [-3.68350008],  avg val MMD^2 1.0353675834067608  obj [-5.17269773]  elapsed: 0.0 sigma: [1.]\n",
      "   200: avg train MMD^2 0.9843025564293468 obj [-3.69230802],  avg val MMD^2 1.0441528286836743  obj [-5.44065514]  elapsed: 0.0 sigma: [1.]\n",
      "   300: avg train MMD^2 0.9878324403792768 obj [-3.69594167],  avg val MMD^2 1.0482023066159332  obj [-5.56101898]  elapsed: 0.0 sigma: [1.]\n",
      "   400: avg train MMD^2 0.9896563992186694 obj [-3.69820759],  avg val MMD^2 1.050359905325407  obj [-5.62048364]  elapsed: 0.0 sigma: [1.]\n",
      "   500: avg train MMD^2 0.9906756546049763 obj [-3.69993965],  avg val MMD^2 1.051580732699021  obj [-5.65699566]  elapsed: 0.0 sigma: [1.]\n",
      "Using sigma = 1.0\n",
      "Compiling...\n",
      "done\n",
      "Input dim 3, representation dim 3\n",
      "Training on 80 samples (batch 200), validation on 20 (batch 1000)\n",
      "1 parameters to optimize: scales\n",
      "     0: avg train MMD^2  0.917062 obj -3.513093,  avg val MMD^2  0.979452  obj -4.135997  elapsed: 0s\n",
      "     5: avg train MMD^2  0.918635 obj -3.522559,  avg val MMD^2  0.981574  obj -4.164211  elapsed: 0s\n",
      "    25: avg train MMD^2  0.935704 obj -3.607468,  avg val MMD^2  0.995426  obj -4.317761  elapsed: 0s\n",
      "    50: avg train MMD^2  0.953215 obj -3.655343,  avg val MMD^2  1.009365  obj -4.516548  elapsed: 0s\n",
      "   100: avg train MMD^2  0.969621 obj -3.678606,  avg val MMD^2  1.025668  obj -4.860636  elapsed: 0s\n",
      "   200: avg train MMD^2  0.981672 obj -3.690579,  avg val MMD^2  1.039932  obj -5.295575  elapsed: 0s\n",
      "   300: avg train MMD^2  0.986502 obj -3.695111,  avg val MMD^2  1.046056  obj -5.502430  elapsed: 0s\n",
      "   400: avg train MMD^2  0.988921 obj -3.697733,  avg val MMD^2  1.049175  obj -5.597300  elapsed: 0s\n",
      "   500: avg train MMD^2  0.990249 obj -3.699632,  avg val MMD^2  1.050896  obj -5.647085  elapsed: 0s\n",
      "Trained result: the opt global-sigma: 1.0\n",
      "input data N(sample-size)=80, N(dimension)=3\n",
      "Validation at 0. MMD^2 = 0.954553142189989, obj-value = [-2.50262403] at sigma = [1.]\n",
      "[before optimization] sigma value = [1.]\n",
      "     5: avg train MMD^2 0.9550235615969164 obj [-3.35297632],  avg val MMD^2 0.9995817212731203  obj [-3.23088396]  elapsed: 0.0 sigma: [1.]\n",
      "    25: avg train MMD^2 0.9736843017569714 obj [-3.61936282],  avg val MMD^2 1.035405646665992  obj [-5.10171659]  elapsed: 0.0 sigma: [1.]\n",
      "    50: avg train MMD^2 0.9781800366060218 obj [-3.67288925],  avg val MMD^2 1.037604369884753  obj [-5.18562691]  elapsed: 0.0 sigma: [1.]\n",
      "   100: avg train MMD^2 0.9825461858506 obj [-3.68640902],  avg val MMD^2 1.0418027906246528  obj [-5.333115]  elapsed: 0.0 sigma: [1.]\n",
      "   200: avg train MMD^2 0.9870055486024337 obj [-3.69328721],  avg val MMD^2 1.0469738050398532  obj [-5.50506768]  elapsed: 0.0 sigma: [1.]\n",
      "   300: avg train MMD^2 0.9892429650324321 obj [-3.69640457],  avg val MMD^2 1.0497016854929029  obj [-5.58598672]  elapsed: 0.0 sigma: [1.]\n",
      "   400: avg train MMD^2 0.9904813316236613 obj [-3.69846121],  avg val MMD^2 1.0512306313980437  obj [-5.63032194]  elapsed: 0.0 sigma: [1.]\n",
      "   500: avg train MMD^2 0.9911912697775639 obj [-3.70009161],  avg val MMD^2 1.0521136093009926  obj [-5.6610866]  elapsed: 0.0 sigma: [1.]\n",
      "Using sigma = 1.0\n",
      "Compiling...\n",
      "done\n",
      "Input dim 3, representation dim 3\n",
      "Training on 80 samples (batch 200), validation on 20 (batch 1000)\n",
      "1 parameters to optimize: scales\n",
      "     0: avg train MMD^2  0.917062 obj -3.513093,  avg val MMD^2  0.979452  obj -4.135997  elapsed: 0s\n",
      "     5: avg train MMD^2  0.918635 obj -3.522559,  avg val MMD^2  0.981574  obj -4.164211  elapsed: 0s\n",
      "    25: avg train MMD^2  0.935704 obj -3.607468,  avg val MMD^2  0.995426  obj -4.317761  elapsed: 0s\n",
      "    50: avg train MMD^2  0.953215 obj -3.655343,  avg val MMD^2  1.009365  obj -4.516548  elapsed: 0s\n",
      "   100: avg train MMD^2  0.969621 obj -3.678606,  avg val MMD^2  1.025668  obj -4.860636  elapsed: 0s\n",
      "   200: avg train MMD^2  0.981672 obj -3.690579,  avg val MMD^2  1.039932  obj -5.295575  elapsed: 0s\n",
      "   300: avg train MMD^2  0.986502 obj -3.695111,  avg val MMD^2  1.046056  obj -5.502430  elapsed: 0s\n",
      "   400: avg train MMD^2  0.988921 obj -3.697733,  avg val MMD^2  1.049175  obj -5.597300  elapsed: 0s\n",
      "   500: avg train MMD^2  0.990249 obj -3.699632,  avg val MMD^2  1.050896  obj -5.647085  elapsed: 0s\n",
      "Trained result: the opt global-sigma: 1.0\n",
      "input data N(sample-size)=80, N(dimension)=3\n",
      "Validation at 0. MMD^2 = 1.0185409503125544, obj-value = [-4.61714056] at sigma = [1.]\n",
      "[before optimization] sigma value = [1.]\n",
      "     5: avg train MMD^2 0.9461085470366509 obj [-3.51797383],  avg val MMD^2 1.0207196094226432  obj [-4.74628166]  elapsed: 0.0 sigma: [1.]\n",
      "    25: avg train MMD^2 0.9590292254957878 obj [-3.61980033],  avg val MMD^2 1.0309012398167507  obj [-5.12204588]  elapsed: 0.0 sigma: [1.]\n",
      "    50: avg train MMD^2 0.9711988730399193 obj [-3.66860082],  avg val MMD^2 1.037869611673614  obj [-5.29409589]  elapsed: 0.0 sigma: [1.]\n",
      "   100: avg train MMD^2 0.9808974294371292 obj [-3.68622393],  avg val MMD^2 1.0441944944742156  obj [-5.44856823]  elapsed: 0.0 sigma: [1.]\n",
      "   200: avg train MMD^2 0.986996658892367 obj [-3.69371753],  avg val MMD^2 1.0488254680095699  obj [-5.55712377]  elapsed: 0.0 sigma: [1.]\n",
      "   300: avg train MMD^2 0.9893502140871437 obj [-3.69669582],  avg val MMD^2 1.0508220626235127  obj [-5.60561477]  elapsed: 0.0 sigma: [1.]\n",
      "   400: avg train MMD^2 0.9905448675420158 obj [-3.69863184],  avg val MMD^2 1.0518853505737813  obj [-5.63728191]  elapsed: 0.0 sigma: [1.]\n",
      "   500: avg train MMD^2 0.991208684098356 obj [-3.70018558],  avg val MMD^2 1.052489781862948  obj [-5.66332163]  elapsed: 0.0 sigma: [1.]\n",
      "Using sigma = 1.0\n",
      "Compiling...\n",
      "done\n",
      "Input dim 3, representation dim 3\n",
      "Training on 80 samples (batch 200), validation on 20 (batch 1000)\n",
      "1 parameters to optimize: scales\n",
      "     0: avg train MMD^2  0.917062 obj -3.513093,  avg val MMD^2  0.979452  obj -4.135997  elapsed: 0s\n",
      "     5: avg train MMD^2  0.918635 obj -3.522559,  avg val MMD^2  0.981574  obj -4.164211  elapsed: 0s\n",
      "    25: avg train MMD^2  0.935704 obj -3.607468,  avg val MMD^2  0.995426  obj -4.317761  elapsed: 0s\n",
      "    50: avg train MMD^2  0.953215 obj -3.655343,  avg val MMD^2  1.009365  obj -4.516548  elapsed: 0s\n",
      "   100: avg train MMD^2  0.969621 obj -3.678606,  avg val MMD^2  1.025668  obj -4.860636  elapsed: 0s\n",
      "   200: avg train MMD^2  0.981672 obj -3.690579,  avg val MMD^2  1.039932  obj -5.295575  elapsed: 0s\n",
      "   300: avg train MMD^2  0.986502 obj -3.695111,  avg val MMD^2  1.046056  obj -5.502430  elapsed: 0s\n",
      "   400: avg train MMD^2  0.988921 obj -3.697733,  avg val MMD^2  1.049175  obj -5.597300  elapsed: 0s\n",
      "   500: avg train MMD^2  0.990249 obj -3.699632,  avg val MMD^2  1.050896  obj -5.647085  elapsed: 0s\n",
      "Trained result: the opt global-sigma: 1.0\n",
      "input data N(sample-size)=80, N(dimension)=3\n",
      "Validation at 0. MMD^2 = 0.9078962635623418, obj-value = [-2.10886676] at sigma = [1.]\n",
      "[before optimization] sigma value = [1.]\n",
      "     5: avg train MMD^2 0.9411370709472652 obj [-3.32799396],  avg val MMD^2 0.9889305356519579  obj [-3.21341546]  elapsed: 0.0 sigma: [1.]\n",
      "    25: avg train MMD^2 0.9649196145119368 obj [-3.63739116],  avg val MMD^2 1.0264044652014146  obj [-4.90950092]  elapsed: 0.0 sigma: [1.]\n",
      "    50: avg train MMD^2 0.971589733824769 obj [-3.67419103],  avg val MMD^2 1.030818849371112  obj [-5.02626849]  elapsed: 0.0 sigma: [1.]\n",
      "   100: avg train MMD^2 0.9787322273424889 obj [-3.68574435],  avg val MMD^2 1.0377355025887103  obj [-5.22897215]  elapsed: 0.0 sigma: [1.]\n",
      "   200: avg train MMD^2 0.9853079234463813 obj [-3.69298215],  avg val MMD^2 1.0450826692197992  obj [-5.46428905]  elapsed: 0.0 sigma: [1.]\n",
      "   300: avg train MMD^2 0.9883255962333113 obj [-3.69630023],  avg val MMD^2 1.0486752307486071  obj [-5.57171885]  elapsed: 0.0 sigma: [1.]\n",
      "   400: avg train MMD^2 0.9899328625570782 obj [-3.69845443],  avg val MMD^2 1.0506268597450736  obj [-5.62623863]  elapsed: 0.0 sigma: [1.]\n",
      "   500: avg train MMD^2 0.9908412468832295 obj [-3.70013887],  avg val MMD^2 1.0517396458620067  obj [-5.66092566]  elapsed: 0.0 sigma: [1.]\n"
     ]
    }
   ],
   "source": [
    "result_stacks = []\n",
    "n_trial = 5\n",
    "n_epoch = 500\n",
    "batch_size = 200\n",
    "is_opt_sigma = False\n",
    "for i_trial in range(0, n_trial):\n",
    "    trainer_theano = ModelTrainerTheanoBackend()\n",
    "    trained_obj_theano = trainer_theano.train(x_train, y_train, num_epochs=n_epoch, batchsize=batch_size, opt_sigma=is_opt_sigma, x_val=x_val, y_val=y_val, init_sigma_median=False, init_log_sigma=0.0)\n",
    "\n",
    "    trainer_torch = ModelTrainerTorchBackend()\n",
    "    trained_obj_torch = trainer_torch.train(x_train, y_train, num_epochs=n_epoch, batchsize=batch_size, opt_sigma=is_opt_sigma, x_val=x_val, y_val=y_val, init_sigma_median=False, initial_log_sigma=0.0)\n",
    "\n",
    "    result_stacks.append([\n",
    "                             (trained_obj_theano.scales, trained_obj_torch.scales),\n",
    "                             (trained_obj_theano.sigma, trained_obj_torch.sigma)\n",
    "    ])\n",
    "# end for"
   ]
  },
  {
   "cell_type": "markdown",
   "id": "8e71e257-09dc-4869-b941-8a2bdb22187d",
   "metadata": {},
   "source": [
    "We show the ARD weights in 5 times computations. 3 bars represent the ARD weights for each feature."
   ]
  },
  {
   "cell_type": "code",
   "execution_count": 36,
   "id": "eb2e9fc5-21bd-4209-a63d-ba1380524777",
   "metadata": {},
   "outputs": [
    {
     "data": {
      "text/plain": [
       "(0.0, 4.0)"
      ]
     },
     "execution_count": 36,
     "metadata": {},
     "output_type": "execute_result"
    },
    {
     "data": {
      "image/png": "[encoded data removed]",
      "text/plain": [
       "<Figure size 432x288 with 1 Axes>"
      ]
     },
     "metadata": {
      "needs_background": "light"
     },
     "output_type": "display_data"
    }
   ],
   "source": [
    "__df_theano_result = []\n",
    "for i_trial, trial_result in enumerate(result_stacks):\n",
    "    __df_theano_result.append(trial_result[0][0])\n",
    "# end for\n",
    "df_theano_result = pandas.DataFrame(__df_theano_result, index = list(range(0, n_trial)))\n",
    "ax = df_theano_result.plot(kind='bar')\n",
    "plt.title(f\"ARD weight against the same data {n_trial} times computation (original imp. with Theano)\")\n",
    "plt.ylabel(\"ARD weight\")\n",
    "plt.xlabel(\"trial\")\n",
    "ax.set_ylim(0, 4)"
   ]
  },
  {
   "cell_type": "code",
   "execution_count": 37,
   "id": "072010a8-b6d7-42a4-b8ef-f1a60978426b",
   "metadata": {},
   "outputs": [
    {
     "data": {
      "text/plain": [
       "(0.0, 4.0)"
      ]
     },
     "execution_count": 37,
     "metadata": {},
     "output_type": "execute_result"
    },
    {
     "data": {
      "image/png": "[encoded data removed]",
      "text/plain": [
       "<Figure size 432x288 with 1 Axes>"
      ]
     },
     "metadata": {
      "needs_background": "light"
     },
     "output_type": "display_data"
    }
   ],
   "source": [
    "__df_torch_result = []\n",
    "for i_trial, trial_result in enumerate(result_stacks):\n",
    "    __df_torch_result.append(trial_result[0][1])\n",
    "# end for\n",
    "df_torch_result = pandas.DataFrame(__df_torch_result, index = list(range(0, n_trial)))\n",
    "ax = df_torch_result.plot(kind='bar')\n",
    "plt.title(f\"ARD weight against the same data {n_trial} times computation (with Torch)\")\n",
    "plt.ylabel(\"ARD weight\")\n",
    "plt.xlabel(\"trial\")\n",
    "ax.set_ylim(0, 4)"
   ]
  },
  {
   "cell_type": "markdown",
   "id": "e606876d-d1db-4103-a83e-170e7fe2d853",
   "metadata": {},
   "source": [
    "### concolusion\n",
    "\n",
    "With the above observation, we confirm that the ARD weight will __converage__ if we fix the input data and the sigma."
   ]
  },
  {
   "cell_type": "code",
   "execution_count": 18,
   "id": "ca6a7e92-3ed8-4735-b2ea-2ed4edfa9cff",
   "metadata": {},
   "outputs": [
    {
     "name": "stdin",
     "output_type": "stream",
     "text": [
      "Once deleted, variables cannot be recovered. Proceed (y/[n])?  y\n"
     ]
    }
   ],
   "source": [
    "%reset"
   ]
  },
  {
   "cell_type": "markdown",
   "id": "8eb619a1-582d-4594-919a-e9827cce1c69",
   "metadata": {},
   "source": [
    "# Study: with/without sigma optimizations"
   ]
  },
  {
   "cell_type": "code",
   "execution_count": 1,
   "id": "c832e1c0-1e87-477a-850a-3f1673320bb1",
   "metadata": {},
   "outputs": [
    {
     "name": "stderr",
     "output_type": "stream",
     "text": [
      "WARNING (theano.configdefaults): install mkl with `conda install mkl-service`: No module named 'mkl'\n"
     ]
    }
   ],
   "source": [
    "from model_criticism_mmd import ModelTrainerTheanoBackend, ModelTrainerTorchBackend"
   ]
  },
  {
   "cell_type": "code",
   "execution_count": 2,
   "id": "4ba7d096-b06b-4ffd-8e66-9bd2935c037c",
   "metadata": {},
   "outputs": [],
   "source": [
    "%matplotlib inline\n",
    "\n",
    "import matplotlib\n",
    "import numpy as np\n",
    "import matplotlib.pyplot as plt\n",
    "import pandas\n",
    "import numpy"
   ]
  },
  {
   "cell_type": "code",
   "execution_count": 3,
   "id": "566c10c7-d005-4944-8c0b-d05b4b8c5891",
   "metadata": {},
   "outputs": [
    {
     "name": "stdout",
     "output_type": "stream",
     "text": [
      "1 dim. mean(x)=1.0 mean(y)=-6.134923650595601 var(x)=0.0 var(y)=2483.728508442119\n",
      "2 dim. mean(x)=1.0 mean(y)=2.7210920981855673 var(x)=0.0 var(y)=2754.3351727739832\n",
      "3 dim. mean(x)=1.0 mean(y)=-0.9651828059532181 var(x)=0.0 var(y)=2459.4318239408385\n"
     ]
    }
   ],
   "source": [
    "size = 200\n",
    "x = numpy.random.normal(loc=1.0, scale=0.0, size=(200, 3))\n",
    "y = numpy.random.normal(loc=1.0, scale=50.0, size=(200, 3))\n",
    "\n",
    "#x_2_and_3_dim = numpy.random.normal(loc=10.0, scale=0.2, size=(size, 2))\n",
    "#y_2_and_3_dim = numpy.random.normal(loc=10.0, scale=0.2, size=(size, 2))\n",
    "\n",
    "#x = numpy.concatenate([numpy.reshape(x_1st_dim, (size, 1)), x_2_and_3_dim], axis=1)\n",
    "#y = numpy.concatenate([numpy.reshape(y_1st_dim, (size, 1)), y_2_and_3_dim], axis=1)\n",
    "\n",
    "x_train = x[:100]\n",
    "y_train = y[:100]\n",
    "x_val = x[100:150]\n",
    "y_val = y[100:150]\n",
    "x_test = x[150:]\n",
    "y_test = y[150:]\n",
    "\n",
    "for n_dim in [0, 1, 2]:\n",
    "    print(f'{n_dim+1} dim. mean(x)={x[:,n_dim].mean()} mean(y)={y[:,n_dim].mean()} var(x)={x[:,n_dim].var()} var(y)={y[:,n_dim].var()}')\n",
    "# end for\n",
    "assert len(x_train) == len(y_train) == 100\n",
    "assert len(x_val) == len(y_val) == 50\n",
    "assert len(x_test) == len(y_test) == 50"
   ]
  },
  {
   "cell_type": "code",
   "execution_count": 8,
   "id": "e05adb19-75c6-40c5-917d-683db87cf6a1",
   "metadata": {},
   "outputs": [
    {
     "name": "stderr",
     "output_type": "stream",
     "text": [
      "Using sigma = 1.0\n",
      "Compiling...\n",
      "done\n",
      "Input dim 3, representation dim 3\n",
      "Training on 100 samples (batch 200), validation on 50 (batch 1000)\n",
      "1 parameters to optimize: scales\n",
      "     0: avg train MMD^2  1.010000 obj -9.220291,  avg val MMD^2  1.020000  obj -9.230143  elapsed: 0s\n",
      "     5: avg train MMD^2  1.010000 obj -9.220291,  avg val MMD^2  1.020000  obj -9.230143  elapsed: 0s\n",
      "    25: avg train MMD^2  1.010000 obj -9.220291,  avg val MMD^2  1.020000  obj -9.230143  elapsed: 0s\n",
      "    50: avg train MMD^2  1.010000 obj -9.220291,  avg val MMD^2  1.020000  obj -9.230143  elapsed: 0s\n",
      "   100: avg train MMD^2  1.010000 obj -9.220291,  avg val MMD^2  1.020000  obj -9.230143  elapsed: 0s\n",
      "   200: avg train MMD^2  1.010000 obj -9.220291,  avg val MMD^2  1.020000  obj -9.230143  elapsed: 0s\n",
      "   300: avg train MMD^2  1.010000 obj -9.220291,  avg val MMD^2  1.020000  obj -9.230143  elapsed: 0s\n",
      "   400: avg train MMD^2  1.010000 obj -9.220291,  avg val MMD^2  1.020000  obj -9.230143  elapsed: 0s\n",
      "   500: avg train MMD^2  1.010000 obj -9.220291,  avg val MMD^2  1.020000  obj -9.230143  elapsed: 0s\n",
      "Trained result: the opt global-sigma: 1.0\n",
      "input data N(sample-size)=100, N(dimension)=3\n",
      "Validation at 0. MMD^2 = 1.0200000066631023, obj-value = [-9.23014301] at sigma = [1.]\n",
      "[before optimization] sigma value = [1.]\n",
      "     5: avg train MMD^2 1.0100000045299569 obj [-9.22029071],  avg val MMD^2 1.0200000066631023  obj [-9.23014301]  elapsed: 0.0 sigma: [1.]\n",
      "    25: avg train MMD^2 1.0100000045299569 obj [-9.22029071],  avg val MMD^2 1.0200000066631023  obj [-9.23014301]  elapsed: 0.0 sigma: [1.]\n",
      "    50: avg train MMD^2 1.0100000045299569 obj [-9.22029071],  avg val MMD^2 1.0200000066631023  obj [-9.23014301]  elapsed: 0.0 sigma: [1.]\n",
      "   100: avg train MMD^2 1.0100000045299569 obj [-9.22029071],  avg val MMD^2 1.0200000066631023  obj [-9.23014301]  elapsed: 0.0 sigma: [1.]\n",
      "   200: avg train MMD^2 1.0100000045299569 obj [-9.22029071],  avg val MMD^2 1.0200000066631023  obj [-9.23014301]  elapsed: 0.0 sigma: [1.]\n",
      "   300: avg train MMD^2 1.0100000045299569 obj [-9.22029071],  avg val MMD^2 1.0200000066631023  obj [-9.23014301]  elapsed: 0.0 sigma: [1.]\n",
      "   400: avg train MMD^2 1.0100000045299569 obj [-9.22029071],  avg val MMD^2 1.0200000066631023  obj [-9.23014301]  elapsed: 0.0 sigma: [1.]\n",
      "   500: avg train MMD^2 1.0100000045299569 obj [-9.22029071],  avg val MMD^2 1.0200000066631023  obj [-9.23014301]  elapsed: 0.0 sigma: [1.]\n"
     ]
    },
    {
     "name": "stdout",
     "output_type": "stream",
     "text": [
      "MMD without the sigma optimization. Theano: 1.02 Torch: 1.0199999999998544\n"
     ]
    }
   ],
   "source": [
    "n_epoch = 500\n",
    "batch_size = 200\n",
    "is_opt_sigma = False\n",
    "# with sigma optimizations\n",
    "trainer_theano = ModelTrainerTheanoBackend()\n",
    "trained_obj_theano_without_sigma = trainer_theano.train(x_train, y_train, num_epochs=n_epoch, batchsize=batch_size, opt_sigma=is_opt_sigma, x_val=x_val, y_val=y_val, init_sigma_median=False, init_log_sigma=0.0)\n",
    "\n",
    "trainer_torch = ModelTrainerTorchBackend()\n",
    "trained_obj_torch_without_sigma = trainer_torch.train(x_train, y_train, num_epochs=n_epoch, batchsize=batch_size, opt_sigma=is_opt_sigma, x_val=x_val, y_val=y_val, init_sigma_median=False, initial_log_sigma=0.0)\n",
    "\n",
    "mmd2_theano, ratio_theano = trainer_theano.mmd_distance(x=x_test, y=y_test, sigma=trained_obj_theano_without_sigma.sigma)\n",
    "mmd2_torch, ratio_torch = trainer_torch.mmd_distance(x=x_test, y=y_test)\n",
    "print(f'MMD without the sigma optimization. Theano: {mmd2_theano} Torch: {mmd2_torch}')"
   ]
  },
  {
   "cell_type": "code",
   "execution_count": 9,
   "id": "fe8f317d-8df6-472f-b3a1-08ccc9323d15",
   "metadata": {},
   "outputs": [
    {
     "name": "stderr",
     "output_type": "stream",
     "text": [
      "Starting with sigma = median; optimizing it\n",
      "Compiling...\n",
      "done\n",
      "Getting median initial sigma value...\n",
      "61.6\n",
      "Input dim 3, representation dim 3\n",
      "Training on 100 samples (batch 200), validation on 50 (batch 1000)\n",
      "2 parameters to optimize: scales, log_sigma\n",
      "     0: avg train MMD^2  0.368900 obj -2.518141,  avg val MMD^2  0.329709  obj -2.069224  elapsed: 0s  sigma: 61.6\n",
      "     5: avg train MMD^2  0.446184 obj -2.597464,  avg val MMD^2  0.425548  obj -2.172005  elapsed: 0s  sigma: 54.7\n",
      "    25: avg train MMD^2  1.010300 obj -9.157834,  avg val MMD^2  1.019869  obj -7.540090  elapsed: 0s  sigma: 6.95\n",
      "    50: avg train MMD^2  1.010000 obj -9.220291,  avg val MMD^2  1.020000  obj -9.230143  elapsed: 0s  sigma: 1.3\n",
      "   100: avg train MMD^2  1.010000 obj -9.220291,  avg val MMD^2  1.020000  obj -9.230143  elapsed: 0s  sigma: 1.14\n",
      "   200: avg train MMD^2  1.010000 obj -9.220291,  avg val MMD^2  1.020000  obj -9.230143  elapsed: 0s  sigma: 1.14\n",
      "   300: avg train MMD^2  1.010000 obj -9.220291,  avg val MMD^2  1.020000  obj -9.230143  elapsed: 0s  sigma: 1.14\n",
      "   400: avg train MMD^2  1.010000 obj -9.220291,  avg val MMD^2  1.020000  obj -9.230143  elapsed: 1s  sigma: 1.14\n",
      "   500: avg train MMD^2  1.010000 obj -9.220291,  avg val MMD^2  1.020000  obj -9.230143  elapsed: 1s  sigma: 1.14\n",
      "Trained result: the opt global-sigma: 1.1440113008743287\n",
      "input data N(sample-size)=100, N(dimension)=3\n",
      "Getting median initial sigma value...\n",
      "initial sigma by median-heuristics 9.68\n",
      "Validation at 0. MMD^2 = 0.3359601039005632, obj-value = [-2.05480095] at sigma = [9.68102996]\n",
      "[before optimization] sigma value = [9.68102996]\n",
      "     5: avg train MMD^2 0.8530151476682624 obj [-3.25741677],  avg val MMD^2 0.8795711254813625  obj [-2.91508422]  elapsed: 0.0 sigma: [8.39486741]\n",
      "    25: avg train MMD^2 1.0100000000000497 obj [-9.2202907],  avg val MMD^2 1.0200000000065734  obj [-9.230143]  elapsed: 0.0 sigma: [1.58443132]\n",
      "    50: avg train MMD^2 1.01 obj [-9.2202907],  avg val MMD^2 1.02  obj [-9.230143]  elapsed: 0.0 sigma: [1.21836428]\n",
      "   100: avg train MMD^2 1.01 obj [-9.2202907],  avg val MMD^2 1.02  obj [-9.230143]  elapsed: 0.0 sigma: [1.19398311]\n",
      "   200: avg train MMD^2 1.01 obj [-9.2202907],  avg val MMD^2 1.02  obj [-9.230143]  elapsed: 0.0 sigma: [1.19385808]\n",
      "   300: avg train MMD^2 1.01 obj [-9.2202907],  avg val MMD^2 1.02  obj [-9.230143]  elapsed: 0.0 sigma: [1.19385808]\n",
      "   400: avg train MMD^2 1.01 obj [-9.2202907],  avg val MMD^2 1.02  obj [-9.230143]  elapsed: 0.0 sigma: [1.19385808]\n",
      "   500: avg train MMD^2 1.01 obj [-9.2202907],  avg val MMD^2 1.02  obj [-9.230143]  elapsed: 0.0 sigma: [1.19385808]\n"
     ]
    },
    {
     "name": "stdout",
     "output_type": "stream",
     "text": [
      "MMD with the sigma optimization. Theano: 1.02 Torch: 1.02\n"
     ]
    }
   ],
   "source": [
    "n_epoch = 500\n",
    "batch_size = 200\n",
    "is_opt_sigma = True\n",
    "# with sigma optimizations\n",
    "trainer_theano = ModelTrainerTheanoBackend()\n",
    "trained_obj_theano_with_sigma = trainer_theano.train(x_train, y_train, num_epochs=n_epoch, batchsize=batch_size, opt_sigma=is_opt_sigma, x_val=x_val, y_val=y_val, init_sigma_median=True)\n",
    "\n",
    "trainer_torch = ModelTrainerTorchBackend()\n",
    "trained_obj_torch_with_sigma = trainer_torch.train(x_train, y_train, num_epochs=n_epoch, batchsize=batch_size, opt_sigma=is_opt_sigma, x_val=x_val, y_val=y_val, init_sigma_median=True)\n",
    "\n",
    "mmd2_theano_with_sigma, ratio_theano = trainer_theano.mmd_distance(x=x_val, y=y_val, sigma=trained_obj_theano_with_sigma.sigma)\n",
    "mmd2_torch_with_sigma, ratio_torch = trainer_torch.mmd_distance(x=x_val, y=y_val)\n",
    "print(f'MMD with the sigma optimization. Theano: {mmd2_theano_with_sigma} Torch: {mmd2_torch_with_sigma}')"
   ]
  },
  {
   "cell_type": "markdown",
   "id": "ddd269ee-3120-41f3-bb8a-58b23551a641",
   "metadata": {},
   "source": [
    "### Conclusion\n",
    "\n",
    "Sigma optimization does not seem to give effects to compute MMD^2 distance."
   ]
  },
  {
   "cell_type": "code",
   "execution_count": null,
   "id": "cc941f1f-f376-45d6-a068-bc7383cb9291",
   "metadata": {},
   "outputs": [],
   "source": []
  }
 ],
 "metadata": {
  "kernelspec": {
   "display_name": "Python 3",
   "language": "python",
   "name": "python3"
  },
  "language_info": {
   "codemirror_mode": {
    "name": "ipython",
    "version": 3
   },
   "file_extension": ".py",
   "mimetype": "text/x-python",
   "name": "python",
   "nbconvert_exporter": "python",
   "pygments_lexer": "ipython3",
   "version": "3.6.13"
  }
 },
 "nbformat": 4,
 "nbformat_minor": 5
}
