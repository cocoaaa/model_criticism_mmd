{
 "cells": [
  {
   "cell_type": "markdown",
   "id": "069bfe9e",
   "metadata": {},
   "source": [
    "# Study note about behaviors of learning ARD weights"
   ]
  },
  {
   "cell_type": "code",
   "execution_count": 1,
   "id": "58d24d04-b206-4cfe-ab73-ce013878e0b7",
   "metadata": {},
   "outputs": [
    {
     "name": "stderr",
     "output_type": "stream",
     "text": [
      "WARNING (theano.configdefaults): install mkl with `conda install mkl-service`: No module named 'mkl'\n"
     ]
    }
   ],
   "source": [
    "import numpy\n",
    "import sys\n",
    "sys.path.append(\"../\")\n",
    "sys.path.append(\".\")\n",
    "from model_criticism_mmd import ModelTrainerTorchBackend, MMD, ModelTrainerTheanoBackend\n",
    "from model_criticism_mmd.backends import kernels_torch"
   ]
  },
  {
   "cell_type": "code",
   "execution_count": 2,
   "id": "1e90f7a8-b2fc-4664-b111-8fab92149d94",
   "metadata": {},
   "outputs": [],
   "source": [
    "import torch\n",
    "device_obj = torch.device('cpu')"
   ]
  },
  {
   "cell_type": "markdown",
   "id": "1e98ee51-5a56-4016-8df4-a3edad94e559",
   "metadata": {},
   "source": [
    "# Study: Correctness of ARD weightts\n",
    "\n",
    "## objective\n",
    "\n",
    "1. We confirm the computed ARD weights are as we expected.\n",
    "2. We observe how the sigma value works on learninig the ARD weights.\n",
    "\n",
    "## Settings"
   ]
  },
  {
   "cell_type": "markdown",
   "id": "db303c4e-4d81-48a6-acab-9f07688bc31f",
   "metadata": {},
   "source": [
    "We generate the input data with the following way.\n",
    "\n",
    "The input data has 3 dimensions. Only the 1st dimenstion has huge variance. The 2nd and 3rd features have the same mean and variance.\n",
    "\n",
    "We cut the input data into 80 samples as `training` and 20 samples as `validation`."
   ]
  },
  {
   "cell_type": "code",
   "execution_count": 3,
   "id": "2ae04b66-2bf3-4cd3-8c7f-97979efa6fa3",
   "metadata": {},
   "outputs": [
    {
     "name": "stderr",
     "output_type": "stream",
     "text": [
      "Starting with sigma = median; optimizing it\n"
     ]
    },
    {
     "name": "stdout",
     "output_type": "stream",
     "text": [
      "1 dim. mean(x)=1.0 mean(y)=3.794244686785979 var(x)=0.0 var(y)=2476.663202810021\n",
      "2 dim. mean(x)=10.000804314105228 mean(y)=10.012755435327513 var(x)=0.039063679232819566 var(y)=0.03607008589519812\n",
      "3 dim. mean(x)=9.980861447174432 mean(y)=10.038935376916777 var(x)=0.03623773495314142 var(y)=0.03839255095424872\n"
     ]
    },
    {
     "name": "stderr",
     "output_type": "stream",
     "text": [
      "Compiling...\n",
      "WARNING (theano.tensor.blas): We did not find a dynamic library in the library_dir of the library we use for blas. If you use ATLAS, make sure to compile it with dynamics library.\n",
      "WARNING (theano.tensor.blas): We did not find a dynamic library in the library_dir of the library we use for blas. If you use ATLAS, make sure to compile it with dynamics library.\n",
      "done\n",
      "Getting median initial sigma value...\n",
      "21.3\n",
      "Input dim 3, representation dim 3\n",
      "Training on 80 samples (batch 200), validation on 20 (batch 1000)\n",
      "2 parameters to optimize: scales, log_sigma\n",
      "     0: avg train MMD^2  0.567266 obj -2.134350,  avg val MMD^2  0.327214  obj -1.126542  elapsed: 0s  sigma: 21.3\n",
      "     5: avg train MMD^2  0.612720 obj -2.206668,  avg val MMD^2  0.377455  obj -1.200514  elapsed: 0s  sigma: 19.4\n",
      "    25: avg train MMD^2  1.034153 obj -4.549388,  avg val MMD^2  0.964618  obj -2.595325  elapsed: 0s  sigma: 4.45\n",
      "    50: avg train MMD^2  1.018105 obj -6.249617,  avg val MMD^2  1.063384  obj -4.735463  elapsed: 0s  sigma: 1.87\n",
      "   100: avg train MMD^2  1.014344 obj -7.085895,  avg val MMD^2  1.051701  obj -6.468346  elapsed: 0s  sigma: 0.368\n",
      "   200: avg train MMD^2  0.025000 obj -5.521461,  avg val MMD^2  0.100000  obj -6.907755  elapsed: 0s  sigma: 0.0151\n",
      "   300: avg train MMD^2  0.025000 obj -5.521461,  avg val MMD^2  0.100000  obj -6.907755  elapsed: 0s  sigma: 0.0151\n",
      "   400: avg train MMD^2  0.025000 obj -5.521461,  avg val MMD^2  0.100000  obj -6.907755  elapsed: 1s  sigma: 0.0151\n",
      "   500: avg train MMD^2  0.025000 obj -5.521461,  avg val MMD^2  0.100000  obj -6.907755  elapsed: 1s  sigma: 0.0151\n",
      "Trained result: the opt global-sigma: 0.015134317464538997\n",
      "input data N(sample-size)=100, N(dimension)=3\n",
      "Validation at 0. MMD^2 = 0.952932386713567, ratio = [12.90771102] obj = [-2.55782489]\n",
      "     5: [avg train] MMD^2 0.9928398450590875 obj [-4.79874156] val-MMD^2 1.0422032417831686 val-ratio [45.39611001] val-obj [-3.81542642]  elapsed: 0.0\n",
      "    25: [avg train] MMD^2 1.0150590022242074 obj [-6.98566041] val-MMD^2 1.0581809843175243 val-ratio [197.0567666] val-obj [-5.28349184]  elapsed: 0.0\n",
      "    50: [avg train] MMD^2 1.0117592142900607 obj [-7.43045571] val-MMD^2 1.0520778970005047 val-ratio [525.25077238] val-obj [-6.26387581]  elapsed: 0.0\n",
      "   100: [avg train] MMD^2 1.0103408494676522 obj [-8.36974589] val-MMD^2 1.0499999995507476 val-ratio [10499.99999551] val-obj [-9.25913054]  elapsed: 0.0\n",
      "   200: [avg train] MMD^2 0.02000000050030385 obj [-5.29831739] val-MMD^2 0.1 val-ratio [1000.] val-obj [-6.90775528]  elapsed: 0.0\n",
      "   300: [avg train] MMD^2 0.020000000486093884 obj [-5.29831739] val-MMD^2 0.1 val-ratio [1000.] val-obj [-6.90775528]  elapsed: 0.0\n",
      "   400: [avg train] MMD^2 0.020000000486093884 obj [-5.29831739] val-MMD^2 0.1 val-ratio [1000.] val-obj [-6.90775528]  elapsed: 0.0\n",
      "   500: [avg train] MMD^2 0.020000000486093884 obj [-5.29831739] val-MMD^2 0.1 val-ratio [1000.] val-obj [-6.90775528]  elapsed: 0.0\n",
      "Using sigma = 1.0\n",
      "Compiling...\n",
      "done\n",
      "Input dim 3, representation dim 3\n",
      "Training on 80 samples (batch 200), validation on 20 (batch 1000)\n",
      "1 parameters to optimize: scales\n",
      "     0: avg train MMD^2  0.952840 obj -4.878299,  avg val MMD^2  0.999485  obj -3.584088  elapsed: 0s\n",
      "     5: avg train MMD^2  0.966880 obj -5.069143,  avg val MMD^2  1.013222  obj -3.655054  elapsed: 0s\n",
      "    25: avg train MMD^2  1.023261 obj -6.213929,  avg val MMD^2  1.065399  obj -4.554442  elapsed: 0s\n",
      "    50: avg train MMD^2  1.019363 obj -6.340281,  avg val MMD^2  1.063375  obj -4.902963  elapsed: 0s\n",
      "   100: avg train MMD^2  1.018720 obj -6.463272,  avg val MMD^2  1.059641  obj -5.170496  elapsed: 0s\n",
      "   200: avg train MMD^2  1.017110 obj -6.613237,  avg val MMD^2  1.056069  obj -5.516169  elapsed: 0s\n",
      "   300: avg train MMD^2  1.016303 obj -6.712724,  avg val MMD^2  1.054641  obj -5.681190  elapsed: 1s\n",
      "   400: avg train MMD^2  1.015771 obj -6.791465,  avg val MMD^2  1.053828  obj -5.789832  elapsed: 1s\n",
      "   500: avg train MMD^2  1.015362 obj -6.862077,  avg val MMD^2  1.053259  obj -5.895437  elapsed: 1s\n",
      "Trained result: the opt global-sigma: 1.0\n",
      "input data N(sample-size)=100, N(dimension)=3\n",
      "Validation at 0. MMD^2 = 0.9863007533383965, ratio = [16.34865469] obj = [-2.79414561]\n",
      "     5: [avg train] MMD^2 1.0007053059887823 obj [-4.82436855] val-MMD^2 1.039805285763611 val-ratio [36.55623366] val-obj [-3.59885172]  elapsed: 0.0\n",
      "    25: [avg train] MMD^2 1.0150617329252347 obj [-6.9088687] val-MMD^2 1.0600598233268432 val-ratio [164.8005289] val-obj [-5.10473583]  elapsed: 0.0\n",
      "    50: [avg train] MMD^2 1.015122805299861 obj [-6.99709645] val-MMD^2 1.0582544629227484 val-ratio [197.02368215] val-obj [-5.28332394]  elapsed: 0.0\n",
      "   100: [avg train] MMD^2 1.0144397217611434 obj [-7.06713085] val-MMD^2 1.0566374037192723 val-ratio [233.35006138] val-obj [-5.45253974]  elapsed: 0.0\n",
      "   200: [avg train] MMD^2 1.0136476349781451 obj [-7.1550275] val-MMD^2 1.0550471007889173 val-ratio [279.78006258] val-obj [-5.6340038]  elapsed: 0.0\n",
      "   300: [avg train] MMD^2 1.0131604648548365 obj [-7.21503406] val-MMD^2 1.0542061812896193 val-ratio [309.85318013] val-obj [-5.73609857]  elapsed: 0.0\n",
      "   400: [avg train] MMD^2 1.0127976041705071 obj [-7.26525768] val-MMD^2 1.0536380794478266 val-ratio [337.410563] val-obj [-5.82130048]  elapsed: 0.0\n",
      "   500: [avg train] MMD^2 1.0125002512607995 obj [-7.31235191] val-MMD^2 1.0531969690386613 val-ratio [368.56122687] val-obj [-5.90960685]  elapsed: 0.0\n",
      "Starting with sigma = median; optimizing it\n"
     ]
    },
    {
     "name": "stdout",
     "output_type": "stream",
     "text": [
      "1 dim. mean(x)=1.0 mean(y)=-3.2910783549023233 var(x)=0.0 var(y)=2662.981567345054\n",
      "2 dim. mean(x)=10.018438658155072 mean(y)=9.995670546794102 var(x)=0.04023674640940499 var(y)=0.03665591755862935\n",
      "3 dim. mean(x)=10.005264664080602 mean(y)=9.993287886522628 var(x)=0.04384700637937293 var(y)=0.049604940264592105\n"
     ]
    },
    {
     "name": "stderr",
     "output_type": "stream",
     "text": [
      "Compiling...\n",
      "done\n",
      "Getting median initial sigma value...\n",
      "20.7\n",
      "Input dim 3, representation dim 3\n",
      "Training on 80 samples (batch 200), validation on 20 (batch 1000)\n",
      "2 parameters to optimize: scales, log_sigma\n",
      "     0: avg train MMD^2  0.551410 obj -2.121717,  avg val MMD^2  0.620558  obj -1.415628  elapsed: 0s  sigma: 20.7\n",
      "     5: avg train MMD^2  0.604326 obj -2.214320,  avg val MMD^2  0.667969  obj -1.513940  elapsed: 0s  sigma: 18.6\n",
      "    25: avg train MMD^2  0.981634 obj -3.500120,  avg val MMD^2  0.930130  obj -2.461990  elapsed: 0s  sigma: 5.97\n",
      "    50: avg train MMD^2  1.017314 obj -7.145421,  avg val MMD^2  1.049584  obj -9.258734  elapsed: 0s  sigma: 1.95\n",
      "   100: avg train MMD^2  1.014361 obj -7.560454,  avg val MMD^2  1.049944  obj -9.259077  elapsed: 0s  sigma: 0.661\n",
      "   200: avg train MMD^2  1.012500 obj -9.222763,  avg val MMD^2  1.050000  obj -9.259131  elapsed: 0s  sigma: 0.026\n",
      "   300: avg train MMD^2  1.012500 obj -9.222763,  avg val MMD^2  1.050000  obj -9.259131  elapsed: 0s  sigma: 0.0251\n",
      "   400: avg train MMD^2  0.025000 obj -5.521461,  avg val MMD^2  0.100000  obj -6.907755  elapsed: 1s  sigma: 0.00856\n",
      "   500: avg train MMD^2  0.025000 obj -5.521461,  avg val MMD^2  0.100000  obj -6.907755  elapsed: 1s  sigma: 0.00852\n",
      "Trained result: the opt global-sigma: 0.008518577046499196\n",
      "input data N(sample-size)=100, N(dimension)=3\n",
      "Validation at 0. MMD^2 = 0.9877277739870494, ratio = [22.13446344] obj = [-3.09713583]\n",
      "     5: [avg train] MMD^2 1.0065928813942409 obj [-6.47782236] val-MMD^2 1.0438017173341496 val-ratio [700.96242857] val-obj [-6.55245429]  elapsed: 0.0\n",
      "    25: [avg train] MMD^2 1.013027425305556 obj [-7.44583739] val-MMD^2 1.0497981396161549 val-ratio [10497.98139616] val-obj [-9.25893827]  elapsed: 0.0\n",
      "    50: [avg train] MMD^2 1.0141703339532568 obj [-7.49381009] val-MMD^2 1.0499873339596413 val-ratio [10499.8733396] val-obj [-9.25911847]  elapsed: 0.0\n",
      "   100: [avg train] MMD^2 1.015277014400965 obj [-7.52541862] val-MMD^2 1.049995106104112 val-ratio [10499.95106104] val-obj [-9.25912588]  elapsed: 0.0\n",
      "   200: [avg train] MMD^2 1.015325994255418 obj [-7.52548726] val-MMD^2 1.0499961793714865 val-ratio [10499.96179371] val-obj [-9.2591269]  elapsed: 0.0\n",
      "   300: [avg train] MMD^2 1.0153264693488897 obj [-7.52548742] val-MMD^2 1.0499964355730598 val-ratio [10499.96435573] val-obj [-9.25912714]  elapsed: 0.0\n",
      "   400: [avg train] MMD^2 1.0153266152268832 obj [-7.52548745] val-MMD^2 1.049996535372434 val-ratio [10499.96535372] val-obj [-9.25912724]  elapsed: 0.0\n",
      "   500: [avg train] MMD^2 1.0153266800839462 obj [-7.52548745] val-MMD^2 1.0499965815932988 val-ratio [10499.96581593] val-obj [-9.25912728]  elapsed: 0.0\n",
      "Using sigma = 1.0\n",
      "Compiling...\n",
      "done\n",
      "Input dim 3, representation dim 3\n",
      "Training on 80 samples (batch 200), validation on 20 (batch 1000)\n",
      "1 parameters to optimize: scales\n",
      "     0: avg train MMD^2  0.935628 obj -4.696776,  avg val MMD^2  0.999036  obj -4.563956  elapsed: 0s\n",
      "     5: avg train MMD^2  0.950970 obj -4.900822,  avg val MMD^2  1.012852  obj -4.888241  elapsed: 0s\n",
      "    25: avg train MMD^2  1.014247 obj -7.256309,  avg val MMD^2  1.048796  obj -8.366534  elapsed: 0s\n",
      "    50: avg train MMD^2  1.015754 obj -7.431490,  avg val MMD^2  1.049828  obj -9.258967  elapsed: 0s\n",
      "   100: avg train MMD^2  1.015687 obj -7.454052,  avg val MMD^2  1.049998  obj -9.259129  elapsed: 0s\n",
      "   200: avg train MMD^2  1.015318 obj -7.472866,  avg val MMD^2  1.049999  obj -9.259129  elapsed: 0s\n",
      "   300: avg train MMD^2  1.015074 obj -7.488884,  avg val MMD^2  1.049999  obj -9.259129  elapsed: 0s\n",
      "   400: avg train MMD^2  1.014880 obj -7.505820,  avg val MMD^2  1.049998  obj -9.259129  elapsed: 1s\n",
      "   500: avg train MMD^2  1.014718 obj -7.523978,  avg val MMD^2  1.049998  obj -9.259128  elapsed: 1s\n",
      "Trained result: the opt global-sigma: 1.0\n",
      "input data N(sample-size)=100, N(dimension)=3\n",
      "Validation at 0. MMD^2 = 1.0070771414140414, ratio = [45.76370967] obj = [-3.82349141]\n",
      "     5: [avg train] MMD^2 0.9890176739098727 obj [-5.45022748] val-MMD^2 1.0362280977927045 val-ratio [360.24350539] val-obj [-5.88678021]  elapsed: 0.0\n",
      "    25: [avg train] MMD^2 1.0148140732089295 obj [-7.51972551] val-MMD^2 1.0499953808833051 val-ratio [10499.95380883] val-obj [-9.25912614]  elapsed: 0.0\n",
      "    50: [avg train] MMD^2 1.0146936172001384 obj [-7.51689734] val-MMD^2 1.0499572810591262 val-ratio [10499.57281059] val-obj [-9.25908985]  elapsed: 0.0\n",
      "   100: [avg train] MMD^2 1.0152225122119471 obj [-7.52522196] val-MMD^2 1.049989203685094 val-ratio [10499.89203685] val-obj [-9.25912025]  elapsed: 0.0\n",
      "   200: [avg train] MMD^2 1.015324335027548 obj [-7.52548702] val-MMD^2 1.0499947487991976 val-ratio [10499.94748799] val-obj [-9.25912553]  elapsed: 0.0\n",
      "   300: [avg train] MMD^2 1.0153256638145454 obj [-7.52548738] val-MMD^2 1.0499958569751524 val-ratio [10499.95856975] val-obj [-9.25912659]  elapsed: 0.0\n",
      "   400: [avg train] MMD^2 1.015326235040112 obj [-7.52548744] val-MMD^2 1.0499962636761249 val-ratio [10499.96263676] val-obj [-9.25912698]  elapsed: 0.0\n",
      "   500: [avg train] MMD^2 1.0153264885509008 obj [-7.52548745] val-MMD^2 1.0499964456818296 val-ratio [10499.96445682] val-obj [-9.25912715]  elapsed: 0.0\n",
      "Starting with sigma = median; optimizing it\n"
     ]
    },
    {
     "name": "stdout",
     "output_type": "stream",
     "text": [
      "1 dim. mean(x)=1.0 mean(y)=1.9536727141597885 var(x)=0.0 var(y)=2287.7127732846934\n",
      "2 dim. mean(x)=10.013219358332682 mean(y)=10.000327963051317 var(x)=0.03579343880437631 var(y)=0.03756198812461435\n",
      "3 dim. mean(x)=10.018103720956839 mean(y)=10.005794755851973 var(x)=0.03398136094511034 var(y)=0.057705280909693506\n"
     ]
    },
    {
     "name": "stderr",
     "output_type": "stream",
     "text": [
      "Compiling...\n",
      "done\n",
      "Getting median initial sigma value...\n",
      "23.4\n",
      "Input dim 3, representation dim 3\n",
      "Training on 80 samples (batch 200), validation on 20 (batch 1000)\n",
      "2 parameters to optimize: scales, log_sigma\n",
      "     0: avg train MMD^2  0.625737 obj -2.269884,  avg val MMD^2  0.525925  obj -1.333024  elapsed: 0s  sigma: 23.4\n",
      "     5: avg train MMD^2  0.689133 obj -2.329740,  avg val MMD^2  0.568959  obj -1.411603  elapsed: 0s  sigma: 21.5\n",
      "    25: avg train MMD^2  0.979922 obj -3.018546,  avg val MMD^2  0.921840  obj -2.433018  elapsed: 0s  sigma: 9.23\n",
      "    50: avg train MMD^2  0.986765 obj -3.615907,  avg val MMD^2  1.058491  obj -5.814967  elapsed: 0s  sigma: 3.18\n",
      "   100: avg train MMD^2  1.014550 obj -7.208122,  avg val MMD^2  1.049912  obj -9.259047  elapsed: 0s  sigma: 0.377\n",
      "   200: avg train MMD^2  1.012500 obj -9.222763,  avg val MMD^2  1.050000  obj -9.259131  elapsed: 0s  sigma: 0.0303\n",
      "   300: avg train MMD^2  1.012500 obj -9.222763,  avg val MMD^2  1.050000  obj -9.259131  elapsed: 1s  sigma: 0.0303\n",
      "   400: avg train MMD^2  1.012500 obj -9.222763,  avg val MMD^2  1.050000  obj -9.259131  elapsed: 1s  sigma: 0.0303\n",
      "   500: avg train MMD^2  1.012500 obj -9.222763,  avg val MMD^2  1.050000  obj -9.259131  elapsed: 1s  sigma: 0.0303\n",
      "Trained result: the opt global-sigma: 0.03029310964008252\n",
      "input data N(sample-size)=100, N(dimension)=3\n",
      "Validation at 0. MMD^2 = 1.0229366460501543, ratio = [30.11727509] obj = [-3.40509893]\n",
      "     5: [avg train] MMD^2 0.9723483024442384 obj [-3.72707771] val-MMD^2 1.0472822745537025 val-ratio [163.92668295] val-obj [-5.09941927]  elapsed: 0.0\n",
      "    25: [avg train] MMD^2 1.0104697335496555 obj [-6.82482966] val-MMD^2 1.0482018199077887 val-ratio [2097.46731296] val-obj [-7.64848585]  elapsed: 0.0\n",
      "    50: [avg train] MMD^2 1.0114521241916965 obj [-7.38289292] val-MMD^2 1.049840390470279 val-ratio [10498.4039047] val-obj [-9.25897852]  elapsed: 0.0\n",
      "   100: [avg train] MMD^2 1.0100000272872485 obj [-9.22029073] val-MMD^2 1.05 val-ratio [10500.] val-obj [-9.25913054]  elapsed: 0.0\n",
      "   200: [avg train] MMD^2 1.010000014490224 obj [-9.22029072] val-MMD^2 1.05 val-ratio [10500.] val-obj [-9.25913054]  elapsed: 0.0\n",
      "   300: [avg train] MMD^2 1.010000014490224 obj [-9.22029072] val-MMD^2 1.05 val-ratio [10500.] val-obj [-9.25913054]  elapsed: 0.0\n",
      "   400: [avg train] MMD^2 1.010000014490224 obj [-9.22029072] val-MMD^2 1.05 val-ratio [10500.] val-obj [-9.25913054]  elapsed: 0.0\n",
      "   500: [avg train] MMD^2 1.010000014490224 obj [-9.22029072] val-MMD^2 1.05 val-ratio [10500.] val-obj [-9.25913054]  elapsed: 0.0\n",
      "Using sigma = 1.0\n",
      "Compiling...\n",
      "done\n",
      "Input dim 3, representation dim 3\n",
      "Training on 80 samples (batch 200), validation on 20 (batch 1000)\n",
      "1 parameters to optimize: scales\n",
      "     0: avg train MMD^2  0.935662 obj -3.933295,  avg val MMD^2  0.997537  obj -4.347651  elapsed: 0s\n",
      "     5: avg train MMD^2  0.938806 obj -4.074091,  avg val MMD^2  0.996768  obj -4.361707  elapsed: 0s\n",
      "    25: avg train MMD^2  0.998209 obj -5.962441,  avg val MMD^2  1.035279  obj -5.603186  elapsed: 0s\n",
      "    50: avg train MMD^2  1.015726 obj -6.692332,  avg val MMD^2  1.048665  obj -7.734462  elapsed: 0s\n",
      "   100: avg train MMD^2  1.016884 obj -6.774312,  avg val MMD^2  1.049939  obj -9.259072  elapsed: 0s\n",
      "   200: avg train MMD^2  1.016243 obj -6.874324,  avg val MMD^2  1.049889  obj -9.259024  elapsed: 0s\n",
      "   300: avg train MMD^2  1.015766 obj -6.958176,  avg val MMD^2  1.049908  obj -9.259043  elapsed: 0s\n",
      "   400: avg train MMD^2  1.015397 obj -7.029989,  avg val MMD^2  1.049929  obj -9.259063  elapsed: 1s\n",
      "   500: avg train MMD^2  1.015099 obj -7.092862,  avg val MMD^2  1.049945  obj -9.259078  elapsed: 1s\n",
      "Trained result: the opt global-sigma: 1.0\n",
      "input data N(sample-size)=100, N(dimension)=3\n",
      "Validation at 0. MMD^2 = 1.0372529143410527, ratio = [135.12788161] obj = [-4.9062216]\n",
      "     5: [avg train] MMD^2 0.9673762118563991 obj [-3.89324978] val-MMD^2 1.0372052047158138 val-ratio [167.47313815] val-obj [-5.12082297]  elapsed: 0.0\n",
      "    25: [avg train] MMD^2 0.9945343280894537 obj [-5.93930997] val-MMD^2 1.0366234459613346 val-ratio [291.22748093] val-obj [-5.67410468]  elapsed: 0.0\n",
      "    50: [avg train] MMD^2 1.0132152223470527 obj [-6.91809698] val-MMD^2 1.049498416721379 val-ratio [3270.53476554] val-obj [-8.09270879]  elapsed: 0.0\n",
      "   100: [avg train] MMD^2 1.0139230423516805 obj [-6.97498235] val-MMD^2 1.0500266723283915 val-ratio [10500.26672328] val-obj [-9.25915594]  elapsed: 0.0\n",
      "   200: [avg train] MMD^2 1.0134712246215292 obj [-7.03611165] val-MMD^2 1.0499627477344329 val-ratio [10499.62747734] val-obj [-9.25909506]  elapsed: 0.0\n",
      "   300: [avg train] MMD^2 1.0131068276532083 obj [-7.09038123] val-MMD^2 1.0499536340294973 val-ratio [10499.53634029] val-obj [-9.25908638]  elapsed: 0.0\n",
      "   400: [avg train] MMD^2 1.012812445999648 obj [-7.14056177] val-MMD^2 1.0499618846310184 val-ratio [10499.61884631] val-obj [-9.25909424]  elapsed: 0.0\n",
      "   500: [avg train] MMD^2 1.012562768516534 obj [-7.18741005] val-MMD^2 1.049970078360415 val-ratio [10499.7007836] val-obj [-9.25910204]  elapsed: 0.0\n",
      "Starting with sigma = median; optimizing it\n",
      "Compiling...\n"
     ]
    },
    {
     "name": "stdout",
     "output_type": "stream",
     "text": [
      "1 dim. mean(x)=1.0 mean(y)=3.5141730448836945 var(x)=0.0 var(y)=2881.06024075944\n",
      "2 dim. mean(x)=10.012096976011295 mean(y)=9.978651888070065 var(x)=0.05096346174801573 var(y)=0.03442147996111479\n",
      "3 dim. mean(x)=10.0139096859584 mean(y)=10.024546054276218 var(x)=0.04846329465893924 var(y)=0.03967969176731732\n"
     ]
    },
    {
     "name": "stderr",
     "output_type": "stream",
     "text": [
      "done\n",
      "Getting median initial sigma value...\n",
      "18.8\n",
      "Input dim 3, representation dim 3\n",
      "Training on 80 samples (batch 200), validation on 20 (batch 1000)\n",
      "2 parameters to optimize: scales, log_sigma\n",
      "     0: avg train MMD^2  0.530061 obj -2.093467,  avg val MMD^2  0.648698  obj -1.600537  elapsed: 0s  sigma: 18.8\n",
      "     5: avg train MMD^2  0.566471 obj -2.140614,  avg val MMD^2  0.705651  obj -1.637193  elapsed: 0s  sigma: 17.4\n",
      "    25: avg train MMD^2  0.864890 obj -2.817712,  avg val MMD^2  0.939518  obj -2.353111  elapsed: 0s  sigma: 7.76\n",
      "    50: avg train MMD^2  0.970888 obj -4.747261,  avg val MMD^2  1.009157  obj -4.785852  elapsed: 0s  sigma: 1.34\n",
      "   100: avg train MMD^2  1.014981 obj -6.967699,  avg val MMD^2  1.051825  obj -6.388079  elapsed: 0s  sigma: 0.448\n",
      "   200: avg train MMD^2  0.025002 obj -5.521527,  avg val MMD^2  0.100000  obj -6.907755  elapsed: 0s  sigma: 0.00493\n",
      "   300: avg train MMD^2  0.025000 obj -5.521461,  avg val MMD^2  0.100000  obj -6.907755  elapsed: 0s  sigma: 0.00321\n",
      "   400: avg train MMD^2  0.025000 obj -5.521461,  avg val MMD^2  0.100000  obj -6.907755  elapsed: 1s  sigma: 0.00321\n",
      "   500: avg train MMD^2  0.025000 obj -5.521461,  avg val MMD^2  0.100000  obj -6.907755  elapsed: 1s  sigma: 0.00321\n",
      "Trained result: the opt global-sigma: 0.003207193051781098\n",
      "input data N(sample-size)=100, N(dimension)=3\n",
      "Validation at 0. MMD^2 = 1.0303682157315088, ratio = [146.69943485] obj = [-4.98838583]\n",
      "     5: [avg train] MMD^2 0.9788571087797937 obj [-4.43090898] val-MMD^2 1.0201846569986666 val-ratio [122.88731847] val-obj [-4.81126783]  elapsed: 0.0\n",
      "    25: [avg train] MMD^2 1.012060948586693 obj [-7.3042513] val-MMD^2 1.0522931710093166 val-ratio [359.47691895] val-obj [-5.88464997]  elapsed: 0.0\n",
      "    50: [avg train] MMD^2 1.0113296756324377 obj [-7.52312348] val-MMD^2 1.0504780701306609 val-ratio [2159.89549684] val-obj [-7.67781512]  elapsed: 0.0\n",
      "   100: [avg train] MMD^2 0.03140369059198565 obj [-3.03327304] val-MMD^2 0.11700316387241358 val-ratio [9.77641977] val-obj [-2.27997334]  elapsed: 0.0\n",
      "   200: [avg train] MMD^2 0.020000647378570692 obj [-5.29834973] val-MMD^2 0.1 val-ratio [1000.] val-obj [-6.90775528]  elapsed: 0.0\n",
      "   300: [avg train] MMD^2 0.02000068608066303 obj [-5.29835167] val-MMD^2 0.1 val-ratio [1000.] val-obj [-6.90775528]  elapsed: 0.0\n",
      "   400: [avg train] MMD^2 0.020000731677525377 obj [-5.29835395] val-MMD^2 0.1 val-ratio [1000.] val-obj [-6.90775528]  elapsed: 0.0\n",
      "   500: [avg train] MMD^2 0.02000078266289477 obj [-5.2983565] val-MMD^2 0.1 val-ratio [1000.] val-obj [-6.90775528]  elapsed: 0.0\n",
      "Using sigma = 1.0\n",
      "Compiling...\n",
      "done\n",
      "Input dim 3, representation dim 3\n",
      "Training on 80 samples (batch 200), validation on 20 (batch 1000)\n",
      "1 parameters to optimize: scales\n",
      "     0: avg train MMD^2  0.911078 obj -3.871584,  avg val MMD^2  0.975071  obj -4.303821  elapsed: 0s\n",
      "     5: avg train MMD^2  0.918928 obj -3.971459,  avg val MMD^2  0.980089  obj -4.363790  elapsed: 0s\n",
      "    25: avg train MMD^2  1.001017 obj -5.738859,  avg val MMD^2  1.042670  obj -5.379503  elapsed: 0s\n",
      "    50: avg train MMD^2  1.015712 obj -6.824477,  avg val MMD^2  1.053167  obj -5.621141  elapsed: 0s\n",
      "   100: avg train MMD^2  1.016528 obj -6.843431,  avg val MMD^2  1.053886  obj -5.659004  elapsed: 0s\n",
      "   200: avg train MMD^2  1.016369 obj -6.852620,  avg val MMD^2  1.053746  obj -5.695968  elapsed: 0s\n",
      "   300: avg train MMD^2  1.016227 obj -6.860957,  avg val MMD^2  1.053609  obj -5.733366  elapsed: 0s\n",
      "   400: avg train MMD^2  1.016092 obj -6.869641,  avg val MMD^2  1.053466  obj -5.773845  elapsed: 0s\n",
      "   500: avg train MMD^2  1.015960 obj -6.878978,  avg val MMD^2  1.053315  obj -5.818328  elapsed: 0s\n",
      "Trained result: the opt global-sigma: 1.0\n",
      "input data N(sample-size)=100, N(dimension)=3\n",
      "Validation at 0. MMD^2 = 0.38764307562501077, ratio = [4.19540501] obj = [-1.43398988]\n",
      "     5: [avg train] MMD^2 0.938764576455398 obj [-3.86909028] val-MMD^2 1.0115693570729167 val-ratio [120.59936466] val-obj [-4.79247402]  elapsed: 0.0\n",
      "    25: [avg train] MMD^2 1.012318447092887 obj [-6.87697559] val-MMD^2 1.0535487383339124 val-ratio [253.81914599] val-obj [-5.53662199]  elapsed: 0.0\n",
      "    50: [avg train] MMD^2 1.0134406395070674 obj [-7.24794384] val-MMD^2 1.0538999730375707 val-ratio [283.97774783] val-obj [-5.64889588]  elapsed: 0.0\n",
      "   100: [avg train] MMD^2 1.0132205791321762 obj [-7.26845142] val-MMD^2 1.053722458283514 val-ratio [296.56878271] val-obj [-5.69227917]  elapsed: 0.0\n",
      "   200: [avg train] MMD^2 1.0130450903253463 obj [-7.28606635] val-MMD^2 1.0535535902189266 val-ratio [313.36535576] val-obj [-5.74736978]  elapsed: 0.0\n",
      "   300: [avg train] MMD^2 1.0128876351617675 obj [-7.29946342] val-MMD^2 1.0533767019427334 val-ratio [330.04827965] val-obj [-5.79923895]  elapsed: 0.0\n",
      "   400: [avg train] MMD^2 1.0127511406978427 obj [-7.31158582] val-MMD^2 1.0532037562781398 val-ratio [347.90808248] val-obj [-5.85193831]  elapsed: 0.0\n",
      "   500: [avg train] MMD^2 1.0126286634413457 obj [-7.32323452] val-MMD^2 1.053032569483963 val-ratio [367.53195616] val-obj [-5.90681027]  elapsed: 0.0\n",
      "Starting with sigma = median; optimizing it\n"
     ]
    },
    {
     "name": "stdout",
     "output_type": "stream",
     "text": [
      "1 dim. mean(x)=1.0 mean(y)=5.902066248713997 var(x)=0.0 var(y)=2611.224226014868\n",
      "2 dim. mean(x)=10.016997918750748 mean(y)=10.002626351954795 var(x)=0.03319854997013539 var(y)=0.0375069099885901\n",
      "3 dim. mean(x)=10.001404982321501 mean(y)=10.027461486591214 var(x)=0.043176318612392815 var(y)=0.0388648905806243\n"
     ]
    },
    {
     "name": "stderr",
     "output_type": "stream",
     "text": [
      "Compiling...\n",
      "done\n",
      "Getting median initial sigma value...\n",
      "24.7\n",
      "Input dim 3, representation dim 3\n",
      "Training on 80 samples (batch 200), validation on 20 (batch 1000)\n",
      "2 parameters to optimize: scales, log_sigma\n",
      "     0: avg train MMD^2  0.535444 obj -2.150013,  avg val MMD^2  0.333892  obj -1.197282  elapsed: 0s  sigma: 24.7\n",
      "     5: avg train MMD^2  0.600144 obj -2.221044,  avg val MMD^2  0.395868  obj -1.293019  elapsed: 0s  sigma: 22.5\n",
      "    25: avg train MMD^2  0.937827 obj -2.973677,  avg val MMD^2  0.729128  obj -1.668794  elapsed: 0s  sigma: 9.41\n",
      "    50: avg train MMD^2  0.991852 obj -3.855594,  avg val MMD^2  0.978790  obj -3.344266  elapsed: 0s  sigma: 2.48\n",
      "   100: avg train MMD^2  1.014392 obj -7.476147,  avg val MMD^2  1.049947  obj -9.259080  elapsed: 0s  sigma: 0.433\n",
      "   200: avg train MMD^2  1.015030 obj -7.486661,  avg val MMD^2  1.050000  obj -9.259131  elapsed: 0s  sigma: 0.575\n",
      "   300: avg train MMD^2  1.015032 obj -7.486662,  avg val MMD^2  1.050000  obj -9.259131  elapsed: 0s  sigma: 0.575\n",
      "   400: avg train MMD^2  1.015032 obj -7.486662,  avg val MMD^2  1.050000  obj -9.259131  elapsed: 1s  sigma: 0.575\n",
      "   500: avg train MMD^2  1.015032 obj -7.486662,  avg val MMD^2  1.050000  obj -9.259131  elapsed: 1s  sigma: 0.575\n",
      "Trained result: the opt global-sigma: 0.5749511782164451\n",
      "input data N(sample-size)=100, N(dimension)=3\n",
      "Validation at 0. MMD^2 = 0.22861203212521897, ratio = [2.6290333] obj = [-0.96661621]\n",
      "     5: [avg train] MMD^2 0.9898268430420157 obj [-3.97602847] val-MMD^2 1.0155573481777185 val-ratio [52.69303158] val-obj [-3.96448322]  elapsed: 0.0\n",
      "    25: [avg train] MMD^2 1.011103545249109 obj [-7.76974706] val-MMD^2 1.0498663947649973 val-ratio [10498.66394765] val-obj [-9.25900328]  elapsed: 0.0\n",
      "    50: [avg train] MMD^2 1.0107193408531816 obj [-8.04953173] val-MMD^2 1.0499999502747681 val-ratio [10499.99950275] val-obj [-9.25913049]  elapsed: 0.0\n",
      "   100: [avg train] MMD^2 0.042834419981963495 obj [-2.67956651] val-MMD^2 0.11783297211666437 val-ratio [44.65594143] val-obj [-3.79898737]  elapsed: 0.0\n",
      "   200: [avg train] MMD^2 0.020009502675568377 obj [-5.29879239] val-MMD^2 0.1 val-ratio [1000.] val-obj [-6.90775528]  elapsed: 0.0\n",
      "   300: [avg train] MMD^2 0.02001151520392557 obj [-5.29889296] val-MMD^2 0.1 val-ratio [1000.] val-obj [-6.90775528]  elapsed: 0.0\n",
      "   400: [avg train] MMD^2 0.020014129828844422 obj [-5.29902361] val-MMD^2 0.1 val-ratio [1000.] val-obj [-6.90775528]  elapsed: 0.0\n",
      "   500: [avg train] MMD^2 0.020017527181917467 obj [-5.29919334] val-MMD^2 0.1 val-ratio [1000.] val-obj [-6.90775528]  elapsed: 0.0\n",
      "Using sigma = 1.0\n",
      "Compiling...\n",
      "done\n",
      "Input dim 3, representation dim 3\n",
      "Training on 80 samples (batch 200), validation on 20 (batch 1000)\n",
      "1 parameters to optimize: scales\n",
      "     0: avg train MMD^2  0.931578 obj -3.815829,  avg val MMD^2  0.933574  obj -3.272296  elapsed: 0s\n",
      "     5: avg train MMD^2  0.933514 obj -3.830201,  avg val MMD^2  0.943575  obj -3.399397  elapsed: 0s\n",
      "    25: avg train MMD^2  0.956530 obj -4.079999,  avg val MMD^2  1.007464  obj -4.739699  elapsed: 0s\n",
      "    50: avg train MMD^2  0.994242 obj -5.110637,  avg val MMD^2  1.038188  obj -5.949773  elapsed: 0s\n",
      "   100: avg train MMD^2  1.015113 obj -7.478393,  avg val MMD^2  1.049904  obj -9.259039  elapsed: 0s\n",
      "   200: avg train MMD^2  1.015158 obj -7.484450,  avg val MMD^2  1.049992  obj -9.259122  elapsed: 0s\n",
      "   300: avg train MMD^2  1.015127 obj -7.485524,  avg val MMD^2  1.049993  obj -9.259124  elapsed: 0s\n",
      "   400: avg train MMD^2  1.015106 obj -7.486005,  avg val MMD^2  1.049994  obj -9.259125  elapsed: 0s\n",
      "   500: avg train MMD^2  1.015090 obj -7.486257,  avg val MMD^2  1.049995  obj -9.259126  elapsed: 1s\n",
      "Trained result: the opt global-sigma: 1.0\n",
      "input data N(sample-size)=100, N(dimension)=3\n",
      "Validation at 0. MMD^2 = 0.8605756053489163, ratio = [10.45210765] obj = [-2.34680365]\n",
      "     5: [avg train] MMD^2 0.9396078225548883 obj [-3.72507279] val-MMD^2 0.9104682335844305 val-ratio [15.76687958] val-obj [-2.75791151]  elapsed: 0.0\n",
      "    25: [avg train] MMD^2 0.9728414215970524 obj [-4.51493059] val-MMD^2 1.0241458075666894 val-ratio [178.17354365] val-obj [-5.18275804]  elapsed: 0.0\n",
      "    50: [avg train] MMD^2 1.0064183043301698 obj [-6.15009714] val-MMD^2 1.0463907745217422 val-ratio [1263.47100486] val-obj [-7.14161798]  elapsed: 0.0\n",
      "   100: [avg train] MMD^2 1.0124876254342405 obj [-7.48103806] val-MMD^2 1.0499325743584493 val-ratio [10499.32574358] val-obj [-9.25906632]  elapsed: 0.0\n",
      "   200: [avg train] MMD^2 1.0124573940900763 obj [-7.49214697] val-MMD^2 1.0499897728826768 val-ratio [10499.89772883] val-obj [-9.2591208]  elapsed: 0.0\n",
      "   300: [avg train] MMD^2 1.012387683176041 obj [-7.49776741] val-MMD^2 1.0499932285676608 val-ratio [10499.93228568] val-obj [-9.25912409]  elapsed: 0.0\n",
      "   400: [avg train] MMD^2 1.012325158320001 obj [-7.50237888] val-MMD^2 1.0499947559629015 val-ratio [10499.94755963] val-obj [-9.25912554]  elapsed: 0.0\n",
      "   500: [avg train] MMD^2 1.0122664307226983 obj [-7.5067495] val-MMD^2 1.0499956353924946 val-ratio [10499.95635392] val-obj [-9.25912638]  elapsed: 0.0\n"
     ]
    }
   ],
   "source": [
    "size = 100\n",
    "n_trial = 5\n",
    "n_epoch = 500\n",
    "batch_size = 200\n",
    "\n",
    "result_stacks_with_sigma = []\n",
    "result_stacks_without_sigma = []\n",
    "for i_trial in range(0, n_trial):\n",
    "    x_1st_dim = numpy.random.normal(loc=1.0, scale=0.0, size=size)\n",
    "    y_1st_dim = numpy.random.normal(loc=1.0, scale=50.0, size=size)\n",
    "\n",
    "    x_2_and_3_dim = numpy.random.normal(loc=10.0, scale=0.2, size=(size, 2))\n",
    "    y_2_and_3_dim = numpy.random.normal(loc=10.0, scale=0.2, size=(size, 2))\n",
    "\n",
    "    x = numpy.concatenate([numpy.reshape(x_1st_dim, (size, 1)), x_2_and_3_dim], axis=1)\n",
    "    y = numpy.concatenate([numpy.reshape(y_1st_dim, (size, 1)), y_2_and_3_dim], axis=1)\n",
    "    \n",
    "    x_train = x[:80]\n",
    "    y_train = y[:80]\n",
    "    x_val = x[80:]\n",
    "    y_val = y[80:]\n",
    "\n",
    "    for n_dim in [0, 1, 2]:\n",
    "        print(f'{n_dim+1} dim. mean(x)={x[:,n_dim].mean()} mean(y)={y[:,n_dim].mean()} var(x)={x[:,n_dim].var()} var(y)={y[:,n_dim].var()}')\n",
    "    # end for\n",
    "    \n",
    "    # with sigma optimization\n",
    "    trainer_theano = ModelTrainerTheanoBackend()\n",
    "    trained_obj_theano = trainer_theano.train(x_train, y_train, num_epochs=n_epoch, batchsize=batch_size, opt_sigma=True, x_val=x_val, y_val=y_val, init_sigma_median=True)\n",
    "    \n",
    "    mmd_estimator_sigma_opt = MMD(kernels_torch.BasicRBFKernelFunction(opt_sigma=True, device_obj=device_obj), \n",
    "                                  device_obj=device_obj)\n",
    "    trainer_torch = ModelTrainerTorchBackend(mmd_estimator=mmd_estimator_sigma_opt,\n",
    "                                            device_obj=device_obj)\n",
    "    trained_obj_torch = trainer_torch.train(x, y, num_epochs=n_epoch, batchsize=batch_size, x_val=x_val, y_val=y_val)\n",
    "    sigma = numpy.exp(trained_obj_torch.kernel_function_obj.get_params()['log_sigma'].cpu().detach().numpy())\n",
    "\n",
    "    result_stacks_with_sigma.append([\n",
    "                             (x, y),\n",
    "                             (trained_obj_theano.scales, trained_obj_torch.scales),\n",
    "                             (trained_obj_theano.sigma, sigma)])\n",
    "    # without sigma optimization\n",
    "    trainer_theano = ModelTrainerTheanoBackend()\n",
    "    trained_obj_theano = trainer_theano.train(x_train, y_train, num_epochs=n_epoch, batchsize=batch_size, opt_sigma=False, x_val=x_val, y_val=y_val, init_sigma_median=False, init_log_sigma=0.0)\n",
    "    \n",
    "    mmd_estimator = MMD(kernels_torch.BasicRBFKernelFunction(opt_sigma=False, device_obj=device_obj), \n",
    "                        device_obj=device_obj)\n",
    "    trainer_torch = ModelTrainerTorchBackend(mmd_estimator=mmd_estimator,\n",
    "                                            device_obj=device_obj)\n",
    "    trained_obj_torch = trainer_torch.train(x, y, num_epochs=n_epoch, batchsize=batch_size, x_val=x_val, y_val=y_val)\n",
    "    sigma = numpy.exp(trained_obj_torch.kernel_function_obj.get_params()['log_sigma'].cpu().detach().numpy())\n",
    "    \n",
    "    result_stacks_without_sigma.append([\n",
    "                             (x, y),\n",
    "                             (trained_obj_theano.scales, trained_obj_torch.scales),\n",
    "                             (trained_obj_theano.sigma, sigma)])\n",
    "# end for"
   ]
  },
  {
   "cell_type": "markdown",
   "id": "528c315f-5834-4c41-bdfa-b4adbb1dddc6",
   "metadata": {},
   "source": [
    "### Observations"
   ]
  },
  {
   "cell_type": "code",
   "execution_count": 7,
   "id": "bbc98bce-89fb-4404-841f-07092fa347bf",
   "metadata": {},
   "outputs": [
    {
     "data": {
      "text/plain": [
       "(-10.0, 15.0)"
      ]
     },
     "execution_count": 7,
     "metadata": {},
     "output_type": "execute_result"
    },
    {
     "data": {
      "image/png": "[encoded data removed]",
      "text/plain": [
       "<Figure size 432x288 with 1 Axes>"
      ]
     },
     "metadata": {
      "needs_background": "light"
     },
     "output_type": "display_data"
    },
    {
     "data": {
      "image/png": "[encoded data removed]",
      "text/plain": [
       "<Figure size 432x288 with 1 Axes>"
      ]
     },
     "metadata": {
      "needs_background": "light"
     },
     "output_type": "display_data"
    }
   ],
   "source": [
    "# Theano imp.\n",
    "%matplotlib inline\n",
    "\n",
    "import matplotlib\n",
    "import numpy as np\n",
    "import matplotlib.pyplot as plt\n",
    "import pandas\n",
    "import numpy\n",
    "\n",
    "__df_with_sigma = []\n",
    "__df_without_sigma = []\n",
    "for trial_with_sigma, trial_without_sigma in zip(result_stacks_with_sigma, result_stacks_without_sigma):\n",
    "    __df_with_sigma.append(trial_with_sigma[1][0])\n",
    "    __df_without_sigma.append(trial_without_sigma[1][0])\n",
    "# end for\n",
    "df_with_sigma = pandas.DataFrame(__df_with_sigma, index = list(range(0, n_trial)))\n",
    "ax = df_with_sigma.plot(kind='bar')\n",
    "plt.title(f\"ARD weight with sigma. {n_trial} times computation (original imp. with Theano)\")\n",
    "plt.ylabel(\"ARD weight\")\n",
    "plt.xlabel(\"trial\")\n",
    "ax.set_ylim(-10, 15)\n",
    "# plot without sigma\n",
    "df_without_sigma = pandas.DataFrame(__df_without_sigma, index = list(range(0, n_trial)))\n",
    "ax = df_without_sigma.plot(kind='bar')\n",
    "plt.title(f\"ARD weight without sigma. {n_trial} times computation (original imp. with Theano)\")\n",
    "plt.ylabel(\"ARD weight\")\n",
    "plt.xlabel(\"trial\")\n",
    "ax.set_ylim(-10, 15)"
   ]
  },
  {
   "cell_type": "code",
   "execution_count": 8,
   "id": "42f7e587-ac76-477f-8ce6-78dfea331f89",
   "metadata": {},
   "outputs": [
    {
     "data": {
      "text/plain": [
       "(0.0, 15.0)"
      ]
     },
     "execution_count": 8,
     "metadata": {},
     "output_type": "execute_result"
    },
    {
     "data": {
      "image/png": "[encoded data removed]",
      "text/plain": [
       "<Figure size 432x288 with 1 Axes>"
      ]
     },
     "metadata": {
      "needs_background": "light"
     },
     "output_type": "display_data"
    },
    {
     "data": {
      "image/png": "[encoded data removed]",
      "text/plain": [
       "<Figure size 432x288 with 1 Axes>"
      ]
     },
     "metadata": {
      "needs_background": "light"
     },
     "output_type": "display_data"
    }
   ],
   "source": [
    "# Theano imp.\n",
    "__df_with_sigma = []\n",
    "__df_without_sigma = []\n",
    "for trial_with_sigma, trial_without_sigma in zip(result_stacks_with_sigma, result_stacks_without_sigma):\n",
    "    __df_with_sigma.append(trial_with_sigma[1][1])\n",
    "    __df_without_sigma.append(trial_without_sigma[1][1])\n",
    "# end for\n",
    "df_with_sigma = pandas.DataFrame(__df_with_sigma, index = list(range(0, n_trial)))\n",
    "ax = df_with_sigma.plot(kind='bar')\n",
    "plt.title(f\"ARD weight with sigma. {n_trial} times computation (with Torch)\")\n",
    "plt.ylabel(\"ARD weight\")\n",
    "plt.xlabel(\"trial\")\n",
    "ax.set_ylim(0, 15)\n",
    "# plot without sigma\n",
    "df_without_sigma = pandas.DataFrame(__df_without_sigma, index = list(range(0, n_trial)))\n",
    "ax = df_without_sigma.plot(kind='bar')\n",
    "plt.title(f\"ARD weight without sigma. {n_trial} times computation (with Torch)\")\n",
    "plt.ylabel(\"ARD weight\")\n",
    "plt.xlabel(\"trial\")\n",
    "ax.set_ylim(0, 15)"
   ]
  },
  {
   "cell_type": "markdown",
   "id": "40f962f3-a9c8-42d3-9fa5-cb553c5d512a",
   "metadata": {},
   "source": [
    "### conclusion\n",
    "\n",
    "The computed ARD weight will not be as we expected __if__ we optimize sigma value at the same time.\n",
    "\n",
    "Then, we should tune __only scales (ARD weight)__ if we want to obtain the ARD weight."
   ]
  },
  {
   "cell_type": "code",
   "execution_count": 9,
   "id": "faeb164e-5771-4031-b94e-c34beb230b23",
   "metadata": {},
   "outputs": [
    {
     "name": "stdin",
     "output_type": "stream",
     "text": [
      "Once deleted, variables cannot be recovered. Proceed (y/[n])?  y\n"
     ]
    }
   ],
   "source": [
    "%reset"
   ]
  },
  {
   "cell_type": "markdown",
   "id": "700a9d4d-785b-4c19-8089-d763eed8b42a",
   "metadata": {},
   "source": [
    "# Study: stability of ARD weights"
   ]
  },
  {
   "cell_type": "markdown",
   "id": "5a3c76c3-4b30-4b7b-9021-a14928e5c2db",
   "metadata": {},
   "source": [
    "## Objective\n",
    "\n",
    "To confirm the computed ARD weighted will be similar.\n",
    "\n",
    "In the exp, we have the following conditions,\n",
    "\n",
    "- the training data x and y are fixed.\n",
    "- the validation data x and y are fixed.\n",
    "- sigma will not be tuned"
   ]
  },
  {
   "cell_type": "code",
   "execution_count": 16,
   "id": "f261a9e2-af6a-430a-95ba-ea5e9ad691ea",
   "metadata": {},
   "outputs": [],
   "source": [
    "%matplotlib inline\n",
    "\n",
    "import matplotlib\n",
    "import numpy as np\n",
    "import matplotlib.pyplot as plt\n",
    "import pandas\n",
    "import numpy\n",
    "\n",
    "from model_criticism_mmd import ModelTrainerTheanoBackend, ModelTrainerTorchBackend, MMD, kernels_torch\n",
    "import torch\n",
    "device_obj = torch.device('cpu')"
   ]
  },
  {
   "cell_type": "code",
   "execution_count": 12,
   "id": "652824d2-370f-4956-9ec3-3126adf0968f",
   "metadata": {},
   "outputs": [
    {
     "name": "stdout",
     "output_type": "stream",
     "text": [
      "1 dim. mean(x)=1.0 mean(y)=2.795321498327029 var(x)=0.0 var(y)=2465.4126036498933\n",
      "2 dim. mean(x)=9.968669428246267 mean(y)=10.004188273352877 var(x)=0.03581514211944157 var(y)=0.035821863318791385\n",
      "3 dim. mean(x)=10.001445897071443 mean(y)=9.989482070893033 var(x)=0.03475761350379005 var(y)=0.04823557423398122\n"
     ]
    }
   ],
   "source": [
    "size = 100\n",
    "x_1st_dim = numpy.random.normal(loc=1.0, scale=0.0, size=size)\n",
    "y_1st_dim = numpy.random.normal(loc=1.0, scale=50.0, size=size)\n",
    "\n",
    "x_2_and_3_dim = numpy.random.normal(loc=10.0, scale=0.2, size=(size, 2))\n",
    "y_2_and_3_dim = numpy.random.normal(loc=10.0, scale=0.2, size=(size, 2))\n",
    "\n",
    "x = numpy.concatenate([numpy.reshape(x_1st_dim, (size, 1)), x_2_and_3_dim], axis=1)\n",
    "y = numpy.concatenate([numpy.reshape(y_1st_dim, (size, 1)), y_2_and_3_dim], axis=1)\n",
    "\n",
    "x_train = x[:80]\n",
    "y_train = y[:80]\n",
    "x_val = x[80:]\n",
    "y_val = y[80:]\n",
    "\n",
    "for n_dim in [0, 1, 2]:\n",
    "    print(f'{n_dim+1} dim. mean(x)={x[:,n_dim].mean()} mean(y)={y[:,n_dim].mean()} var(x)={x[:,n_dim].var()} var(y)={y[:,n_dim].var()}')\n",
    "# end for"
   ]
  },
  {
   "cell_type": "code",
   "execution_count": 17,
   "id": "09db239c-a9a7-4cb7-999e-9e953e1926f2",
   "metadata": {},
   "outputs": [
    {
     "name": "stderr",
     "output_type": "stream",
     "text": [
      "Using sigma = 1.0\n",
      "Compiling...\n",
      "done\n",
      "Input dim 3, representation dim 3\n",
      "Training on 80 samples (batch 200), validation on 20 (batch 1000)\n",
      "1 parameters to optimize: scales\n",
      "     0: avg train MMD^2  0.879545 obj -3.176400,  avg val MMD^2  0.866655  obj -2.362045  elapsed: 0s\n",
      "     5: avg train MMD^2  0.881397 obj -3.194998,  avg val MMD^2  0.876319  obj -2.383594  elapsed: 0s\n",
      "    25: avg train MMD^2  0.899503 obj -3.357453,  avg val MMD^2  0.920247  obj -2.497681  elapsed: 0s\n",
      "    50: avg train MMD^2  0.915665 obj -3.487402,  avg val MMD^2  0.940480  obj -2.655540  elapsed: 0s\n",
      "   100: avg train MMD^2  0.936399 obj -3.604731,  avg val MMD^2  0.966651  obj -2.955291  elapsed: 0s\n",
      "   200: avg train MMD^2  0.956654 obj -3.672298,  avg val MMD^2  0.995394  obj -3.353472  elapsed: 0s\n",
      "   300: avg train MMD^2  0.964996 obj -3.693370,  avg val MMD^2  1.008800  obj -3.611623  elapsed: 1s\n",
      "   400: avg train MMD^2  0.969200 obj -3.703464,  avg val MMD^2  1.016405  obj -3.803896  elapsed: 1s\n",
      "   500: avg train MMD^2  0.971635 obj -3.709567,  avg val MMD^2  1.021347  obj -3.959535  elapsed: 2s\n",
      "Trained result: the opt global-sigma: 1.0\n",
      "input data N(sample-size)=80, N(dimension)=3\n",
      "Validation at 0. MMD^2 = 0.7484952572071013, ratio = [6.49225433] obj = [-1.87060982]\n",
      "     5: [avg train] MMD^2 0.9116392396847078 obj [-2.95339422] val-MMD^2 0.7881450377985589 val-ratio [7.53596505] val-obj [-2.0196869]  elapsed: 0.0\n",
      "    25: [avg train] MMD^2 0.947123685529832 obj [-3.23541098] val-MMD^2 0.9456347530914972 val-ratio [11.55707122] val-obj [-2.44729748]  elapsed: 0.0\n",
      "    50: [avg train] MMD^2 0.9661753483977112 obj [-3.43685711] val-MMD^2 0.9821018692341028 val-ratio [13.6387998] val-obj [-2.61291866]  elapsed: 0.0\n",
      "   100: [avg train] MMD^2 0.9779907140642838 obj [-3.59457405] val-MMD^2 1.0009901680540096 val-ratio [19.05072874] val-obj [-2.94710536]  elapsed: 0.0\n",
      "   200: [avg train] MMD^2 0.9840766998437878 obj [-3.67129883] val-MMD^2 1.0188340406761653 val-ratio [29.45162656] val-obj [-3.38274914]  elapsed: 0.0\n",
      "   300: [avg train] MMD^2 0.9854738140240735 obj [-3.6925009] val-MMD^2 1.0265443662773366 val-ratio [38.44509636] val-obj [-3.64923115]  elapsed: 0.0\n",
      "   400: [avg train] MMD^2 0.9854282303242852 obj [-3.70270242] val-MMD^2 1.0305542678491377 val-ratio [46.70161671] val-obj [-3.84377878]  elapsed: 0.0\n",
      "   500: [avg train] MMD^2 0.9845191750985796 obj [-3.70913258] val-MMD^2 1.032637940517652 val-ratio [54.59315867] val-obj [-3.99990858]  elapsed: 0.0\n",
      "Using sigma = 1.0\n",
      "Compiling...\n",
      "done\n",
      "Input dim 3, representation dim 3\n",
      "Training on 80 samples (batch 200), validation on 20 (batch 1000)\n",
      "1 parameters to optimize: scales\n",
      "     0: avg train MMD^2  0.879545 obj -3.176400,  avg val MMD^2  0.866655  obj -2.362045  elapsed: 0s\n",
      "     5: avg train MMD^2  0.881397 obj -3.194998,  avg val MMD^2  0.876319  obj -2.383594  elapsed: 0s\n",
      "    25: avg train MMD^2  0.899503 obj -3.357453,  avg val MMD^2  0.920247  obj -2.497681  elapsed: 0s\n",
      "    50: avg train MMD^2  0.915665 obj -3.487402,  avg val MMD^2  0.940480  obj -2.655540  elapsed: 0s\n",
      "   100: avg train MMD^2  0.936399 obj -3.604731,  avg val MMD^2  0.966651  obj -2.955291  elapsed: 0s\n",
      "   200: avg train MMD^2  0.956654 obj -3.672298,  avg val MMD^2  0.995394  obj -3.353472  elapsed: 0s\n",
      "   300: avg train MMD^2  0.964996 obj -3.693370,  avg val MMD^2  1.008800  obj -3.611623  elapsed: 1s\n",
      "   400: avg train MMD^2  0.969200 obj -3.703464,  avg val MMD^2  1.016405  obj -3.803896  elapsed: 1s\n",
      "   500: avg train MMD^2  0.971635 obj -3.709567,  avg val MMD^2  1.021347  obj -3.959535  elapsed: 1s\n",
      "Trained result: the opt global-sigma: 1.0\n",
      "input data N(sample-size)=80, N(dimension)=3\n",
      "Validation at 0. MMD^2 = 0.8645714791011603, ratio = [9.7957275] obj = [-2.28194632]\n",
      "     5: [avg train] MMD^2 0.9197549978712078 obj [-3.11236919] val-MMD^2 0.8807034955460217 val-ratio [10.21393801] val-obj [-2.32375326]  elapsed: 0.0\n",
      "    25: [avg train] MMD^2 0.9386064593177664 obj [-3.32098171] val-MMD^2 0.9509296670478156 val-ratio [12.08254247] val-obj [-2.49176164]  elapsed: 0.0\n",
      "    50: [avg train] MMD^2 0.9504975468349594 obj [-3.47823681] val-MMD^2 0.9700932619206795 val-ratio [14.20617107] val-obj [-2.65367645]  elapsed: 0.0\n",
      "   100: [avg train] MMD^2 0.9578620134844793 obj [-3.61002813] val-MMD^2 0.9851279485611966 val-ratio [19.52547864] val-obj [-2.97172021]  elapsed: 0.0\n",
      "   200: [avg train] MMD^2 0.9642928170446758 obj [-3.67538221] val-MMD^2 1.002385614433009 val-ratio [29.24861479] val-obj [-3.37583221]  elapsed: 0.0\n",
      "   300: [avg train] MMD^2 0.9683652743144061 obj [-3.69478729] val-MMD^2 1.0120514150772626 val-ratio [37.71285825] val-obj [-3.6300011]  elapsed: 0.0\n",
      "   400: [avg train] MMD^2 0.9709607783037767 obj [-3.70425032] val-MMD^2 1.0181919857037638 val-ratio [45.55627046] val-obj [-3.81894828]  elapsed: 0.0\n",
      "   500: [avg train] MMD^2 0.9726696100097011 obj [-3.71007666] val-MMD^2 1.022451073645818 val-ratio [53.10697554] val-obj [-3.97230829]  elapsed: 0.0\n",
      "Using sigma = 1.0\n",
      "Compiling...\n",
      "done\n",
      "Input dim 3, representation dim 3\n",
      "Training on 80 samples (batch 200), validation on 20 (batch 1000)\n",
      "1 parameters to optimize: scales\n",
      "     0: avg train MMD^2  0.879545 obj -3.176400,  avg val MMD^2  0.866655  obj -2.362045  elapsed: 0s\n",
      "     5: avg train MMD^2  0.881397 obj -3.194998,  avg val MMD^2  0.876319  obj -2.383594  elapsed: 0s\n",
      "    25: avg train MMD^2  0.899503 obj -3.357453,  avg val MMD^2  0.920247  obj -2.497681  elapsed: 0s\n",
      "    50: avg train MMD^2  0.915665 obj -3.487402,  avg val MMD^2  0.940480  obj -2.655540  elapsed: 0s\n",
      "   100: avg train MMD^2  0.936399 obj -3.604731,  avg val MMD^2  0.966651  obj -2.955291  elapsed: 0s\n",
      "   200: avg train MMD^2  0.956654 obj -3.672298,  avg val MMD^2  0.995394  obj -3.353472  elapsed: 0s\n",
      "   300: avg train MMD^2  0.964996 obj -3.693370,  avg val MMD^2  1.008800  obj -3.611623  elapsed: 1s\n",
      "   400: avg train MMD^2  0.969200 obj -3.703464,  avg val MMD^2  1.016405  obj -3.803896  elapsed: 1s\n",
      "   500: avg train MMD^2  0.971635 obj -3.709567,  avg val MMD^2  1.021347  obj -3.959535  elapsed: 2s\n",
      "Trained result: the opt global-sigma: 1.0\n",
      "input data N(sample-size)=80, N(dimension)=3\n",
      "Validation at 0. MMD^2 = 0.8916464937806267, ratio = [10.66083236] obj = [-2.3665765]\n",
      "     5: [avg train] MMD^2 0.9158785989580711 obj [-3.18561679] val-MMD^2 0.9020743483796625 val-ratio [10.91875308] val-obj [-2.39048178]  elapsed: 0.0\n",
      "    25: [avg train] MMD^2 0.9312180584692027 obj [-3.35553802] val-MMD^2 0.9472260168329021 val-ratio [12.2962412] val-obj [-2.50929362]  elapsed: 0.0\n",
      "    50: [avg train] MMD^2 0.9414166127228071 obj [-3.49267446] val-MMD^2 0.9625298886508906 val-ratio [14.44280906] val-obj [-2.67019665]  elapsed: 0.0\n",
      "   100: [avg train] MMD^2 0.9507951083137671 obj [-3.61139023] val-MMD^2 0.9792185140501108 val-ratio [19.65148348] val-obj [-2.97815283]  elapsed: 0.0\n",
      "   200: [avg train] MMD^2 0.9612295576870051 obj [-3.67467523] val-MMD^2 0.9996785246050014 val-ratio [29.19920429] val-obj [-3.37414146]  elapsed: 0.0\n",
      "   300: [avg train] MMD^2 0.9667806539720895 obj [-3.69437021] val-MMD^2 1.0106073676565241 val-ratio [37.61214194] val-obj [-3.62732692]  elapsed: 0.0\n",
      "   400: [avg train] MMD^2 0.9700105028849723 obj [-3.70400424] val-MMD^2 1.0173087235146612 val-ratio [45.43592491] val-obj [-3.81630309]  elapsed: 0.0\n",
      "   500: [avg train] MMD^2 0.9720444980197221 obj [-3.70991783] val-MMD^2 1.0218607118313627 val-ratio [52.97624375] val-obj [-3.96984358]  elapsed: 0.0\n",
      "Using sigma = 1.0\n",
      "Compiling...\n",
      "done\n",
      "Input dim 3, representation dim 3\n",
      "Training on 80 samples (batch 200), validation on 20 (batch 1000)\n",
      "1 parameters to optimize: scales\n",
      "     0: avg train MMD^2  0.879545 obj -3.176400,  avg val MMD^2  0.866655  obj -2.362045  elapsed: 0s\n",
      "     5: avg train MMD^2  0.881397 obj -3.194998,  avg val MMD^2  0.876319  obj -2.383594  elapsed: 0s\n",
      "    25: avg train MMD^2  0.899503 obj -3.357453,  avg val MMD^2  0.920247  obj -2.497681  elapsed: 0s\n",
      "    50: avg train MMD^2  0.915665 obj -3.487402,  avg val MMD^2  0.940480  obj -2.655540  elapsed: 0s\n",
      "   100: avg train MMD^2  0.936399 obj -3.604731,  avg val MMD^2  0.966651  obj -2.955291  elapsed: 0s\n",
      "   200: avg train MMD^2  0.956654 obj -3.672298,  avg val MMD^2  0.995394  obj -3.353472  elapsed: 0s\n",
      "   300: avg train MMD^2  0.964996 obj -3.693370,  avg val MMD^2  1.008800  obj -3.611623  elapsed: 1s\n",
      "   400: avg train MMD^2  0.969200 obj -3.703464,  avg val MMD^2  1.016405  obj -3.803896  elapsed: 1s\n",
      "   500: avg train MMD^2  0.971635 obj -3.709567,  avg val MMD^2  1.021347  obj -3.959535  elapsed: 1s\n",
      "Trained result: the opt global-sigma: 1.0\n",
      "input data N(sample-size)=80, N(dimension)=3\n",
      "Validation at 0. MMD^2 = 0.8723223049407416, ratio = [10.15655189] obj = [-2.318119]\n",
      "     5: [avg train] MMD^2 0.9123306950528915 obj [-3.14353494] val-MMD^2 0.8857786678981315 val-ratio [10.49078267] val-obj [-2.35049703]  elapsed: 0.0\n",
      "    25: [avg train] MMD^2 0.9310888310847537 obj [-3.32975476] val-MMD^2 0.9449101127371582 val-ratio [12.07368473] val-obj [-2.49102827]  elapsed: 0.0\n",
      "    50: [avg train] MMD^2 0.9459254062556234 obj [-3.4727012] val-MMD^2 0.9655715906934649 val-ratio [14.14998245] val-obj [-2.64971338]  elapsed: 0.0\n",
      "   100: [avg train] MMD^2 0.9621462242053905 obj [-3.60018978] val-MMD^2 0.9880842509662024 val-ratio [19.35706588] val-obj [-2.96305751]  elapsed: 0.0\n",
      "   200: [avg train] MMD^2 0.9755284772292245 obj [-3.67078712] val-MMD^2 1.011503355387285 val-ratio [29.30317729] val-obj [-3.37769595]  elapsed: 0.0\n",
      "   300: [avg train] MMD^2 0.9798823830955391 obj [-3.6920043] val-MMD^2 1.021631040236394 val-ratio [38.11432607] val-obj [-3.64059022]  elapsed: 0.0\n",
      "   400: [avg train] MMD^2 0.9813618342501577 obj [-3.7023195] val-MMD^2 1.026935630694894 val-ratio [46.28415384] val-obj [-3.83479965]  elapsed: 0.0\n",
      "   500: [avg train] MMD^2 0.9814247942909559 obj [-3.70880683] val-MMD^2 1.029858557012952 val-ratio [54.13626685] val-obj [-3.99150433]  elapsed: 0.0\n",
      "Using sigma = 1.0\n",
      "Compiling...\n",
      "done\n",
      "Input dim 3, representation dim 3\n",
      "Training on 80 samples (batch 200), validation on 20 (batch 1000)\n",
      "1 parameters to optimize: scales\n",
      "     0: avg train MMD^2  0.879545 obj -3.176400,  avg val MMD^2  0.866655  obj -2.362045  elapsed: 0s\n",
      "     5: avg train MMD^2  0.881397 obj -3.194998,  avg val MMD^2  0.876319  obj -2.383594  elapsed: 0s\n",
      "    25: avg train MMD^2  0.899503 obj -3.357453,  avg val MMD^2  0.920247  obj -2.497681  elapsed: 0s\n",
      "    50: avg train MMD^2  0.915665 obj -3.487402,  avg val MMD^2  0.940480  obj -2.655540  elapsed: 0s\n",
      "   100: avg train MMD^2  0.936399 obj -3.604731,  avg val MMD^2  0.966651  obj -2.955291  elapsed: 0s\n",
      "   200: avg train MMD^2  0.956654 obj -3.672298,  avg val MMD^2  0.995394  obj -3.353472  elapsed: 0s\n",
      "   300: avg train MMD^2  0.964996 obj -3.693370,  avg val MMD^2  1.008800  obj -3.611623  elapsed: 0s\n",
      "   400: avg train MMD^2  0.969200 obj -3.703464,  avg val MMD^2  1.016405  obj -3.803896  elapsed: 1s\n",
      "   500: avg train MMD^2  0.971635 obj -3.709567,  avg val MMD^2  1.021347  obj -3.959535  elapsed: 1s\n",
      "Trained result: the opt global-sigma: 1.0\n",
      "input data N(sample-size)=80, N(dimension)=3\n",
      "Validation at 0. MMD^2 = 0.835588041092478, ratio = [9.11525856] obj = [-2.20994977]\n",
      "     5: [avg train] MMD^2 0.9120481794573462 obj [-3.07304707] val-MMD^2 0.8550878423199519 val-ratio [9.62415884] val-obj [-2.26427648]  elapsed: 0.0\n",
      "    25: [avg train] MMD^2 0.9324266983153708 obj [-3.30238958] val-MMD^2 0.9429345343527438 val-ratio [11.89716673] val-obj [-2.47630028]  elapsed: 0.0\n",
      "    50: [avg train] MMD^2 0.9453760304772494 obj [-3.47013668] val-MMD^2 0.9651327270389476 val-ratio [13.98000888] val-obj [-2.63762837]  elapsed: 0.0\n",
      "   100: [avg train] MMD^2 0.9536554975954534 obj [-3.60595733] val-MMD^2 0.9809284837229509 val-ratio [19.22183405] val-obj [-2.95604682]  elapsed: 0.0\n",
      "   200: [avg train] MMD^2 0.9620562811163598 obj [-3.67375324] val-MMD^2 1.0000779833259037 val-ratio [28.89526022] val-obj [-3.36367758]  elapsed: 0.0\n",
      "   300: [avg train] MMD^2 0.9670540516902183 obj [-3.69398392] val-MMD^2 1.0106731914412217 val-ratio [37.35030413] val-obj [-3.62034105]  elapsed: 0.0\n",
      "   400: [avg train] MMD^2 0.9701119677216945 obj [-3.7037809] val-MMD^2 1.017285232800424 val-ratio [45.19054461] val-obj [-3.81088787]  elapsed: 0.0\n",
      "   500: [avg train] MMD^2 0.9720834351318677 obj [-3.70976575] val-MMD^2 1.021813379409251 val-ratio [52.73667198] val-obj [-3.96531108]  elapsed: 0.0\n"
     ]
    }
   ],
   "source": [
    "result_stacks = []\n",
    "n_trial = 5\n",
    "n_epoch = 500\n",
    "batch_size = 200\n",
    "is_opt_sigma = False\n",
    "for i_trial in range(0, n_trial):\n",
    "    trainer_theano = ModelTrainerTheanoBackend()\n",
    "    trained_obj_theano = trainer_theano.train(x_train, y_train, num_epochs=n_epoch, batchsize=batch_size, opt_sigma=is_opt_sigma, x_val=x_val, y_val=y_val, init_sigma_median=False, init_log_sigma=0.0)\n",
    "\n",
    "    mmd_estimator = MMD(kernel_function_obj=kernels_torch.BasicRBFKernelFunction(device_obj=device_obj, opt_sigma=is_opt_sigma),\n",
    "                       device_obj=device_obj)\n",
    "    trainer_torch = ModelTrainerTorchBackend(mmd_estimator, device_obj)\n",
    "    trained_obj_torch = trainer_torch.train(x_train, y_train, num_epochs=n_epoch, batchsize=batch_size, x_val=x_val, y_val=y_val)\n",
    "\n",
    "    result_stacks.append([\n",
    "                             (trained_obj_theano.scales, trained_obj_torch.scales),\n",
    "                             (trained_obj_theano.sigma, trained_obj_torch.sigma)\n",
    "    ])\n",
    "# end for"
   ]
  },
  {
   "cell_type": "markdown",
   "id": "8e71e257-09dc-4869-b941-8a2bdb22187d",
   "metadata": {},
   "source": [
    "We show the ARD weights in 5 times computations. 3 bars represent the ARD weights for each feature."
   ]
  },
  {
   "cell_type": "code",
   "execution_count": 18,
   "id": "eb2e9fc5-21bd-4209-a63d-ba1380524777",
   "metadata": {},
   "outputs": [
    {
     "data": {
      "text/plain": [
       "(0.0, 4.0)"
      ]
     },
     "execution_count": 18,
     "metadata": {},
     "output_type": "execute_result"
    },
    {
     "data": {
      "image/png": "[encoded data removed]",
      "text/plain": [
       "<Figure size 432x288 with 1 Axes>"
      ]
     },
     "metadata": {
      "needs_background": "light"
     },
     "output_type": "display_data"
    }
   ],
   "source": [
    "__df_theano_result = []\n",
    "for i_trial, trial_result in enumerate(result_stacks):\n",
    "    __df_theano_result.append(trial_result[0][0])\n",
    "# end for\n",
    "df_theano_result = pandas.DataFrame(__df_theano_result, index = list(range(0, n_trial)))\n",
    "ax = df_theano_result.plot(kind='bar')\n",
    "plt.title(f\"ARD weight against the same data {n_trial} times computation (original imp. with Theano)\")\n",
    "plt.ylabel(\"ARD weight\")\n",
    "plt.xlabel(\"trial\")\n",
    "ax.set_ylim(0, 4)"
   ]
  },
  {
   "cell_type": "code",
   "execution_count": 19,
   "id": "072010a8-b6d7-42a4-b8ef-f1a60978426b",
   "metadata": {},
   "outputs": [
    {
     "data": {
      "text/plain": [
       "(0.0, 4.0)"
      ]
     },
     "execution_count": 19,
     "metadata": {},
     "output_type": "execute_result"
    },
    {
     "data": {
      "image/png": "[encoded data removed]",
      "text/plain": [
       "<Figure size 432x288 with 1 Axes>"
      ]
     },
     "metadata": {
      "needs_background": "light"
     },
     "output_type": "display_data"
    }
   ],
   "source": [
    "__df_torch_result = []\n",
    "for i_trial, trial_result in enumerate(result_stacks):\n",
    "    __df_torch_result.append(trial_result[0][1])\n",
    "# end for\n",
    "df_torch_result = pandas.DataFrame(__df_torch_result, index = list(range(0, n_trial)))\n",
    "ax = df_torch_result.plot(kind='bar')\n",
    "plt.title(f\"ARD weight against the same data {n_trial} times computation (with Torch)\")\n",
    "plt.ylabel(\"ARD weight\")\n",
    "plt.xlabel(\"trial\")\n",
    "ax.set_ylim(0, 4)"
   ]
  },
  {
   "cell_type": "markdown",
   "id": "e606876d-d1db-4103-a83e-170e7fe2d853",
   "metadata": {},
   "source": [
    "### concolusion\n",
    "\n",
    "With the above observation, we confirm that the ARD weight will __converage__ if we fix the input data and the sigma."
   ]
  },
  {
   "cell_type": "code",
   "execution_count": null,
   "id": "ca6a7e92-3ed8-4735-b2ea-2ed4edfa9cff",
   "metadata": {},
   "outputs": [],
   "source": [
    "%reset"
   ]
  },
  {
   "cell_type": "markdown",
   "id": "8eb619a1-582d-4594-919a-e9827cce1c69",
   "metadata": {},
   "source": [
    "# Study: with/without sigma optimizations"
   ]
  },
  {
   "cell_type": "code",
   "execution_count": 20,
   "id": "4ba7d096-b06b-4ffd-8e66-9bd2935c037c",
   "metadata": {},
   "outputs": [],
   "source": [
    "%matplotlib inline\n",
    "\n",
    "import matplotlib\n",
    "import numpy as np\n",
    "import matplotlib.pyplot as plt\n",
    "import pandas\n",
    "import numpy\n",
    "\n",
    "from model_criticism_mmd import ModelTrainerTheanoBackend, ModelTrainerTorchBackend, MMD, kernels_torch\n",
    "import torch\n",
    "device_obj = torch.device('cpu')"
   ]
  },
  {
   "cell_type": "code",
   "execution_count": 21,
   "id": "566c10c7-d005-4944-8c0b-d05b4b8c5891",
   "metadata": {},
   "outputs": [
    {
     "name": "stdout",
     "output_type": "stream",
     "text": [
      "1 dim. mean(x)=1.0 mean(y)=10.442223154140429 var(x)=0.0 var(y)=2501.4735323956756\n",
      "2 dim. mean(x)=1.0 mean(y)=0.3669154815385541 var(x)=0.0 var(y)=2581.7030879744543\n",
      "3 dim. mean(x)=1.0 mean(y)=-6.122438753596141 var(x)=0.0 var(y)=3024.6394982276734\n"
     ]
    }
   ],
   "source": [
    "size = 200\n",
    "x = numpy.random.normal(loc=1.0, scale=0.0, size=(200, 3))\n",
    "y = numpy.random.normal(loc=1.0, scale=50.0, size=(200, 3))\n",
    "\n",
    "#x_2_and_3_dim = numpy.random.normal(loc=10.0, scale=0.2, size=(size, 2))\n",
    "#y_2_and_3_dim = numpy.random.normal(loc=10.0, scale=0.2, size=(size, 2))\n",
    "\n",
    "#x = numpy.concatenate([numpy.reshape(x_1st_dim, (size, 1)), x_2_and_3_dim], axis=1)\n",
    "#y = numpy.concatenate([numpy.reshape(y_1st_dim, (size, 1)), y_2_and_3_dim], axis=1)\n",
    "\n",
    "x_train = x[:100]\n",
    "y_train = y[:100]\n",
    "x_val = x[100:150]\n",
    "y_val = y[100:150]\n",
    "x_test = x[150:]\n",
    "y_test = y[150:]\n",
    "\n",
    "for n_dim in [0, 1, 2]:\n",
    "    print(f'{n_dim+1} dim. mean(x)={x[:,n_dim].mean()} mean(y)={y[:,n_dim].mean()} var(x)={x[:,n_dim].var()} var(y)={y[:,n_dim].var()}')\n",
    "# end for\n",
    "assert len(x_train) == len(y_train) == 100\n",
    "assert len(x_val) == len(y_val) == 50\n",
    "assert len(x_test) == len(y_test) == 50"
   ]
  },
  {
   "cell_type": "code",
   "execution_count": 22,
   "id": "e05adb19-75c6-40c5-917d-683db87cf6a1",
   "metadata": {},
   "outputs": [
    {
     "name": "stderr",
     "output_type": "stream",
     "text": [
      "Using sigma = 1.0\n",
      "Compiling...\n",
      "done\n",
      "Input dim 3, representation dim 3\n",
      "Training on 100 samples (batch 200), validation on 50 (batch 1000)\n",
      "1 parameters to optimize: scales\n",
      "     0: avg train MMD^2  1.010000 obj -9.220291,  avg val MMD^2  1.020000  obj -9.230143  elapsed: 0s\n",
      "     5: avg train MMD^2  1.010000 obj -9.220291,  avg val MMD^2  1.020000  obj -9.230143  elapsed: 0s\n",
      "    25: avg train MMD^2  1.010000 obj -9.220291,  avg val MMD^2  1.020000  obj -9.230143  elapsed: 0s\n",
      "    50: avg train MMD^2  1.010000 obj -9.220291,  avg val MMD^2  1.020000  obj -9.230143  elapsed: 0s\n",
      "   100: avg train MMD^2  1.010000 obj -9.220291,  avg val MMD^2  1.020000  obj -9.230143  elapsed: 0s\n",
      "   200: avg train MMD^2  1.010000 obj -9.220291,  avg val MMD^2  1.020000  obj -9.230143  elapsed: 0s\n",
      "   300: avg train MMD^2  1.010000 obj -9.220291,  avg val MMD^2  1.020000  obj -9.230143  elapsed: 1s\n",
      "   400: avg train MMD^2  1.010000 obj -9.220291,  avg val MMD^2  1.020000  obj -9.230143  elapsed: 1s\n",
      "   500: avg train MMD^2  1.010000 obj -9.220291,  avg val MMD^2  1.020000  obj -9.230143  elapsed: 1s\n",
      "Trained result: the opt global-sigma: 1.0\n",
      "input data N(sample-size)=100, N(dimension)=3\n",
      "Validation at 0. MMD^2 = 1.02, ratio = [10200.] obj = [-9.230143]\n",
      "     5: [avg train] MMD^2 1.0100000499476764 obj [-9.22029075] val-MMD^2 1.02 val-ratio [10200.] val-obj [-9.230143]  elapsed: 0.0\n",
      "    25: [avg train] MMD^2 1.010000049948346 obj [-9.22029075] val-MMD^2 1.02 val-ratio [10200.] val-obj [-9.230143]  elapsed: 0.0\n",
      "    50: [avg train] MMD^2 1.0100000499494273 obj [-9.22029075] val-MMD^2 1.02 val-ratio [10200.] val-obj [-9.230143]  elapsed: 0.0\n",
      "   100: [avg train] MMD^2 1.010000049952101 obj [-9.22029075] val-MMD^2 1.02 val-ratio [10200.] val-obj [-9.230143]  elapsed: 0.0\n",
      "   200: [avg train] MMD^2 1.0100000499574489 obj [-9.22029075] val-MMD^2 1.02 val-ratio [10200.] val-obj [-9.230143]  elapsed: 0.0\n",
      "   300: [avg train] MMD^2 1.010000049962797 obj [-9.22029075] val-MMD^2 1.02 val-ratio [10200.] val-obj [-9.230143]  elapsed: 0.0\n",
      "   400: [avg train] MMD^2 1.0100000499681459 obj [-9.22029075] val-MMD^2 1.02 val-ratio [10200.] val-obj [-9.230143]  elapsed: 0.0\n",
      "   500: [avg train] MMD^2 1.0100000499734954 obj [-9.22029075] val-MMD^2 1.02 val-ratio [10200.] val-obj [-9.230143]  elapsed: 0.0\n"
     ]
    },
    {
     "name": "stdout",
     "output_type": "stream",
     "text": [
      "MMD without the sigma optimization. Theano: 1.02 Torch: 1.0200000000073177\n"
     ]
    }
   ],
   "source": [
    "n_epoch = 500\n",
    "batch_size = 200\n",
    "is_opt_sigma = False\n",
    "# with sigma optimizations\n",
    "trainer_theano = ModelTrainerTheanoBackend()\n",
    "trained_obj_theano_without_sigma = trainer_theano.train(x_train, y_train, num_epochs=n_epoch, batchsize=batch_size, opt_sigma=is_opt_sigma, x_val=x_val, y_val=y_val, init_sigma_median=False, init_log_sigma=0.0)\n",
    "\n",
    "mmd_estimator = MMD(kernel_function_obj=kernels_torch.BasicRBFKernelFunction(device_obj=device_obj, opt_sigma=is_opt_sigma),\n",
    "                   device_obj=device_obj)\n",
    "trainer_torch = ModelTrainerTorchBackend(mmd_estimator, device_obj)\n",
    "trained_obj_torch = trainer_torch.train(x_train, y_train, num_epochs=n_epoch, batchsize=batch_size, x_val=x_val, y_val=y_val)\n",
    "\n",
    "mmd2_theano, ratio_theano = trainer_theano.mmd_distance(x=x_test, y=y_test, sigma=trained_obj_theano_without_sigma.sigma)\n",
    "mmd2_torch, ratio_torch = trainer_torch.mmd_distance(x=x_test, y=y_test)\n",
    "print(f'MMD without the sigma optimization. Theano: {mmd2_theano} Torch: {mmd2_torch}')"
   ]
  },
  {
   "cell_type": "code",
   "execution_count": 23,
   "id": "fe8f317d-8df6-472f-b3a1-08ccc9323d15",
   "metadata": {},
   "outputs": [
    {
     "name": "stderr",
     "output_type": "stream",
     "text": [
      "Starting with sigma = median; optimizing it\n",
      "Compiling...\n",
      "done\n",
      "Getting median initial sigma value...\n",
      "60.8\n",
      "Input dim 3, representation dim 3\n",
      "Training on 100 samples (batch 200), validation on 50 (batch 1000)\n",
      "2 parameters to optimize: scales, log_sigma\n",
      "     0: avg train MMD^2  0.391500 obj -2.537627,  avg val MMD^2  0.424009  obj -2.174944  elapsed: 0s  sigma: 60.8\n",
      "     5: avg train MMD^2  0.492733 obj -2.678542,  avg val MMD^2  0.557446  obj -2.316401  elapsed: 0s  sigma: 52\n",
      "    25: avg train MMD^2  1.010044 obj -9.220335,  avg val MMD^2  1.020000  obj -9.230143  elapsed: 0s  sigma: 4.07\n",
      "    50: avg train MMD^2  1.010000 obj -9.220291,  avg val MMD^2  1.020000  obj -9.230143  elapsed: 0s  sigma: 1.11\n",
      "   100: avg train MMD^2  1.010000 obj -9.220291,  avg val MMD^2  1.020000  obj -9.230143  elapsed: 0s  sigma: 1.01\n",
      "   200: avg train MMD^2  1.010000 obj -9.220291,  avg val MMD^2  1.020000  obj -9.230143  elapsed: 0s  sigma: 1.01\n",
      "   300: avg train MMD^2  1.010000 obj -9.220291,  avg val MMD^2  1.020000  obj -9.230143  elapsed: 1s  sigma: 1.01\n",
      "   400: avg train MMD^2  1.010000 obj -9.220291,  avg val MMD^2  1.020000  obj -9.230143  elapsed: 2s  sigma: 1.01\n",
      "   500: avg train MMD^2  1.010000 obj -9.220291,  avg val MMD^2  1.020000  obj -9.230143  elapsed: 2s  sigma: 1.01\n",
      "Trained result: the opt global-sigma: 1.0065097225934945\n",
      "input data N(sample-size)=100, N(dimension)=3\n",
      "Validation at 0. MMD^2 = 1.018903246305124, ratio = [1036.18212422] obj = [-6.9432982]\n",
      "     5: [avg train] MMD^2 1.0100126005692982 obj [-9.22030318] val-MMD^2 1.020000000360648 val-ratio [10200.00000361] val-obj [-9.230143]  elapsed: 0.0\n",
      "    25: [avg train] MMD^2 1.0100000208369504 obj [-9.22029072] val-MMD^2 1.02 val-ratio [10200.] val-obj [-9.230143]  elapsed: 0.0\n",
      "    50: [avg train] MMD^2 1.0100000059793204 obj [-9.22029071] val-MMD^2 1.02 val-ratio [10200.] val-obj [-9.230143]  elapsed: 0.0\n",
      "   100: [avg train] MMD^2 1.0100000054052012 obj [-9.22029071] val-MMD^2 1.02 val-ratio [10200.] val-obj [-9.230143]  elapsed: 0.0\n",
      "   200: [avg train] MMD^2 1.0100000054025209 obj [-9.22029071] val-MMD^2 1.02 val-ratio [10200.] val-obj [-9.230143]  elapsed: 0.0\n",
      "   300: [avg train] MMD^2 1.0100000054025209 obj [-9.22029071] val-MMD^2 1.02 val-ratio [10200.] val-obj [-9.230143]  elapsed: 0.0\n",
      "   400: [avg train] MMD^2 1.0100000054025209 obj [-9.22029071] val-MMD^2 1.02 val-ratio [10200.] val-obj [-9.230143]  elapsed: 0.0\n",
      "   500: [avg train] MMD^2 1.0100000054025209 obj [-9.22029071] val-MMD^2 1.02 val-ratio [10200.] val-obj [-9.230143]  elapsed: 0.0\n"
     ]
    },
    {
     "name": "stdout",
     "output_type": "stream",
     "text": [
      "MMD with the sigma optimization. Theano: 1.02 Torch: 1.02\n"
     ]
    }
   ],
   "source": [
    "n_epoch = 500\n",
    "batch_size = 200\n",
    "is_opt_sigma = True\n",
    "# with sigma optimizations\n",
    "trainer_theano = ModelTrainerTheanoBackend()\n",
    "trained_obj_theano_with_sigma = trainer_theano.train(x_train, y_train, num_epochs=n_epoch, batchsize=batch_size, opt_sigma=is_opt_sigma, x_val=x_val, y_val=y_val, init_sigma_median=True)\n",
    "\n",
    "mmd_estimator = MMD(kernel_function_obj=kernels_torch.BasicRBFKernelFunction(device_obj=device_obj, opt_sigma=is_opt_sigma),\n",
    "                   device_obj=device_obj)\n",
    "trainer_torch = ModelTrainerTorchBackend(mmd_estimator, device_obj)\n",
    "trained_obj_torch = trainer_torch.train(x_train, y_train, num_epochs=n_epoch, batchsize=batch_size, x_val=x_val, y_val=y_val)\n",
    "\n",
    "mmd2_theano_with_sigma, ratio_theano = trainer_theano.mmd_distance(x=x_val, y=y_val, sigma=trained_obj_theano_with_sigma.sigma)\n",
    "mmd2_torch_with_sigma, ratio_torch = trainer_torch.mmd_distance(x=x_val, y=y_val)\n",
    "print(f'MMD with the sigma optimization. Theano: {mmd2_theano_with_sigma} Torch: {mmd2_torch_with_sigma}')"
   ]
  },
  {
   "cell_type": "markdown",
   "id": "ddd269ee-3120-41f3-bb8a-58b23551a641",
   "metadata": {},
   "source": [
    "### Conclusion\n",
    "\n",
    "Sigma optimization does not seem to give effects to compute MMD^2 distance."
   ]
  },
  {
   "cell_type": "code",
   "execution_count": null,
   "id": "cc941f1f-f376-45d6-a068-bc7383cb9291",
   "metadata": {},
   "outputs": [],
   "source": []
  }
 ],
 "metadata": {
  "kernelspec": {
   "display_name": "Python 3",
   "language": "python",
   "name": "python3"
  },
  "language_info": {
   "codemirror_mode": {
    "name": "ipython",
    "version": 3
   },
   "file_extension": ".py",
   "mimetype": "text/x-python",
   "name": "python",
   "nbconvert_exporter": "python",
   "pygments_lexer": "ipython3",
   "version": "3.6.13"
  }
 },
 "nbformat": 4,
 "nbformat_minor": 5
}
