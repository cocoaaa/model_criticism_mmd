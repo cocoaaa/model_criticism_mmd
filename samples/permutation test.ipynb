{
 "cells": [
  {
   "cell_type": "markdown",
   "id": "92e0628c",
   "metadata": {},
   "source": [
    "# Sample notebook of Permutation test with MMD"
   ]
  },
  {
   "cell_type": "markdown",
   "id": "45f400fd",
   "metadata": {},
   "source": [
    "Statistical test is a test that we confirm if two-distribution is same or not.\n",
    "\n",
    "As a one class of the statistical tests, Permutation test is well known.\n",
    "\n",
    "In this notebook, we present you how to run Permutation test with MMD."
   ]
  },
  {
   "cell_type": "code",
   "execution_count": 2,
   "id": "a7bef6ed",
   "metadata": {},
   "outputs": [
    {
     "name": "stderr",
     "output_type": "stream",
     "text": [
      "WARNING (theano.configdefaults): install mkl with `conda install mkl-service`: No module named 'mkl'\n"
     ]
    }
   ],
   "source": [
    "import sys\n",
    "sys.path.append(\"../\")\n",
    "sys.path.append(\".\")\n",
    "import numpy as np\n",
    "import torch\n",
    "from model_criticism_mmd import MMD\n",
    "from model_criticism_mmd.backends.kernels_torch import BasicRBFKernelFunction\n",
    "from model_criticism_mmd.supports.permutation_tests import PermutationTest\n",
    "from model_criticism_mmd.models import TwoSampleDataSet\n",
    "from model_criticism_mmd import ModelTrainerTorchBackend, MMD, TwoSampleDataSet, split_data\n",
    "from model_criticism_mmd.models.static import DEFAULT_DEVICE"
   ]
  },
  {
   "cell_type": "code",
   "execution_count": 3,
   "id": "6a5cba78",
   "metadata": {},
   "outputs": [],
   "source": [
    "device_obj = DEFAULT_DEVICE"
   ]
  },
  {
   "cell_type": "markdown",
   "id": "9947d5a8",
   "metadata": {},
   "source": [
    "Next, we set dataset. The input type into the Permutation class is `TwoSampleDataSet`.\n",
    "We can set either `numpy.ndarray` or `torch.tensor`."
   ]
  },
  {
   "cell_type": "code",
   "execution_count": 4,
   "id": "42cfe937",
   "metadata": {},
   "outputs": [],
   "source": [
    "np.random.seed(seed=1)\n",
    "x = np.random.normal(3, 0.5, size=(500, 2))\n",
    "y = np.random.normal(3, 0.5, size=(500, 2))"
   ]
  },
  {
   "cell_type": "markdown",
   "id": "d5f0f091",
   "metadata": {},
   "source": [
    "Then, we run the Permutation test."
   ]
  },
  {
   "cell_type": "code",
   "execution_count": 5,
   "id": "6626292c",
   "metadata": {},
   "outputs": [
    {
     "name": "stderr",
     "output_type": "stream",
     "text": [
      "100%|██████████| 1000/1000 [00:09<00:00, 102.61it/s]"
     ]
    },
    {
     "name": "stdout",
     "output_type": "stream",
     "text": [
      "statistics: 0.005706118359427581, threshold: 0.2574213420057925, p-value: 0.878\n",
      "Same distribution!\n"
     ]
    },
    {
     "name": "stderr",
     "output_type": "stream",
     "text": [
      "\n"
     ]
    }
   ],
   "source": [
    "init_scale = torch.tensor(np.array([0.05, 0.55]))\n",
    "device_obj = torch.device(torch.device('cuda' if torch.cuda.is_available() else 'cpu'))\n",
    "kernel_function = BasicRBFKernelFunction(log_sigma=0.0, device_obj=device_obj, opt_sigma=True)\n",
    "mmd_estimator = MMD(kernel_function_obj=kernel_function, device_obj=device_obj, scales=init_scale)\n",
    "dataset_train = TwoSampleDataSet(x, y, device_obj)\n",
    "\n",
    "permutation_tester = PermutationTest(is_normalize=True, mmd_estimator=mmd_estimator, dataset=dataset_train)\n",
    "statistics = permutation_tester.compute_statistic()\n",
    "threshold = permutation_tester.compute_threshold(alpha=0.05)\n",
    "p_value = permutation_tester.compute_p_value(statistics)\n",
    "print(f'statistics: {statistics}, threshold: {threshold}, p-value: {p_value}')\n",
    "if p_value > 0.05:\n",
    "    print('Same distribution!')\n",
    "else:\n",
    "    print('Probably different distribution!')"
   ]
  },
  {
   "cell_type": "markdown",
   "id": "4f61b6bf",
   "metadata": {},
   "source": [
    "## Permutation test with optimized kernels"
   ]
  },
  {
   "cell_type": "markdown",
   "id": "2961ec63",
   "metadata": {},
   "source": [
    "To run the permutation test, we have to define a MMD estimator who has a designed kernel function.\n",
    "\n",
    "In normal cases, we search the optimal kernel on the given datset (i.e. trainings, optimizations)."
   ]
  },
  {
   "cell_type": "code",
   "execution_count": 6,
   "id": "7ea4485b",
   "metadata": {},
   "outputs": [],
   "source": [
    "n_train = 400\n",
    "x_train = x[:n_train]\n",
    "y_train = y[:n_train]\n",
    "x_test = x[n_train:]\n",
    "y_test = y[n_train:]\n",
    "dataset_val = TwoSampleDataSet(x_test, y_test, device_obj=device_obj)"
   ]
  },
  {
   "cell_type": "code",
   "execution_count": 7,
   "id": "05862b6b",
   "metadata": {},
   "outputs": [
    {
     "name": "stderr",
     "output_type": "stream",
     "text": [
      "2021-08-26 10:09:56,935 - model_criticism_mmd.logger_unit - INFO - Getting median initial sigma value...\n",
      "2021-08-26 10:09:56,998 - model_criticism_mmd.logger_unit - INFO - initial by median-heuristics -0.352 with is_log=True\n",
      "2021-08-26 10:09:57,002 - model_criticism_mmd.logger_unit - INFO - Validation at 0. MMD^2 = 0.006344559736931377, ratio = [1.26598805] obj = [-0.23585288]\n",
      "2021-08-26 10:09:57,278 - model_criticism_mmd.logger_unit - INFO -      5: [avg train] MMD^2 0.015077468287632567 obj [-1.91112737] val-MMD^2 0.028746948926260896 val-ratio [2.20834747] val-obj [-0.79224449]  elapsed: 0.0\n",
      "2021-08-26 10:09:58,390 - model_criticism_mmd.logger_unit - INFO -     25: [avg train] MMD^2 0.013349298026780948 obj [-4.83804213] val-MMD^2 0.019986890681881194 val-ratio [199.86890682] val-obj [-5.29766169]  elapsed: 0.0\n",
      "2021-08-26 10:09:59,800 - model_criticism_mmd.logger_unit - INFO -     50: [avg train] MMD^2 0.013348413561665128 obj [-4.83783625] val-MMD^2 0.019993196609990115 val-ratio [199.9319661] val-obj [-5.29797714]  elapsed: 0.0\n",
      "2021-08-26 10:10:02,628 - model_criticism_mmd.logger_unit - INFO -    100: [avg train] MMD^2 0.013348456749094148 obj [-4.83784482] val-MMD^2 0.019992937205688947 val-ratio [199.92937206] val-obj [-5.29796416]  elapsed: 0.0\n",
      "2021-08-26 10:10:09,195 - model_criticism_mmd.logger_unit - INFO -    200: [avg train] MMD^2 0.013348564648922137 obj [-4.83786579] val-MMD^2 0.01999231655578488 val-ratio [199.92316556] val-obj [-5.29793312]  elapsed: 0.0\n",
      "2021-08-26 10:10:15,920 - model_criticism_mmd.logger_unit - INFO -    300: [avg train] MMD^2 0.013348712321558374 obj [-4.83789354] val-MMD^2 0.01999152364129971 val-ratio [199.91523641] val-obj [-5.29789346]  elapsed: 0.0\n",
      "2021-08-26 10:10:22,370 - model_criticism_mmd.logger_unit - INFO -    400: [avg train] MMD^2 0.013348919902243647 obj [-4.83793128] val-MMD^2 0.01999048466523097 val-ratio [199.90484665] val-obj [-5.29784149]  elapsed: 0.0\n",
      "2021-08-26 10:10:28,872 - model_criticism_mmd.logger_unit - INFO -    500: [avg train] MMD^2 0.013349219132061557 obj [-4.83798409] val-MMD^2 0.019989082557885524 val-ratio [199.89082558] val-obj [-5.29777135]  elapsed: 0.0\n"
     ]
    }
   ],
   "source": [
    "init_scale = torch.tensor(np.array([0.05, 0.55]))\n",
    "kernel_function = BasicRBFKernelFunction(log_sigma=0.0, device_obj=device_obj, opt_sigma=True)\n",
    "mmd_estimator = MMD(kernel_function_obj=kernel_function, device_obj=device_obj, scales=init_scale)\n",
    "trainer = ModelTrainerTorchBackend(mmd_estimator=mmd_estimator, device_obj=device_obj)\n",
    "trained_obj = trainer.train(dataset_training=dataset_train, \n",
    "                            dataset_validation=dataset_val, \n",
    "                            num_epochs=500, batchsize=200)"
   ]
  },
  {
   "cell_type": "markdown",
   "id": "45e8f31e",
   "metadata": {},
   "source": [
    "Now, we have the trained MMD estimator."
   ]
  },
  {
   "cell_type": "code",
   "execution_count": 8,
   "id": "f315dc98",
   "metadata": {},
   "outputs": [],
   "source": [
    "trained_mmd_estimator = MMD.from_trained_parameters(trained_obj, device_obj=device_obj)"
   ]
  },
  {
   "cell_type": "markdown",
   "id": "06b1531d",
   "metadata": {},
   "source": [
    "Finally, we run a permutation test. For that, we call a class named `PermutationTest`."
   ]
  },
  {
   "cell_type": "code",
   "execution_count": 9,
   "id": "f055eb87",
   "metadata": {},
   "outputs": [
    {
     "name": "stderr",
     "output_type": "stream",
     "text": [
      "100%|██████████| 1000/1000 [00:02<00:00, 436.10it/s]"
     ]
    },
    {
     "name": "stdout",
     "output_type": "stream",
     "text": [
      "MMD-statistics: 0.019989082557885524, threshold: 0.02003272012882909, p-value: 0.655\n",
      "Same distribution!\n"
     ]
    },
    {
     "name": "stderr",
     "output_type": "stream",
     "text": [
      "\n"
     ]
    }
   ],
   "source": [
    "permutation_tester = PermutationTest(n_permutation_test=1000, \n",
    "                                     mmd_estimator=trained_mmd_estimator, \n",
    "                                     dataset=dataset_val, \n",
    "                                     batch_size=-1)\n",
    "statistics = permutation_tester.compute_statistic()\n",
    "threshold = permutation_tester.compute_threshold(alpha=0.05)\n",
    "p_value = permutation_tester.compute_p_value(statistics)\n",
    "print(f\"MMD-statistics: {statistics}, threshold: {threshold}, p-value: {p_value}\")\n",
    "if p_value > 0.05:\n",
    "    print('Same distribution!')\n",
    "else:\n",
    "    print('Probably different distribution!')"
   ]
  },
  {
   "cell_type": "code",
   "execution_count": null,
   "id": "95005a5d-076e-422e-9f65-ed6b3120c98a",
   "metadata": {},
   "outputs": [],
   "source": []
  }
 ],
 "metadata": {
  "kernelspec": {
   "display_name": "Python 3",
   "language": "python",
   "name": "python3"
  },
  "language_info": {
   "codemirror_mode": {
    "name": "ipython",
    "version": 3
   },
   "file_extension": ".py",
   "mimetype": "text/x-python",
   "name": "python",
   "nbconvert_exporter": "python",
   "pygments_lexer": "ipython3",
   "version": "3.6.13"
  }
 },
 "nbformat": 4,
 "nbformat_minor": 5
}