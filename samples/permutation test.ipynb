{
 "cells": [
  {
   "cell_type": "markdown",
   "id": "7172207f-1747-47f9-b47b-b1a8dda92511",
   "metadata": {},
   "source": [
    "# Sample notebook of Permutation test with MMD"
   ]
  },
  {
   "cell_type": "markdown",
   "id": "2faad90a-1209-4cad-8b16-d1a6375f161d",
   "metadata": {},
   "source": [
    "Statistical test is a test that we confirm if two-distribution is same or not.\n",
    "\n",
    "As a one class of the statistical tests, Permutation test is well known.\n",
    "\n",
    "In this notebook, we present you how to run Permutation test with MMD."
   ]
  },
  {
   "cell_type": "code",
   "execution_count": 1,
   "id": "4ca84865-83a0-4b03-bfcd-daac738b2aba",
   "metadata": {},
   "outputs": [
    {
     "name": "stderr",
     "output_type": "stream",
     "text": [
      "WARNING (theano.configdefaults): install mkl with `conda install mkl-service`: No module named 'mkl'\n"
     ]
    }
   ],
   "source": [
    "import sys\n",
    "sys.path.append(\"../\")\n",
    "sys.path.append(\".\")\n",
    "import numpy as np\n",
    "import torch\n",
    "from model_criticism_mmd import MMD\n",
    "from model_criticism_mmd.backends.kernels_torch import BasicRBFKernelFunction\n",
    "from model_criticism_mmd.supports.permutation_tests import PermutationTest\n",
    "from model_criticism_mmd.models import TwoSampleDataSet\n",
    "from model_criticism_mmd import ModelTrainerTorchBackend, MMD, TwoSampleDataSet, split_data\n",
    "from model_criticism_mmd.backends import kernels_torch"
   ]
  },
  {
   "cell_type": "code",
   "execution_count": 4,
   "id": "7b51976d-0767-467e-8b68-242211544912",
   "metadata": {},
   "outputs": [],
   "source": [
    "device_obj = torch.device('cpu')"
   ]
  },
  {
   "cell_type": "markdown",
   "id": "3bae7353-cd67-4496-ae6e-5a4f8fbf720b",
   "metadata": {},
   "source": [
    "Next, we set dataset. The input type into the Permutation class is `TwoSampleDataSet`.\n",
    "We can set either `numpy.ndarray` or `torch.tensor`."
   ]
  },
  {
   "cell_type": "code",
   "execution_count": 2,
   "id": "3000a846-6889-48b6-96a1-87106ead0b01",
   "metadata": {},
   "outputs": [],
   "source": [
    "np.random.seed(seed=1)\n",
    "x = np.random.normal(3, 0.5, size=(500, 2))\n",
    "y = np.random.normal(3, 0.5, size=(500, 2))"
   ]
  },
  {
   "cell_type": "markdown",
   "id": "4c79cd74-93be-468d-afaa-7367bc44cb3a",
   "metadata": {},
   "source": [
    "Then, we run the Permutation test."
   ]
  },
  {
   "cell_type": "code",
   "execution_count": 7,
   "id": "879a5e67-2971-471e-a7f6-ff8ce3b5e608",
   "metadata": {},
   "outputs": [
    {
     "name": "stderr",
     "output_type": "stream",
     "text": [
      "100%|██████████| 1000/1000 [00:15<00:00, 65.39it/s]"
     ]
    },
    {
     "name": "stdout",
     "output_type": "stream",
     "text": [
      "statistics: 0.005706118359427581, threshold: 0.23298186958692346, p-value: 0.9\n",
      "Same distribution!\n"
     ]
    },
    {
     "name": "stderr",
     "output_type": "stream",
     "text": [
      "\n"
     ]
    }
   ],
   "source": [
    "init_scale = torch.tensor(np.array([0.05, 0.55]))\n",
    "device_obj = torch.device(torch.device('cuda' if torch.cuda.is_available() else 'cpu'))\n",
    "kernel_function = BasicRBFKernelFunction(log_sigma=0.0, device_obj=device_obj, opt_sigma=True)\n",
    "mmd_estimator = MMD(kernel_function_obj=kernel_function, device_obj=device_obj, scales=init_scale)\n",
    "dataset_train = TwoSampleDataSet(x, y, device_obj)\n",
    "\n",
    "permutation_tester = PermutationTest(is_normalize=True, mmd_estimator=mmd_estimator, dataset=dataset_train)\n",
    "statistics = permutation_tester.compute_statistic()\n",
    "threshold = permutation_tester.compute_threshold(alpha=0.05)\n",
    "p_value = permutation_tester.compute_p_value(statistics)\n",
    "print(f'statistics: {statistics}, threshold: {threshold}, p-value: {p_value}')\n",
    "if p_value > 0.05:\n",
    "    print('Same distribution!')\n",
    "else:\n",
    "    print('Probably different distribution!')"
   ]
  },
  {
   "cell_type": "markdown",
   "id": "a6c44226-78a8-4e1d-a751-c0be7e930398",
   "metadata": {},
   "source": [
    "## Permutation test with optimized kernels"
   ]
  },
  {
   "cell_type": "markdown",
   "id": "99111dcf-9cb7-4e68-bd94-4aaf38cf4693",
   "metadata": {},
   "source": [
    "To run the permutation test, we have to define a MMD estimator who has a designed kernel function.\n",
    "\n",
    "In normal cases, we search the optimal kernel on the given datset (i.e. trainings, optimizations)."
   ]
  },
  {
   "cell_type": "code",
   "execution_count": 8,
   "id": "13eb9319-4419-4256-8f6e-fcb73793ed33",
   "metadata": {},
   "outputs": [],
   "source": [
    "n_train = 400\n",
    "x_train = x[:n_train]\n",
    "y_train = y[:n_train]\n",
    "x_test = x[n_train:]\n",
    "y_test = y[n_train:]\n",
    "dataset_val = TwoSampleDataSet(x_test, y_test, device_obj=device_obj)"
   ]
  },
  {
   "cell_type": "code",
   "execution_count": 9,
   "id": "0af5c09d-44ba-4ef1-9c4f-f99ea7546c1a",
   "metadata": {},
   "outputs": [
    {
     "name": "stderr",
     "output_type": "stream",
     "text": [
      "2021-08-06 11:02:10,123 - model_criticism_mmd.logger_unit - INFO - Validation at 0. MMD^2 = 0.002083155062253317, ratio = [1.41393381] obj = [-0.34637576]\n",
      "2021-08-06 11:02:10,583 - model_criticism_mmd.logger_unit - INFO -      5: [avg train] MMD^2 0.013927539551370346 obj [-1.80734081] val-MMD^2 0.027928577606519733 val-ratio [2.12399064] val-obj [-0.7532967]  elapsed: 0.0\n",
      "2021-08-06 11:02:12,298 - model_criticism_mmd.logger_unit - INFO -     25: [avg train] MMD^2 0.01837778834691539 obj [-1.8433611] val-MMD^2 0.03941597958890697 val-ratio [1.93707534] val-obj [-0.66117928]  elapsed: 0.0\n",
      "2021-08-06 11:02:15,251 - model_criticism_mmd.logger_unit - INFO -     50: [avg train] MMD^2 0.012747605173738989 obj [-1.76003644] val-MMD^2 0.02008537317347967 val-ratio [6.42102524] val-obj [-1.8595778]  elapsed: 0.0\n",
      "2021-08-06 11:02:20,707 - model_criticism_mmd.logger_unit - INFO -    100: [avg train] MMD^2 0.013348507753305464 obj [-4.83778388] val-MMD^2 0.01999693791920378 val-ratio [199.96937919] val-obj [-5.29816425]  elapsed: 0.0\n",
      "2021-08-06 11:02:31,973 - model_criticism_mmd.logger_unit - INFO -    200: [avg train] MMD^2 0.013348518267279987 obj [-4.83778762] val-MMD^2 0.01999677508210738 val-ratio [199.96775082] val-obj [-5.29815611]  elapsed: 0.0\n",
      "2021-08-06 11:02:43,193 - model_criticism_mmd.logger_unit - INFO -    300: [avg train] MMD^2 0.01334853048507991 obj [-4.83779179] val-MMD^2 0.019996596282094162 val-ratio [199.96596282] val-obj [-5.29814717]  elapsed: 0.0\n",
      "2021-08-06 11:02:53,538 - model_criticism_mmd.logger_unit - INFO -    400: [avg train] MMD^2 0.013348544797596668 obj [-4.83779649] val-MMD^2 0.019996398254203997 val-ratio [199.96398254] val-obj [-5.29813726]  elapsed: 0.0\n",
      "2021-08-06 11:03:04,143 - model_criticism_mmd.logger_unit - INFO -    500: [avg train] MMD^2 0.01334856183107537 obj [-4.83780183] val-MMD^2 0.019996177229907083 val-ratio [199.9617723] val-obj [-5.29812621]  elapsed: 0.0\n"
     ]
    }
   ],
   "source": [
    "init_scale = torch.tensor(np.array([0.05, 0.55]))\n",
    "kernel_function = BasicRBFKernelFunction(log_sigma=0.0, device_obj=device_obj, opt_sigma=True)\n",
    "mmd_estimator = MMD(kernel_function_obj=kernel_function, device_obj=device_obj, scales=init_scale)\n",
    "trainer = ModelTrainerTorchBackend(mmd_estimator=mmd_estimator, device_obj=device_obj)\n",
    "trained_obj = trainer.train(dataset_training=dataset_train, \n",
    "                            dataset_validation=dataset_val, \n",
    "                            num_epochs=500, batchsize=200)"
   ]
  },
  {
   "cell_type": "markdown",
   "id": "830569fd-08a5-49f1-b415-ac60f0877d38",
   "metadata": {},
   "source": [
    "Now, we have the trained MMD estimator."
   ]
  },
  {
   "cell_type": "code",
   "execution_count": 10,
   "id": "bb606067-1e24-4c95-a928-88e41b169f0b",
   "metadata": {},
   "outputs": [],
   "source": [
    "trained_mmd_estimator = MMD.from_trained_parameters(trained_obj, device_obj=device_obj)"
   ]
  },
  {
   "cell_type": "markdown",
   "id": "f9278add-8257-4971-90a9-b41748e2f40c",
   "metadata": {},
   "source": [
    "Finally, we run a permutation test. For that, we call a class named `PermutationTest`."
   ]
  },
  {
   "cell_type": "code",
   "execution_count": 11,
   "id": "c125b9e0-dc28-4974-bedf-3b05a2dd9484",
   "metadata": {},
   "outputs": [
    {
     "name": "stderr",
     "output_type": "stream",
     "text": [
      "100%|██████████| 1000/1000 [00:32<00:00, 31.03it/s]"
     ]
    },
    {
     "name": "stdout",
     "output_type": "stream",
     "text": [
      "MMD-statistics: 0.004012084050638276, threshold: 0.004015354932494816, p-value: 0.13\n",
      "Same distribution!\n"
     ]
    },
    {
     "name": "stderr",
     "output_type": "stream",
     "text": [
      "\n"
     ]
    }
   ],
   "source": [
    "permutation_tester = PermutationTest(n_permutation_test=1000, \n",
    "                                     mmd_estimator=trained_mmd_estimator, \n",
    "                                     dataset=dataset_train, \n",
    "                                     batch_size=-1)\n",
    "statistics = permutation_tester.compute_statistic()\n",
    "threshold = permutation_tester.compute_threshold(alpha=0.05)\n",
    "p_value = permutation_tester.compute_p_value(statistics)\n",
    "print(f\"MMD-statistics: {statistics}, threshold: {threshold}, p-value: {p_value}\")\n",
    "if p_value > 0.05:\n",
    "    print('Same distribution!')\n",
    "else:\n",
    "    print('Probably different distribution!')"
   ]
  }
 ],
 "metadata": {
  "kernelspec": {
   "display_name": "Python 3",
   "language": "python",
   "name": "python3"
  },
  "language_info": {
   "codemirror_mode": {
    "name": "ipython",
    "version": 3
   },
   "file_extension": ".py",
   "mimetype": "text/x-python",
   "name": "python",
   "nbconvert_exporter": "python",
   "pygments_lexer": "ipython3",
   "version": "3.6.13"
  }
 },
 "nbformat": 4,
 "nbformat_minor": 5
}
