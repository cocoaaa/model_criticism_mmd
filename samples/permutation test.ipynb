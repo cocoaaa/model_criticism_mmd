{
 "cells": [
  {
   "cell_type": "markdown",
   "id": "7172207f-1747-47f9-b47b-b1a8dda92511",
   "metadata": {},
   "source": [
    "# Sample notebook of Permutation test with MMD"
   ]
  },
  {
   "cell_type": "code",
   "execution_count": 1,
   "id": "4ca84865-83a0-4b03-bfcd-daac738b2aba",
   "metadata": {},
   "outputs": [
    {
     "name": "stderr",
     "output_type": "stream",
     "text": [
      "WARNING (theano.configdefaults): install mkl with `conda install mkl-service`: No module named 'mkl'\n"
     ]
    }
   ],
   "source": [
    "import sys\n",
    "sys.path.append(\"../\")\n",
    "sys.path.append(\".\")\n",
    "import numpy as np\n",
    "import torch\n",
    "from model_criticism_mmd import MMD\n",
    "from model_criticism_mmd.backends.kernels_torch import BasicRBFKernelFunction\n",
    "from model_criticism_mmd.supports.permutation_tests import PermutationTest\n",
    "from model_criticism_mmd.models import TwoSampleDataSet\n",
    "from model_criticism_mmd import ModelTrainerTorchBackend, MMD, TwoSampleDataSet, split_data\n",
    "from model_criticism_mmd.backends import kernels_torch"
   ]
  },
  {
   "cell_type": "markdown",
   "id": "3bae7353-cd67-4496-ae6e-5a4f8fbf720b",
   "metadata": {},
   "source": [
    "Next, we set dataset. The input type into the Permutation class is `TwoSampleDataSet`.\n",
    "We can set either `numpy.ndarray` or `torch.tensor`."
   ]
  },
  {
   "cell_type": "code",
   "execution_count": 2,
   "id": "3000a846-6889-48b6-96a1-87106ead0b01",
   "metadata": {},
   "outputs": [],
   "source": [
    "np.random.seed(seed=1)\n",
    "x = np.random.normal(3, 0.5, size=(500, 2))\n",
    "y = np.random.normal(3, 0.5, size=(500, 2))"
   ]
  },
  {
   "cell_type": "markdown",
   "id": "4c79cd74-93be-468d-afaa-7367bc44cb3a",
   "metadata": {},
   "source": [
    "Then, we run the Permutation test."
   ]
  },
  {
   "cell_type": "code",
   "execution_count": 7,
   "id": "879a5e67-2971-471e-a7f6-ff8ce3b5e608",
   "metadata": {},
   "outputs": [
    {
     "name": "stderr",
     "output_type": "stream",
     "text": [
      "100%|██████████| 1000/1000 [00:10<00:00, 91.05it/s]"
     ]
    },
    {
     "name": "stdout",
     "output_type": "stream",
     "text": [
      "statistics: 0.005706118359427581, threshold: 0.26779616255229177, p-value: 0.894\n",
      "Same distribution!\n"
     ]
    },
    {
     "name": "stderr",
     "output_type": "stream",
     "text": [
      "\n"
     ]
    }
   ],
   "source": [
    "init_scale = torch.tensor(np.array([0.05, 0.55]))\n",
    "device_obj = torch.device(torch.device('cuda' if torch.cuda.is_available() else 'cpu'))\n",
    "kernel_function = BasicRBFKernelFunction(log_sigma=0.0, device_obj=device_obj, opt_sigma=True)\n",
    "mmd_estimator = MMD(kernel_function_obj=kernel_function, device_obj=device_obj, scales=init_scale)\n",
    "dataset_train = TwoSampleDataSet(x, y, device_obj)\n",
    "\n",
    "permutation_tester = PermutationTest(is_normalize=True, mmd_estimator=mmd_estimator, dataset=dataset_train)\n",
    "statistics = permutation_tester.compute_statistic()\n",
    "threshold = permutation_tester.compute_threshold(alpha=0.05)\n",
    "p_value = permutation_tester.compute_p_value(statistics)\n",
    "print(f'statistics: {statistics}, threshold: {threshold}, p-value: {p_value}')\n",
    "if p_value > 0.05:\n",
    "    print('Same distribution!')\n",
    "else:\n",
    "    print('Probably different distribution!')"
   ]
  },
  {
   "cell_type": "markdown",
   "id": "a6c44226-78a8-4e1d-a751-c0be7e930398",
   "metadata": {},
   "source": [
    "## Permutation test with optimized kernels"
   ]
  },
  {
   "cell_type": "markdown",
   "id": "99111dcf-9cb7-4e68-bd94-4aaf38cf4693",
   "metadata": {},
   "source": [
    "To run the permutation test, we have to define a MMD estimator who has a designed kernel function.\n",
    "\n",
    "In normal cases, we search the optimal kernel on the given datset (i.e. trainings, optimizations)."
   ]
  },
  {
   "cell_type": "code",
   "execution_count": 5,
   "id": "13eb9319-4419-4256-8f6e-fcb73793ed33",
   "metadata": {},
   "outputs": [],
   "source": [
    "n_train = 400\n",
    "x_train = x[:n_train]\n",
    "y_train = y[:n_train]\n",
    "x_test = x[n_train:]\n",
    "y_test = y[n_train:]\n",
    "dataset_val = TwoSampleDataSet(x_test, y_test, device_obj=device_obj)"
   ]
  },
  {
   "cell_type": "code",
   "execution_count": 6,
   "id": "0af5c09d-44ba-4ef1-9c4f-f99ea7546c1a",
   "metadata": {},
   "outputs": [
    {
     "name": "stderr",
     "output_type": "stream",
     "text": [
      "2021-08-05 14:43:14,024 - model_criticism_mmd.logger_unit - INFO - Validation at 0. MMD^2 = 0.006782989967585085, ratio = [1.33677] obj = [-0.29025626]\n",
      "2021-08-05 14:43:14,386 - model_criticism_mmd.logger_unit - INFO -      5: [avg train] MMD^2 0.001336887696456938 obj [-2.38391235] val-MMD^2 0.0022629932290427757 val-ratio [22.62993229] val-obj [-3.11927347]  elapsed: 0.0\n",
      "2021-08-05 14:43:15,724 - model_criticism_mmd.logger_unit - INFO -     25: [avg train] MMD^2 0.013374156857882182 obj [-4.24255325] val-MMD^2 0.01999721436950821 val-ratio [85.63179015] val-obj [-4.45005659]  elapsed: 0.0\n",
      "2021-08-05 14:43:17,361 - model_criticism_mmd.logger_unit - INFO -     50: [avg train] MMD^2 0.013346477760713434 obj [-4.83768322] val-MMD^2 0.019990796354718437 val-ratio [199.90796355] val-obj [-5.29785708]  elapsed: 0.0\n",
      "2021-08-05 14:43:20,554 - model_criticism_mmd.logger_unit - INFO -    100: [avg train] MMD^2 0.013346521481474754 obj [-4.83768504] val-MMD^2 0.019990946634031313 val-ratio [199.90946634] val-obj [-5.2978646]  elapsed: 0.0\n",
      "2021-08-05 14:43:26,819 - model_criticism_mmd.logger_unit - INFO -    200: [avg train] MMD^2 0.0133465957732968 obj [-4.83768854] val-MMD^2 0.019991183136673956 val-ratio [199.91183137] val-obj [-5.29787643]  elapsed: 0.0\n",
      "2021-08-05 14:43:33,090 - model_criticism_mmd.logger_unit - INFO -    300: [avg train] MMD^2 0.013346665903094893 obj [-4.8376919] val-MMD^2 0.019991402179625146 val-ratio [199.9140218] val-obj [-5.29788738]  elapsed: 0.0\n",
      "2021-08-05 14:43:40,175 - model_criticism_mmd.logger_unit - INFO -    400: [avg train] MMD^2 0.013346731992843724 obj [-4.83769515] val-MMD^2 0.019991604002658907 val-ratio [199.91604003] val-obj [-5.29789748]  elapsed: 0.0\n",
      "2021-08-05 14:43:47,407 - model_criticism_mmd.logger_unit - INFO -    500: [avg train] MMD^2 0.013346794338736617 obj [-4.8376983] val-MMD^2 0.019991789438802598 val-ratio [199.91789439] val-obj [-5.29790675]  elapsed: 0.0\n"
     ]
    }
   ],
   "source": [
    "init_scale = torch.tensor(np.array([0.05, 0.55]))\n",
    "kernel_function = BasicRBFKernelFunction(log_sigma=0.0, device_obj=device_obj, opt_sigma=True)\n",
    "mmd_estimator = MMD(kernel_function_obj=kernel_function, device_obj=device_obj, scales=init_scale)\n",
    "trainer = ModelTrainerTorchBackend(mmd_estimator=mmd_estimator, device_obj=device_obj)\n",
    "trained_obj = trainer.train(dataset_training=dataset_train, dataset_validation=dataset_val, num_epochs=500, batchsize=200)"
   ]
  },
  {
   "cell_type": "markdown",
   "id": "830569fd-08a5-49f1-b415-ac60f0877d38",
   "metadata": {},
   "source": [
    "Now, we have the trained MMD estimator."
   ]
  },
  {
   "cell_type": "code",
   "execution_count": 8,
   "id": "bb606067-1e24-4c95-a928-88e41b169f0b",
   "metadata": {},
   "outputs": [],
   "source": [
    "trained_mmd_estimator = MMD(trained_obj.kernel_function_obj, device_obj=device_obj)"
   ]
  },
  {
   "cell_type": "markdown",
   "id": "f9278add-8257-4971-90a9-b41748e2f40c",
   "metadata": {},
   "source": [
    "Finally, we run a permutation test. For that, we call a class named `PermutationTest`."
   ]
  },
  {
   "cell_type": "code",
   "execution_count": 11,
   "id": "c125b9e0-dc28-4974-bedf-3b05a2dd9484",
   "metadata": {},
   "outputs": [
    {
     "name": "stderr",
     "output_type": "stream",
     "text": [
      "100%|██████████| 1000/1000 [00:17<00:00, 56.63it/s]"
     ]
    },
    {
     "name": "stdout",
     "output_type": "stream",
     "text": [
      "MMD-statistics: 0.004041565216796814, threshold: 0.004046224310567938, p-value: 0.07199999999999995\n",
      "Same distribution!\n"
     ]
    },
    {
     "name": "stderr",
     "output_type": "stream",
     "text": [
      "\n"
     ]
    }
   ],
   "source": [
    "permutation_tester = PermutationTest(n_permutation_test=1000, \n",
    "                                     mmd_estimator=trained_mmd_estimator, \n",
    "                                     dataset=dataset_train, \n",
    "                                     batch_size=-1)\n",
    "statistics = permutation_tester.compute_statistic()\n",
    "threshold = permutation_tester.compute_threshold(alpha=0.05)\n",
    "p_value = permutation_tester.compute_p_value(statistics)\n",
    "print(f\"MMD-statistics: {statistics}, threshold: {threshold}, p-value: {p_value}\")\n",
    "if p_value > 0.05:\n",
    "    print('Same distribution!')\n",
    "else:\n",
    "    print('Probably different distribution!')"
   ]
  }
 ],
 "metadata": {
  "kernelspec": {
   "display_name": "Python 3",
   "language": "python",
   "name": "python3"
  },
  "language_info": {
   "codemirror_mode": {
    "name": "ipython",
    "version": 3
   },
   "file_extension": ".py",
   "mimetype": "text/x-python",
   "name": "python",
   "nbconvert_exporter": "python",
   "pygments_lexer": "ipython3",
   "version": "3.6.13"
  }
 },
 "nbformat": 4,
 "nbformat_minor": 5
}
