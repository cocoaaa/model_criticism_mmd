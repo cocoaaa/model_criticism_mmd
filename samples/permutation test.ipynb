{
 "cells": [
  {
   "cell_type": "markdown",
   "id": "92e0628c",
   "metadata": {},
   "source": [
    "# Sample notebook of Permutation test with MMD"
   ]
  },
  {
   "cell_type": "markdown",
   "id": "45f400fd",
   "metadata": {},
   "source": [
    "Statistical test is a test that we confirm if two-distribution is same or not.\n",
    "\n",
    "As a one class of the statistical tests, Permutation test is well known.\n",
    "\n",
    "In this notebook, we present you how to run Permutation test with MMD."
   ]
  },
  {
   "cell_type": "code",
   "execution_count": 1,
   "id": "a7bef6ed",
   "metadata": {},
   "outputs": [
    {
     "name": "stderr",
     "output_type": "stream",
     "text": [
      "WARNING (theano.configdefaults): install mkl with `conda install mkl-service`: No module named 'mkl'\n"
     ]
    }
   ],
   "source": [
    "import sys\n",
    "sys.path.append(\"../\")\n",
    "sys.path.append(\".\")\n",
    "import numpy as np\n",
    "import torch\n",
    "from model_criticism_mmd import MMD\n",
    "from model_criticism_mmd.backends.kernels_torch import BasicRBFKernelFunction\n",
    "from model_criticism_mmd.supports.permutation_tests import PermutationTest\n",
    "from model_criticism_mmd.models import TwoSampleDataSet\n",
    "from model_criticism_mmd import ModelTrainerTorchBackend, MMD, TwoSampleDataSet, split_data\n",
    "from model_criticism_mmd.backends import kernels_torch"
   ]
  },
  {
   "cell_type": "code",
   "execution_count": 2,
   "id": "6a5cba78",
   "metadata": {},
   "outputs": [],
   "source": [
    "device_obj = torch.device('cpu')"
   ]
  },
  {
   "cell_type": "markdown",
   "id": "9947d5a8",
   "metadata": {},
   "source": [
    "Next, we set dataset. The input type into the Permutation class is `TwoSampleDataSet`.\n",
    "We can set either `numpy.ndarray` or `torch.tensor`."
   ]
  },
  {
   "cell_type": "code",
   "execution_count": 3,
   "id": "42cfe937",
   "metadata": {},
   "outputs": [],
   "source": [
    "np.random.seed(seed=1)\n",
    "x = np.random.normal(3, 0.5, size=(500, 2))\n",
    "y = np.random.normal(3, 0.5, size=(500, 2))"
   ]
  },
  {
   "cell_type": "markdown",
   "id": "d5f0f091",
   "metadata": {},
   "source": [
    "Then, we run the Permutation test."
   ]
  },
  {
   "cell_type": "code",
   "execution_count": 4,
   "id": "6626292c",
   "metadata": {},
   "outputs": [
    {
     "name": "stderr",
     "output_type": "stream",
     "text": [
      "100%|██████████| 1000/1000 [00:09<00:00, 104.60it/s]"
     ]
    },
    {
     "name": "stdout",
     "output_type": "stream",
     "text": [
      "statistics: 0.005706118359427581, threshold: 0.26126070815185587, p-value: 0.895\n",
      "Same distribution!\n"
     ]
    },
    {
     "name": "stderr",
     "output_type": "stream",
     "text": [
      "\n"
     ]
    }
   ],
   "source": [
    "init_scale = torch.tensor(np.array([0.05, 0.55]))\n",
    "device_obj = torch.device(torch.device('cuda' if torch.cuda.is_available() else 'cpu'))\n",
    "kernel_function = BasicRBFKernelFunction(log_sigma=0.0, device_obj=device_obj, opt_sigma=True)\n",
    "mmd_estimator = MMD(kernel_function_obj=kernel_function, device_obj=device_obj, scales=init_scale)\n",
    "dataset_train = TwoSampleDataSet(x, y, device_obj)\n",
    "\n",
    "permutation_tester = PermutationTest(is_normalize=True, mmd_estimator=mmd_estimator, dataset=dataset_train)\n",
    "statistics = permutation_tester.compute_statistic()\n",
    "threshold = permutation_tester.compute_threshold(alpha=0.05)\n",
    "p_value = permutation_tester.compute_p_value(statistics)\n",
    "print(f'statistics: {statistics}, threshold: {threshold}, p-value: {p_value}')\n",
    "if p_value > 0.05:\n",
    "    print('Same distribution!')\n",
    "else:\n",
    "    print('Probably different distribution!')"
   ]
  },
  {
   "cell_type": "markdown",
   "id": "4f61b6bf",
   "metadata": {},
   "source": [
    "## Permutation test with optimized kernels"
   ]
  },
  {
   "cell_type": "markdown",
   "id": "2961ec63",
   "metadata": {},
   "source": [
    "To run the permutation test, we have to define a MMD estimator who has a designed kernel function.\n",
    "\n",
    "In normal cases, we search the optimal kernel on the given datset (i.e. trainings, optimizations)."
   ]
  },
  {
   "cell_type": "code",
   "execution_count": 5,
   "id": "7ea4485b",
   "metadata": {},
   "outputs": [],
   "source": [
    "n_train = 400\n",
    "x_train = x[:n_train]\n",
    "y_train = y[:n_train]\n",
    "x_test = x[n_train:]\n",
    "y_test = y[n_train:]\n",
    "dataset_val = TwoSampleDataSet(x_test, y_test, device_obj=device_obj)"
   ]
  },
  {
   "cell_type": "code",
   "execution_count": 6,
   "id": "05862b6b",
   "metadata": {},
   "outputs": [
    {
     "name": "stderr",
     "output_type": "stream",
     "text": [
      "2021-08-09 15:32:32,130 - model_criticism_mmd.logger_unit - INFO - Validation at 0. MMD^2 = 0.0054279060877084895, ratio = [1.42118584] obj = [-0.35149162]\n",
      "2021-08-09 15:32:32,491 - model_criticism_mmd.logger_unit - INFO -      5: [avg train] MMD^2 0.014181100859385306 obj [-1.8767617] val-MMD^2 0.0274158374440569 val-ratio [2.24433956] val-obj [-0.8084113]  elapsed: 0.0\n",
      "2021-08-09 15:32:33,911 - model_criticism_mmd.logger_unit - INFO -     25: [avg train] MMD^2 0.013349085295267188 obj [-4.83800576] val-MMD^2 0.01998787532532578 val-ratio [199.87875325] val-obj [-5.29771095]  elapsed: 0.0\n",
      "2021-08-09 15:32:36,105 - model_criticism_mmd.logger_unit - INFO -     50: [avg train] MMD^2 0.013348356957317481 obj [-4.83780986] val-MMD^2 0.019994455136139996 val-ratio [199.94455136] val-obj [-5.29804008]  elapsed: 0.0\n",
      "2021-08-09 15:32:39,968 - model_criticism_mmd.logger_unit - INFO -    100: [avg train] MMD^2 0.013348379533296746 obj [-4.8378148] val-MMD^2 0.019994291901512036 val-ratio [199.94291902] val-obj [-5.29803192]  elapsed: 0.0\n",
      "2021-08-09 15:32:47,813 - model_criticism_mmd.logger_unit - INFO -    200: [avg train] MMD^2 0.01334843344356125 obj [-4.83782641] val-MMD^2 0.019993913572143106 val-ratio [199.93913572] val-obj [-5.298013]  elapsed: 0.0\n",
      "2021-08-09 15:32:55,647 - model_criticism_mmd.logger_unit - INFO -    300: [avg train] MMD^2 0.013348502765788854 obj [-4.83784087] val-MMD^2 0.01999345479297683 val-ratio [199.93454793] val-obj [-5.29799005]  elapsed: 0.0\n",
      "2021-08-09 15:33:03,383 - model_criticism_mmd.logger_unit - INFO -    400: [avg train] MMD^2 0.013348594196937453 obj [-4.8378593] val-MMD^2 0.0199928890111548 val-ratio [199.92889011] val-obj [-5.29796175]  elapsed: 0.0\n",
      "2021-08-09 15:33:11,303 - model_criticism_mmd.logger_unit - INFO -    500: [avg train] MMD^2 0.013348717845912753 obj [-4.83788333] val-MMD^2 0.019992177144335876 val-ratio [199.92177144] val-obj [-5.29792615]  elapsed: 0.0\n"
     ]
    }
   ],
   "source": [
    "init_scale = torch.tensor(np.array([0.05, 0.55]))\n",
    "kernel_function = BasicRBFKernelFunction(log_sigma=0.0, device_obj=device_obj, opt_sigma=True)\n",
    "mmd_estimator = MMD(kernel_function_obj=kernel_function, device_obj=device_obj, scales=init_scale)\n",
    "trainer = ModelTrainerTorchBackend(mmd_estimator=mmd_estimator, device_obj=device_obj)\n",
    "trained_obj = trainer.train(dataset_training=dataset_train, \n",
    "                            dataset_validation=dataset_val, \n",
    "                            num_epochs=500, batchsize=200)"
   ]
  },
  {
   "cell_type": "markdown",
   "id": "45e8f31e",
   "metadata": {},
   "source": [
    "Now, we have the trained MMD estimator."
   ]
  },
  {
   "cell_type": "code",
   "execution_count": 7,
   "id": "f315dc98",
   "metadata": {},
   "outputs": [],
   "source": [
    "trained_mmd_estimator = MMD.from_trained_parameters(trained_obj, device_obj=device_obj)"
   ]
  },
  {
   "cell_type": "markdown",
   "id": "06b1531d",
   "metadata": {},
   "source": [
    "Finally, we run a permutation test. For that, we call a class named `PermutationTest`."
   ]
  },
  {
   "cell_type": "code",
   "execution_count": 8,
   "id": "f055eb87",
   "metadata": {},
   "outputs": [
    {
     "name": "stderr",
     "output_type": "stream",
     "text": [
      "100%|██████████| 1000/1000 [00:25<00:00, 39.73it/s]"
     ]
    },
    {
     "name": "stdout",
     "output_type": "stream",
     "text": [
      "MMD-statistics: 0.004013310439378724, threshold: 0.004015453203178707, p-value: 0.07599999999999996\n",
      "Same distribution!\n"
     ]
    },
    {
     "name": "stderr",
     "output_type": "stream",
     "text": [
      "\n"
     ]
    }
   ],
   "source": [
    "permutation_tester = PermutationTest(n_permutation_test=1000, \n",
    "                                     mmd_estimator=trained_mmd_estimator, \n",
    "                                     dataset=dataset_train, \n",
    "                                     batch_size=-1)\n",
    "statistics = permutation_tester.compute_statistic()\n",
    "threshold = permutation_tester.compute_threshold(alpha=0.05)\n",
    "p_value = permutation_tester.compute_p_value(statistics)\n",
    "print(f\"MMD-statistics: {statistics}, threshold: {threshold}, p-value: {p_value}\")\n",
    "if p_value > 0.05:\n",
    "    print('Same distribution!')\n",
    "else:\n",
    "    print('Probably different distribution!')"
   ]
  }
 ],
 "metadata": {
  "kernelspec": {
   "display_name": "Python 3",
   "language": "python",
   "name": "python3"
  },
  "language_info": {
   "codemirror_mode": {
    "name": "ipython",
    "version": 3
   },
   "file_extension": ".py",
   "mimetype": "text/x-python",
   "name": "python",
   "nbconvert_exporter": "python",
   "pygments_lexer": "ipython3",
   "version": "3.6.13"
  }
 },
 "nbformat": 4,
 "nbformat_minor": 5
}
