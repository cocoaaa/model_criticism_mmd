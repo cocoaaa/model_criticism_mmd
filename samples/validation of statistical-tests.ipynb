{
 "cells": [
  {
   "cell_type": "markdown",
   "id": "a8a9731b-c07e-40ef-a7d5-0324f794ad1a",
   "metadata": {},
   "source": [
    "# Validation of statistical-tests\n",
    "\n",
    "We would like to validate that our test-settings are correct. \n",
    "\n",
    "We have data of $X=Y$ and $X!=Y$ beforehand, and we run tests. If test's result are same as the truth, we regard that as valid.\n",
    "\n",
    "The notebook shows you samples to validate a stats-test."
   ]
  },
  {
   "cell_type": "code",
   "execution_count": 10,
   "id": "bdb6aed5-2078-4273-a81d-53d17079b937",
   "metadata": {},
   "outputs": [],
   "source": [
    "import sys\n",
    "sys.path.append(\"../\")\n",
    "sys.path.append(\".\")"
   ]
  },
  {
   "cell_type": "code",
   "execution_count": 11,
   "id": "7488261c-f894-42bd-b2d8-3fbef2a180e6",
   "metadata": {},
   "outputs": [],
   "source": [
    "from model_criticism_mmd import ModelTrainerTorchBackend, MMD, TwoSampleDataSet\n",
    "from model_criticism_mmd import kernels_torch\n",
    "from model_criticism_mmd import PermutationTest, SelectionKernels\n",
    "from model_criticism_mmd.models.static import DEFAULT_DEVICE\n",
    "from model_criticism_mmd.supports.evaluate_stats_tests import StatsTestEvaluator, TestResultGroupsFormatter"
   ]
  },
  {
   "cell_type": "code",
   "execution_count": 12,
   "id": "b9d31429-60a5-4828-98ce-cf7f0808923d",
   "metadata": {},
   "outputs": [],
   "source": [
    "import torch\n",
    "import numpy as np\n",
    "import tqdm\n",
    "import typing\n",
    "%matplotlib inline\n",
    "import matplotlib.pyplot as plt"
   ]
  },
  {
   "cell_type": "code",
   "execution_count": 13,
   "id": "7efa2a8c-5402-4c76-bf5c-3b65baf50ea8",
   "metadata": {},
   "outputs": [],
   "source": [
    "N_DATA_SIZE = 500\n",
    "N_FEATURE = 100\n",
    "NOISE_MU_X = 0\n",
    "NOISE_SIGMA_X = 0.5\n",
    "NOISE_MU_Y = 0\n",
    "NOISE_SIGMA_Y = 0.5\n",
    "THRESHOLD_P_VALUE = 0.05\n",
    "\n",
    "# Epoch should be > 500 normally. Here small value for example.\n",
    "num_epochs_selection = 50\n",
    "# Permutation should be > 500 normally. Here small value for example.\n",
    "n_permutation_test = 100"
   ]
  },
  {
   "cell_type": "code",
   "execution_count": 14,
   "id": "9b6000c3-6155-416d-95d7-ad92a7028a19",
   "metadata": {},
   "outputs": [],
   "source": [
    "device_obj = DEFAULT_DEVICE"
   ]
  },
  {
   "cell_type": "code",
   "execution_count": 15,
   "id": "223ab428-8f88-42d5-bfa2-02418cb3218b",
   "metadata": {},
   "outputs": [],
   "source": [
    "x_train = torch.tensor(np.random.normal(NOISE_MU_X, NOISE_SIGMA_X, (N_DATA_SIZE, N_FEATURE)))\n",
    "x_eval = [torch.tensor(np.random.normal(NOISE_MU_X, NOISE_SIGMA_X, (N_DATA_SIZE, N_FEATURE))) for i in range(0, 3)]\n",
    "y_train_same = torch.tensor(np.random.normal(NOISE_MU_X, NOISE_SIGMA_X, (N_DATA_SIZE, N_FEATURE)))\n",
    "y_eval_same = [torch.tensor(np.random.normal(NOISE_MU_X, NOISE_SIGMA_X, (N_DATA_SIZE, N_FEATURE))) for i in range(0, 3)]\n",
    "y_train_diff = torch.tensor(np.random.laplace(NOISE_MU_X, NOISE_SIGMA_X, (N_DATA_SIZE, N_FEATURE)))\n",
    "y_eval_diff = [torch.tensor(np.random.laplace(NOISE_MU_X, NOISE_SIGMA_X, (N_DATA_SIZE, N_FEATURE))) for i in range(0, 3)]"
   ]
  },
  {
   "cell_type": "code",
   "execution_count": 16,
   "id": "4b027802-95ca-4ffc-adcb-532ba501c77e",
   "metadata": {},
   "outputs": [],
   "source": [
    "# lengthscale=-1.0 is \"median heuristic\"\n",
    "rbf_kernel = kernels_torch.BasicRBFKernelFunction(device_obj=device_obj, log_sigma=-1.0)\n",
    "matern_0_5 = kernels_torch.MaternKernelFunction(nu=0.5, device_obj=device_obj, lengthscale=-1.0)\n",
    "matern_1_5 = kernels_torch.MaternKernelFunction(nu=1.5, device_obj=device_obj, lengthscale=-1.0)\n",
    "matern_2_5 = kernels_torch.MaternKernelFunction(nu=2.5, device_obj=device_obj, lengthscale=-1.0)\n",
    "\n",
    "# the tuple is (initial-scles, kernel-function). If initial-scale is None, the scale is initialized randomly.\n",
    "kernels_optimization = [(None, rbf_kernel), (None, matern_0_5), (None, matern_1_5), (None, matern_2_5)]\n",
    "kernels_non_optimization = [rbf_kernel, matern_2_5]"
   ]
  },
  {
   "cell_type": "markdown",
   "id": "ee2a97d1-81a2-4e93-982d-b41aa1a49fc9",
   "metadata": {},
   "source": [
    "`StatsTestEvaluator` runs all operations automatically,\n",
    "\n",
    "1. optimization of kernels.\n",
    "2. running of permutation tests.\n",
    "3. decision if stats-test is same as our expectations."
   ]
  },
  {
   "cell_type": "code",
   "execution_count": 17,
   "id": "be1c2014-dfb5-4ada-967a-c4c4be50090e",
   "metadata": {},
   "outputs": [],
   "source": [
    "test_eval = StatsTestEvaluator(candidate_kernels=kernels_optimization, \n",
    "                               kernels_no_optimization=kernels_non_optimization, \n",
    "                               device_obj=device_obj, \n",
    "                               num_epochs=num_epochs_selection, \n",
    "                               n_permutation_test=n_permutation_test)"
   ]
  },
  {
   "cell_type": "markdown",
   "id": "9003f20d-6c98-42e9-8a7c-f17c83f12f14",
   "metadata": {},
   "source": [
    "Either (y_train_same, y_eval_same) or (y_train_diff, y_eval_diff) must be given"
   ]
  },
  {
   "cell_type": "code",
   "execution_count": 18,
   "id": "9509dd3e-e7f3-464b-ad14-619dda102dc0",
   "metadata": {},
   "outputs": [
    {
     "name": "stderr",
     "output_type": "stream",
     "text": [
      "2021-08-27 13:12:12,140 - model_criticism_mmd.logger_unit - INFO - Set the initial scales value\n",
      "/home/kensuke-mi/Projects/eurocom/phd_projects/model_criticism_mmd/model_criticism_mmd/backends/backend_torch.py:256: UserWarning: To copy construct from a tensor, it is recommended to use sourceTensor.clone().detach() or sourceTensor.clone().detach().requires_grad_(True), rather than torch.tensor(sourceTensor).\n",
      "  scales = torch.tensor(init_scale.clone().detach().cpu(), requires_grad=True, device=self.device_obj)\n",
      "2021-08-27 13:12:12,141 - model_criticism_mmd.logger_unit - INFO - Getting median initial sigma value...\n",
      "2021-08-27 13:12:12,176 - model_criticism_mmd.logger_unit - INFO - initial by median-heuristics 1.78 with is_log=True\n",
      "2021-08-27 13:12:12,181 - model_criticism_mmd.logger_unit - INFO - Validation at 0. MMD^2 = 0.010267131798815776, ratio = [74.07250009] obj = [-4.30504434]\n",
      "2021-08-27 13:12:12,337 - model_criticism_mmd.logger_unit - INFO -      5: [avg train] MMD^2 0.004867938004671057 obj [-3.84460782] val-MMD^2 0.010358365632511246 val-ratio [77.99871712] val-obj [-4.35669238]  elapsed: 0.0\n",
      "2021-08-27 13:12:12,734 - model_criticism_mmd.logger_unit - INFO -     25: [avg train] MMD^2 0.005438670627568143 obj [-3.94215541] val-MMD^2 0.01096682363017909 val-ratio [109.6682363] val-obj [-4.69745977]  elapsed: 0.0\n",
      "2021-08-27 13:12:13,261 - model_criticism_mmd.logger_unit - INFO -     50: [avg train] MMD^2 0.005584632192585981 obj [-3.98875308] val-MMD^2 0.012421214382550505 val-ratio [50.27960007] val-obj [-3.91759943]  elapsed: 0.0\n",
      "2021-08-27 13:12:13,264 - model_criticism_mmd.logger_unit - INFO - Kernel-type: <model_criticism_mmd.backends.kernels_torch.rbf_kernel.BasicRBFKernelFunction object at 0x7f6d7aba5470> Ratio: 50.279600069474476\n",
      "2021-08-27 13:12:13,266 - model_criticism_mmd.logger_unit - INFO - Set the initial scales value\n",
      "/home/kensuke-mi/Projects/eurocom/phd_projects/model_criticism_mmd/model_criticism_mmd/backends/backend_torch.py:256: UserWarning: To copy construct from a tensor, it is recommended to use sourceTensor.clone().detach() or sourceTensor.clone().detach().requires_grad_(True), rather than torch.tensor(sourceTensor).\n",
      "  scales = torch.tensor(init_scale.clone().detach().cpu(), requires_grad=True, device=self.device_obj)\n",
      "2021-08-27 13:12:13,267 - model_criticism_mmd.logger_unit - INFO - Getting median initial sigma value...\n",
      "2021-08-27 13:12:13,301 - model_criticism_mmd.logger_unit - INFO - initial by median-heuristics 5 with is_log=False\n",
      "2021-08-27 13:12:13,312 - model_criticism_mmd.logger_unit - INFO - Validation at 0. MMD^2 = 0.015119068880176334, ratio = [137.06898133] obj = [-4.92048431]\n",
      "2021-08-27 13:12:13,599 - model_criticism_mmd.logger_unit - INFO -      5: [avg train] MMD^2 0.007891972377322976 obj [-4.32660246] val-MMD^2 0.015133829891510409 val-ratio [137.76077664] val-obj [-4.92551868]  elapsed: 0.0\n",
      "2021-08-27 13:12:14,414 - model_criticism_mmd.logger_unit - INFO -     25: [avg train] MMD^2 0.008012035056156552 obj [-4.34158087] val-MMD^2 0.015244775713885494 val-ratio [147.7558823] val-obj [-4.99556147]  elapsed: 0.0\n",
      "2021-08-27 13:12:15,252 - model_criticism_mmd.logger_unit - INFO -     50: [avg train] MMD^2 0.00816741308505678 obj [-4.36059578] val-MMD^2 0.015380689025521088 val-ratio [153.80689026] val-obj [-5.03569786]  elapsed: 0.0\n",
      "2021-08-27 13:12:15,258 - model_criticism_mmd.logger_unit - INFO - Kernel-type: <model_criticism_mmd.backends.kernels_torch.matern_kernel.MaternKernelFunction object at 0x7f6d7aba5400> Ratio: 153.80689210425734\n",
      "2021-08-27 13:12:15,259 - model_criticism_mmd.logger_unit - INFO - Set the initial scales value\n",
      "/home/kensuke-mi/Projects/eurocom/phd_projects/model_criticism_mmd/model_criticism_mmd/backends/backend_torch.py:256: UserWarning: To copy construct from a tensor, it is recommended to use sourceTensor.clone().detach() or sourceTensor.clone().detach().requires_grad_(True), rather than torch.tensor(sourceTensor).\n",
      "  scales = torch.tensor(init_scale.clone().detach().cpu(), requires_grad=True, device=self.device_obj)\n",
      "2021-08-27 13:12:15,260 - model_criticism_mmd.logger_unit - INFO - Getting median initial sigma value...\n",
      "2021-08-27 13:12:15,293 - model_criticism_mmd.logger_unit - INFO - initial by median-heuristics 5 with is_log=False\n",
      "2021-08-27 13:12:15,307 - model_criticism_mmd.logger_unit - INFO - Validation at 0. MMD^2 = 0.01409611336032357, ratio = [85.1691738] obj = [-4.44463956]\n",
      "2021-08-27 13:12:15,526 - model_criticism_mmd.logger_unit - INFO -      5: [avg train] MMD^2 0.0071267112444224345 obj [-4.2245981] val-MMD^2 0.014133286071923767 val-ratio [85.86293585] val-obj [-4.45275226]  elapsed: 0.0\n",
      "2021-08-27 13:12:16,198 - model_criticism_mmd.logger_unit - INFO -     25: [avg train] MMD^2 0.007422577340251757 obj [-4.26491074] val-MMD^2 0.01440404220928182 val-ratio [97.83664738] val-obj [-4.58329922]  elapsed: 0.0\n",
      "2021-08-27 13:12:17,039 - model_criticism_mmd.logger_unit - INFO -     50: [avg train] MMD^2 0.007730935447236298 obj [-4.30156224] val-MMD^2 0.014694545680917326 val-ratio [146.94545681] val-obj [-4.99006148]  elapsed: 0.0\n",
      "2021-08-27 13:12:17,047 - model_criticism_mmd.logger_unit - INFO - Kernel-type: <model_criticism_mmd.backends.kernels_torch.matern_kernel.MaternKernelFunction object at 0x7f6d7aba5668> Ratio: 146.94545680917327\n",
      "2021-08-27 13:12:17,048 - model_criticism_mmd.logger_unit - INFO - Set the initial scales value\n",
      "/home/kensuke-mi/Projects/eurocom/phd_projects/model_criticism_mmd/model_criticism_mmd/backends/backend_torch.py:256: UserWarning: To copy construct from a tensor, it is recommended to use sourceTensor.clone().detach() or sourceTensor.clone().detach().requires_grad_(True), rather than torch.tensor(sourceTensor).\n",
      "  scales = torch.tensor(init_scale.clone().detach().cpu(), requires_grad=True, device=self.device_obj)\n",
      "2021-08-27 13:12:17,050 - model_criticism_mmd.logger_unit - INFO - Getting median initial sigma value...\n",
      "2021-08-27 13:12:17,096 - model_criticism_mmd.logger_unit - INFO - initial by median-heuristics 5 with is_log=False\n",
      "2021-08-27 13:12:17,114 - model_criticism_mmd.logger_unit - INFO - Validation at 0. MMD^2 = 0.01373094310340861, ratio = [75.19292813] obj = [-4.32005719]\n",
      "2021-08-27 13:12:17,427 - model_criticism_mmd.logger_unit - INFO -      5: [avg train] MMD^2 0.006851016689765399 obj [-4.18520133] val-MMD^2 0.013780449174305098 val-ratio [75.91393863] val-obj [-4.32960031]  elapsed: 0.0\n",
      "2021-08-27 13:12:18,230 - model_criticism_mmd.logger_unit - INFO -     25: [avg train] MMD^2 0.007240787228183887 obj [-4.24001806] val-MMD^2 0.01413649801566319 val-ratio [89.83552344] val-obj [-4.49798048]  elapsed: 0.0\n",
      "2021-08-27 13:12:19,075 - model_criticism_mmd.logger_unit - INFO -     50: [avg train] MMD^2 0.00759044452011981 obj [-4.27817942] val-MMD^2 0.014500909133338569 val-ratio [145.00909133] val-obj [-4.97679644]  elapsed: 0.0\n",
      "2021-08-27 13:12:19,082 - model_criticism_mmd.logger_unit - INFO - Kernel-type: <model_criticism_mmd.backends.kernels_torch.matern_kernel.MaternKernelFunction object at 0x7f6d7aba54e0> Ratio: 145.00909133338567\n",
      "2021-08-27 13:12:19,083 - model_criticism_mmd.logger_unit - INFO - Running X=Y 1 of 3\n",
      "100%|██████████| 100/100 [00:01<00:00, 79.18it/s]\n",
      "100%|██████████| 100/100 [00:01<00:00, 65.49it/s]\n",
      "100%|██████████| 100/100 [00:01<00:00, 60.89it/s]\n",
      "100%|██████████| 100/100 [00:00<00:00, 111.42it/s]\n"
     ]
    },
    {
     "ename": "TypeError",
     "evalue": "can't convert cuda:0 device type tensor to numpy. Use Tensor.cpu() to copy the tensor to host memory first.",
     "output_type": "error",
     "traceback": [
      "\u001B[0;31m---------------------------------------------------------------------------\u001B[0m",
      "\u001B[0;31mTypeError\u001B[0m                                 Traceback (most recent call last)",
      "\u001B[0;32m<ipython-input-18-a9a04a3d9016>\u001B[0m in \u001B[0;36m<module>\u001B[0;34m\u001B[0m\n\u001B[1;32m      5\u001B[0m                                   \u001B[0mseq_x_eval\u001B[0m\u001B[0;34m=\u001B[0m\u001B[0mx_eval\u001B[0m\u001B[0;34m,\u001B[0m\u001B[0;34m\u001B[0m\u001B[0;34m\u001B[0m\u001B[0m\n\u001B[1;32m      6\u001B[0m                                   \u001B[0mseq_y_eval_same\u001B[0m\u001B[0;34m=\u001B[0m\u001B[0my_eval_same\u001B[0m\u001B[0;34m,\u001B[0m\u001B[0;34m\u001B[0m\u001B[0;34m\u001B[0m\u001B[0m\n\u001B[0;32m----> 7\u001B[0;31m                                   seq_y_eval_diff=y_eval_diff)\n\u001B[0m\u001B[1;32m      8\u001B[0m \u001B[0;34m\u001B[0m\u001B[0m\n",
      "\u001B[0;32m~/Projects/eurocom/phd_projects/model_criticism_mmd/model_criticism_mmd/supports/evaluate_stats_tests.py\u001B[0m in \u001B[0;36minterface\u001B[0;34m(self, code_approach, x_train, seq_x_eval, y_train_same, y_train_diff, seq_y_eval_same, seq_y_eval_diff)\u001B[0m\n\u001B[1;32m    298\u001B[0m                                                                   \u001B[0mmmd_estimators\u001B[0m\u001B[0;34m=\u001B[0m\u001B[0mestimator_same\u001B[0m\u001B[0;34m,\u001B[0m\u001B[0;34m\u001B[0m\u001B[0;34m\u001B[0m\u001B[0m\n\u001B[1;32m    299\u001B[0m                                                                   \u001B[0mcode_approach\u001B[0m\u001B[0;34m=\u001B[0m\u001B[0mcode_approach\u001B[0m\u001B[0;34m,\u001B[0m\u001B[0;34m\u001B[0m\u001B[0;34m\u001B[0m\u001B[0m\n\u001B[0;32m--> 300\u001B[0;31m                                                                   is_same_distribution=True)\n\u001B[0m\u001B[1;32m    301\u001B[0m                 \u001B[0mtest_result\u001B[0m \u001B[0;34m+=\u001B[0m \u001B[0mtests_same\u001B[0m\u001B[0;34m\u001B[0m\u001B[0;34m\u001B[0m\u001B[0m\n\u001B[1;32m    302\u001B[0m             \u001B[0;31m# end for\u001B[0m\u001B[0;34m\u001B[0m\u001B[0;34m\u001B[0m\u001B[0;34m\u001B[0m\u001B[0m\n",
      "\u001B[0;32m~/Projects/eurocom/phd_projects/model_criticism_mmd/model_criticism_mmd/supports/evaluate_stats_tests.py\u001B[0m in \u001B[0;36mfunction_evaluation_all_kernels\u001B[0;34m(self, x, y, mmd_estimators, code_approach, is_same_distribution)\u001B[0m\n\u001B[1;32m    232\u001B[0m                 \u001B[0mname_kernel\u001B[0m \u001B[0;34m=\u001B[0m \u001B[0;34mf'{estimator_obj.kernel_function_obj.__class__.__name__}-nu={estimator_obj.kernel_function_obj.nu}'\u001B[0m\u001B[0;34m\u001B[0m\u001B[0;34m\u001B[0m\u001B[0m\n\u001B[1;32m    233\u001B[0m             \u001B[0;32melif\u001B[0m \u001B[0misinstance\u001B[0m\u001B[0;34m(\u001B[0m\u001B[0mestimator_obj\u001B[0m\u001B[0;34m.\u001B[0m\u001B[0mkernel_function_obj\u001B[0m\u001B[0;34m,\u001B[0m \u001B[0mkernels_torch\u001B[0m\u001B[0;34m.\u001B[0m\u001B[0mBasicRBFKernelFunction\u001B[0m\u001B[0;34m)\u001B[0m\u001B[0;34m:\u001B[0m\u001B[0;34m\u001B[0m\u001B[0;34m\u001B[0m\u001B[0m\n\u001B[0;32m--> 234\u001B[0;31m                 \u001B[0mkernel_param\u001B[0m \u001B[0;34m=\u001B[0m \u001B[0mestimator_obj\u001B[0m\u001B[0;34m.\u001B[0m\u001B[0mkernel_function_obj\u001B[0m\u001B[0;34m.\u001B[0m\u001B[0mlog_sigma\u001B[0m\u001B[0;34m.\u001B[0m\u001B[0mdetach\u001B[0m\u001B[0;34m(\u001B[0m\u001B[0;34m)\u001B[0m\u001B[0;34m.\u001B[0m\u001B[0mnumpy\u001B[0m\u001B[0;34m(\u001B[0m\u001B[0;34m)\u001B[0m\u001B[0;34m\u001B[0m\u001B[0;34m\u001B[0m\u001B[0m\n\u001B[0m\u001B[1;32m    235\u001B[0m                 \u001B[0mname_kernel\u001B[0m \u001B[0;34m=\u001B[0m \u001B[0;34mf'{estimator_obj.kernel_function_obj.__class__.__name__}'\u001B[0m\u001B[0;34m\u001B[0m\u001B[0;34m\u001B[0m\u001B[0m\n\u001B[1;32m    236\u001B[0m             \u001B[0;32melse\u001B[0m\u001B[0;34m:\u001B[0m\u001B[0;34m\u001B[0m\u001B[0;34m\u001B[0m\u001B[0m\n",
      "\u001B[0;31mTypeError\u001B[0m: can't convert cuda:0 device type tensor to numpy. Use Tensor.cpu() to copy the tensor to host memory first."
     ]
    }
   ],
   "source": [
    "stats_tests = test_eval.interface(code_approach='tests', \n",
    "                                  x_train=x_train,\n",
    "                                  y_train_same=y_train_same,\n",
    "                                  y_train_diff=y_train_diff,\n",
    "                                  seq_x_eval=x_eval,\n",
    "                                  seq_y_eval_same=y_eval_same,\n",
    "                                  seq_y_eval_diff=y_eval_diff)"
   ]
  },
  {
   "cell_type": "markdown",
   "id": "e0e3c238-eb1d-4afc-acad-c3a7e331253f",
   "metadata": {},
   "source": [
    "`TestResultGroupsFormatter` is a class to format test-results friendly."
   ]
  },
  {
   "cell_type": "code",
   "execution_count": null,
   "id": "6b1a5cc0-cbf2-4bcf-ab01-0ad45a361975",
   "metadata": {},
   "outputs": [],
   "source": [
    "test_formatter = TestResultGroupsFormatter(stats_tests)\n",
    "df_results = test_formatter.format_result_table()\n",
    "df_results_summary = test_formatter.format_result_summary_table()"
   ]
  },
  {
   "cell_type": "markdown",
   "id": "a3cfb84c-0378-451b-bbf1-9a7c8e9dcdac",
   "metadata": {},
   "source": [
    "`format_result_summary_table()` shows you test-results for both of X=Y and X!=Y."
   ]
  },
  {
   "cell_type": "code",
   "execution_count": null,
   "id": "9b12fc55-f6b9-4292-989e-b8c578fa3df3",
   "metadata": {},
   "outputs": [],
   "source": [
    "df_results_summary"
   ]
  },
  {
   "cell_type": "markdown",
   "id": "0d9e2ff9-d559-40ac-901e-4f8cfae1924d",
   "metadata": {},
   "source": [
    "`format_result_table()` shows you details of test-results."
   ]
  },
  {
   "cell_type": "code",
   "execution_count": null,
   "id": "b8439f2a-20e7-441d-afc8-b65f8efde09a",
   "metadata": {},
   "outputs": [],
   "source": [
    "df_results"
   ]
  }
 ],
 "metadata": {
  "kernelspec": {
   "display_name": "Python 3",
   "language": "python",
   "name": "python3"
  },
  "language_info": {
   "codemirror_mode": {
    "name": "ipython",
    "version": 3
   },
   "file_extension": ".py",
   "mimetype": "text/x-python",
   "name": "python",
   "nbconvert_exporter": "python",
   "pygments_lexer": "ipython3",
   "version": "3.6.13"
  }
 },
 "nbformat": 4,
 "nbformat_minor": 5
}