{
 "cells": [
  {
   "cell_type": "markdown",
   "id": "069bfe9e",
   "metadata": {},
   "source": [
    "# Study note about behaviors of learning ARD weights"
   ]
  },
  {
   "cell_type": "markdown",
   "id": "1e98ee51-5a56-4016-8df4-a3edad94e559",
   "metadata": {},
   "source": [
    "# Study: Correctness of ARD weightts\n",
    "\n",
    "## objective\n",
    "\n",
    "1. We confirm the computed ARD weights are as we expected.\n",
    "2. We observe how the sigma value works on learninig the ARD weights.\n",
    "\n",
    "## Settings"
   ]
  },
  {
   "cell_type": "markdown",
   "id": "db303c4e-4d81-48a6-acab-9f07688bc31f",
   "metadata": {},
   "source": [
    "We generate the input data with the following way.\n",
    "\n",
    "The input data has 3 dimensions. Only the 1st dimenstion has huge variance. The 2nd and 3rd features have the same mean and variance.\n",
    "\n",
    "We cut the input data into 80 samples as `training` and 20 samples as `validation`."
   ]
  },
  {
   "cell_type": "code",
   "execution_count": 47,
   "id": "2ae04b66-2bf3-4cd3-8c7f-97979efa6fa3",
   "metadata": {},
   "outputs": [
    {
     "name": "stderr",
     "output_type": "stream",
     "text": [
      "Starting with sigma = median; optimizing it\n"
     ]
    },
    {
     "name": "stdout",
     "output_type": "stream",
     "text": [
      "1 dim. mean(x)=1.0 mean(y)=-4.384627802997895 var(x)=0.0 var(y)=2079.7359239912435\n",
      "2 dim. mean(x)=10.002040839736596 mean(y)=9.993537358619573 var(x)=0.047708929474117256 var(y)=0.052386740691308616\n",
      "3 dim. mean(x)=9.967910982314843 mean(y)=10.002795092729405 var(x)=0.03670755255391428 var(y)=0.04006707916793698\n"
     ]
    },
    {
     "name": "stderr",
     "output_type": "stream",
     "text": [
      "Compiling...\n",
      "done\n",
      "Getting median initial sigma value...\n",
      "14.3\n",
      "Input dim 3, representation dim 3\n",
      "Training on 80 samples (batch 200), validation on 20 (batch 1000)\n",
      "2 parameters to optimize: scales, log_sigma\n",
      "     0: avg train MMD^2  0.540566 obj -2.170297,  avg val MMD^2  1.001788  obj -2.048367  elapsed: 0s  sigma: 14.3\n",
      "     5: avg train MMD^2  0.593612 obj -2.248740,  avg val MMD^2  1.037566  obj -2.190055  elapsed: 0s  sigma: 12.9\n",
      "    25: avg train MMD^2  0.877684 obj -2.742604,  avg val MMD^2  1.074363  obj -3.248652  elapsed: 0s  sigma: 6.24\n",
      "    50: avg train MMD^2  0.937245 obj -3.217097,  avg val MMD^2  1.040621  obj -5.141930  elapsed: 0s  sigma: 2.45\n",
      "   100: avg train MMD^2  1.013006 obj -8.078999,  avg val MMD^2  1.049995  obj -9.259126  elapsed: 0s  sigma: 0.153\n",
      "   200: avg train MMD^2  1.012810 obj -8.107757,  avg val MMD^2  1.050000  obj -9.259131  elapsed: 0s  sigma: 0.0806\n",
      "   300: avg train MMD^2  1.012806 obj -8.115964,  avg val MMD^2  1.050000  obj -9.259131  elapsed: 0s  sigma: 0.0616\n",
      "   400: avg train MMD^2  1.012790 obj -8.171892,  avg val MMD^2  1.050000  obj -9.259131  elapsed: 0s  sigma: 0.0321\n",
      "   500: avg train MMD^2  0.025000 obj -5.521461,  avg val MMD^2  0.100000  obj -6.907755  elapsed: 0s  sigma: 0.00401\n",
      "Trained result: the opt global-sigma: 0.004013044022929054\n",
      "input data N(sample-size)=100, N(dimension)=3\n",
      "Getting median initial sigma value...\n",
      "initial sigma by median-heuristics 8.12\n",
      "Validation at 0. MMD^2 = 0.9284594645243045, obj-value = [-1.85171369] at sigma = [8.11781193]\n",
      "[before optimization] sigma value = [8.11781193]\n",
      "     5: avg train MMD^2 0.6461351437681319 obj [-2.41834039],  avg val MMD^2 1.042404732956919  obj [-2.21253792]  elapsed: 0.0 sigma: [7.35150347]\n",
      "    25: avg train MMD^2 0.9311202710094395 obj [-3.1422436],  avg val MMD^2 1.0730564364036212  obj [-4.17026614]  elapsed: 0.0 sigma: [3.55915526]\n",
      "    50: avg train MMD^2 0.9751282603293534 obj [-4.62326019],  avg val MMD^2 1.0143004803906792  obj [-4.96056474]  elapsed: 0.0 sigma: [0.91594513]\n",
      "   100: avg train MMD^2 1.0102328450225546 obj [-8.54882257],  avg val MMD^2 1.049998869615916  obj [-9.25912946]  elapsed: 0.0 sigma: [0.07019564]\n",
      "   200: avg train MMD^2 1.0101862289610026 obj [-8.60892456],  avg val MMD^2 1.05  obj [-9.25913054]  elapsed: 0.0 sigma: [0.03037055]\n",
      "   300: avg train MMD^2 0.02000000049510419 obj [-5.29831739],  avg val MMD^2 0.1  obj [-6.90775528]  elapsed: 0.0 sigma: [0.00641705]\n",
      "   400: avg train MMD^2 0.020000000429594832 obj [-5.29831739],  avg val MMD^2 0.1  obj [-6.90775528]  elapsed: 0.0 sigma: [0.00641162]\n",
      "   500: avg train MMD^2 0.020000000429657428 obj [-5.29831739],  avg val MMD^2 0.1  obj [-6.90775528]  elapsed: 0.0 sigma: [0.00641166]\n",
      "Using sigma = 1.0\n",
      "Compiling...\n",
      "done\n",
      "Input dim 3, representation dim 3\n",
      "Training on 80 samples (batch 200), validation on 20 (batch 1000)\n",
      "1 parameters to optimize: scales\n",
      "     0: avg train MMD^2  0.884058 obj -3.259491,  avg val MMD^2  0.964901  obj -4.069695  elapsed: 0s\n",
      "     5: avg train MMD^2  0.889070 obj -3.316456,  avg val MMD^2  0.965831  obj -4.105187  elapsed: 0s\n",
      "    25: avg train MMD^2  0.949424 obj -4.301811,  avg val MMD^2  0.990606  obj -4.491698  elapsed: 0s\n",
      "    50: avg train MMD^2  1.015976 obj -6.474773,  avg val MMD^2  1.049596  obj -8.955940  elapsed: 0s\n",
      "   100: avg train MMD^2  1.016099 obj -6.790934,  avg val MMD^2  1.049854  obj -9.258992  elapsed: 0s\n",
      "   200: avg train MMD^2  1.015241 obj -7.049892,  avg val MMD^2  1.049980  obj -9.259112  elapsed: 0s\n",
      "   300: avg train MMD^2  1.014630 obj -7.273512,  avg val MMD^2  1.049993  obj -9.259124  elapsed: 0s\n",
      "   400: avg train MMD^2  1.014271 obj -7.439468,  avg val MMD^2  1.049997  obj -9.259128  elapsed: 0s\n",
      "   500: avg train MMD^2  1.014044 obj -7.560012,  avg val MMD^2  1.049999  obj -9.259129  elapsed: 0s\n",
      "Trained result: the opt global-sigma: 1.0\n",
      "input data N(sample-size)=100, N(dimension)=3\n",
      "Validation at 0. MMD^2 = 1.0509162027036878, obj-value = [-2.44052267] at sigma = [1.]\n",
      "[before optimization] sigma value = [1.]\n",
      "     5: avg train MMD^2 0.9138507336651386 obj [-3.12784179],  avg val MMD^2 1.0491646729150668  obj [-4.23094334]  elapsed: 0.0 sigma: [1.]\n",
      "    25: avg train MMD^2 0.975748257975802 obj [-4.2101875],  avg val MMD^2 1.030653363733217  obj [-5.53868462]  elapsed: 0.0 sigma: [1.]\n",
      "    50: avg train MMD^2 1.0121825394416684 obj [-6.7354185],  avg val MMD^2 1.0490460966480117  obj [-8.37583349]  elapsed: 0.0 sigma: [1.]\n",
      "   100: avg train MMD^2 1.013056376531828 obj [-7.09842543],  avg val MMD^2 1.0499637116963254  obj [-9.25909598]  elapsed: 0.0 sigma: [1.]\n",
      "   200: avg train MMD^2 1.0124954845468361 obj [-7.25348666],  avg val MMD^2 1.0499904066480057  obj [-9.2591214]  elapsed: 0.0 sigma: [1.]\n",
      "   300: avg train MMD^2 1.0120771937493815 obj [-7.3918466],  avg val MMD^2 1.0499946665923348  obj [-9.25912546]  elapsed: 0.0 sigma: [1.]\n",
      "   400: avg train MMD^2 1.0117986612048817 obj [-7.50604931],  avg val MMD^2 1.0499966240127394  obj [-9.25912732]  elapsed: 0.0 sigma: [1.]\n",
      "   500: avg train MMD^2 1.011604226583716 obj [-7.60148573],  avg val MMD^2 1.0499976450448276  obj [-9.25912829]  elapsed: 0.0 sigma: [1.]\n",
      "Starting with sigma = median; optimizing it\n"
     ]
    },
    {
     "name": "stdout",
     "output_type": "stream",
     "text": [
      "1 dim. mean(x)=1.0 mean(y)=6.233662309575279 var(x)=0.0 var(y)=2245.4647174681727\n",
      "2 dim. mean(x)=10.013570123936258 mean(y)=9.995441247645575 var(x)=0.03037088725137238 var(y)=0.05797245728136552\n",
      "3 dim. mean(x)=9.999611499272465 mean(y)=9.987867986438141 var(x)=0.043209372348355625 var(y)=0.045480172293101154\n"
     ]
    },
    {
     "name": "stderr",
     "output_type": "stream",
     "text": [
      "Compiling...\n",
      "done\n",
      "Getting median initial sigma value...\n",
      "20.3\n",
      "Input dim 3, representation dim 3\n",
      "Training on 80 samples (batch 200), validation on 20 (batch 1000)\n",
      "2 parameters to optimize: scales, log_sigma\n",
      "     0: avg train MMD^2  0.567966 obj -2.129710,  avg val MMD^2  0.429956  obj -1.402593  elapsed: 0s  sigma: 20.3\n",
      "     5: avg train MMD^2  0.614311 obj -2.198683,  avg val MMD^2  0.523443  obj -1.443853  elapsed: 0s  sigma: 18.6\n",
      "    25: avg train MMD^2  0.917442 obj -2.911737,  avg val MMD^2  0.900508  obj -2.240701  elapsed: 0s  sigma: 7.87\n",
      "    50: avg train MMD^2  0.982188 obj -3.637102,  avg val MMD^2  1.039422  obj -5.193796  elapsed: 0s  sigma: 2.35\n",
      "   100: avg train MMD^2  0.970008 obj -3.695749,  avg val MMD^2  1.022332  obj -4.833642  elapsed: 0s  sigma: 1.48\n",
      "   200: avg train MMD^2  0.971388 obj -3.725087,  avg val MMD^2  1.023432  obj -4.948908  elapsed: 0s  sigma: 1.12\n",
      "   300: avg train MMD^2  0.121804 obj -2.535306,  avg val MMD^2  0.205258  obj -1.777287  elapsed: 0s  sigma: 0.135\n",
      "   400: avg train MMD^2  0.025000 obj -5.521461,  avg val MMD^2  0.100002  obj -6.907776  elapsed: 0s  sigma: 0.00403\n",
      "   500: avg train MMD^2  0.025000 obj -5.521461,  avg val MMD^2  0.100000  obj -6.907759  elapsed: 0s  sigma: 0.00366\n",
      "Trained result: the opt global-sigma: 0.003657722968107691\n",
      "input data N(sample-size)=100, N(dimension)=3\n",
      "Getting median initial sigma value...\n",
      "initial sigma by median-heuristics 16.9\n",
      "Validation at 0. MMD^2 = 0.431786550162612, obj-value = [-1.40329755] at sigma = [16.88530881]\n",
      "[before optimization] sigma value = [16.88530881]\n",
      "     5: avg train MMD^2 0.5937950434215127 obj [-2.2977177],  avg val MMD^2 0.5402432645271197  obj [-1.45233866]  elapsed: 0.0 sigma: [15.45592275]\n",
      "    25: avg train MMD^2 0.9187630534491951 obj [-3.09308395],  avg val MMD^2 0.9292227197027154  obj [-2.37336889]  elapsed: 0.0 sigma: [6.57290526]\n",
      "    50: avg train MMD^2 0.9986674802769377 obj [-3.90887558],  avg val MMD^2 1.0533547775781757  obj [-6.0926755]  elapsed: 0.0 sigma: [1.84944163]\n",
      "   100: avg train MMD^2 0.9971093873727115 obj [-3.95571763],  avg val MMD^2 1.0497213341005052  obj [-7.83714228]  elapsed: 0.0 sigma: [1.08415942]\n",
      "   200: avg train MMD^2 0.02004719415790931 obj [-5.30067429],  avg val MMD^2 0.10092118649751086  obj [-4.75343243]  elapsed: 0.0 sigma: [0.00463668]\n",
      "   300: avg train MMD^2 0.020000496748630324 obj [-5.2983422],  avg val MMD^2 0.10001242330493537  obj [-6.9078795]  elapsed: 0.0 sigma: [0.00264196]\n",
      "   400: avg train MMD^2 0.020000516731422925 obj [-5.2983432],  avg val MMD^2 0.10001292347936871  obj [-6.90788451]  elapsed: 0.0 sigma: [0.00264991]\n",
      "   500: avg train MMD^2 0.020000538211833577 obj [-5.29834428],  avg val MMD^2 0.10001346084955877  obj [-6.90788988]  elapsed: 0.0 sigma: [0.0026582]\n",
      "Using sigma = 1.0\n",
      "Compiling...\n",
      "done\n",
      "Input dim 3, representation dim 3\n",
      "Training on 80 samples (batch 200), validation on 20 (batch 1000)\n",
      "1 parameters to optimize: scales\n",
      "     0: avg train MMD^2  0.926994 obj -3.582377,  avg val MMD^2  0.979977  obj -3.897452  elapsed: 0s\n",
      "     5: avg train MMD^2  0.928615 obj -3.589441,  avg val MMD^2  0.982372  obj -3.932824  elapsed: 0s\n",
      "    25: avg train MMD^2  0.945765 obj -3.644240,  avg val MMD^2  0.999819  obj -4.235561  elapsed: 0s\n",
      "    50: avg train MMD^2  0.963027 obj -3.676590,  avg val MMD^2  1.016810  obj -4.650458  elapsed: 0s\n",
      "   100: avg train MMD^2  0.978718 obj -3.697887,  avg val MMD^2  1.032551  obj -5.260516  elapsed: 0s\n",
      "   200: avg train MMD^2  0.988571 obj -3.713871,  avg val MMD^2  1.042485  obj -6.032351  elapsed: 0s\n",
      "   300: avg train MMD^2  0.991736 obj -3.727049,  avg val MMD^2  1.045826  obj -6.612182  elapsed: 0s\n",
      "   400: avg train MMD^2  0.993044 obj -3.743232,  avg val MMD^2  1.047386  obj -7.119873  elapsed: 0s\n",
      "   500: avg train MMD^2  0.993728 obj -3.764593,  avg val MMD^2  1.048275  obj -7.568679  elapsed: 0s\n",
      "Trained result: the opt global-sigma: 1.0\n",
      "input data N(sample-size)=100, N(dimension)=3\n",
      "Validation at 0. MMD^2 = 1.025930073953398, obj-value = [-4.58242006] at sigma = [1.]\n",
      "[before optimization] sigma value = [1.]\n",
      "     5: avg train MMD^2 0.9717516335961458 obj [-3.83134178],  avg val MMD^2 1.0274274301523338  obj [-4.67665085]  elapsed: 0.0 sigma: [1.]\n",
      "    25: avg train MMD^2 0.9790724861965273 obj [-3.89007223],  avg val MMD^2 1.0341180166350665  obj [-5.05626573]  elapsed: 0.0 sigma: [1.]\n",
      "    50: avg train MMD^2 0.9854954742692945 obj [-3.91245575],  avg val MMD^2 1.0393686899522199  obj [-5.41571701]  elapsed: 0.0 sigma: [1.]\n",
      "   100: avg train MMD^2 0.991544280710297 obj [-3.92629107],  avg val MMD^2 1.0446439974126867  obj [-5.94829851]  elapsed: 0.0 sigma: [1.]\n",
      "   200: avg train MMD^2 0.9953575693050966 obj [-3.93913782],  avg val MMD^2 1.048001570938371  obj [-6.67714689]  elapsed: 0.0 sigma: [1.]\n",
      "   300: avg train MMD^2 0.9963448242368641 obj [-3.95141936],  avg val MMD^2 1.0489764770328054  obj [-7.32107172]  elapsed: 0.0 sigma: [1.]\n",
      "   400: avg train MMD^2 0.9965524199219676 obj [-3.96709523],  avg val MMD^2 1.049360695843458  obj [-8.01074612]  elapsed: 0.0 sigma: [1.]\n",
      "   500: avg train MMD^2 0.9965533853379784 obj [-3.98802896],  avg val MMD^2 1.0495759999979537  obj [-8.71848903]  elapsed: 0.0 sigma: [1.]\n",
      "Starting with sigma = median; optimizing it\n",
      "Compiling...\n"
     ]
    },
    {
     "name": "stdout",
     "output_type": "stream",
     "text": [
      "1 dim. mean(x)=1.0 mean(y)=-4.880698756906906 var(x)=0.0 var(y)=2400.1465340677437\n",
      "2 dim. mean(x)=10.003438878701816 mean(y)=9.976702883704228 var(x)=0.045250867485479046 var(y)=0.031021925000447186\n",
      "3 dim. mean(x)=10.00922047894336 mean(y)=9.998249511030743 var(x)=0.04114402678639256 var(y)=0.048398053482871274\n"
     ]
    },
    {
     "name": "stderr",
     "output_type": "stream",
     "text": [
      "done\n",
      "Getting median initial sigma value...\n",
      "21.7\n",
      "Input dim 3, representation dim 3\n",
      "Training on 80 samples (batch 200), validation on 20 (batch 1000)\n",
      "2 parameters to optimize: scales, log_sigma\n",
      "     0: avg train MMD^2  0.577534 obj -2.192347,  avg val MMD^2  0.694530  obj -1.895097  elapsed: 0s  sigma: 21.7\n",
      "     5: avg train MMD^2  0.633739 obj -2.269785,  avg val MMD^2  0.806475  obj -2.042415  elapsed: 0s  sigma: 19.7\n",
      "    25: avg train MMD^2  0.913009 obj -2.862648,  avg val MMD^2  1.073039  obj -3.446252  elapsed: 0s  sigma: 8.98\n",
      "    50: avg train MMD^2  0.976102 obj -5.537151,  avg val MMD^2  1.012895  obj -4.734712  elapsed: 0s  sigma: 1.26\n",
      "   100: avg train MMD^2  1.015751 obj -7.049892,  avg val MMD^2  1.050972  obj -7.036617  elapsed: 0s  sigma: 0.856\n",
      "   200: avg train MMD^2  1.012500 obj -9.222763,  avg val MMD^2  1.050000  obj -9.259131  elapsed: 0s  sigma: 0.0352\n",
      "   300: avg train MMD^2  1.012500 obj -9.222763,  avg val MMD^2  1.050000  obj -9.259131  elapsed: 0s  sigma: 0.0343\n",
      "   400: avg train MMD^2  1.012500 obj -9.222763,  avg val MMD^2  1.050000  obj -9.259131  elapsed: 0s  sigma: 0.0343\n",
      "   500: avg train MMD^2  1.012500 obj -9.222763,  avg val MMD^2  1.050000  obj -9.259131  elapsed: 0s  sigma: 0.0343\n",
      "Trained result: the opt global-sigma: 0.034325280752562415\n",
      "input data N(sample-size)=100, N(dimension)=3\n",
      "Getting median initial sigma value...\n",
      "initial sigma by median-heuristics 0.936\n",
      "Validation at 0. MMD^2 = 0.5963131046652678, obj-value = [-1.80543498] at sigma = [0.93631411]\n",
      "[before optimization] sigma value = [0.93631411]\n",
      "     5: avg train MMD^2 0.9487227883731781 obj [-4.6935463],  avg val MMD^2 0.9885424334881017  obj [-4.36022485]  elapsed: 0.0 sigma: [0.8255443]\n",
      "    25: avg train MMD^2 1.0097077753038737 obj [-7.21415563],  avg val MMD^2 1.0488966690516044  obj [-6.29708842]  elapsed: 0.0 sigma: [0.85960158]\n",
      "    50: avg train MMD^2 1.0119838787869637 obj [-7.38585692],  avg val MMD^2 1.0501895076070127  obj [-7.61789763]  elapsed: 0.0 sigma: [0.64421075]\n",
      "   100: avg train MMD^2 1.009999391867474 obj [-9.2202901],  avg val MMD^2 1.049998922781242  obj [-9.25912951]  elapsed: 0.0 sigma: [0.05194779]\n",
      "   200: avg train MMD^2 1.010000001753489 obj [-9.2202907],  avg val MMD^2 1.05  obj [-9.25913054]  elapsed: 0.0 sigma: [0.04297488]\n",
      "   300: avg train MMD^2 1.0100000017532689 obj [-9.2202907],  avg val MMD^2 1.05  obj [-9.25913054]  elapsed: 0.0 sigma: [0.04297468]\n",
      "   400: avg train MMD^2 1.0100000017532855 obj [-9.2202907],  avg val MMD^2 1.05  obj [-9.25913054]  elapsed: 0.0 sigma: [0.0429747]\n",
      "   500: avg train MMD^2 1.0100000017533022 obj [-9.2202907],  avg val MMD^2 1.05  obj [-9.25913054]  elapsed: 0.0 sigma: [0.04297472]\n",
      "Using sigma = 1.0\n",
      "Compiling...\n",
      "done\n",
      "Input dim 3, representation dim 3\n",
      "Training on 80 samples (batch 200), validation on 20 (batch 1000)\n",
      "1 parameters to optimize: scales\n",
      "     0: avg train MMD^2  0.936192 obj -4.442450,  avg val MMD^2  0.976373  obj -4.103671  elapsed: 0s\n",
      "     5: avg train MMD^2  0.944837 obj -4.671873,  avg val MMD^2  0.985706  obj -4.219583  elapsed: 0s\n",
      "    25: avg train MMD^2  1.016536 obj -6.957377,  avg val MMD^2  1.050963  obj -5.953165  elapsed: 0s\n",
      "    50: avg train MMD^2  1.016754 obj -7.035733,  avg val MMD^2  1.052163  obj -6.244638  elapsed: 0s\n",
      "   100: avg train MMD^2  1.016441 obj -7.042225,  avg val MMD^2  1.051853  obj -6.360156  elapsed: 0s\n",
      "   200: avg train MMD^2  1.016342 obj -7.044673,  avg val MMD^2  1.051734  obj -6.454803  elapsed: 0s\n",
      "   300: avg train MMD^2  1.016268 obj -7.045479,  avg val MMD^2  1.051646  obj -6.511646  elapsed: 0s\n",
      "   400: avg train MMD^2  1.016215 obj -7.045892,  avg val MMD^2  1.051581  obj -6.553235  elapsed: 0s\n",
      "   500: avg train MMD^2  1.016173 obj -7.046157,  avg val MMD^2  1.051530  obj -6.587119  elapsed: 0s\n",
      "Trained result: the opt global-sigma: 1.0\n",
      "input data N(sample-size)=100, N(dimension)=3\n",
      "Validation at 0. MMD^2 = 1.0407558569207436, obj-value = [-2.76933919] at sigma = [1.]\n",
      "[before optimization] sigma value = [1.]\n",
      "     5: avg train MMD^2 0.986554428851564 obj [-3.99763876],  avg val MMD^2 1.04634525947672  obj [-5.12830559]  elapsed: 0.0 sigma: [1.]\n",
      "    25: avg train MMD^2 1.0131226197630763 obj [-7.29693342],  avg val MMD^2 1.0514111066353105  obj [-6.22677388]  elapsed: 0.0 sigma: [1.]\n",
      "    50: avg train MMD^2 1.0130334822662321 obj [-7.33359887],  avg val MMD^2 1.0515332966411879  obj [-6.56008866]  elapsed: 0.0 sigma: [1.]\n",
      "   100: avg train MMD^2 1.012918947276182 obj [-7.34315947],  avg val MMD^2 1.0513385812005172  obj [-6.71843148]  elapsed: 0.0 sigma: [1.]\n",
      "   200: avg train MMD^2 1.012694101216236 obj [-7.3585179],  avg val MMD^2 1.0510079290285717  obj [-7.0050803]  elapsed: 0.0 sigma: [1.]\n",
      "   300: avg train MMD^2 1.0124911131633405 obj [-7.37703031],  avg val MMD^2 1.0507134536421048  obj [-7.35115313]  elapsed: 0.0 sigma: [1.]\n",
      "   400: avg train MMD^2 1.0123027309562473 obj [-7.40114652],  avg val MMD^2 1.0504611360817444  obj [-7.78756384]  elapsed: 0.0 sigma: [1.]\n",
      "   500: avg train MMD^2 1.0121311300757823 obj [-7.43150003],  avg val MMD^2 1.0502678656666764  obj [-8.33052288]  elapsed: 0.0 sigma: [1.]\n",
      "Starting with sigma = median; optimizing it\n",
      "Compiling...\n"
     ]
    },
    {
     "name": "stdout",
     "output_type": "stream",
     "text": [
      "1 dim. mean(x)=1.0 mean(y)=-5.684543306364003 var(x)=0.0 var(y)=2622.152082506811\n",
      "2 dim. mean(x)=10.00586756205444 mean(y)=10.011463661041548 var(x)=0.04103345155183246 var(y)=0.041729904524923846\n",
      "3 dim. mean(x)=9.989038631285482 mean(y)=9.984426795842396 var(x)=0.04502083061596651 var(y)=0.030487110430203503\n"
     ]
    },
    {
     "name": "stderr",
     "output_type": "stream",
     "text": [
      "done\n",
      "Getting median initial sigma value...\n",
      "16.5\n",
      "Input dim 3, representation dim 3\n",
      "Training on 80 samples (batch 200), validation on 20 (batch 1000)\n",
      "2 parameters to optimize: scales, log_sigma\n",
      "     0: avg train MMD^2  0.488815 obj -2.147238,  avg val MMD^2  0.581063  obj -1.567037  elapsed: 0s  sigma: 16.5\n",
      "     5: avg train MMD^2  0.554671 obj -2.250644,  avg val MMD^2  0.660311  obj -1.737338  elapsed: 0s  sigma: 14.7\n",
      "    25: avg train MMD^2  0.854377 obj -2.690373,  avg val MMD^2  0.969976  obj -2.329872  elapsed: 0s  sigma: 7.37\n",
      "    50: avg train MMD^2  0.951005 obj -3.368138,  avg val MMD^2  0.983961  obj -2.879144  elapsed: 0s  sigma: 2.43\n",
      "   100: avg train MMD^2  1.012707 obj -8.659397,  avg val MMD^2  1.049994  obj -9.259125  elapsed: 0s  sigma: 0.129\n",
      "   200: avg train MMD^2  1.012500 obj -9.222763,  avg val MMD^2  1.050000  obj -9.259131  elapsed: 0s  sigma: 0.0391\n",
      "   300: avg train MMD^2  1.012500 obj -9.222763,  avg val MMD^2  1.050000  obj -9.259131  elapsed: 0s  sigma: 0.0391\n",
      "   400: avg train MMD^2  1.012500 obj -9.222763,  avg val MMD^2  1.050000  obj -9.259131  elapsed: 0s  sigma: 0.0391\n",
      "   500: avg train MMD^2  1.012500 obj -9.222763,  avg val MMD^2  1.050000  obj -9.259131  elapsed: 0s  sigma: 0.0391\n",
      "Trained result: the opt global-sigma: 0.03913438506761562\n",
      "input data N(sample-size)=100, N(dimension)=3\n",
      "Getting median initial sigma value...\n",
      "initial sigma by median-heuristics 6.77\n",
      "Validation at 0. MMD^2 = 0.5810349550410542, obj-value = [-1.56695742] at sigma = [6.76721971]\n",
      "[before optimization] sigma value = [6.76721971]\n",
      "     5: avg train MMD^2 0.6752956721043917 obj [-2.52583621],  avg val MMD^2 0.787311707507009  obj [-2.0151574]  elapsed: 0.0 sigma: [6.09479147]\n",
      "    25: avg train MMD^2 0.9305582386983493 obj [-3.1840439],  avg val MMD^2 0.9770036362654081  obj [-2.46483585]  elapsed: 0.0 sigma: [3.05208216]\n",
      "    50: avg train MMD^2 0.9847870644202338 obj [-5.56048819],  avg val MMD^2 1.0224968485707069  obj [-4.69893624]  elapsed: 0.0 sigma: [0.55781656]\n",
      "   100: avg train MMD^2 1.0100057004215997 obj [-9.22029635],  avg val MMD^2 1.049999998819994  obj [-9.25913054]  elapsed: 0.0 sigma: [0.05204724]\n",
      "   200: avg train MMD^2 1.0100038528805786 obj [-9.22029452],  avg val MMD^2 1.05  obj [-9.25913054]  elapsed: 0.0 sigma: [0.04986499]\n",
      "   300: avg train MMD^2 1.0100038626066263 obj [-9.22029453],  avg val MMD^2 1.05  obj [-9.25913054]  elapsed: 0.0 sigma: [0.04987997]\n",
      "   400: avg train MMD^2 1.0100038724072626 obj [-9.22029454],  avg val MMD^2 1.05  obj [-9.25913054]  elapsed: 0.0 sigma: [0.04989505]\n",
      "   500: avg train MMD^2 1.0100038822439807 obj [-9.22029455],  avg val MMD^2 1.05  obj [-9.25913054]  elapsed: 0.0 sigma: [0.04991015]\n",
      "Using sigma = 1.0\n",
      "Compiling...\n",
      "done\n",
      "Input dim 3, representation dim 3\n",
      "Training on 80 samples (batch 200), validation on 20 (batch 1000)\n",
      "1 parameters to optimize: scales\n",
      "     0: avg train MMD^2  0.898269 obj -3.419066,  avg val MMD^2  0.908545  obj -2.887388  elapsed: 0s\n",
      "     5: avg train MMD^2  0.901962 obj -3.469817,  avg val MMD^2  0.915771  obj -3.019200  elapsed: 0s\n",
      "    25: avg train MMD^2  0.939125 obj -4.071035,  avg val MMD^2  0.969127  obj -4.192086  elapsed: 0s\n",
      "    50: avg train MMD^2  0.996388 obj -5.497320,  avg val MMD^2  1.034347  obj -5.246593  elapsed: 0s\n",
      "   100: avg train MMD^2  1.014678 obj -7.359319,  avg val MMD^2  1.053325  obj -5.748114  elapsed: 0s\n",
      "   200: avg train MMD^2  1.014497 obj -7.466660,  avg val MMD^2  1.053119  obj -5.868388  elapsed: 0s\n",
      "   300: avg train MMD^2  1.014216 obj -7.568358,  avg val MMD^2  1.052739  obj -6.000638  elapsed: 0s\n",
      "   400: avg train MMD^2  1.013990 obj -7.663074,  avg val MMD^2  1.052375  obj -6.144288  elapsed: 0s\n",
      "   500: avg train MMD^2  1.013809 obj -7.748896,  avg val MMD^2  1.052043  obj -6.295569  elapsed: 1s\n",
      "Trained result: the opt global-sigma: 1.0\n",
      "input data N(sample-size)=100, N(dimension)=3\n",
      "Validation at 0. MMD^2 = 0.9400226896047468, obj-value = [-2.56692162] at sigma = [1.]\n",
      "[before optimization] sigma value = [1.]\n",
      "     5: avg train MMD^2 0.9184153992707504 obj [-3.38833517],  avg val MMD^2 0.9466274187715753  obj [-2.68061811]  elapsed: 0.0 sigma: [1.]\n",
      "    25: avg train MMD^2 0.9618047931783029 obj [-4.23262408],  avg val MMD^2 1.0037240249671708  obj [-4.31385431]  elapsed: 0.0 sigma: [1.]\n",
      "    50: avg train MMD^2 1.000209154326017 obj [-5.78560235],  avg val MMD^2 1.042224143928278  obj [-5.40767901]  elapsed: 0.0 sigma: [1.]\n",
      "   100: avg train MMD^2 1.012202845894826 obj [-7.65475801],  avg val MMD^2 1.0533867837769033  obj [-5.76059663]  elapsed: 0.0 sigma: [1.]\n",
      "   200: avg train MMD^2 1.0119064600591188 obj [-7.78477259],  avg val MMD^2 1.0530550045834748  obj [-5.8959646]  elapsed: 0.0 sigma: [1.]\n",
      "   300: avg train MMD^2 1.011590939856246 obj [-7.90941939],  avg val MMD^2 1.0526283768663833  obj [-6.04732401]  elapsed: 0.0 sigma: [1.]\n",
      "   400: avg train MMD^2 1.0113356077982776 obj [-8.03248255],  avg val MMD^2 1.0522161310375038  obj [-6.21814491]  elapsed: 0.0 sigma: [1.]\n",
      "   500: avg train MMD^2 1.0111303019112008 obj [-8.14929573],  avg val MMD^2 1.0518399089467225  obj [-6.40419191]  elapsed: 0.0 sigma: [1.]\n",
      "Starting with sigma = median; optimizing it\n",
      "Compiling...\n"
     ]
    },
    {
     "name": "stdout",
     "output_type": "stream",
     "text": [
      "1 dim. mean(x)=1.0 mean(y)=-3.345923902473982 var(x)=0.0 var(y)=2802.883209888031\n",
      "2 dim. mean(x)=9.996983044475174 mean(y)=9.988511235338112 var(x)=0.03602150103604747 var(y)=0.036692734234289516\n",
      "3 dim. mean(x)=9.984610788067254 mean(y)=10.025084127742387 var(x)=0.0462623589259984 var(y)=0.03179950231873662\n"
     ]
    },
    {
     "name": "stderr",
     "output_type": "stream",
     "text": [
      "done\n",
      "Getting median initial sigma value...\n",
      "23.2\n",
      "Input dim 3, representation dim 3\n",
      "Training on 80 samples (batch 200), validation on 20 (batch 1000)\n",
      "2 parameters to optimize: scales, log_sigma\n",
      "     0: avg train MMD^2  0.554177 obj -2.106629,  avg val MMD^2  0.399398  obj -1.186496  elapsed: 0s  sigma: 23.2\n",
      "     5: avg train MMD^2  0.593716 obj -2.165136,  avg val MMD^2  0.446221  obj -1.260273  elapsed: 0s  sigma: 21.3\n",
      "    25: avg train MMD^2  0.942477 obj -3.098021,  avg val MMD^2  0.890943  obj -2.209552  elapsed: 0s  sigma: 8.17\n",
      "    50: avg train MMD^2  0.989475 obj -5.593954,  avg val MMD^2  1.016800  obj -4.921984  elapsed: 0s  sigma: 1.34\n",
      "   100: avg train MMD^2  1.012975 obj -8.018861,  avg val MMD^2  1.049989  obj -9.259120  elapsed: 0s  sigma: 0.191\n",
      "   200: avg train MMD^2  0.025012 obj -5.521939,  avg val MMD^2  0.100000  obj -6.907755  elapsed: 0s  sigma: 0.0058\n",
      "   300: avg train MMD^2  0.025000 obj -5.521477,  avg val MMD^2  0.100000  obj -6.907755  elapsed: 0s  sigma: 0.00447\n",
      "   400: avg train MMD^2  0.025000 obj -5.521477,  avg val MMD^2  0.100000  obj -6.907755  elapsed: 0s  sigma: 0.00448\n",
      "   500: avg train MMD^2  0.025000 obj -5.521477,  avg val MMD^2  0.100000  obj -6.907755  elapsed: 0s  sigma: 0.00449\n",
      "Trained result: the opt global-sigma: 0.00449269689861838\n",
      "input data N(sample-size)=100, N(dimension)=3\n",
      "Getting median initial sigma value...\n",
      "initial sigma by median-heuristics 16.8\n",
      "Validation at 0. MMD^2 = 0.4222770117796468, obj-value = [-1.22082965] at sigma = [16.81117493]\n",
      "[before optimization] sigma value = [16.81117493]\n",
      "     5: avg train MMD^2 0.5885040938719862 obj [-2.2732086],  avg val MMD^2 0.4816119366677134  obj [-1.32616207]  elapsed: 0.0 sigma: [15.43333235]\n",
      "    25: avg train MMD^2 0.9577092441361486 obj [-3.32821156],  avg val MMD^2 0.9492993667710999  obj [-2.39949493]  elapsed: 0.0 sigma: [5.80312344]\n",
      "    50: avg train MMD^2 1.0133577359118537 obj [-7.40890552],  avg val MMD^2 1.0487458461454722  obj [-8.22086806]  elapsed: 0.0 sigma: [0.62755985]\n",
      "   100: avg train MMD^2 1.01043632243028 obj [-8.27891917],  avg val MMD^2 1.0499978691985759  obj [-9.25912851]  elapsed: 0.0 sigma: [0.08573873]\n",
      "   200: avg train MMD^2 0.020004227850478534 obj [-5.29852874],  avg val MMD^2 0.1  obj [-6.90775528]  elapsed: 0.0 sigma: [0.00612435]\n",
      "   300: avg train MMD^2 0.020004290696222626 obj [-5.29853188],  avg val MMD^2 0.1  obj [-6.90775528]  elapsed: 0.0 sigma: [0.00617675]\n",
      "   400: avg train MMD^2 0.02000488643977415 obj [-5.29856166],  avg val MMD^2 0.1  obj [-6.90775528]  elapsed: 0.0 sigma: [0.00628368]\n",
      "   500: avg train MMD^2 0.020005610856166044 obj [-5.29859787],  avg val MMD^2 0.1  obj [-6.90775528]  elapsed: 0.0 sigma: [0.00640371]\n",
      "Using sigma = 1.0\n",
      "Compiling...\n",
      "done\n",
      "Input dim 3, representation dim 3\n",
      "Training on 80 samples (batch 200), validation on 20 (batch 1000)\n",
      "1 parameters to optimize: scales\n",
      "     0: avg train MMD^2  0.946237 obj -4.533518,  avg val MMD^2  0.951568  obj -3.628111  elapsed: 0s\n",
      "     5: avg train MMD^2  0.956877 obj -4.752958,  avg val MMD^2  0.972464  obj -3.988920  elapsed: 0s\n",
      "    25: avg train MMD^2  1.019235 obj -6.570366,  avg val MMD^2  1.049107  obj -7.731129  elapsed: 0s\n",
      "    50: avg train MMD^2  1.017251 obj -7.026042,  avg val MMD^2  1.049967  obj -9.259100  elapsed: 0s\n",
      "   100: avg train MMD^2  1.015541 obj -7.453626,  avg val MMD^2  1.049967  obj -9.259099  elapsed: 0s\n",
      "   200: avg train MMD^2  1.014686 obj -7.656424,  avg val MMD^2  1.049995  obj -9.259126  elapsed: 0s\n",
      "   300: avg train MMD^2  1.014357 obj -7.721723,  avg val MMD^2  1.049998  obj -9.259129  elapsed: 0s\n",
      "   400: avg train MMD^2  1.014157 obj -7.758815,  avg val MMD^2  1.049999  obj -9.259130  elapsed: 0s\n",
      "   500: avg train MMD^2  1.014015 obj -7.784435,  avg val MMD^2  1.050000  obj -9.259130  elapsed: 0s\n",
      "Trained result: the opt global-sigma: 1.0\n",
      "input data N(sample-size)=100, N(dimension)=3\n",
      "Validation at 0. MMD^2 = 0.8980775898895053, obj-value = [-2.31622561] at sigma = [1.]\n",
      "[before optimization] sigma value = [1.]\n",
      "     5: avg train MMD^2 0.959087589584496 obj [-3.71987868],  avg val MMD^2 0.9750845631474578  obj [-2.8824227]  elapsed: 0.0 sigma: [1.]\n",
      "    25: avg train MMD^2 1.013510590759855 obj [-6.88619949],  avg val MMD^2 1.0465250229871605  obj [-7.03208458]  elapsed: 0.0 sigma: [1.]\n",
      "    50: avg train MMD^2 1.014146727927597 obj [-7.2272499],  avg val MMD^2 1.0496865967855538  obj [-9.25883201]  elapsed: 0.0 sigma: [1.]\n",
      "   100: avg train MMD^2 1.0134522006624693 obj [-7.41356458],  avg val MMD^2 1.0499941136965008  obj [-9.25912493]  elapsed: 0.0 sigma: [1.]\n",
      "   200: avg train MMD^2 1.0128293389737173 obj [-7.52089076],  avg val MMD^2 1.0499989046694456  obj [-9.25912949]  elapsed: 0.0 sigma: [1.]\n",
      "   300: avg train MMD^2 1.0125275661753854 obj [-7.56656457],  avg val MMD^2 1.0499995805163052  obj [-9.25913014]  elapsed: 0.0 sigma: [1.]\n",
      "   400: avg train MMD^2 1.0123240384498093 obj [-7.59666009],  avg val MMD^2 1.0499997885285381  obj [-9.25913033]  elapsed: 0.0 sigma: [1.]\n",
      "   500: avg train MMD^2 1.0121672599302876 obj [-7.62044626],  avg val MMD^2 1.0499998792061083  obj [-9.25913042]  elapsed: 0.0 sigma: [1.]\n"
     ]
    }
   ],
   "source": [
    "size = 100\n",
    "n_trial = 5\n",
    "n_epoch = 500\n",
    "batch_size = 200\n",
    "\n",
    "result_stacks_with_sigma = []\n",
    "result_stacks_without_sigma = []\n",
    "for i_trial in range(0, n_trial):\n",
    "    x_1st_dim = numpy.random.normal(loc=1.0, scale=0.0, size=size)\n",
    "    y_1st_dim = numpy.random.normal(loc=1.0, scale=50.0, size=size)\n",
    "\n",
    "    x_2_and_3_dim = numpy.random.normal(loc=10.0, scale=0.2, size=(size, 2))\n",
    "    y_2_and_3_dim = numpy.random.normal(loc=10.0, scale=0.2, size=(size, 2))\n",
    "\n",
    "    x = numpy.concatenate([numpy.reshape(x_1st_dim, (size, 1)), x_2_and_3_dim], axis=1)\n",
    "    y = numpy.concatenate([numpy.reshape(y_1st_dim, (size, 1)), y_2_and_3_dim], axis=1)\n",
    "    \n",
    "    x_train = x[:80]\n",
    "    y_train = y[:80]\n",
    "    x_val = x[80:]\n",
    "    y_val = y[80:]\n",
    "\n",
    "    for n_dim in [0, 1, 2]:\n",
    "        print(f'{n_dim+1} dim. mean(x)={x[:,n_dim].mean()} mean(y)={y[:,n_dim].mean()} var(x)={x[:,n_dim].var()} var(y)={y[:,n_dim].var()}')\n",
    "    # end for\n",
    "    \n",
    "    # with sigma optimization\n",
    "    trainer_theano = ModelTrainerTheanoBackend()\n",
    "    trained_obj_theano = trainer_theano.train(x_train, y_train, num_epochs=n_epoch, batchsize=batch_size, opt_sigma=True, x_val=x_val, y_val=y_val, init_sigma_median=True)\n",
    "\n",
    "    trainer_torch = ModelTrainerTorchBackend()\n",
    "    trained_obj_torch = trainer_torch.train(x, y, num_epochs=n_epoch, batchsize=batch_size, opt_sigma=True, x_val=x_val, y_val=y_val, init_sigma_median=True)\n",
    "\n",
    "    result_stacks_with_sigma.append([\n",
    "                             (x, y),\n",
    "                             (trained_obj_theano.scales, trained_obj_torch.scales),\n",
    "                             (trained_obj_theano.sigma, trained_obj_torch.sigma)])\n",
    "    # without sigma optimization\n",
    "    trainer_theano = ModelTrainerTheanoBackend()\n",
    "    trained_obj_theano = trainer_theano.train(x_train, y_train, num_epochs=n_epoch, batchsize=batch_size, opt_sigma=False, x_val=x_val, y_val=y_val, init_sigma_median=False, init_log_sigma=0.0)\n",
    "\n",
    "    trainer_torch = ModelTrainerTorchBackend()\n",
    "    trained_obj_torch = trainer_torch.train(x, y, num_epochs=n_epoch, batchsize=batch_size, opt_sigma=False, x_val=x_val, y_val=y_val, init_sigma_median=False, initial_log_sigma=0.0)\n",
    "\n",
    "    result_stacks_without_sigma.append([\n",
    "                             (x, y),\n",
    "                             (trained_obj_theano.scales, trained_obj_torch.scales),\n",
    "                             (trained_obj_theano.sigma, trained_obj_torch.sigma)])\n",
    "# end for"
   ]
  },
  {
   "cell_type": "markdown",
   "id": "528c315f-5834-4c41-bdfa-b4adbb1dddc6",
   "metadata": {},
   "source": [
    "### Observations"
   ]
  },
  {
   "cell_type": "code",
   "execution_count": 48,
   "id": "bbc98bce-89fb-4404-841f-07092fa347bf",
   "metadata": {},
   "outputs": [
    {
     "data": {
      "text/plain": [
       "(0.0, 15.0)"
      ]
     },
     "execution_count": 48,
     "metadata": {},
     "output_type": "execute_result"
    },
    {
     "data": {
      "image/png": "[encoded data removed]",
      "text/plain": [
       "<Figure size 432x288 with 1 Axes>"
      ]
     },
     "metadata": {
      "needs_background": "light"
     },
     "output_type": "display_data"
    },
    {
     "data": {
      "image/png": "[encoded data removed]",
      "text/plain": [
       "<Figure size 432x288 with 1 Axes>"
      ]
     },
     "metadata": {
      "needs_background": "light"
     },
     "output_type": "display_data"
    }
   ],
   "source": [
    "# Theano imp.\n",
    "__df_with_sigma = []\n",
    "__df_without_sigma = []\n",
    "for trial_with_sigma, trial_without_sigma in zip(result_stacks_with_sigma, result_stacks_without_sigma):\n",
    "    __df_with_sigma.append(trial_with_sigma[1][0])\n",
    "    __df_without_sigma.append(trial_without_sigma[1][0])\n",
    "# end for\n",
    "df_with_sigma = pandas.DataFrame(__df_with_sigma, index = list(range(0, n_trial)))\n",
    "ax = df_with_sigma.plot(kind='bar')\n",
    "plt.title(f\"ARD weight with sigma. {n_trial} times computation (original imp. with Theano)\")\n",
    "plt.ylabel(\"ARD weight\")\n",
    "plt.xlabel(\"trial\")\n",
    "ax.set_ylim(0, 15)\n",
    "# plot without sigma\n",
    "df_without_sigma = pandas.DataFrame(__df_without_sigma, index = list(range(0, n_trial)))\n",
    "ax = df_without_sigma.plot(kind='bar')\n",
    "plt.title(f\"ARD weight without sigma. {n_trial} times computation (original imp. with Theano)\")\n",
    "plt.ylabel(\"ARD weight\")\n",
    "plt.xlabel(\"trial\")\n",
    "ax.set_ylim(0, 15)"
   ]
  },
  {
   "cell_type": "code",
   "execution_count": 49,
   "id": "42f7e587-ac76-477f-8ce6-78dfea331f89",
   "metadata": {},
   "outputs": [
    {
     "data": {
      "text/plain": [
       "(0.0, 15.0)"
      ]
     },
     "execution_count": 49,
     "metadata": {},
     "output_type": "execute_result"
    },
    {
     "data": {
      "image/png": "[encoded data removed]",
      "text/plain": [
       "<Figure size 432x288 with 1 Axes>"
      ]
     },
     "metadata": {
      "needs_background": "light"
     },
     "output_type": "display_data"
    },
    {
     "data": {
      "image/png": "[encoded data removed]",
      "text/plain": [
       "<Figure size 432x288 with 1 Axes>"
      ]
     },
     "metadata": {
      "needs_background": "light"
     },
     "output_type": "display_data"
    }
   ],
   "source": [
    "# Theano imp.\n",
    "__df_with_sigma = []\n",
    "__df_without_sigma = []\n",
    "for trial_with_sigma, trial_without_sigma in zip(result_stacks_with_sigma, result_stacks_without_sigma):\n",
    "    __df_with_sigma.append(trial_with_sigma[1][1])\n",
    "    __df_without_sigma.append(trial_without_sigma[1][1])\n",
    "# end for\n",
    "df_with_sigma = pandas.DataFrame(__df_with_sigma, index = list(range(0, n_trial)))\n",
    "ax = df_with_sigma.plot(kind='bar')\n",
    "plt.title(f\"ARD weight with sigma. {n_trial} times computation (with Torch)\")\n",
    "plt.ylabel(\"ARD weight\")\n",
    "plt.xlabel(\"trial\")\n",
    "ax.set_ylim(0, 15)\n",
    "# plot without sigma\n",
    "df_without_sigma = pandas.DataFrame(__df_without_sigma, index = list(range(0, n_trial)))\n",
    "ax = df_without_sigma.plot(kind='bar')\n",
    "plt.title(f\"ARD weight without sigma. {n_trial} times computation (with Torch)\")\n",
    "plt.ylabel(\"ARD weight\")\n",
    "plt.xlabel(\"trial\")\n",
    "ax.set_ylim(0, 15)"
   ]
  },
  {
   "cell_type": "markdown",
   "id": "40f962f3-a9c8-42d3-9fa5-cb553c5d512a",
   "metadata": {},
   "source": [
    "### conclusion\n",
    "\n",
    "The computed ARD weight will not be as we expected __if__ we optimize sigma value at the same time.\n",
    "\n",
    "Then, we should tune __only scales (ARD weight)__ if we want to obtain the ARD weight."
   ]
  },
  {
   "cell_type": "code",
   "execution_count": null,
   "id": "faeb164e-5771-4031-b94e-c34beb230b23",
   "metadata": {},
   "outputs": [],
   "source": [
    "%reset"
   ]
  },
  {
   "cell_type": "markdown",
   "id": "700a9d4d-785b-4c19-8089-d763eed8b42a",
   "metadata": {},
   "source": [
    "# Study: stability of ARD weights"
   ]
  },
  {
   "cell_type": "markdown",
   "id": "5a3c76c3-4b30-4b7b-9021-a14928e5c2db",
   "metadata": {},
   "source": [
    "## Objective\n",
    "\n",
    "To confirm the computed ARD weighted will be similar.\n",
    "\n",
    "In the exp, we have the following conditions,\n",
    "\n",
    "- the training data x and y are fixed.\n",
    "- the validation data x and y are fixed.\n",
    "- sigma will not be tuned"
   ]
  },
  {
   "cell_type": "code",
   "execution_count": 19,
   "id": "84508a8b-0f23-4600-a7e2-fd551a0ba067",
   "metadata": {},
   "outputs": [],
   "source": [
    "from model_criticism_mmd import ModelTrainerTheanoBackend, ModelTrainerTorchBackend"
   ]
  },
  {
   "cell_type": "code",
   "execution_count": 20,
   "id": "f261a9e2-af6a-430a-95ba-ea5e9ad691ea",
   "metadata": {},
   "outputs": [],
   "source": [
    "%matplotlib inline\n",
    "\n",
    "import matplotlib\n",
    "import numpy as np\n",
    "import matplotlib.pyplot as plt\n",
    "import pandas\n",
    "import numpy"
   ]
  },
  {
   "cell_type": "code",
   "execution_count": 24,
   "id": "652824d2-370f-4956-9ec3-3126adf0968f",
   "metadata": {},
   "outputs": [
    {
     "name": "stdout",
     "output_type": "stream",
     "text": [
      "1 dim. mean(x)=1.0 mean(y)=5.88268324033833 var(x)=0.0 var(y)=2581.977256325252\n",
      "2 dim. mean(x)=9.973029705725683 mean(y)=10.00802135093335 var(x)=0.028781844253832095 var(y)=0.029758249712898838\n",
      "3 dim. mean(x)=9.99467942716704 mean(y)=9.988748332579542 var(x)=0.04884625612449244 var(y)=0.03747702442607639\n"
     ]
    }
   ],
   "source": [
    "size = 100\n",
    "x_1st_dim = numpy.random.normal(loc=1.0, scale=0.0, size=size)\n",
    "y_1st_dim = numpy.random.normal(loc=1.0, scale=50.0, size=size)\n",
    "\n",
    "x_2_and_3_dim = numpy.random.normal(loc=10.0, scale=0.2, size=(size, 2))\n",
    "y_2_and_3_dim = numpy.random.normal(loc=10.0, scale=0.2, size=(size, 2))\n",
    "\n",
    "x = numpy.concatenate([numpy.reshape(x_1st_dim, (size, 1)), x_2_and_3_dim], axis=1)\n",
    "y = numpy.concatenate([numpy.reshape(y_1st_dim, (size, 1)), y_2_and_3_dim], axis=1)\n",
    "\n",
    "x_train = x[:80]\n",
    "y_train = y[:80]\n",
    "x_val = x[80:]\n",
    "y_val = y[80:]\n",
    "\n",
    "for n_dim in [0, 1, 2]:\n",
    "    print(f'{n_dim+1} dim. mean(x)={x[:,n_dim].mean()} mean(y)={y[:,n_dim].mean()} var(x)={x[:,n_dim].var()} var(y)={y[:,n_dim].var()}')\n",
    "# end for"
   ]
  },
  {
   "cell_type": "code",
   "execution_count": 33,
   "id": "09db239c-a9a7-4cb7-999e-9e953e1926f2",
   "metadata": {},
   "outputs": [
    {
     "name": "stderr",
     "output_type": "stream",
     "text": [
      "Using sigma = 1.0\n",
      "Compiling...\n",
      "done\n",
      "Input dim 3, representation dim 3\n",
      "Training on 80 samples (batch 200), validation on 20 (batch 1000)\n",
      "1 parameters to optimize: scales\n",
      "     0: avg train MMD^2  0.917062 obj -3.513093,  avg val MMD^2  0.979452  obj -4.135997  elapsed: 0s\n",
      "     5: avg train MMD^2  0.918635 obj -3.522559,  avg val MMD^2  0.981574  obj -4.164211  elapsed: 0s\n",
      "    25: avg train MMD^2  0.935704 obj -3.607468,  avg val MMD^2  0.995426  obj -4.317761  elapsed: 0s\n",
      "    50: avg train MMD^2  0.953215 obj -3.655343,  avg val MMD^2  1.009365  obj -4.516548  elapsed: 0s\n",
      "   100: avg train MMD^2  0.969621 obj -3.678606,  avg val MMD^2  1.025668  obj -4.860636  elapsed: 0s\n",
      "   200: avg train MMD^2  0.981672 obj -3.690579,  avg val MMD^2  1.039932  obj -5.295575  elapsed: 0s\n",
      "   300: avg train MMD^2  0.986502 obj -3.695111,  avg val MMD^2  1.046056  obj -5.502430  elapsed: 0s\n",
      "   400: avg train MMD^2  0.988921 obj -3.697733,  avg val MMD^2  1.049175  obj -5.597300  elapsed: 0s\n",
      "   500: avg train MMD^2  0.990249 obj -3.699632,  avg val MMD^2  1.050896  obj -5.647085  elapsed: 0s\n",
      "Trained result: the opt global-sigma: 1.0\n",
      "input data N(sample-size)=80, N(dimension)=3\n",
      "Validation at 0. MMD^2 = 0.9706608858420614, obj-value = [-3.31222728] at sigma = [1.]\n",
      "[before optimization] sigma value = [1.]\n",
      "     5: avg train MMD^2 0.9247487763847565 obj [-3.40725694],  avg val MMD^2 0.9810517323104491  obj [-3.60040957]  elapsed: 0.0 sigma: [1.]\n",
      "    25: avg train MMD^2 0.9431471085984793 obj [-3.57692708],  avg val MMD^2 1.0083723710288972  obj [-4.57837577]  elapsed: 0.0 sigma: [1.]\n",
      "    50: avg train MMD^2 0.9587698617803871 obj [-3.6556882],  avg val MMD^2 1.0189260791901977  obj [-4.75269322]  elapsed: 0.0 sigma: [1.]\n",
      "   100: avg train MMD^2 0.9729529529304345 obj [-3.68067869],  avg val MMD^2 1.0312862492114563  obj [-5.03939176]  elapsed: 0.0 sigma: [1.]\n",
      "   200: avg train MMD^2 0.983090047648879 obj [-3.69135276],  avg val MMD^2 1.0423235828521484  obj [-5.37970224]  elapsed: 0.0 sigma: [1.]\n",
      "   300: avg train MMD^2 0.9872151890395454 obj [-3.69544876],  avg val MMD^2 1.0472549803595887  obj [-5.53579621]  elapsed: 0.0 sigma: [1.]\n",
      "   400: avg train MMD^2 0.9893144521930269 obj [-3.69789538],  avg val MMD^2 1.04983255544083  obj [-5.6095351]  elapsed: 0.0 sigma: [1.]\n",
      "   500: avg train MMD^2 0.9904784231407823 obj [-3.69971041],  avg val MMD^2 1.0512756948146826  obj [-5.65135238]  elapsed: 0.0 sigma: [1.]\n",
      "Using sigma = 1.0\n",
      "Compiling...\n",
      "done\n",
      "Input dim 3, representation dim 3\n",
      "Training on 80 samples (batch 200), validation on 20 (batch 1000)\n",
      "1 parameters to optimize: scales\n",
      "     0: avg train MMD^2  0.917062 obj -3.513093,  avg val MMD^2  0.979452  obj -4.135997  elapsed: 0s\n",
      "     5: avg train MMD^2  0.918635 obj -3.522559,  avg val MMD^2  0.981574  obj -4.164211  elapsed: 0s\n",
      "    25: avg train MMD^2  0.935704 obj -3.607468,  avg val MMD^2  0.995426  obj -4.317761  elapsed: 0s\n",
      "    50: avg train MMD^2  0.953215 obj -3.655343,  avg val MMD^2  1.009365  obj -4.516548  elapsed: 0s\n",
      "   100: avg train MMD^2  0.969621 obj -3.678606,  avg val MMD^2  1.025668  obj -4.860636  elapsed: 0s\n",
      "   200: avg train MMD^2  0.981672 obj -3.690579,  avg val MMD^2  1.039932  obj -5.295575  elapsed: 0s\n",
      "   300: avg train MMD^2  0.986502 obj -3.695111,  avg val MMD^2  1.046056  obj -5.502430  elapsed: 0s\n",
      "   400: avg train MMD^2  0.988921 obj -3.697733,  avg val MMD^2  1.049175  obj -5.597300  elapsed: 0s\n",
      "   500: avg train MMD^2  0.990249 obj -3.699632,  avg val MMD^2  1.050896  obj -5.647085  elapsed: 0s\n",
      "Trained result: the opt global-sigma: 1.0\n",
      "input data N(sample-size)=80, N(dimension)=3\n",
      "Validation at 0. MMD^2 = 0.927660773784419, obj-value = [-2.42207353] at sigma = [1.]\n",
      "[before optimization] sigma value = [1.]\n",
      "     5: avg train MMD^2 0.92640159024228 obj [-3.32832904],  avg val MMD^2 0.9765485394518794  obj [-3.17929951]  elapsed: 0.0 sigma: [1.]\n",
      "    25: avg train MMD^2 0.9522210372597394 obj [-3.60705695],  avg val MMD^2 1.0179020427700713  obj [-4.7745584]  elapsed: 0.0 sigma: [1.]\n",
      "    50: avg train MMD^2 0.9645565571309651 obj [-3.66562335],  avg val MMD^2 1.0257507374492845  obj [-4.93048376]  elapsed: 0.0 sigma: [1.]\n",
      "   100: avg train MMD^2 0.9758665352789436 obj [-3.68350008],  avg val MMD^2 1.0353675834067608  obj [-5.17269773]  elapsed: 0.0 sigma: [1.]\n",
      "   200: avg train MMD^2 0.9843025564293468 obj [-3.69230802],  avg val MMD^2 1.0441528286836743  obj [-5.44065514]  elapsed: 0.0 sigma: [1.]\n",
      "   300: avg train MMD^2 0.9878324403792768 obj [-3.69594167],  avg val MMD^2 1.0482023066159332  obj [-5.56101898]  elapsed: 0.0 sigma: [1.]\n",
      "   400: avg train MMD^2 0.9896563992186694 obj [-3.69820759],  avg val MMD^2 1.050359905325407  obj [-5.62048364]  elapsed: 0.0 sigma: [1.]\n",
      "   500: avg train MMD^2 0.9906756546049763 obj [-3.69993965],  avg val MMD^2 1.051580732699021  obj [-5.65699566]  elapsed: 0.0 sigma: [1.]\n",
      "Using sigma = 1.0\n",
      "Compiling...\n",
      "done\n",
      "Input dim 3, representation dim 3\n",
      "Training on 80 samples (batch 200), validation on 20 (batch 1000)\n",
      "1 parameters to optimize: scales\n",
      "     0: avg train MMD^2  0.917062 obj -3.513093,  avg val MMD^2  0.979452  obj -4.135997  elapsed: 0s\n",
      "     5: avg train MMD^2  0.918635 obj -3.522559,  avg val MMD^2  0.981574  obj -4.164211  elapsed: 0s\n",
      "    25: avg train MMD^2  0.935704 obj -3.607468,  avg val MMD^2  0.995426  obj -4.317761  elapsed: 0s\n",
      "    50: avg train MMD^2  0.953215 obj -3.655343,  avg val MMD^2  1.009365  obj -4.516548  elapsed: 0s\n",
      "   100: avg train MMD^2  0.969621 obj -3.678606,  avg val MMD^2  1.025668  obj -4.860636  elapsed: 0s\n",
      "   200: avg train MMD^2  0.981672 obj -3.690579,  avg val MMD^2  1.039932  obj -5.295575  elapsed: 0s\n",
      "   300: avg train MMD^2  0.986502 obj -3.695111,  avg val MMD^2  1.046056  obj -5.502430  elapsed: 0s\n",
      "   400: avg train MMD^2  0.988921 obj -3.697733,  avg val MMD^2  1.049175  obj -5.597300  elapsed: 0s\n",
      "   500: avg train MMD^2  0.990249 obj -3.699632,  avg val MMD^2  1.050896  obj -5.647085  elapsed: 0s\n",
      "Trained result: the opt global-sigma: 1.0\n",
      "input data N(sample-size)=80, N(dimension)=3\n",
      "Validation at 0. MMD^2 = 0.954553142189989, obj-value = [-2.50262403] at sigma = [1.]\n",
      "[before optimization] sigma value = [1.]\n",
      "     5: avg train MMD^2 0.9550235615969164 obj [-3.35297632],  avg val MMD^2 0.9995817212731203  obj [-3.23088396]  elapsed: 0.0 sigma: [1.]\n",
      "    25: avg train MMD^2 0.9736843017569714 obj [-3.61936282],  avg val MMD^2 1.035405646665992  obj [-5.10171659]  elapsed: 0.0 sigma: [1.]\n",
      "    50: avg train MMD^2 0.9781800366060218 obj [-3.67288925],  avg val MMD^2 1.037604369884753  obj [-5.18562691]  elapsed: 0.0 sigma: [1.]\n",
      "   100: avg train MMD^2 0.9825461858506 obj [-3.68640902],  avg val MMD^2 1.0418027906246528  obj [-5.333115]  elapsed: 0.0 sigma: [1.]\n",
      "   200: avg train MMD^2 0.9870055486024337 obj [-3.69328721],  avg val MMD^2 1.0469738050398532  obj [-5.50506768]  elapsed: 0.0 sigma: [1.]\n",
      "   300: avg train MMD^2 0.9892429650324321 obj [-3.69640457],  avg val MMD^2 1.0497016854929029  obj [-5.58598672]  elapsed: 0.0 sigma: [1.]\n",
      "   400: avg train MMD^2 0.9904813316236613 obj [-3.69846121],  avg val MMD^2 1.0512306313980437  obj [-5.63032194]  elapsed: 0.0 sigma: [1.]\n",
      "   500: avg train MMD^2 0.9911912697775639 obj [-3.70009161],  avg val MMD^2 1.0521136093009926  obj [-5.6610866]  elapsed: 0.0 sigma: [1.]\n",
      "Using sigma = 1.0\n",
      "Compiling...\n",
      "done\n",
      "Input dim 3, representation dim 3\n",
      "Training on 80 samples (batch 200), validation on 20 (batch 1000)\n",
      "1 parameters to optimize: scales\n",
      "     0: avg train MMD^2  0.917062 obj -3.513093,  avg val MMD^2  0.979452  obj -4.135997  elapsed: 0s\n",
      "     5: avg train MMD^2  0.918635 obj -3.522559,  avg val MMD^2  0.981574  obj -4.164211  elapsed: 0s\n",
      "    25: avg train MMD^2  0.935704 obj -3.607468,  avg val MMD^2  0.995426  obj -4.317761  elapsed: 0s\n",
      "    50: avg train MMD^2  0.953215 obj -3.655343,  avg val MMD^2  1.009365  obj -4.516548  elapsed: 0s\n",
      "   100: avg train MMD^2  0.969621 obj -3.678606,  avg val MMD^2  1.025668  obj -4.860636  elapsed: 0s\n",
      "   200: avg train MMD^2  0.981672 obj -3.690579,  avg val MMD^2  1.039932  obj -5.295575  elapsed: 0s\n",
      "   300: avg train MMD^2  0.986502 obj -3.695111,  avg val MMD^2  1.046056  obj -5.502430  elapsed: 0s\n",
      "   400: avg train MMD^2  0.988921 obj -3.697733,  avg val MMD^2  1.049175  obj -5.597300  elapsed: 0s\n",
      "   500: avg train MMD^2  0.990249 obj -3.699632,  avg val MMD^2  1.050896  obj -5.647085  elapsed: 0s\n",
      "Trained result: the opt global-sigma: 1.0\n",
      "input data N(sample-size)=80, N(dimension)=3\n",
      "Validation at 0. MMD^2 = 1.0185409503125544, obj-value = [-4.61714056] at sigma = [1.]\n",
      "[before optimization] sigma value = [1.]\n",
      "     5: avg train MMD^2 0.9461085470366509 obj [-3.51797383],  avg val MMD^2 1.0207196094226432  obj [-4.74628166]  elapsed: 0.0 sigma: [1.]\n",
      "    25: avg train MMD^2 0.9590292254957878 obj [-3.61980033],  avg val MMD^2 1.0309012398167507  obj [-5.12204588]  elapsed: 0.0 sigma: [1.]\n",
      "    50: avg train MMD^2 0.9711988730399193 obj [-3.66860082],  avg val MMD^2 1.037869611673614  obj [-5.29409589]  elapsed: 0.0 sigma: [1.]\n",
      "   100: avg train MMD^2 0.9808974294371292 obj [-3.68622393],  avg val MMD^2 1.0441944944742156  obj [-5.44856823]  elapsed: 0.0 sigma: [1.]\n",
      "   200: avg train MMD^2 0.986996658892367 obj [-3.69371753],  avg val MMD^2 1.0488254680095699  obj [-5.55712377]  elapsed: 0.0 sigma: [1.]\n",
      "   300: avg train MMD^2 0.9893502140871437 obj [-3.69669582],  avg val MMD^2 1.0508220626235127  obj [-5.60561477]  elapsed: 0.0 sigma: [1.]\n",
      "   400: avg train MMD^2 0.9905448675420158 obj [-3.69863184],  avg val MMD^2 1.0518853505737813  obj [-5.63728191]  elapsed: 0.0 sigma: [1.]\n",
      "   500: avg train MMD^2 0.991208684098356 obj [-3.70018558],  avg val MMD^2 1.052489781862948  obj [-5.66332163]  elapsed: 0.0 sigma: [1.]\n",
      "Using sigma = 1.0\n",
      "Compiling...\n",
      "done\n",
      "Input dim 3, representation dim 3\n",
      "Training on 80 samples (batch 200), validation on 20 (batch 1000)\n",
      "1 parameters to optimize: scales\n",
      "     0: avg train MMD^2  0.917062 obj -3.513093,  avg val MMD^2  0.979452  obj -4.135997  elapsed: 0s\n",
      "     5: avg train MMD^2  0.918635 obj -3.522559,  avg val MMD^2  0.981574  obj -4.164211  elapsed: 0s\n",
      "    25: avg train MMD^2  0.935704 obj -3.607468,  avg val MMD^2  0.995426  obj -4.317761  elapsed: 0s\n",
      "    50: avg train MMD^2  0.953215 obj -3.655343,  avg val MMD^2  1.009365  obj -4.516548  elapsed: 0s\n",
      "   100: avg train MMD^2  0.969621 obj -3.678606,  avg val MMD^2  1.025668  obj -4.860636  elapsed: 0s\n",
      "   200: avg train MMD^2  0.981672 obj -3.690579,  avg val MMD^2  1.039932  obj -5.295575  elapsed: 0s\n",
      "   300: avg train MMD^2  0.986502 obj -3.695111,  avg val MMD^2  1.046056  obj -5.502430  elapsed: 0s\n",
      "   400: avg train MMD^2  0.988921 obj -3.697733,  avg val MMD^2  1.049175  obj -5.597300  elapsed: 0s\n",
      "   500: avg train MMD^2  0.990249 obj -3.699632,  avg val MMD^2  1.050896  obj -5.647085  elapsed: 0s\n",
      "Trained result: the opt global-sigma: 1.0\n",
      "input data N(sample-size)=80, N(dimension)=3\n",
      "Validation at 0. MMD^2 = 0.9078962635623418, obj-value = [-2.10886676] at sigma = [1.]\n",
      "[before optimization] sigma value = [1.]\n",
      "     5: avg train MMD^2 0.9411370709472652 obj [-3.32799396],  avg val MMD^2 0.9889305356519579  obj [-3.21341546]  elapsed: 0.0 sigma: [1.]\n",
      "    25: avg train MMD^2 0.9649196145119368 obj [-3.63739116],  avg val MMD^2 1.0264044652014146  obj [-4.90950092]  elapsed: 0.0 sigma: [1.]\n",
      "    50: avg train MMD^2 0.971589733824769 obj [-3.67419103],  avg val MMD^2 1.030818849371112  obj [-5.02626849]  elapsed: 0.0 sigma: [1.]\n",
      "   100: avg train MMD^2 0.9787322273424889 obj [-3.68574435],  avg val MMD^2 1.0377355025887103  obj [-5.22897215]  elapsed: 0.0 sigma: [1.]\n",
      "   200: avg train MMD^2 0.9853079234463813 obj [-3.69298215],  avg val MMD^2 1.0450826692197992  obj [-5.46428905]  elapsed: 0.0 sigma: [1.]\n",
      "   300: avg train MMD^2 0.9883255962333113 obj [-3.69630023],  avg val MMD^2 1.0486752307486071  obj [-5.57171885]  elapsed: 0.0 sigma: [1.]\n",
      "   400: avg train MMD^2 0.9899328625570782 obj [-3.69845443],  avg val MMD^2 1.0506268597450736  obj [-5.62623863]  elapsed: 0.0 sigma: [1.]\n",
      "   500: avg train MMD^2 0.9908412468832295 obj [-3.70013887],  avg val MMD^2 1.0517396458620067  obj [-5.66092566]  elapsed: 0.0 sigma: [1.]\n"
     ]
    }
   ],
   "source": [
    "result_stacks = []\n",
    "n_trial = 5\n",
    "n_epoch = 500\n",
    "batch_size = 200\n",
    "is_opt_sigma = False\n",
    "for i_trial in range(0, n_trial):\n",
    "    trainer_theano = ModelTrainerTheanoBackend()\n",
    "    trained_obj_theano = trainer_theano.train(x_train, y_train, num_epochs=n_epoch, batchsize=batch_size, opt_sigma=is_opt_sigma, x_val=x_val, y_val=y_val, init_sigma_median=False, init_log_sigma=0.0)\n",
    "\n",
    "    trainer_torch = ModelTrainerTorchBackend()\n",
    "    trained_obj_torch = trainer_torch.train(x_train, y_train, num_epochs=n_epoch, batchsize=batch_size, opt_sigma=is_opt_sigma, x_val=x_val, y_val=y_val, init_sigma_median=False, initial_log_sigma=0.0)\n",
    "\n",
    "    result_stacks.append([\n",
    "                             (trained_obj_theano.scales, trained_obj_torch.scales),\n",
    "                             (trained_obj_theano.sigma, trained_obj_torch.sigma)\n",
    "    ])\n",
    "# end for"
   ]
  },
  {
   "cell_type": "markdown",
   "id": "8e71e257-09dc-4869-b941-8a2bdb22187d",
   "metadata": {},
   "source": [
    "We show the ARD weights in 5 times computations. 3 bars represent the ARD weights for each feature."
   ]
  },
  {
   "cell_type": "code",
   "execution_count": 36,
   "id": "eb2e9fc5-21bd-4209-a63d-ba1380524777",
   "metadata": {},
   "outputs": [
    {
     "data": {
      "text/plain": [
       "(0.0, 4.0)"
      ]
     },
     "execution_count": 36,
     "metadata": {},
     "output_type": "execute_result"
    },
    {
     "data": {
      "image/png": "[encoded data removed]",
      "text/plain": [
       "<Figure size 432x288 with 1 Axes>"
      ]
     },
     "metadata": {
      "needs_background": "light"
     },
     "output_type": "display_data"
    }
   ],
   "source": [
    "__df_theano_result = []\n",
    "for i_trial, trial_result in enumerate(result_stacks):\n",
    "    __df_theano_result.append(trial_result[0][0])\n",
    "# end for\n",
    "df_theano_result = pandas.DataFrame(__df_theano_result, index = list(range(0, n_trial)))\n",
    "ax = df_theano_result.plot(kind='bar')\n",
    "plt.title(f\"ARD weight against the same data {n_trial} times computation (original imp. with Theano)\")\n",
    "plt.ylabel(\"ARD weight\")\n",
    "plt.xlabel(\"trial\")\n",
    "ax.set_ylim(0, 4)"
   ]
  },
  {
   "cell_type": "code",
   "execution_count": 37,
   "id": "072010a8-b6d7-42a4-b8ef-f1a60978426b",
   "metadata": {},
   "outputs": [
    {
     "data": {
      "text/plain": [
       "(0.0, 4.0)"
      ]
     },
     "execution_count": 37,
     "metadata": {},
     "output_type": "execute_result"
    },
    {
     "data": {
      "image/png": "[encoded data removed]",
      "text/plain": [
       "<Figure size 432x288 with 1 Axes>"
      ]
     },
     "metadata": {
      "needs_background": "light"
     },
     "output_type": "display_data"
    }
   ],
   "source": [
    "__df_torch_result = []\n",
    "for i_trial, trial_result in enumerate(result_stacks):\n",
    "    __df_torch_result.append(trial_result[0][1])\n",
    "# end for\n",
    "df_torch_result = pandas.DataFrame(__df_torch_result, index = list(range(0, n_trial)))\n",
    "ax = df_torch_result.plot(kind='bar')\n",
    "plt.title(f\"ARD weight against the same data {n_trial} times computation (with Torch)\")\n",
    "plt.ylabel(\"ARD weight\")\n",
    "plt.xlabel(\"trial\")\n",
    "ax.set_ylim(0, 4)"
   ]
  },
  {
   "cell_type": "markdown",
   "id": "e606876d-d1db-4103-a83e-170e7fe2d853",
   "metadata": {},
   "source": [
    "### concolusion\n",
    "\n",
    "With the above observation, we confirm that the ARD weight will __converage__ if we fix the input data and the sigma."
   ]
  },
  {
   "cell_type": "code",
   "execution_count": 18,
   "id": "ca6a7e92-3ed8-4735-b2ea-2ed4edfa9cff",
   "metadata": {},
   "outputs": [
    {
     "name": "stdin",
     "output_type": "stream",
     "text": [
      "Once deleted, variables cannot be recovered. Proceed (y/[n])?  y\n"
     ]
    }
   ],
   "source": [
    "%reset"
   ]
  },
  {
   "cell_type": "markdown",
   "id": "8eb619a1-582d-4594-919a-e9827cce1c69",
   "metadata": {},
   "source": [
    "# Study: with/without sigma optimizations"
   ]
  },
  {
   "cell_type": "code",
   "execution_count": 1,
   "id": "c832e1c0-1e87-477a-850a-3f1673320bb1",
   "metadata": {},
   "outputs": [
    {
     "name": "stderr",
     "output_type": "stream",
     "text": [
      "WARNING (theano.configdefaults): install mkl with `conda install mkl-service`: No module named 'mkl'\n"
     ]
    }
   ],
   "source": [
    "from model_criticism_mmd import ModelTrainerTheanoBackend, ModelTrainerTorchBackend"
   ]
  },
  {
   "cell_type": "code",
   "execution_count": 2,
   "id": "4ba7d096-b06b-4ffd-8e66-9bd2935c037c",
   "metadata": {},
   "outputs": [],
   "source": [
    "%matplotlib inline\n",
    "\n",
    "import matplotlib\n",
    "import numpy as np\n",
    "import matplotlib.pyplot as plt\n",
    "import pandas\n",
    "import numpy"
   ]
  },
  {
   "cell_type": "code",
   "execution_count": 3,
   "id": "566c10c7-d005-4944-8c0b-d05b4b8c5891",
   "metadata": {},
   "outputs": [
    {
     "name": "stdout",
     "output_type": "stream",
     "text": [
      "1 dim. mean(x)=1.0 mean(y)=-6.134923650595601 var(x)=0.0 var(y)=2483.728508442119\n",
      "2 dim. mean(x)=1.0 mean(y)=2.7210920981855673 var(x)=0.0 var(y)=2754.3351727739832\n",
      "3 dim. mean(x)=1.0 mean(y)=-0.9651828059532181 var(x)=0.0 var(y)=2459.4318239408385\n"
     ]
    }
   ],
   "source": [
    "size = 200\n",
    "x = numpy.random.normal(loc=1.0, scale=0.0, size=(200, 3))\n",
    "y = numpy.random.normal(loc=1.0, scale=50.0, size=(200, 3))\n",
    "\n",
    "#x_2_and_3_dim = numpy.random.normal(loc=10.0, scale=0.2, size=(size, 2))\n",
    "#y_2_and_3_dim = numpy.random.normal(loc=10.0, scale=0.2, size=(size, 2))\n",
    "\n",
    "#x = numpy.concatenate([numpy.reshape(x_1st_dim, (size, 1)), x_2_and_3_dim], axis=1)\n",
    "#y = numpy.concatenate([numpy.reshape(y_1st_dim, (size, 1)), y_2_and_3_dim], axis=1)\n",
    "\n",
    "x_train = x[:100]\n",
    "y_train = y[:100]\n",
    "x_val = x[100:150]\n",
    "y_val = y[100:150]\n",
    "x_test = x[150:]\n",
    "y_test = y[150:]\n",
    "\n",
    "for n_dim in [0, 1, 2]:\n",
    "    print(f'{n_dim+1} dim. mean(x)={x[:,n_dim].mean()} mean(y)={y[:,n_dim].mean()} var(x)={x[:,n_dim].var()} var(y)={y[:,n_dim].var()}')\n",
    "# end for\n",
    "assert len(x_train) == len(y_train) == 100\n",
    "assert len(x_val) == len(y_val) == 50\n",
    "assert len(x_test) == len(y_test) == 50"
   ]
  },
  {
   "cell_type": "code",
   "execution_count": 8,
   "id": "e05adb19-75c6-40c5-917d-683db87cf6a1",
   "metadata": {},
   "outputs": [
    {
     "name": "stderr",
     "output_type": "stream",
     "text": [
      "Using sigma = 1.0\n",
      "Compiling...\n",
      "done\n",
      "Input dim 3, representation dim 3\n",
      "Training on 100 samples (batch 200), validation on 50 (batch 1000)\n",
      "1 parameters to optimize: scales\n",
      "     0: avg train MMD^2  1.010000 obj -9.220291,  avg val MMD^2  1.020000  obj -9.230143  elapsed: 0s\n",
      "     5: avg train MMD^2  1.010000 obj -9.220291,  avg val MMD^2  1.020000  obj -9.230143  elapsed: 0s\n",
      "    25: avg train MMD^2  1.010000 obj -9.220291,  avg val MMD^2  1.020000  obj -9.230143  elapsed: 0s\n",
      "    50: avg train MMD^2  1.010000 obj -9.220291,  avg val MMD^2  1.020000  obj -9.230143  elapsed: 0s\n",
      "   100: avg train MMD^2  1.010000 obj -9.220291,  avg val MMD^2  1.020000  obj -9.230143  elapsed: 0s\n",
      "   200: avg train MMD^2  1.010000 obj -9.220291,  avg val MMD^2  1.020000  obj -9.230143  elapsed: 0s\n",
      "   300: avg train MMD^2  1.010000 obj -9.220291,  avg val MMD^2  1.020000  obj -9.230143  elapsed: 0s\n",
      "   400: avg train MMD^2  1.010000 obj -9.220291,  avg val MMD^2  1.020000  obj -9.230143  elapsed: 0s\n",
      "   500: avg train MMD^2  1.010000 obj -9.220291,  avg val MMD^2  1.020000  obj -9.230143  elapsed: 0s\n",
      "Trained result: the opt global-sigma: 1.0\n",
      "input data N(sample-size)=100, N(dimension)=3\n",
      "Validation at 0. MMD^2 = 1.0200000066631023, obj-value = [-9.23014301] at sigma = [1.]\n",
      "[before optimization] sigma value = [1.]\n",
      "     5: avg train MMD^2 1.0100000045299569 obj [-9.22029071],  avg val MMD^2 1.0200000066631023  obj [-9.23014301]  elapsed: 0.0 sigma: [1.]\n",
      "    25: avg train MMD^2 1.0100000045299569 obj [-9.22029071],  avg val MMD^2 1.0200000066631023  obj [-9.23014301]  elapsed: 0.0 sigma: [1.]\n",
      "    50: avg train MMD^2 1.0100000045299569 obj [-9.22029071],  avg val MMD^2 1.0200000066631023  obj [-9.23014301]  elapsed: 0.0 sigma: [1.]\n",
      "   100: avg train MMD^2 1.0100000045299569 obj [-9.22029071],  avg val MMD^2 1.0200000066631023  obj [-9.23014301]  elapsed: 0.0 sigma: [1.]\n",
      "   200: avg train MMD^2 1.0100000045299569 obj [-9.22029071],  avg val MMD^2 1.0200000066631023  obj [-9.23014301]  elapsed: 0.0 sigma: [1.]\n",
      "   300: avg train MMD^2 1.0100000045299569 obj [-9.22029071],  avg val MMD^2 1.0200000066631023  obj [-9.23014301]  elapsed: 0.0 sigma: [1.]\n",
      "   400: avg train MMD^2 1.0100000045299569 obj [-9.22029071],  avg val MMD^2 1.0200000066631023  obj [-9.23014301]  elapsed: 0.0 sigma: [1.]\n",
      "   500: avg train MMD^2 1.0100000045299569 obj [-9.22029071],  avg val MMD^2 1.0200000066631023  obj [-9.23014301]  elapsed: 0.0 sigma: [1.]\n"
     ]
    },
    {
     "name": "stdout",
     "output_type": "stream",
     "text": [
      "MMD without the sigma optimization. Theano: 1.02 Torch: 1.0199999999998544\n"
     ]
    }
   ],
   "source": [
    "n_epoch = 500\n",
    "batch_size = 200\n",
    "is_opt_sigma = False\n",
    "# with sigma optimizations\n",
    "trainer_theano = ModelTrainerTheanoBackend()\n",
    "trained_obj_theano_without_sigma = trainer_theano.train(x_train, y_train, num_epochs=n_epoch, batchsize=batch_size, opt_sigma=is_opt_sigma, x_val=x_val, y_val=y_val, init_sigma_median=False, init_log_sigma=0.0)\n",
    "\n",
    "trainer_torch = ModelTrainerTorchBackend()\n",
    "trained_obj_torch_without_sigma = trainer_torch.train(x_train, y_train, num_epochs=n_epoch, batchsize=batch_size, opt_sigma=is_opt_sigma, x_val=x_val, y_val=y_val, init_sigma_median=False, initial_log_sigma=0.0)\n",
    "\n",
    "mmd2_theano, ratio_theano = trainer_theano.mmd_distance(x=x_test, y=y_test, sigma=trained_obj_theano_without_sigma.sigma)\n",
    "mmd2_torch, ratio_torch = trainer_torch.mmd_distance(x=x_test, y=y_test)\n",
    "print(f'MMD without the sigma optimization. Theano: {mmd2_theano} Torch: {mmd2_torch}')"
   ]
  },
  {
   "cell_type": "code",
   "execution_count": 9,
   "id": "fe8f317d-8df6-472f-b3a1-08ccc9323d15",
   "metadata": {},
   "outputs": [
    {
     "name": "stderr",
     "output_type": "stream",
     "text": [
      "Starting with sigma = median; optimizing it\n",
      "Compiling...\n",
      "done\n",
      "Getting median initial sigma value...\n",
      "61.6\n",
      "Input dim 3, representation dim 3\n",
      "Training on 100 samples (batch 200), validation on 50 (batch 1000)\n",
      "2 parameters to optimize: scales, log_sigma\n",
      "     0: avg train MMD^2  0.368900 obj -2.518141,  avg val MMD^2  0.329709  obj -2.069224  elapsed: 0s  sigma: 61.6\n",
      "     5: avg train MMD^2  0.446184 obj -2.597464,  avg val MMD^2  0.425548  obj -2.172005  elapsed: 0s  sigma: 54.7\n",
      "    25: avg train MMD^2  1.010300 obj -9.157834,  avg val MMD^2  1.019869  obj -7.540090  elapsed: 0s  sigma: 6.95\n",
      "    50: avg train MMD^2  1.010000 obj -9.220291,  avg val MMD^2  1.020000  obj -9.230143  elapsed: 0s  sigma: 1.3\n",
      "   100: avg train MMD^2  1.010000 obj -9.220291,  avg val MMD^2  1.020000  obj -9.230143  elapsed: 0s  sigma: 1.14\n",
      "   200: avg train MMD^2  1.010000 obj -9.220291,  avg val MMD^2  1.020000  obj -9.230143  elapsed: 0s  sigma: 1.14\n",
      "   300: avg train MMD^2  1.010000 obj -9.220291,  avg val MMD^2  1.020000  obj -9.230143  elapsed: 0s  sigma: 1.14\n",
      "   400: avg train MMD^2  1.010000 obj -9.220291,  avg val MMD^2  1.020000  obj -9.230143  elapsed: 1s  sigma: 1.14\n",
      "   500: avg train MMD^2  1.010000 obj -9.220291,  avg val MMD^2  1.020000  obj -9.230143  elapsed: 1s  sigma: 1.14\n",
      "Trained result: the opt global-sigma: 1.1440113008743287\n",
      "input data N(sample-size)=100, N(dimension)=3\n",
      "Getting median initial sigma value...\n",
      "initial sigma by median-heuristics 9.68\n",
      "Validation at 0. MMD^2 = 0.3359601039005632, obj-value = [-2.05480095] at sigma = [9.68102996]\n",
      "[before optimization] sigma value = [9.68102996]\n",
      "     5: avg train MMD^2 0.8530151476682624 obj [-3.25741677],  avg val MMD^2 0.8795711254813625  obj [-2.91508422]  elapsed: 0.0 sigma: [8.39486741]\n",
      "    25: avg train MMD^2 1.0100000000000497 obj [-9.2202907],  avg val MMD^2 1.0200000000065734  obj [-9.230143]  elapsed: 0.0 sigma: [1.58443132]\n",
      "    50: avg train MMD^2 1.01 obj [-9.2202907],  avg val MMD^2 1.02  obj [-9.230143]  elapsed: 0.0 sigma: [1.21836428]\n",
      "   100: avg train MMD^2 1.01 obj [-9.2202907],  avg val MMD^2 1.02  obj [-9.230143]  elapsed: 0.0 sigma: [1.19398311]\n",
      "   200: avg train MMD^2 1.01 obj [-9.2202907],  avg val MMD^2 1.02  obj [-9.230143]  elapsed: 0.0 sigma: [1.19385808]\n",
      "   300: avg train MMD^2 1.01 obj [-9.2202907],  avg val MMD^2 1.02  obj [-9.230143]  elapsed: 0.0 sigma: [1.19385808]\n",
      "   400: avg train MMD^2 1.01 obj [-9.2202907],  avg val MMD^2 1.02  obj [-9.230143]  elapsed: 0.0 sigma: [1.19385808]\n",
      "   500: avg train MMD^2 1.01 obj [-9.2202907],  avg val MMD^2 1.02  obj [-9.230143]  elapsed: 0.0 sigma: [1.19385808]\n"
     ]
    },
    {
     "name": "stdout",
     "output_type": "stream",
     "text": [
      "MMD with the sigma optimization. Theano: 1.02 Torch: 1.02\n"
     ]
    }
   ],
   "source": [
    "n_epoch = 500\n",
    "batch_size = 200\n",
    "is_opt_sigma = True\n",
    "# with sigma optimizations\n",
    "trainer_theano = ModelTrainerTheanoBackend()\n",
    "trained_obj_theano_with_sigma = trainer_theano.train(x_train, y_train, num_epochs=n_epoch, batchsize=batch_size, opt_sigma=is_opt_sigma, x_val=x_val, y_val=y_val, init_sigma_median=True)\n",
    "\n",
    "trainer_torch = ModelTrainerTorchBackend()\n",
    "trained_obj_torch_with_sigma = trainer_torch.train(x_train, y_train, num_epochs=n_epoch, batchsize=batch_size, opt_sigma=is_opt_sigma, x_val=x_val, y_val=y_val, init_sigma_median=True)\n",
    "\n",
    "mmd2_theano_with_sigma, ratio_theano = trainer_theano.mmd_distance(x=x_val, y=y_val, sigma=trained_obj_theano_with_sigma.sigma)\n",
    "mmd2_torch_with_sigma, ratio_torch = trainer_torch.mmd_distance(x=x_val, y=y_val)\n",
    "print(f'MMD with the sigma optimization. Theano: {mmd2_theano_with_sigma} Torch: {mmd2_torch_with_sigma}')"
   ]
  },
  {
   "cell_type": "markdown",
   "id": "ddd269ee-3120-41f3-bb8a-58b23551a641",
   "metadata": {},
   "source": [
    "### Conclusion\n",
    "\n",
    "Sigma optimization does not seem to give effects to compute MMD^2 distance."
   ]
  },
  {
   "cell_type": "code",
   "execution_count": null,
   "id": "cc941f1f-f376-45d6-a068-bc7383cb9291",
   "metadata": {},
   "outputs": [],
   "source": []
  }
 ],
 "metadata": {
  "kernelspec": {
   "display_name": "Python 3",
   "language": "python",
   "name": "python3"
  },
  "language_info": {
   "codemirror_mode": {
    "name": "ipython",
    "version": 3
   },
   "file_extension": ".py",
   "mimetype": "text/x-python",
   "name": "python",
   "nbconvert_exporter": "python",
   "pygments_lexer": "ipython3",
   "version": "3.6.13"
  }
 },
 "nbformat": 4,
 "nbformat_minor": 5
}
