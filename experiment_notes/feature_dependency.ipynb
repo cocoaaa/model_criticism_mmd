{
 "cells": [
  {
   "cell_type": "markdown",
   "metadata": {},
   "source": [
    "# Case-1: features in independent\n",
    "\n",
    "Setting. The data has 3 features. Only the 1st feature has significant variance."
   ]
  },
  {
   "cell_type": "code",
   "execution_count": 46,
   "metadata": {},
   "outputs": [],
   "source": [
    "%matplotlib inline\n",
    "import sys\n",
    "sys.path.append('../')\n",
    "from model_criticism_mmd import ModelTrainerTorchBackend\n",
    "import numpy as np\n",
    "import matplotlib\n",
    "import matplotlib.pyplot as plt\n",
    "import pandas"
   ]
  },
  {
   "cell_type": "code",
   "execution_count": 50,
   "metadata": {},
   "outputs": [],
   "source": [
    "import numpy\n",
    "size = 1000\n",
    "n_epoch = 500\n",
    "batch_size = 200\n",
    "\n",
    "x_1st_dim = numpy.random.normal(loc=1.0, scale=0.0, size=size)\n",
    "y_1st_dim = numpy.random.normal(loc=1.0, scale=50.0, size=size)\n",
    "\n",
    "x_2_and_3_dim = numpy.random.normal(loc=10.0, scale=0.2, size=(size, 2))\n",
    "y_2_and_3_dim = numpy.random.normal(loc=10.0, scale=0.2, size=(size, 2))\n",
    "\n",
    "x = numpy.concatenate([numpy.reshape(x_1st_dim, (size, 1)), x_2_and_3_dim], axis=1)\n",
    "y = numpy.concatenate([numpy.reshape(y_1st_dim, (size, 1)), y_2_and_3_dim], axis=1)\n",
    "\n",
    "x_train = x[:800]\n",
    "y_train = y[:800]\n",
    "x_val = x[800:]\n",
    "y_val = y[800:]"
   ]
  },
  {
   "cell_type": "code",
   "execution_count": 51,
   "metadata": {},
   "outputs": [
    {
     "name": "stdout",
     "output_type": "stream",
     "text": [
      "1 dim. mean(x)=1.0 mean(y)=2.5248548771197292 var(x)=0.0 var(y)=2302.8121458816827\n",
      "2 dim. mean(x)=10.0025778700585 mean(y)=9.999656248911283 var(x)=0.04029090218532031 var(y)=0.03809763318620526\n",
      "3 dim. mean(x)=9.986457221298988 mean(y)=9.99377833695908 var(x)=0.038718311478458486 var(y)=0.03903903336901691\n"
     ]
    }
   ],
   "source": [
    "for n_dim in [0, 1, 2]:\n",
    "    print(f'{n_dim+1} dim. mean(x)={x[:,n_dim].mean()} mean(y)={y[:,n_dim].mean()} var(x)={x[:,n_dim].var()} var(y)={y[:,n_dim].var()}')\n",
    "# end for"
   ]
  },
  {
   "cell_type": "code",
   "execution_count": 52,
   "metadata": {},
   "outputs": [
    {
     "name": "stderr",
     "output_type": "stream",
     "text": [
      "input data N(sample-size)=800, N(dimension)=3\n",
      "Getting median initial sigma value...\n",
      "initial sigma by median-heuristics 5.77\n",
      "Validation at 0. MMD^2 = 0.570378449068937, obj-value = [-2.55274451] at sigma = [5.77303402]\n",
      "[before optimization] sigma value = [5.77303402]\n",
      "     5: avg train MMD^2 0.895900140730819 obj [-3.33088924],  avg val MMD^2 0.8683895713933495  obj [-3.30440728]  elapsed: 0.0 sigma: [5.77303402]\n",
      "    25: avg train MMD^2 0.9627276664674961 obj [-3.82855203],  avg val MMD^2 0.9505839835250025  obj [-3.73772921]  elapsed: 0.0 sigma: [5.77303402]\n",
      "    50: avg train MMD^2 0.9744422481624296 obj [-4.01698482],  avg val MMD^2 0.9658202623062823  obj [-3.92844643]  elapsed: 0.0 sigma: [5.77303402]\n",
      "   100: avg train MMD^2 0.985418448491003 obj [-4.25528742],  avg val MMD^2 0.979647658510809  obj [-4.20251889]  elapsed: 0.0 sigma: [5.77303402]\n",
      "   200: avg train MMD^2 0.9927786826435757 obj [-4.97156057],  avg val MMD^2 0.992474272839823  obj [-4.58691875]  elapsed: 0.0 sigma: [5.77303402]\n",
      "   300: avg train MMD^2 0.995630839894702 obj [-4.65991243],  avg val MMD^2 0.9985601109284832  obj [-4.88013027]  elapsed: 0.0 sigma: [5.77303402]\n",
      "   400: avg train MMD^2 0.9973262625993855 obj [-5.24870989],  avg val MMD^2 1.001402938890547  obj [-5.08938782]  elapsed: 0.0 sigma: [5.77303402]\n",
      "   500: avg train MMD^2 0.9983965711860483 obj [-4.91196657],  avg val MMD^2 1.003120100546431  obj [-5.28261272]  elapsed: 0.0 sigma: [5.77303402]\n"
     ]
    },
    {
     "data": {
      "text/plain": [
       "array([18.80152   ,  0.47757486,  0.02871666], dtype=float32)"
      ]
     },
     "execution_count": 52,
     "metadata": {},
     "output_type": "execute_result"
    }
   ],
   "source": [
    "trainer = ModelTrainerTorchBackend()\n",
    "trained_obj = trainer.train(x_train, y_train, num_epochs=500, batchsize=200, opt_sigma=False, x_val=x_val, y_val=y_val)\n",
    "trained_obj.scales"
   ]
  },
  {
   "cell_type": "markdown",
   "metadata": {},
   "source": [
    "As expected, only the 1st feature has a huge weight."
   ]
  },
  {
   "cell_type": "markdown",
   "metadata": {},
   "source": [
    "# Case-2: dependency between features"
   ]
  },
  {
   "cell_type": "code",
   "execution_count": 33,
   "metadata": {},
   "outputs": [
    {
     "name": "stdin",
     "output_type": "stream",
     "text": [
      "Once deleted, variables cannot be recovered. Proceed (y/[n])?  y\n"
     ]
    }
   ],
   "source": [
    "%reset"
   ]
  },
  {
   "cell_type": "code",
   "execution_count": 44,
   "metadata": {},
   "outputs": [],
   "source": [
    "%matplotlib inline\n",
    "import sys\n",
    "sys.path.append('../')\n",
    "from model_criticism_mmd import ModelTrainerTorchBackend\n",
    "import numpy as np\n",
    "import matplotlib\n",
    "import matplotlib.pyplot as plt\n",
    "import pandas"
   ]
  },
  {
   "cell_type": "code",
   "execution_count": 40,
   "metadata": {},
   "outputs": [],
   "source": [
    "import numpy\n",
    "size = 1000\n",
    "n_epoch = 500\n",
    "batch_size = 200\n",
    "\n",
    "x_1st_dim = numpy.random.normal(loc=1.0, scale=0.0, size=size)\n",
    "y_1st_dim = numpy.random.normal(loc=1.0, scale=50.0, size=size)\n",
    "\n",
    "x_2_dim = x_1st_dim + numpy.full(size, 5)\n",
    "y_2_dim = y_1st_dim + numpy.full(size, 5)\n",
    "\n",
    "x_3_dim = numpy.random.normal(loc=10.0, scale=0.2, size=size)\n",
    "y_3_dim = numpy.random.normal(loc=10.0, scale=0.2, size=size)\n",
    "\n",
    "x = numpy.concatenate([numpy.reshape(x_1st_dim, (size, 1)), \n",
    "                       numpy.reshape(x_2_dim, (size, 1)), \n",
    "                       numpy.reshape(x_3_dim, (size, 1))], axis=1)\n",
    "y = numpy.concatenate([numpy.reshape(y_1st_dim, (size, 1)), \n",
    "                       numpy.reshape(y_2_dim, (size, 1)), \n",
    "                       numpy.reshape(y_3_dim, (size, 1))], axis=1)\n",
    "\n",
    "x_train = x[:800]\n",
    "y_train = y[:800]\n",
    "x_val = x[800:]\n",
    "y_val = y[800:]"
   ]
  },
  {
   "cell_type": "code",
   "execution_count": 42,
   "metadata": {},
   "outputs": [
    {
     "name": "stdout",
     "output_type": "stream",
     "text": [
      "1 dim. mean(x)=1.0 mean(y)=2.1910425430340887 var(x)=0.0 var(y)=2447.067672309139\n",
      "2 dim. mean(x)=6.0 mean(y)=7.191042543034089 var(x)=0.0 var(y)=2447.067672309139\n",
      "3 dim. mean(x)=9.995718941316799 mean(y)=9.998072262749757 var(x)=0.03785323101657011 var(y)=0.04067125114367236\n"
     ]
    }
   ],
   "source": [
    "for n_dim in [0, 1, 2]:\n",
    "    print(f'{n_dim+1} dim. mean(x)={x[:,n_dim].mean()} mean(y)={y[:,n_dim].mean()} var(x)={x[:,n_dim].var()} var(y)={y[:,n_dim].var()}')\n",
    "# end for"
   ]
  },
  {
   "cell_type": "code",
   "execution_count": 45,
   "metadata": {},
   "outputs": [
    {
     "name": "stderr",
     "output_type": "stream",
     "text": [
      "input data N(sample-size)=800, N(dimension)=3\n",
      "Getting median initial sigma value...\n",
      "initial sigma by median-heuristics 21.6\n",
      "Validation at 0. MMD^2 = 0.5044419288530552, obj-value = [-2.47590033] at sigma = [21.55086058]\n",
      "[before optimization] sigma value = [21.55086058]\n",
      "     5: avg train MMD^2 0.652114011931433 obj [-2.70397245],  avg val MMD^2 0.6087357732319278  obj [-2.64780603]  elapsed: 0.0 sigma: [21.55086058]\n",
      "    25: avg train MMD^2 0.8259701632690684 obj [-3.11592114],  avg val MMD^2 0.7848342584701159  obj [-3.0577062]  elapsed: 0.0 sigma: [21.55086058]\n",
      "    50: avg train MMD^2 0.8788659961303843 obj [-3.32156548],  avg val MMD^2 0.849867934575372  obj [-3.23360533]  elapsed: 0.0 sigma: [21.55086058]\n",
      "   100: avg train MMD^2 0.9186596405940634 obj [-3.51536248],  avg val MMD^2 0.8941404974608519  obj [-3.37122516]  elapsed: 0.0 sigma: [21.55086058]\n",
      "   200: avg train MMD^2 0.9481940664973482 obj [-3.72848956],  avg val MMD^2 0.919975789315546  obj [-3.50063765]  elapsed: 0.0 sigma: [21.55086058]\n",
      "   300: avg train MMD^2 0.9614011109338887 obj [-3.86002514],  avg val MMD^2 0.9308582256624698  obj [-3.58390021]  elapsed: 0.0 sigma: [21.55086058]\n",
      "   400: avg train MMD^2 0.9679673054002143 obj [-3.92850715],  avg val MMD^2 0.937887262774574  obj [-3.65256578]  elapsed: 0.0 sigma: [21.55086058]\n",
      "   500: avg train MMD^2 0.973517158458369 obj [-4.06462727],  avg val MMD^2 0.9430646548401108  obj [-3.71305232]  elapsed: 0.0 sigma: [21.55086058]\n"
     ]
    },
    {
     "data": {
      "text/plain": [
       "array([ 9.71038   , 12.313313  ,  0.16370258], dtype=float32)"
      ]
     },
     "execution_count": 45,
     "metadata": {},
     "output_type": "execute_result"
    }
   ],
   "source": [
    "trainer = ModelTrainerTorchBackend()\n",
    "trained_obj = trainer.train(x_train, y_train,num_epochs=500, batchsize=200, opt_sigma=False, x_val=x_val, y_val=y_val)\n",
    "trained_obj.scales"
   ]
  },
  {
   "cell_type": "markdown",
   "metadata": {},
   "source": [
    "We observe that a weight on both 1st dimenstion and 2nd dimenstion."
   ]
  },
  {
   "cell_type": "markdown",
   "metadata": {},
   "source": [
    "# Case-3: independency in high dimenstional features"
   ]
  },
  {
   "cell_type": "code",
   "execution_count": 119,
   "metadata": {},
   "outputs": [
    {
     "name": "stdin",
     "output_type": "stream",
     "text": [
      "Once deleted, variables cannot be recovered. Proceed (y/[n])?  y\n"
     ]
    }
   ],
   "source": [
    "%reset"
   ]
  },
  {
   "cell_type": "code",
   "execution_count": 120,
   "metadata": {},
   "outputs": [],
   "source": [
    "%matplotlib inline\n",
    "import sys\n",
    "sys.path.append('../')\n",
    "from model_criticism_mmd import ModelTrainerTorchBackend\n",
    "import numpy as np\n",
    "import matplotlib\n",
    "import matplotlib.pyplot as plt\n",
    "import pandas"
   ]
  },
  {
   "cell_type": "code",
   "execution_count": 121,
   "metadata": {},
   "outputs": [],
   "source": [
    "import numpy as np\n",
    "size = 1000\n",
    "n_epoch = 500\n",
    "batch_size = 200\n",
    "n_dim = 100\n",
    "n_dim_without_var = 60\n",
    "\n",
    "# dims without variable. only the y has the variable.\n",
    "x_fixed = np.random.normal(loc=1.0, scale=1.0, size=(1000, n_dim))\n",
    "__y_fixed = np.random.normal(loc=1.0, scale=1.0, size=(1000, n_dim_without_var))\n",
    "\n",
    "y_vars = np.full((size, n_dim - n_dim_without_var), 0.0)\n",
    "for i_dim in range(0, (n_dim - n_dim_without_var)):\n",
    "    __y_vars = np.random.normal(loc=5.0, scale=i_dim, size=size)\n",
    "    y_vars[:,i_dim] = __y_vars\n",
    "# end for\n",
    "\n",
    "y_fixed = np.append(__y_fixed, y_vars, axis=1)"
   ]
  },
  {
   "cell_type": "code",
   "execution_count": 122,
   "metadata": {},
   "outputs": [
    {
     "data": {
      "image/png": "[encoded data removed]",
      "text/plain": [
       "<Figure size 432x288 with 1 Axes>"
      ]
     },
     "metadata": {
      "needs_background": "light"
     },
     "output_type": "display_data"
    }
   ],
   "source": [
    "__var_rows = []\n",
    "for i_dim in range(0, n_dim):\n",
    "    __var_rows.append({'x_var': np.var(x_fixed[:, i_dim]), 'y_var': np.var(y_fixed[:, i_dim])})\n",
    "df_var = pandas.DataFrame(__var_rows)\n",
    "ax = df_var.plot.line()"
   ]
  },
  {
   "cell_type": "code",
   "execution_count": 123,
   "metadata": {},
   "outputs": [
    {
     "name": "stderr",
     "output_type": "stream",
     "text": [
      "input data N(sample-size)=800, N(dimension)=100\n",
      "Getting median initial sigma value...\n",
      "initial sigma by median-heuristics 59.2\n",
      "Validation at 0. MMD^2 = 0.2882417533220959, obj-value = [-3.48312805] at sigma = [59.21238382]\n",
      "[before optimization] sigma value = [59.21238382]\n",
      "     5: avg train MMD^2 0.3560267713394678 obj [-3.66712195],  avg val MMD^2 0.37334483246361094  obj [-3.71430089]  elapsed: 0.0 sigma: [59.21238382]\n",
      "    25: avg train MMD^2 0.932770168845845 obj [-5.36996491],  avg val MMD^2 0.9423240778409127  obj [-5.62120088]  elapsed: 0.0 sigma: [59.21238382]\n",
      "    50: avg train MMD^2 0.9702847332828607 obj [-7.40958487],  avg val MMD^2 0.9701453948174323  obj [-7.35786666]  elapsed: 0.0 sigma: [59.21238382]\n",
      "   100: avg train MMD^2 0.9712813478551697 obj [-7.44180528],  avg val MMD^2 0.9710216788210815  obj [-7.37594572]  elapsed: 0.0 sigma: [59.21238382]\n",
      "   200: avg train MMD^2 0.9720971663233542 obj [-7.47050839],  avg val MMD^2 0.9717108399840103  obj [-7.36537904]  elapsed: 0.0 sigma: [59.21238382]\n",
      "   300: avg train MMD^2 0.9724473155420033 obj [-7.47631344],  avg val MMD^2 0.971999304470932  obj [-7.3590774]  elapsed: 0.0 sigma: [59.21238382]\n",
      "   400: avg train MMD^2 0.9725113866374927 obj [-7.48557027],  avg val MMD^2 0.9720372193879955  obj [-7.35707581]  elapsed: 0.0 sigma: [59.21238382]\n",
      "   500: avg train MMD^2 0.9724087577267339 obj [-7.50027142],  avg val MMD^2 0.9719425559033267  obj [-7.35691222]  elapsed: 0.0 sigma: [59.21238382]\n"
     ]
    },
    {
     "data": {
      "text/plain": [
       "array([0.69521964, 0.14211892, 0.7328118 , 0.54734653, 0.24521899,\n",
       "       0.4737339 , 0.14979535, 0.08467272, 0.2763375 , 0.02084546,\n",
       "       0.22540279, 0.57424873, 0.31864098, 0.09181193, 0.42446235,\n",
       "       0.55783737, 0.3688243 , 0.20359911, 0.6350636 , 0.8457222 ,\n",
       "       0.6705942 , 0.68365616, 0.83355784, 0.5527182 , 0.1456452 ,\n",
       "       0.37783203, 0.65310264, 0.3961055 , 0.16877988, 0.13379227,\n",
       "       0.13443923, 0.42356554, 0.7418364 , 0.24809283, 0.16840145,\n",
       "       0.25069436, 0.12313462, 0.70400983, 0.2588649 , 0.58418447,\n",
       "       0.4432209 , 0.485843  , 0.41925877, 0.70734376, 0.49597746,\n",
       "       0.12975545, 0.73402697, 0.06311794, 0.65686226, 0.25856966,\n",
       "       0.5721221 , 0.24616536, 0.16323109, 0.42402762, 0.03242798,\n",
       "       0.57456815, 0.44832766, 0.3538259 , 0.37891346, 0.27782056,\n",
       "       0.2692552 , 0.5143244 , 0.4785905 , 1.0547364 , 0.32936972,\n",
       "       0.82267845, 0.6080145 , 0.5247724 , 0.7090746 , 1.3993685 ,\n",
       "       1.278578  , 1.7184392 , 1.1131122 , 0.20117922, 1.6524072 ,\n",
       "       1.4820467 , 1.2505258 , 1.7553349 , 1.7387798 , 1.4575813 ,\n",
       "       1.622116  , 1.2132459 , 1.8369671 , 1.3528596 , 2.0643458 ,\n",
       "       2.0469053 , 1.8991433 , 2.1397846 , 2.033271  , 1.7169629 ,\n",
       "       1.9851949 , 1.7596961 , 1.8341668 , 1.9089494 , 2.1492288 ,\n",
       "       1.8019403 , 2.1238344 , 1.8068432 , 2.21747   , 2.454384  ],\n",
       "      dtype=float32)"
      ]
     },
     "execution_count": 123,
     "metadata": {},
     "output_type": "execute_result"
    }
   ],
   "source": [
    "x_train = x_fixed[:800]\n",
    "x_val = x_fixed[800:]\n",
    "y_train = y_fixed[:800]\n",
    "y_val = y_fixed[800:]\n",
    "\n",
    "trainer = ModelTrainerTorchBackend()\n",
    "trained_obj = trainer.train(x_train, y_train,num_epochs=500, batchsize=200, opt_sigma=False, x_val=x_val, y_val=y_val)\n",
    "trained_obj.scales"
   ]
  },
  {
   "cell_type": "code",
   "execution_count": 124,
   "metadata": {},
   "outputs": [
    {
     "data": {
      "text/plain": [
       "[Text(0.5, 0, 'dimenstion')]"
      ]
     },
     "execution_count": 124,
     "metadata": {},
     "output_type": "execute_result"
    },
    {
     "data": {
      "image/png": "[encoded data removed]",
      "text/plain": [
       "<Figure size 432x288 with 2 Axes>"
      ]
     },
     "metadata": {
      "needs_background": "light"
     },
     "output_type": "display_data"
    }
   ],
   "source": [
    "s_ard = pandas.Series(trained_obj.scales)\n",
    "s_ard.name = 'ard'\n",
    "df_var_ard = pandas.concat([df_var, s_ard], axis=1)\n",
    "ax = df_var_ard.plot(secondary_y='ard', title='relationship of var. and ARD')\n",
    "ax.set(xlabel='dimenstion')"
   ]
  },
  {
   "cell_type": "markdown",
   "metadata": {},
   "source": [
    "# Case-4: independency in high dimenstional features"
   ]
  },
  {
   "cell_type": "code",
   "execution_count": 125,
   "metadata": {},
   "outputs": [
    {
     "name": "stdin",
     "output_type": "stream",
     "text": [
      "Once deleted, variables cannot be recovered. Proceed (y/[n])?  y\n"
     ]
    }
   ],
   "source": [
    "%reset"
   ]
  },
  {
   "cell_type": "code",
   "execution_count": 126,
   "metadata": {},
   "outputs": [],
   "source": [
    "%matplotlib inline\n",
    "import sys\n",
    "sys.path.append('../')\n",
    "from model_criticism_mmd import ModelTrainerTorchBackend\n",
    "import numpy as np\n",
    "import matplotlib\n",
    "import matplotlib.pyplot as plt\n",
    "import pandas"
   ]
  },
  {
   "cell_type": "code",
   "execution_count": 134,
   "metadata": {},
   "outputs": [],
   "source": [
    "import numpy as np\n",
    "size = 1000\n",
    "n_epoch = 500\n",
    "batch_size = 200\n",
    "n_dim = 100\n",
    "n_dim_without_var = 60\n",
    "\n",
    "# dims without variable. only the y has the variable.\n",
    "__x_fixed = np.random.normal(loc=1.0, scale=1.0, size=(1000, n_dim_without_var))\n",
    "__y_fixed = np.random.normal(loc=1.0, scale=1.0, size=(1000, n_dim_without_var))\n",
    "\n",
    "y_vars = np.full((size, n_dim - n_dim_without_var), 0.0)\n",
    "# half of y-dim follows normal distribution\n",
    "for i_dim in range(0, int((n_dim - n_dim_without_var) / 2)):\n",
    "    __y_vars = np.random.normal(loc=5.0, scale=i_dim, size=size)\n",
    "    y_vars[:,i_dim] = __y_vars\n",
    "# end for\n",
    "\n",
    "# half of y-dim is plus constant value\n",
    "for i_dim in range(0, int((n_dim - n_dim_without_var) / 2)):\n",
    "    y_vars[:,(i_dim*2)] = y_vars[:,i_dim] + np.random.normal(loc=5.0, scale=0.5, size=size)\n",
    "# end for\n",
    "\n",
    "# ---\n",
    "x_cols = np.full((size, n_dim - n_dim_without_var), 0.0)\n",
    "# half of x-dim follows normal distribution\n",
    "for i_dim in range(0, int((n_dim - n_dim_without_var) / 2)):\n",
    "    __x_vec = np.random.normal(loc=5.0, scale=0.0, size=size)\n",
    "    x_cols[:,i_dim] = __x_vec\n",
    "# end for\n",
    "\n",
    "# half of x-dim is plus constant value\n",
    "for i_dim in range(0, int((n_dim - n_dim_without_var) / 2)):\n",
    "    x_cols[:,(i_dim*2)] = x_cols[:,i_dim] + np.random.normal(loc=5.0, scale=0.5, size=size)\n",
    "# end for\n",
    "\n",
    "# ---\n",
    "y_fixed = np.append(__y_fixed, y_vars, axis=1)\n",
    "x_fixed = np.append(__x_fixed, x_cols, axis=1)"
   ]
  },
  {
   "cell_type": "code",
   "execution_count": 135,
   "metadata": {},
   "outputs": [
    {
     "data": {
      "image/png": "[encoded data removed]",
      "text/plain": [
       "<Figure size 432x288 with 1 Axes>"
      ]
     },
     "metadata": {
      "needs_background": "light"
     },
     "output_type": "display_data"
    }
   ],
   "source": [
    "__var_rows = []\n",
    "for i_dim in range(0, n_dim):\n",
    "    __var_rows.append({'x_var': np.var(x_fixed[:, i_dim]), 'y_var': np.var(y_fixed[:, i_dim])})\n",
    "df_var = pandas.DataFrame(__var_rows)\n",
    "ax = df_var.plot.line()"
   ]
  },
  {
   "cell_type": "code",
   "execution_count": 136,
   "metadata": {},
   "outputs": [
    {
     "name": "stderr",
     "output_type": "stream",
     "text": [
      "input data N(sample-size)=800, N(dimension)=100\n",
      "Getting median initial sigma value...\n",
      "initial sigma by median-heuristics 22.7\n",
      "Validation at 0. MMD^2 = 0.3100573115438371, obj-value = [-2.9803727] at sigma = [22.72050458]\n",
      "[before optimization] sigma value = [22.72050458]\n",
      "     5: avg train MMD^2 0.4118188565152022 obj [-3.1374622],  avg val MMD^2 0.43039155729195633  obj [-3.17836561]  elapsed: 0.0 sigma: [22.72050458]\n",
      "    25: avg train MMD^2 0.8766338309847213 obj [-4.31570346],  avg val MMD^2 0.876495630034214  obj [-4.38767188]  elapsed: 0.0 sigma: [22.72050458]\n",
      "    50: avg train MMD^2 0.9386985748348825 obj [-5.99820141],  avg val MMD^2 0.9378626159333204  obj [-5.9854062]  elapsed: 0.0 sigma: [22.72050458]\n",
      "   100: avg train MMD^2 0.9553619843876033 obj [-6.71313655],  avg val MMD^2 0.9553685826559399  obj [-6.75135897]  elapsed: 0.0 sigma: [22.72050458]\n",
      "   200: avg train MMD^2 1.001821121066025 obj [-9.21174737],  avg val MMD^2 1.0018417495872418  obj [-9.21218043]  elapsed: 0.0 sigma: [22.72050458]\n",
      "   300: avg train MMD^2 1.00252740329411 obj [-9.21286459],  avg val MMD^2 1.002527764381516  obj [-9.21286495]  elapsed: 0.0 sigma: [22.72050458]\n",
      "   400: avg train MMD^2 1.0029151715345612 obj [-9.2132513],  avg val MMD^2 1.0029230764236448  obj [-9.21325918]  elapsed: 0.0 sigma: [22.72050458]\n",
      "   500: avg train MMD^2 1.003230554930383 obj [-9.21356572],  avg val MMD^2 1.0032506148582234  obj [-9.21358572]  elapsed: 0.0 sigma: [22.72050458]\n",
      "   600: avg train MMD^2 1.0034697675321016 obj [-9.21380413],  avg val MMD^2 1.0034964047818409  obj [-9.21383068]  elapsed: 0.0 sigma: [22.72050458]\n",
      "   700: avg train MMD^2 1.0036626711333647 obj [-9.21399635],  avg val MMD^2 1.0036939259544804  obj [-9.21402749]  elapsed: 0.0 sigma: [22.72050458]\n",
      "   800: avg train MMD^2 1.003827377746607 obj [-9.21416044],  avg val MMD^2 1.003854512695616  obj [-9.21418748]  elapsed: 0.0 sigma: [22.72050458]\n",
      "   900: avg train MMD^2 1.0039533982990505 obj [-9.21428598],  avg val MMD^2 1.003986626366871  obj [-9.21431907]  elapsed: 0.0 sigma: [22.72050458]\n",
      " 1,000: avg train MMD^2 1.0040560413909725 obj [-9.21438821],  avg val MMD^2 1.004096630738787  obj [-9.21442863]  elapsed: 0.0 sigma: [22.72050458]\n"
     ]
    }
   ],
   "source": [
    "x_train = x_fixed[:800]\n",
    "x_val = x_fixed[800:]\n",
    "y_train = y_fixed[:800]\n",
    "y_val = y_fixed[800:]\n",
    "\n",
    "trainer = ModelTrainerTorchBackend()\n",
    "trained_obj = trainer.train(x_train, y_train, num_epochs=1000, batchsize=200, opt_sigma=False, x_val=x_val, y_val=y_val)"
   ]
  },
  {
   "cell_type": "code",
   "execution_count": 137,
   "metadata": {},
   "outputs": [
    {
     "data": {
      "text/plain": [
       "[Text(0.5, 3.1999999999999993, 'dimenstion')]"
      ]
     },
     "execution_count": 137,
     "metadata": {},
     "output_type": "execute_result"
    },
    {
     "data": {
      "image/png": "[encoded data removed]",
      "text/plain": [
       "<Figure size 432x288 with 2 Axes>"
      ]
     },
     "metadata": {
      "needs_background": "light"
     },
     "output_type": "display_data"
    }
   ],
   "source": [
    "s_ard = pandas.Series(trained_obj.scales)\n",
    "s_ard.name = 'ard'\n",
    "df_var_ard = pandas.concat([df_var, s_ard], axis=1)\n",
    "df_var_ard.plot(secondary_y='ard', title='relationship of var. and ARD')\n",
    "ax.set(xlabel='dimenstion')"
   ]
  },
  {
   "cell_type": "code",
   "execution_count": null,
   "metadata": {},
   "outputs": [],
   "source": []
  }
 ],
 "metadata": {
  "kernelspec": {
   "display_name": "Python 3",
   "language": "python",
   "name": "python3"
  },
  "language_info": {
   "codemirror_mode": {
    "name": "ipython",
    "version": 3
   },
   "file_extension": ".py",
   "mimetype": "text/x-python",
   "name": "python",
   "nbconvert_exporter": "python",
   "pygments_lexer": "ipython3",
   "version": "3.6.13"
  }
 },
 "nbformat": 4,
 "nbformat_minor": 4
}
